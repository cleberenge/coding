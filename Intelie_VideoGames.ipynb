{
 "cells": [
  {
   "cell_type": "markdown",
   "metadata": {},
   "source": [
    "## Intelie - Desafio 1"
   ]
  },
  {
   "cell_type": "markdown",
   "metadata": {},
   "source": [
    "### Biblioteca para uso do Plotly"
   ]
  },
  {
   "cell_type": "code",
   "execution_count": 1,
   "metadata": {},
   "outputs": [
    {
     "data": {
      "text/html": [
       "        <script type=\"text/javascript\">\n",
       "        window.PlotlyConfig = {MathJaxConfig: 'local'};\n",
       "        if (window.MathJax) {MathJax.Hub.Config({SVG: {font: \"STIX-Web\"}});}\n",
       "        if (typeof require !== 'undefined') {\n",
       "        require.undef(\"plotly\");\n",
       "        requirejs.config({\n",
       "            paths: {\n",
       "                'plotly': ['https://cdn.plot.ly/plotly-latest.min']\n",
       "            }\n",
       "        });\n",
       "        require(['plotly'], function(Plotly) {\n",
       "            window._Plotly = Plotly;\n",
       "        });\n",
       "        }\n",
       "        </script>\n",
       "        "
      ]
     },
     "metadata": {},
     "output_type": "display_data"
    }
   ],
   "source": [
    "import cufflinks as cf\n",
    "cf.go_offline()"
   ]
  },
  {
   "cell_type": "markdown",
   "metadata": {},
   "source": [
    "### Importando as Bibliotecas"
   ]
  },
  {
   "cell_type": "code",
   "execution_count": 2,
   "metadata": {},
   "outputs": [],
   "source": [
    "import pandas as pd\n",
    "import numpy as np\n",
    "import plotly.express as px\n",
    "import matplotlib.pyplot as plt\n",
    "import seaborn as sns\n",
    "%matplotlib inline\n",
    "\n",
    "vg_df = pd.read_csv('vgsales.csv')"
   ]
  },
  {
   "cell_type": "markdown",
   "metadata": {},
   "source": [
    "### Lendo as primeiras linhas do dataset"
   ]
  },
  {
   "cell_type": "code",
   "execution_count": 3,
   "metadata": {},
   "outputs": [
    {
     "data": {
      "text/html": [
       "<div>\n",
       "<style scoped>\n",
       "    .dataframe tbody tr th:only-of-type {\n",
       "        vertical-align: middle;\n",
       "    }\n",
       "\n",
       "    .dataframe tbody tr th {\n",
       "        vertical-align: top;\n",
       "    }\n",
       "\n",
       "    .dataframe thead th {\n",
       "        text-align: right;\n",
       "    }\n",
       "</style>\n",
       "<table border=\"1\" class=\"dataframe\">\n",
       "  <thead>\n",
       "    <tr style=\"text-align: right;\">\n",
       "      <th></th>\n",
       "      <th>Rank</th>\n",
       "      <th>Name</th>\n",
       "      <th>Platform</th>\n",
       "      <th>Year</th>\n",
       "      <th>Genre</th>\n",
       "      <th>Publisher</th>\n",
       "      <th>NA_Sales</th>\n",
       "      <th>EU_Sales</th>\n",
       "      <th>JP_Sales</th>\n",
       "      <th>Other_Sales</th>\n",
       "      <th>Global_Sales</th>\n",
       "    </tr>\n",
       "  </thead>\n",
       "  <tbody>\n",
       "    <tr>\n",
       "      <th>0</th>\n",
       "      <td>1</td>\n",
       "      <td>Wii Sports</td>\n",
       "      <td>Wii</td>\n",
       "      <td>2006.0</td>\n",
       "      <td>Sports</td>\n",
       "      <td>Nintendo</td>\n",
       "      <td>41.49</td>\n",
       "      <td>29.02</td>\n",
       "      <td>3.77</td>\n",
       "      <td>8.46</td>\n",
       "      <td>82.74</td>\n",
       "    </tr>\n",
       "    <tr>\n",
       "      <th>1</th>\n",
       "      <td>2</td>\n",
       "      <td>Super Mario Bros.</td>\n",
       "      <td>NES</td>\n",
       "      <td>1985.0</td>\n",
       "      <td>Platform</td>\n",
       "      <td>Nintendo</td>\n",
       "      <td>29.08</td>\n",
       "      <td>3.58</td>\n",
       "      <td>6.81</td>\n",
       "      <td>0.77</td>\n",
       "      <td>40.24</td>\n",
       "    </tr>\n",
       "    <tr>\n",
       "      <th>2</th>\n",
       "      <td>3</td>\n",
       "      <td>Mario Kart Wii</td>\n",
       "      <td>Wii</td>\n",
       "      <td>2008.0</td>\n",
       "      <td>Racing</td>\n",
       "      <td>Nintendo</td>\n",
       "      <td>15.85</td>\n",
       "      <td>12.88</td>\n",
       "      <td>3.79</td>\n",
       "      <td>3.31</td>\n",
       "      <td>35.82</td>\n",
       "    </tr>\n",
       "    <tr>\n",
       "      <th>3</th>\n",
       "      <td>4</td>\n",
       "      <td>Wii Sports Resort</td>\n",
       "      <td>Wii</td>\n",
       "      <td>2009.0</td>\n",
       "      <td>Sports</td>\n",
       "      <td>Nintendo</td>\n",
       "      <td>15.75</td>\n",
       "      <td>11.01</td>\n",
       "      <td>3.28</td>\n",
       "      <td>2.96</td>\n",
       "      <td>33.00</td>\n",
       "    </tr>\n",
       "    <tr>\n",
       "      <th>4</th>\n",
       "      <td>5</td>\n",
       "      <td>Pokemon Red/Pokemon Blue</td>\n",
       "      <td>GB</td>\n",
       "      <td>1996.0</td>\n",
       "      <td>Role-Playing</td>\n",
       "      <td>Nintendo</td>\n",
       "      <td>11.27</td>\n",
       "      <td>8.89</td>\n",
       "      <td>10.22</td>\n",
       "      <td>1.00</td>\n",
       "      <td>31.37</td>\n",
       "    </tr>\n",
       "  </tbody>\n",
       "</table>\n",
       "</div>"
      ],
      "text/plain": [
       "   Rank                      Name Platform    Year         Genre Publisher  \\\n",
       "0     1                Wii Sports      Wii  2006.0        Sports  Nintendo   \n",
       "1     2         Super Mario Bros.      NES  1985.0      Platform  Nintendo   \n",
       "2     3            Mario Kart Wii      Wii  2008.0        Racing  Nintendo   \n",
       "3     4         Wii Sports Resort      Wii  2009.0        Sports  Nintendo   \n",
       "4     5  Pokemon Red/Pokemon Blue       GB  1996.0  Role-Playing  Nintendo   \n",
       "\n",
       "   NA_Sales  EU_Sales  JP_Sales  Other_Sales  Global_Sales  \n",
       "0     41.49     29.02      3.77         8.46         82.74  \n",
       "1     29.08      3.58      6.81         0.77         40.24  \n",
       "2     15.85     12.88      3.79         3.31         35.82  \n",
       "3     15.75     11.01      3.28         2.96         33.00  \n",
       "4     11.27      8.89     10.22         1.00         31.37  "
      ]
     },
     "execution_count": 3,
     "metadata": {},
     "output_type": "execute_result"
    }
   ],
   "source": [
    "vg_df.head()"
   ]
  },
  {
   "cell_type": "markdown",
   "metadata": {},
   "source": [
    "### Checando a estrutura quanto à valores ausentes, duplicados etc..."
   ]
  },
  {
   "cell_type": "code",
   "execution_count": 4,
   "metadata": {},
   "outputs": [
    {
     "data": {
      "text/plain": [
       "(16598, 11)"
      ]
     },
     "execution_count": 4,
     "metadata": {},
     "output_type": "execute_result"
    }
   ],
   "source": [
    "vg_df.shape"
   ]
  },
  {
   "cell_type": "code",
   "execution_count": 5,
   "metadata": {},
   "outputs": [
    {
     "data": {
      "text/html": [
       "<div>\n",
       "<style scoped>\n",
       "    .dataframe tbody tr th:only-of-type {\n",
       "        vertical-align: middle;\n",
       "    }\n",
       "\n",
       "    .dataframe tbody tr th {\n",
       "        vertical-align: top;\n",
       "    }\n",
       "\n",
       "    .dataframe thead th {\n",
       "        text-align: right;\n",
       "    }\n",
       "</style>\n",
       "<table border=\"1\" class=\"dataframe\">\n",
       "  <thead>\n",
       "    <tr style=\"text-align: right;\">\n",
       "      <th></th>\n",
       "      <th>Rank</th>\n",
       "      <th>Year</th>\n",
       "      <th>NA_Sales</th>\n",
       "      <th>EU_Sales</th>\n",
       "      <th>JP_Sales</th>\n",
       "      <th>Other_Sales</th>\n",
       "      <th>Global_Sales</th>\n",
       "    </tr>\n",
       "  </thead>\n",
       "  <tbody>\n",
       "    <tr>\n",
       "      <th>count</th>\n",
       "      <td>16598.000000</td>\n",
       "      <td>16327.000000</td>\n",
       "      <td>16598.000000</td>\n",
       "      <td>16598.000000</td>\n",
       "      <td>16598.000000</td>\n",
       "      <td>16598.000000</td>\n",
       "      <td>16598.000000</td>\n",
       "    </tr>\n",
       "    <tr>\n",
       "      <th>mean</th>\n",
       "      <td>8300.605254</td>\n",
       "      <td>2006.406443</td>\n",
       "      <td>0.264667</td>\n",
       "      <td>0.146652</td>\n",
       "      <td>0.077782</td>\n",
       "      <td>0.048063</td>\n",
       "      <td>0.537441</td>\n",
       "    </tr>\n",
       "    <tr>\n",
       "      <th>std</th>\n",
       "      <td>4791.853933</td>\n",
       "      <td>5.828981</td>\n",
       "      <td>0.816683</td>\n",
       "      <td>0.505351</td>\n",
       "      <td>0.309291</td>\n",
       "      <td>0.188588</td>\n",
       "      <td>1.555028</td>\n",
       "    </tr>\n",
       "    <tr>\n",
       "      <th>min</th>\n",
       "      <td>1.000000</td>\n",
       "      <td>1980.000000</td>\n",
       "      <td>0.000000</td>\n",
       "      <td>0.000000</td>\n",
       "      <td>0.000000</td>\n",
       "      <td>0.000000</td>\n",
       "      <td>0.010000</td>\n",
       "    </tr>\n",
       "    <tr>\n",
       "      <th>25%</th>\n",
       "      <td>4151.250000</td>\n",
       "      <td>2003.000000</td>\n",
       "      <td>0.000000</td>\n",
       "      <td>0.000000</td>\n",
       "      <td>0.000000</td>\n",
       "      <td>0.000000</td>\n",
       "      <td>0.060000</td>\n",
       "    </tr>\n",
       "    <tr>\n",
       "      <th>50%</th>\n",
       "      <td>8300.500000</td>\n",
       "      <td>2007.000000</td>\n",
       "      <td>0.080000</td>\n",
       "      <td>0.020000</td>\n",
       "      <td>0.000000</td>\n",
       "      <td>0.010000</td>\n",
       "      <td>0.170000</td>\n",
       "    </tr>\n",
       "    <tr>\n",
       "      <th>75%</th>\n",
       "      <td>12449.750000</td>\n",
       "      <td>2010.000000</td>\n",
       "      <td>0.240000</td>\n",
       "      <td>0.110000</td>\n",
       "      <td>0.040000</td>\n",
       "      <td>0.040000</td>\n",
       "      <td>0.470000</td>\n",
       "    </tr>\n",
       "    <tr>\n",
       "      <th>max</th>\n",
       "      <td>16600.000000</td>\n",
       "      <td>2020.000000</td>\n",
       "      <td>41.490000</td>\n",
       "      <td>29.020000</td>\n",
       "      <td>10.220000</td>\n",
       "      <td>10.570000</td>\n",
       "      <td>82.740000</td>\n",
       "    </tr>\n",
       "  </tbody>\n",
       "</table>\n",
       "</div>"
      ],
      "text/plain": [
       "               Rank          Year      NA_Sales      EU_Sales      JP_Sales  \\\n",
       "count  16598.000000  16327.000000  16598.000000  16598.000000  16598.000000   \n",
       "mean    8300.605254   2006.406443      0.264667      0.146652      0.077782   \n",
       "std     4791.853933      5.828981      0.816683      0.505351      0.309291   \n",
       "min        1.000000   1980.000000      0.000000      0.000000      0.000000   \n",
       "25%     4151.250000   2003.000000      0.000000      0.000000      0.000000   \n",
       "50%     8300.500000   2007.000000      0.080000      0.020000      0.000000   \n",
       "75%    12449.750000   2010.000000      0.240000      0.110000      0.040000   \n",
       "max    16600.000000   2020.000000     41.490000     29.020000     10.220000   \n",
       "\n",
       "        Other_Sales  Global_Sales  \n",
       "count  16598.000000  16598.000000  \n",
       "mean       0.048063      0.537441  \n",
       "std        0.188588      1.555028  \n",
       "min        0.000000      0.010000  \n",
       "25%        0.000000      0.060000  \n",
       "50%        0.010000      0.170000  \n",
       "75%        0.040000      0.470000  \n",
       "max       10.570000     82.740000  "
      ]
     },
     "execution_count": 5,
     "metadata": {},
     "output_type": "execute_result"
    }
   ],
   "source": [
    "vg_df.describe()"
   ]
  },
  {
   "cell_type": "code",
   "execution_count": 6,
   "metadata": {},
   "outputs": [
    {
     "name": "stdout",
     "output_type": "stream",
     "text": [
      "<class 'pandas.core.frame.DataFrame'>\n",
      "RangeIndex: 16598 entries, 0 to 16597\n",
      "Data columns (total 11 columns):\n",
      " #   Column        Non-Null Count  Dtype  \n",
      "---  ------        --------------  -----  \n",
      " 0   Rank          16598 non-null  int64  \n",
      " 1   Name          16598 non-null  object \n",
      " 2   Platform      16598 non-null  object \n",
      " 3   Year          16327 non-null  float64\n",
      " 4   Genre         16598 non-null  object \n",
      " 5   Publisher     16540 non-null  object \n",
      " 6   NA_Sales      16598 non-null  float64\n",
      " 7   EU_Sales      16598 non-null  float64\n",
      " 8   JP_Sales      16598 non-null  float64\n",
      " 9   Other_Sales   16598 non-null  float64\n",
      " 10  Global_Sales  16598 non-null  float64\n",
      "dtypes: float64(6), int64(1), object(4)\n",
      "memory usage: 1.4+ MB\n"
     ]
    }
   ],
   "source": [
    "vg_df.info();"
   ]
  },
  {
   "cell_type": "markdown",
   "metadata": {},
   "source": [
    "### Normalizando valores ausentes e checando as correções"
   ]
  },
  {
   "cell_type": "code",
   "execution_count": 7,
   "metadata": {},
   "outputs": [],
   "source": [
    "mean = vg_df['Year'].mean()\n",
    "vg_df['Year'].fillna(mean, inplace=True)"
   ]
  },
  {
   "cell_type": "code",
   "execution_count": 8,
   "metadata": {},
   "outputs": [
    {
     "data": {
      "text/plain": [
       "0"
      ]
     },
     "execution_count": 8,
     "metadata": {},
     "output_type": "execute_result"
    }
   ],
   "source": [
    "sum(vg_df.duplicated())"
   ]
  },
  {
   "cell_type": "code",
   "execution_count": 9,
   "metadata": {},
   "outputs": [
    {
     "data": {
      "text/html": [
       "<div>\n",
       "<style scoped>\n",
       "    .dataframe tbody tr th:only-of-type {\n",
       "        vertical-align: middle;\n",
       "    }\n",
       "\n",
       "    .dataframe tbody tr th {\n",
       "        vertical-align: top;\n",
       "    }\n",
       "\n",
       "    .dataframe thead th {\n",
       "        text-align: right;\n",
       "    }\n",
       "</style>\n",
       "<table border=\"1\" class=\"dataframe\">\n",
       "  <thead>\n",
       "    <tr style=\"text-align: right;\">\n",
       "      <th></th>\n",
       "      <th>Rank</th>\n",
       "      <th>Name</th>\n",
       "      <th>Platform</th>\n",
       "      <th>Year</th>\n",
       "      <th>Genre</th>\n",
       "      <th>Publisher</th>\n",
       "      <th>NA_Sales</th>\n",
       "      <th>EU_Sales</th>\n",
       "      <th>JP_Sales</th>\n",
       "      <th>Other_Sales</th>\n",
       "      <th>Global_Sales</th>\n",
       "    </tr>\n",
       "  </thead>\n",
       "  <tbody>\n",
       "    <tr>\n",
       "      <th>0</th>\n",
       "      <td>1</td>\n",
       "      <td>Wii Sports</td>\n",
       "      <td>Wii</td>\n",
       "      <td>2006.0</td>\n",
       "      <td>Sports</td>\n",
       "      <td>Nintendo</td>\n",
       "      <td>41.49</td>\n",
       "      <td>29.02</td>\n",
       "      <td>3.77</td>\n",
       "      <td>8.46</td>\n",
       "      <td>82.74</td>\n",
       "    </tr>\n",
       "    <tr>\n",
       "      <th>1</th>\n",
       "      <td>2</td>\n",
       "      <td>Super Mario Bros.</td>\n",
       "      <td>NES</td>\n",
       "      <td>1985.0</td>\n",
       "      <td>Platform</td>\n",
       "      <td>Nintendo</td>\n",
       "      <td>29.08</td>\n",
       "      <td>3.58</td>\n",
       "      <td>6.81</td>\n",
       "      <td>0.77</td>\n",
       "      <td>40.24</td>\n",
       "    </tr>\n",
       "    <tr>\n",
       "      <th>2</th>\n",
       "      <td>3</td>\n",
       "      <td>Mario Kart Wii</td>\n",
       "      <td>Wii</td>\n",
       "      <td>2008.0</td>\n",
       "      <td>Racing</td>\n",
       "      <td>Nintendo</td>\n",
       "      <td>15.85</td>\n",
       "      <td>12.88</td>\n",
       "      <td>3.79</td>\n",
       "      <td>3.31</td>\n",
       "      <td>35.82</td>\n",
       "    </tr>\n",
       "    <tr>\n",
       "      <th>3</th>\n",
       "      <td>4</td>\n",
       "      <td>Wii Sports Resort</td>\n",
       "      <td>Wii</td>\n",
       "      <td>2009.0</td>\n",
       "      <td>Sports</td>\n",
       "      <td>Nintendo</td>\n",
       "      <td>15.75</td>\n",
       "      <td>11.01</td>\n",
       "      <td>3.28</td>\n",
       "      <td>2.96</td>\n",
       "      <td>33.00</td>\n",
       "    </tr>\n",
       "    <tr>\n",
       "      <th>4</th>\n",
       "      <td>5</td>\n",
       "      <td>Pokemon Red/Pokemon Blue</td>\n",
       "      <td>GB</td>\n",
       "      <td>1996.0</td>\n",
       "      <td>Role-Playing</td>\n",
       "      <td>Nintendo</td>\n",
       "      <td>11.27</td>\n",
       "      <td>8.89</td>\n",
       "      <td>10.22</td>\n",
       "      <td>1.00</td>\n",
       "      <td>31.37</td>\n",
       "    </tr>\n",
       "  </tbody>\n",
       "</table>\n",
       "</div>"
      ],
      "text/plain": [
       "   Rank                      Name Platform    Year         Genre Publisher  \\\n",
       "0     1                Wii Sports      Wii  2006.0        Sports  Nintendo   \n",
       "1     2         Super Mario Bros.      NES  1985.0      Platform  Nintendo   \n",
       "2     3            Mario Kart Wii      Wii  2008.0        Racing  Nintendo   \n",
       "3     4         Wii Sports Resort      Wii  2009.0        Sports  Nintendo   \n",
       "4     5  Pokemon Red/Pokemon Blue       GB  1996.0  Role-Playing  Nintendo   \n",
       "\n",
       "   NA_Sales  EU_Sales  JP_Sales  Other_Sales  Global_Sales  \n",
       "0     41.49     29.02      3.77         8.46         82.74  \n",
       "1     29.08      3.58      6.81         0.77         40.24  \n",
       "2     15.85     12.88      3.79         3.31         35.82  \n",
       "3     15.75     11.01      3.28         2.96         33.00  \n",
       "4     11.27      8.89     10.22         1.00         31.37  "
      ]
     },
     "execution_count": 9,
     "metadata": {},
     "output_type": "execute_result"
    }
   ],
   "source": [
    "vg_df.head()"
   ]
  },
  {
   "cell_type": "code",
   "execution_count": 10,
   "metadata": {},
   "outputs": [
    {
     "data": {
      "text/plain": [
       "Action          3316\n",
       "Sports          2346\n",
       "Misc            1739\n",
       "Role-Playing    1488\n",
       "Shooter         1310\n",
       "Adventure       1286\n",
       "Racing          1249\n",
       "Platform         886\n",
       "Simulation       867\n",
       "Fighting         848\n",
       "Strategy         681\n",
       "Puzzle           582\n",
       "Name: Genre, dtype: int64"
      ]
     },
     "execution_count": 10,
     "metadata": {},
     "output_type": "execute_result"
    }
   ],
   "source": [
    "vg_df['Genre'].value_counts()"
   ]
  },
  {
   "cell_type": "code",
   "execution_count": 11,
   "metadata": {},
   "outputs": [],
   "source": [
    "import plotly \n",
    "import plotly.graph_objs as go\n",
    "import plotly.offline as py"
   ]
  },
  {
   "cell_type": "code",
   "execution_count": 12,
   "metadata": {},
   "outputs": [
    {
     "data": {
      "text/html": [
       "        <script type=\"text/javascript\">\n",
       "        window.PlotlyConfig = {MathJaxConfig: 'local'};\n",
       "        if (window.MathJax) {MathJax.Hub.Config({SVG: {font: \"STIX-Web\"}});}\n",
       "        if (typeof require !== 'undefined') {\n",
       "        require.undef(\"plotly\");\n",
       "        requirejs.config({\n",
       "            paths: {\n",
       "                'plotly': ['https://cdn.plot.ly/plotly-latest.min']\n",
       "            }\n",
       "        });\n",
       "        require(['plotly'], function(Plotly) {\n",
       "            window._Plotly = Plotly;\n",
       "        });\n",
       "        }\n",
       "        </script>\n",
       "        "
      ]
     },
     "metadata": {},
     "output_type": "display_data"
    }
   ],
   "source": [
    "# habilita o modo offline\n",
    "plotly.offline.init_notebook_mode(connected=True)"
   ]
  },
  {
   "cell_type": "code",
   "execution_count": 13,
   "metadata": {},
   "outputs": [
    {
     "data": {
      "text/plain": [
       "<Figure size 432x288 with 0 Axes>"
      ]
     },
     "metadata": {},
     "output_type": "display_data"
    },
    {
     "data": {
      "image/png": "[encoded data removed]",
      "text/plain": [
       "<Figure size 936x432 with 1 Axes>"
      ]
     },
     "metadata": {
      "needs_background": "light"
     },
     "output_type": "display_data"
    }
   ],
   "source": [
    "plt.figure();\n",
    "vg_df.hist(column='Year', color=('orange'), alpha= 0.8, bins=30, figsize=(13,6))\n",
    "plt.title('Concentração de vendas no período')\n",
    "plt.xlabel('Year')\n",
    "plt.ylabel('Global_Sales')\n",
    "plt.show()"
   ]
  },
  {
   "cell_type": "markdown",
   "metadata": {},
   "source": [
    "## Perguntas de interesse\n",
    "#### - Quais são as vendas dos três maiores games nas cinco regiões\n",
    "#### - Quais as vendas dos três maiores games em 2014\n",
    "#### - Como os consoles de jogos se posicionavam em 2014 e 2015\n",
    "#### - Qual a relação das outras vendas e venda global no ranking dos 100 melhores\n",
    "#### - Qual a relação de venda global em cada ano\n",
    "#### - Em que período de ano se registrou as maiores vendas\n",
    "#### - Qual gênero de vídeo game têm as maiores vendas globais\n",
    "#### - Qual fabricante teve as maiores vendas\n",
    "#### - Quais foram os cinco maiores editores de game de cada ano\n",
    "#### - Qual foi o jogo mais popular na América do Norte"
   ]
  },
  {
   "cell_type": "markdown",
   "metadata": {},
   "source": [
    "### Quais são os os três maiores games nas regiões estudadas"
   ]
  },
  {
   "cell_type": "code",
   "execution_count": null,
   "metadata": {},
   "outputs": [],
   "source": [
    "- Grand Theft Auto V;\n",
    "- Pokemon Omega Ruby/Alpha Sapphire;\n",
    "- e Call of Duty:Advanced Warfare"
   ]
  },
  {
   "cell_type": "code",
   "execution_count": 14,
   "metadata": {},
   "outputs": [
    {
     "data": {
      "application/vnd.plotly.v1+json": {
       "config": {
        "linkText": "Export to plot.ly",
        "plotlyServerURL": "https://plot.ly",
        "showLink": false
       },
       "data": [
        {
         "marker": {
          "color": "rgb(88, 24, 69)"
         },
         "name": "Sales in North America",
         "text": [
          "Action",
          "Role-Playing",
          "Shooter"
         ],
         "type": "bar",
         "x": [
          "Grand Theft Auto V",
          "Pokemon Omega Ruby/Pokemon Alpha Sapphire",
          "Call of Duty: Advanced Warfare"
         ],
         "y": [
          3.8,
          4.23,
          2.8
         ]
        },
        {
         "marker": {
          "color": "rgb(144,12,63)"
         },
         "name": "Sales in Europe",
         "text": [
          "Action",
          "Role-Playing",
          "Shooter"
         ],
         "type": "bar",
         "x": [
          "Grand Theft Auto V",
          "Pokemon Omega Ruby/Pokemon Alpha Sapphire",
          "Call of Duty: Advanced Warfare"
         ],
         "y": [
          5.81,
          3.37,
          3.3
         ]
        },
        {
         "marker": {
          "color": "rgb(199,0,57)"
         },
         "name": "Global Sales",
         "text": [
          "Action",
          "Role-Playing",
          "Shooter"
         ],
         "type": "bar",
         "x": [
          "Grand Theft Auto V",
          "Pokemon Omega Ruby/Pokemon Alpha Sapphire",
          "Call of Duty: Advanced Warfare"
         ],
         "y": [
          11.98,
          11.33,
          7.6
         ]
        },
        {
         "marker": {
          "color": "rgb(255, 87,51)"
         },
         "name": "Other Sales",
         "text": [
          "Action",
          "Role-Playing",
          "Shooter"
         ],
         "type": "bar",
         "x": [
          "Grand Theft Auto V",
          "Pokemon Omega Ruby/Pokemon Alpha Sapphire",
          "Call of Duty: Advanced Warfare"
         ],
         "y": [
          2.02,
          0.65,
          1.37
         ]
        },
        {
         "marker": {
          "color": "rgb(255,195,0)"
         },
         "name": "Sales in Japan",
         "text": [
          "Action",
          "Role-Playing",
          "Shooter"
         ],
         "type": "bar",
         "x": [
          "Grand Theft Auto V",
          "Pokemon Omega Ruby/Pokemon Alpha Sapphire",
          "Call of Duty: Advanced Warfare"
         ],
         "y": [
          0.36,
          3.08,
          0.14
         ]
        }
       ],
       "layout": {
        "barmode": "group",
        "template": {
         "data": {
          "bar": [
           {
            "error_x": {
             "color": "#2a3f5f"
            },
            "error_y": {
             "color": "#2a3f5f"
            },
            "marker": {
             "line": {
              "color": "#E5ECF6",
              "width": 0.5
             }
            },
            "type": "bar"
           }
          ],
          "barpolar": [
           {
            "marker": {
             "line": {
              "color": "#E5ECF6",
              "width": 0.5
             }
            },
            "type": "barpolar"
           }
          ],
          "carpet": [
           {
            "aaxis": {
             "endlinecolor": "#2a3f5f",
             "gridcolor": "white",
             "linecolor": "white",
             "minorgridcolor": "white",
             "startlinecolor": "#2a3f5f"
            },
            "baxis": {
             "endlinecolor": "#2a3f5f",
             "gridcolor": "white",
             "linecolor": "white",
             "minorgridcolor": "white",
             "startlinecolor": "#2a3f5f"
            },
            "type": "carpet"
           }
          ],
          "choropleth": [
           {
            "colorbar": {
             "outlinewidth": 0,
             "ticks": ""
            },
            "type": "choropleth"
           }
          ],
          "contour": [
           {
            "colorbar": {
             "outlinewidth": 0,
             "ticks": ""
            },
            "colorscale": [
             [
              0,
              "#0d0887"
             ],
             [
              0.1111111111111111,
              "#46039f"
             ],
             [
              0.2222222222222222,
              "#7201a8"
             ],
             [
              0.3333333333333333,
              "#9c179e"
             ],
             [
              0.4444444444444444,
              "#bd3786"
             ],
             [
              0.5555555555555556,
              "#d8576b"
             ],
             [
              0.6666666666666666,
              "#ed7953"
             ],
             [
              0.7777777777777778,
              "#fb9f3a"
             ],
             [
              0.8888888888888888,
              "#fdca26"
             ],
             [
              1,
              "#f0f921"
             ]
            ],
            "type": "contour"
           }
          ],
          "contourcarpet": [
           {
            "colorbar": {
             "outlinewidth": 0,
             "ticks": ""
            },
            "type": "contourcarpet"
           }
          ],
          "heatmap": [
           {
            "colorbar": {
             "outlinewidth": 0,
             "ticks": ""
            },
            "colorscale": [
             [
              0,
              "#0d0887"
             ],
             [
              0.1111111111111111,
              "#46039f"
             ],
             [
              0.2222222222222222,
              "#7201a8"
             ],
             [
              0.3333333333333333,
              "#9c179e"
             ],
             [
              0.4444444444444444,
              "#bd3786"
             ],
             [
              0.5555555555555556,
              "#d8576b"
             ],
             [
              0.6666666666666666,
              "#ed7953"
             ],
             [
              0.7777777777777778,
              "#fb9f3a"
             ],
             [
              0.8888888888888888,
              "#fdca26"
             ],
             [
              1,
              "#f0f921"
             ]
            ],
            "type": "heatmap"
           }
          ],
          "heatmapgl": [
           {
            "colorbar": {
             "outlinewidth": 0,
             "ticks": ""
            },
            "colorscale": [
             [
              0,
              "#0d0887"
             ],
             [
              0.1111111111111111,
              "#46039f"
             ],
             [
              0.2222222222222222,
              "#7201a8"
             ],
             [
              0.3333333333333333,
              "#9c179e"
             ],
             [
              0.4444444444444444,
              "#bd3786"
             ],
             [
              0.5555555555555556,
              "#d8576b"
             ],
             [
              0.6666666666666666,
              "#ed7953"
             ],
             [
              0.7777777777777778,
              "#fb9f3a"
             ],
             [
              0.8888888888888888,
              "#fdca26"
             ],
             [
              1,
              "#f0f921"
             ]
            ],
            "type": "heatmapgl"
           }
          ],
          "histogram": [
           {
            "marker": {
             "colorbar": {
              "outlinewidth": 0,
              "ticks": ""
             }
            },
            "type": "histogram"
           }
          ],
          "histogram2d": [
           {
            "colorbar": {
             "outlinewidth": 0,
             "ticks": ""
            },
            "colorscale": [
             [
              0,
              "#0d0887"
             ],
             [
              0.1111111111111111,
              "#46039f"
             ],
             [
              0.2222222222222222,
              "#7201a8"
             ],
             [
              0.3333333333333333,
              "#9c179e"
             ],
             [
              0.4444444444444444,
              "#bd3786"
             ],
             [
              0.5555555555555556,
              "#d8576b"
             ],
             [
              0.6666666666666666,
              "#ed7953"
             ],
             [
              0.7777777777777778,
              "#fb9f3a"
             ],
             [
              0.8888888888888888,
              "#fdca26"
             ],
             [
              1,
              "#f0f921"
             ]
            ],
            "type": "histogram2d"
           }
          ],
          "histogram2dcontour": [
           {
            "colorbar": {
             "outlinewidth": 0,
             "ticks": ""
            },
            "colorscale": [
             [
              0,
              "#0d0887"
             ],
             [
              0.1111111111111111,
              "#46039f"
             ],
             [
              0.2222222222222222,
              "#7201a8"
             ],
             [
              0.3333333333333333,
              "#9c179e"
             ],
             [
              0.4444444444444444,
              "#bd3786"
             ],
             [
              0.5555555555555556,
              "#d8576b"
             ],
             [
              0.6666666666666666,
              "#ed7953"
             ],
             [
              0.7777777777777778,
              "#fb9f3a"
             ],
             [
              0.8888888888888888,
              "#fdca26"
             ],
             [
              1,
              "#f0f921"
             ]
            ],
            "type": "histogram2dcontour"
           }
          ],
          "mesh3d": [
           {
            "colorbar": {
             "outlinewidth": 0,
             "ticks": ""
            },
            "type": "mesh3d"
           }
          ],
          "parcoords": [
           {
            "line": {
             "colorbar": {
              "outlinewidth": 0,
              "ticks": ""
             }
            },
            "type": "parcoords"
           }
          ],
          "pie": [
           {
            "automargin": true,
            "type": "pie"
           }
          ],
          "scatter": [
           {
            "marker": {
             "colorbar": {
              "outlinewidth": 0,
              "ticks": ""
             }
            },
            "type": "scatter"
           }
          ],
          "scatter3d": [
           {
            "line": {
             "colorbar": {
              "outlinewidth": 0,
              "ticks": ""
             }
            },
            "marker": {
             "colorbar": {
              "outlinewidth": 0,
              "ticks": ""
             }
            },
            "type": "scatter3d"
           }
          ],
          "scattercarpet": [
           {
            "marker": {
             "colorbar": {
              "outlinewidth": 0,
              "ticks": ""
             }
            },
            "type": "scattercarpet"
           }
          ],
          "scattergeo": [
           {
            "marker": {
             "colorbar": {
              "outlinewidth": 0,
              "ticks": ""
             }
            },
            "type": "scattergeo"
           }
          ],
          "scattergl": [
           {
            "marker": {
             "colorbar": {
              "outlinewidth": 0,
              "ticks": ""
             }
            },
            "type": "scattergl"
           }
          ],
          "scattermapbox": [
           {
            "marker": {
             "colorbar": {
              "outlinewidth": 0,
              "ticks": ""
             }
            },
            "type": "scattermapbox"
           }
          ],
          "scatterpolar": [
           {
            "marker": {
             "colorbar": {
              "outlinewidth": 0,
              "ticks": ""
             }
            },
            "type": "scatterpolar"
           }
          ],
          "scatterpolargl": [
           {
            "marker": {
             "colorbar": {
              "outlinewidth": 0,
              "ticks": ""
             }
            },
            "type": "scatterpolargl"
           }
          ],
          "scatterternary": [
           {
            "marker": {
             "colorbar": {
              "outlinewidth": 0,
              "ticks": ""
             }
            },
            "type": "scatterternary"
           }
          ],
          "surface": [
           {
            "colorbar": {
             "outlinewidth": 0,
             "ticks": ""
            },
            "colorscale": [
             [
              0,
              "#0d0887"
             ],
             [
              0.1111111111111111,
              "#46039f"
             ],
             [
              0.2222222222222222,
              "#7201a8"
             ],
             [
              0.3333333333333333,
              "#9c179e"
             ],
             [
              0.4444444444444444,
              "#bd3786"
             ],
             [
              0.5555555555555556,
              "#d8576b"
             ],
             [
              0.6666666666666666,
              "#ed7953"
             ],
             [
              0.7777777777777778,
              "#fb9f3a"
             ],
             [
              0.8888888888888888,
              "#fdca26"
             ],
             [
              1,
              "#f0f921"
             ]
            ],
            "type": "surface"
           }
          ],
          "table": [
           {
            "cells": {
             "fill": {
              "color": "#EBF0F8"
             },
             "line": {
              "color": "white"
             }
            },
            "header": {
             "fill": {
              "color": "#C8D4E3"
             },
             "line": {
              "color": "white"
             }
            },
            "type": "table"
           }
          ]
         },
         "layout": {
          "annotationdefaults": {
           "arrowcolor": "#2a3f5f",
           "arrowhead": 0,
           "arrowwidth": 1
          },
          "coloraxis": {
           "colorbar": {
            "outlinewidth": 0,
            "ticks": ""
           }
          },
          "colorscale": {
           "diverging": [
            [
             0,
             "#8e0152"
            ],
            [
             0.1,
             "#c51b7d"
            ],
            [
             0.2,
             "#de77ae"
            ],
            [
             0.3,
             "#f1b6da"
            ],
            [
             0.4,
             "#fde0ef"
            ],
            [
             0.5,
             "#f7f7f7"
            ],
            [
             0.6,
             "#e6f5d0"
            ],
            [
             0.7,
             "#b8e186"
            ],
            [
             0.8,
             "#7fbc41"
            ],
            [
             0.9,
             "#4d9221"
            ],
            [
             1,
             "#276419"
            ]
           ],
           "sequential": [
            [
             0,
             "#0d0887"
            ],
            [
             0.1111111111111111,
             "#46039f"
            ],
            [
             0.2222222222222222,
             "#7201a8"
            ],
            [
             0.3333333333333333,
             "#9c179e"
            ],
            [
             0.4444444444444444,
             "#bd3786"
            ],
            [
             0.5555555555555556,
             "#d8576b"
            ],
            [
             0.6666666666666666,
             "#ed7953"
            ],
            [
             0.7777777777777778,
             "#fb9f3a"
            ],
            [
             0.8888888888888888,
             "#fdca26"
            ],
            [
             1,
             "#f0f921"
            ]
           ],
           "sequentialminus": [
            [
             0,
             "#0d0887"
            ],
            [
             0.1111111111111111,
             "#46039f"
            ],
            [
             0.2222222222222222,
             "#7201a8"
            ],
            [
             0.3333333333333333,
             "#9c179e"
            ],
            [
             0.4444444444444444,
             "#bd3786"
            ],
            [
             0.5555555555555556,
             "#d8576b"
            ],
            [
             0.6666666666666666,
             "#ed7953"
            ],
            [
             0.7777777777777778,
             "#fb9f3a"
            ],
            [
             0.8888888888888888,
             "#fdca26"
            ],
            [
             1,
             "#f0f921"
            ]
           ]
          },
          "colorway": [
           "#636efa",
           "#EF553B",
           "#00cc96",
           "#ab63fa",
           "#FFA15A",
           "#19d3f3",
           "#FF6692",
           "#B6E880",
           "#FF97FF",
           "#FECB52"
          ],
          "font": {
           "color": "#2a3f5f"
          },
          "geo": {
           "bgcolor": "white",
           "lakecolor": "white",
           "landcolor": "#E5ECF6",
           "showlakes": true,
           "showland": true,
           "subunitcolor": "white"
          },
          "hoverlabel": {
           "align": "left"
          },
          "hovermode": "closest",
          "mapbox": {
           "style": "light"
          },
          "paper_bgcolor": "white",
          "plot_bgcolor": "#E5ECF6",
          "polar": {
           "angularaxis": {
            "gridcolor": "white",
            "linecolor": "white",
            "ticks": ""
           },
           "bgcolor": "#E5ECF6",
           "radialaxis": {
            "gridcolor": "white",
            "linecolor": "white",
            "ticks": ""
           }
          },
          "scene": {
           "xaxis": {
            "backgroundcolor": "#E5ECF6",
            "gridcolor": "white",
            "gridwidth": 2,
            "linecolor": "white",
            "showbackground": true,
            "ticks": "",
            "zerolinecolor": "white"
           },
           "yaxis": {
            "backgroundcolor": "#E5ECF6",
            "gridcolor": "white",
            "gridwidth": 2,
            "linecolor": "white",
            "showbackground": true,
            "ticks": "",
            "zerolinecolor": "white"
           },
           "zaxis": {
            "backgroundcolor": "#E5ECF6",
            "gridcolor": "white",
            "gridwidth": 2,
            "linecolor": "white",
            "showbackground": true,
            "ticks": "",
            "zerolinecolor": "white"
           }
          },
          "shapedefaults": {
           "line": {
            "color": "#2a3f5f"
           }
          },
          "ternary": {
           "aaxis": {
            "gridcolor": "white",
            "linecolor": "white",
            "ticks": ""
           },
           "baxis": {
            "gridcolor": "white",
            "linecolor": "white",
            "ticks": ""
           },
           "bgcolor": "#E5ECF6",
           "caxis": {
            "gridcolor": "white",
            "linecolor": "white",
            "ticks": ""
           }
          },
          "title": {
           "x": 0.05
          },
          "xaxis": {
           "automargin": true,
           "gridcolor": "white",
           "linecolor": "white",
           "ticks": "",
           "title": {
            "standoff": 15
           },
           "zerolinecolor": "white",
           "zerolinewidth": 2
          },
          "yaxis": {
           "automargin": true,
           "gridcolor": "white",
           "linecolor": "white",
           "ticks": "",
           "title": {
            "standoff": 15
           },
           "zerolinecolor": "white",
           "zerolinewidth": 2
          }
         }
        }
       }
      },
      "text/html": [
       "<div>\n",
       "        \n",
       "        \n",
       "            <div id=\"6200129f-477c-46f0-982c-03fe9a9746b9\" class=\"plotly-graph-div\" style=\"height:525px; width:100%;\"></div>\n",
       "            <script type=\"text/javascript\">\n",
       "                require([\"plotly\"], function(Plotly) {\n",
       "                    window.PLOTLYENV=window.PLOTLYENV || {};\n",
       "                    \n",
       "                if (document.getElementById(\"6200129f-477c-46f0-982c-03fe9a9746b9\")) {\n",
       "                    Plotly.newPlot(\n",
       "                        '6200129f-477c-46f0-982c-03fe9a9746b9',\n",
       "                        [{\"marker\": {\"color\": \"rgb(88, 24, 69)\"}, \"name\": \"Sales in North America\", \"text\": [\"Action\", \"Role-Playing\", \"Shooter\"], \"type\": \"bar\", \"x\": [\"Grand Theft Auto V\", \"Pokemon Omega Ruby/Pokemon Alpha Sapphire\", \"Call of Duty: Advanced Warfare\"], \"y\": [3.8, 4.23, 2.8]}, {\"marker\": {\"color\": \"rgb(144,12,63)\"}, \"name\": \"Sales in Europe\", \"text\": [\"Action\", \"Role-Playing\", \"Shooter\"], \"type\": \"bar\", \"x\": [\"Grand Theft Auto V\", \"Pokemon Omega Ruby/Pokemon Alpha Sapphire\", \"Call of Duty: Advanced Warfare\"], \"y\": [5.81, 3.37, 3.3]}, {\"marker\": {\"color\": \"rgb(199,0,57)\"}, \"name\": \"Global Sales\", \"text\": [\"Action\", \"Role-Playing\", \"Shooter\"], \"type\": \"bar\", \"x\": [\"Grand Theft Auto V\", \"Pokemon Omega Ruby/Pokemon Alpha Sapphire\", \"Call of Duty: Advanced Warfare\"], \"y\": [11.98, 11.33, 7.6]}, {\"marker\": {\"color\": \"rgb(255, 87,51)\"}, \"name\": \"Other Sales\", \"text\": [\"Action\", \"Role-Playing\", \"Shooter\"], \"type\": \"bar\", \"x\": [\"Grand Theft Auto V\", \"Pokemon Omega Ruby/Pokemon Alpha Sapphire\", \"Call of Duty: Advanced Warfare\"], \"y\": [2.02, 0.65, 1.37]}, {\"marker\": {\"color\": \"rgb(255,195,0)\"}, \"name\": \"Sales in Japan\", \"text\": [\"Action\", \"Role-Playing\", \"Shooter\"], \"type\": \"bar\", \"x\": [\"Grand Theft Auto V\", \"Pokemon Omega Ruby/Pokemon Alpha Sapphire\", \"Call of Duty: Advanced Warfare\"], \"y\": [0.36, 3.08, 0.14]}],\n",
       "                        {\"barmode\": \"group\", \"template\": {\"data\": {\"bar\": [{\"error_x\": {\"color\": \"#2a3f5f\"}, \"error_y\": {\"color\": \"#2a3f5f\"}, \"marker\": {\"line\": {\"color\": \"#E5ECF6\", \"width\": 0.5}}, \"type\": \"bar\"}], \"barpolar\": [{\"marker\": {\"line\": {\"color\": \"#E5ECF6\", \"width\": 0.5}}, \"type\": \"barpolar\"}], \"carpet\": [{\"aaxis\": {\"endlinecolor\": \"#2a3f5f\", \"gridcolor\": \"white\", \"linecolor\": \"white\", \"minorgridcolor\": \"white\", \"startlinecolor\": \"#2a3f5f\"}, \"baxis\": {\"endlinecolor\": \"#2a3f5f\", \"gridcolor\": \"white\", \"linecolor\": \"white\", \"minorgridcolor\": \"white\", \"startlinecolor\": \"#2a3f5f\"}, \"type\": \"carpet\"}], \"choropleth\": [{\"colorbar\": {\"outlinewidth\": 0, \"ticks\": \"\"}, \"type\": \"choropleth\"}], \"contour\": [{\"colorbar\": {\"outlinewidth\": 0, \"ticks\": \"\"}, \"colorscale\": [[0.0, \"#0d0887\"], [0.1111111111111111, \"#46039f\"], [0.2222222222222222, \"#7201a8\"], [0.3333333333333333, \"#9c179e\"], [0.4444444444444444, \"#bd3786\"], [0.5555555555555556, \"#d8576b\"], [0.6666666666666666, \"#ed7953\"], [0.7777777777777778, \"#fb9f3a\"], [0.8888888888888888, \"#fdca26\"], [1.0, \"#f0f921\"]], \"type\": \"contour\"}], \"contourcarpet\": [{\"colorbar\": {\"outlinewidth\": 0, \"ticks\": \"\"}, \"type\": \"contourcarpet\"}], \"heatmap\": [{\"colorbar\": {\"outlinewidth\": 0, \"ticks\": \"\"}, \"colorscale\": [[0.0, \"#0d0887\"], [0.1111111111111111, \"#46039f\"], [0.2222222222222222, \"#7201a8\"], [0.3333333333333333, \"#9c179e\"], [0.4444444444444444, \"#bd3786\"], [0.5555555555555556, \"#d8576b\"], [0.6666666666666666, \"#ed7953\"], [0.7777777777777778, \"#fb9f3a\"], [0.8888888888888888, \"#fdca26\"], [1.0, \"#f0f921\"]], \"type\": \"heatmap\"}], \"heatmapgl\": [{\"colorbar\": {\"outlinewidth\": 0, \"ticks\": \"\"}, \"colorscale\": [[0.0, \"#0d0887\"], [0.1111111111111111, \"#46039f\"], [0.2222222222222222, \"#7201a8\"], [0.3333333333333333, \"#9c179e\"], [0.4444444444444444, \"#bd3786\"], [0.5555555555555556, \"#d8576b\"], [0.6666666666666666, \"#ed7953\"], [0.7777777777777778, \"#fb9f3a\"], [0.8888888888888888, \"#fdca26\"], [1.0, \"#f0f921\"]], \"type\": \"heatmapgl\"}], \"histogram\": [{\"marker\": {\"colorbar\": {\"outlinewidth\": 0, \"ticks\": \"\"}}, \"type\": \"histogram\"}], \"histogram2d\": [{\"colorbar\": {\"outlinewidth\": 0, \"ticks\": \"\"}, \"colorscale\": [[0.0, \"#0d0887\"], [0.1111111111111111, \"#46039f\"], [0.2222222222222222, \"#7201a8\"], [0.3333333333333333, \"#9c179e\"], [0.4444444444444444, \"#bd3786\"], [0.5555555555555556, \"#d8576b\"], [0.6666666666666666, \"#ed7953\"], [0.7777777777777778, \"#fb9f3a\"], [0.8888888888888888, \"#fdca26\"], [1.0, \"#f0f921\"]], \"type\": \"histogram2d\"}], \"histogram2dcontour\": [{\"colorbar\": {\"outlinewidth\": 0, \"ticks\": \"\"}, \"colorscale\": [[0.0, \"#0d0887\"], [0.1111111111111111, \"#46039f\"], [0.2222222222222222, \"#7201a8\"], [0.3333333333333333, \"#9c179e\"], [0.4444444444444444, \"#bd3786\"], [0.5555555555555556, \"#d8576b\"], [0.6666666666666666, \"#ed7953\"], [0.7777777777777778, \"#fb9f3a\"], [0.8888888888888888, \"#fdca26\"], [1.0, \"#f0f921\"]], \"type\": \"histogram2dcontour\"}], \"mesh3d\": [{\"colorbar\": {\"outlinewidth\": 0, \"ticks\": \"\"}, \"type\": \"mesh3d\"}], \"parcoords\": [{\"line\": {\"colorbar\": {\"outlinewidth\": 0, \"ticks\": \"\"}}, \"type\": \"parcoords\"}], \"pie\": [{\"automargin\": true, \"type\": \"pie\"}], \"scatter\": [{\"marker\": {\"colorbar\": {\"outlinewidth\": 0, \"ticks\": \"\"}}, \"type\": \"scatter\"}], \"scatter3d\": [{\"line\": {\"colorbar\": {\"outlinewidth\": 0, \"ticks\": \"\"}}, \"marker\": {\"colorbar\": {\"outlinewidth\": 0, \"ticks\": \"\"}}, \"type\": \"scatter3d\"}], \"scattercarpet\": [{\"marker\": {\"colorbar\": {\"outlinewidth\": 0, \"ticks\": \"\"}}, \"type\": \"scattercarpet\"}], \"scattergeo\": [{\"marker\": {\"colorbar\": {\"outlinewidth\": 0, \"ticks\": \"\"}}, \"type\": \"scattergeo\"}], \"scattergl\": [{\"marker\": {\"colorbar\": {\"outlinewidth\": 0, \"ticks\": \"\"}}, \"type\": \"scattergl\"}], \"scattermapbox\": [{\"marker\": {\"colorbar\": {\"outlinewidth\": 0, \"ticks\": \"\"}}, \"type\": \"scattermapbox\"}], \"scatterpolar\": [{\"marker\": {\"colorbar\": {\"outlinewidth\": 0, \"ticks\": \"\"}}, \"type\": \"scatterpolar\"}], \"scatterpolargl\": [{\"marker\": {\"colorbar\": {\"outlinewidth\": 0, \"ticks\": \"\"}}, \"type\": \"scatterpolargl\"}], \"scatterternary\": [{\"marker\": {\"colorbar\": {\"outlinewidth\": 0, \"ticks\": \"\"}}, \"type\": \"scatterternary\"}], \"surface\": [{\"colorbar\": {\"outlinewidth\": 0, \"ticks\": \"\"}, \"colorscale\": [[0.0, \"#0d0887\"], [0.1111111111111111, \"#46039f\"], [0.2222222222222222, \"#7201a8\"], [0.3333333333333333, \"#9c179e\"], [0.4444444444444444, \"#bd3786\"], [0.5555555555555556, \"#d8576b\"], [0.6666666666666666, \"#ed7953\"], [0.7777777777777778, \"#fb9f3a\"], [0.8888888888888888, \"#fdca26\"], [1.0, \"#f0f921\"]], \"type\": \"surface\"}], \"table\": [{\"cells\": {\"fill\": {\"color\": \"#EBF0F8\"}, \"line\": {\"color\": \"white\"}}, \"header\": {\"fill\": {\"color\": \"#C8D4E3\"}, \"line\": {\"color\": \"white\"}}, \"type\": \"table\"}]}, \"layout\": {\"annotationdefaults\": {\"arrowcolor\": \"#2a3f5f\", \"arrowhead\": 0, \"arrowwidth\": 1}, \"coloraxis\": {\"colorbar\": {\"outlinewidth\": 0, \"ticks\": \"\"}}, \"colorscale\": {\"diverging\": [[0, \"#8e0152\"], [0.1, \"#c51b7d\"], [0.2, \"#de77ae\"], [0.3, \"#f1b6da\"], [0.4, \"#fde0ef\"], [0.5, \"#f7f7f7\"], [0.6, \"#e6f5d0\"], [0.7, \"#b8e186\"], [0.8, \"#7fbc41\"], [0.9, \"#4d9221\"], [1, \"#276419\"]], \"sequential\": [[0.0, \"#0d0887\"], [0.1111111111111111, \"#46039f\"], [0.2222222222222222, \"#7201a8\"], [0.3333333333333333, \"#9c179e\"], [0.4444444444444444, \"#bd3786\"], [0.5555555555555556, \"#d8576b\"], [0.6666666666666666, \"#ed7953\"], [0.7777777777777778, \"#fb9f3a\"], [0.8888888888888888, \"#fdca26\"], [1.0, \"#f0f921\"]], \"sequentialminus\": [[0.0, \"#0d0887\"], [0.1111111111111111, \"#46039f\"], [0.2222222222222222, \"#7201a8\"], [0.3333333333333333, \"#9c179e\"], [0.4444444444444444, \"#bd3786\"], [0.5555555555555556, \"#d8576b\"], [0.6666666666666666, \"#ed7953\"], [0.7777777777777778, \"#fb9f3a\"], [0.8888888888888888, \"#fdca26\"], [1.0, \"#f0f921\"]]}, \"colorway\": [\"#636efa\", \"#EF553B\", \"#00cc96\", \"#ab63fa\", \"#FFA15A\", \"#19d3f3\", \"#FF6692\", \"#B6E880\", \"#FF97FF\", \"#FECB52\"], \"font\": {\"color\": \"#2a3f5f\"}, \"geo\": {\"bgcolor\": \"white\", \"lakecolor\": \"white\", \"landcolor\": \"#E5ECF6\", \"showlakes\": true, \"showland\": true, \"subunitcolor\": \"white\"}, \"hoverlabel\": {\"align\": \"left\"}, \"hovermode\": \"closest\", \"mapbox\": {\"style\": \"light\"}, \"paper_bgcolor\": \"white\", \"plot_bgcolor\": \"#E5ECF6\", \"polar\": {\"angularaxis\": {\"gridcolor\": \"white\", \"linecolor\": \"white\", \"ticks\": \"\"}, \"bgcolor\": \"#E5ECF6\", \"radialaxis\": {\"gridcolor\": \"white\", \"linecolor\": \"white\", \"ticks\": \"\"}}, \"scene\": {\"xaxis\": {\"backgroundcolor\": \"#E5ECF6\", \"gridcolor\": \"white\", \"gridwidth\": 2, \"linecolor\": \"white\", \"showbackground\": true, \"ticks\": \"\", \"zerolinecolor\": \"white\"}, \"yaxis\": {\"backgroundcolor\": \"#E5ECF6\", \"gridcolor\": \"white\", \"gridwidth\": 2, \"linecolor\": \"white\", \"showbackground\": true, \"ticks\": \"\", \"zerolinecolor\": \"white\"}, \"zaxis\": {\"backgroundcolor\": \"#E5ECF6\", \"gridcolor\": \"white\", \"gridwidth\": 2, \"linecolor\": \"white\", \"showbackground\": true, \"ticks\": \"\", \"zerolinecolor\": \"white\"}}, \"shapedefaults\": {\"line\": {\"color\": \"#2a3f5f\"}}, \"ternary\": {\"aaxis\": {\"gridcolor\": \"white\", \"linecolor\": \"white\", \"ticks\": \"\"}, \"baxis\": {\"gridcolor\": \"white\", \"linecolor\": \"white\", \"ticks\": \"\"}, \"bgcolor\": \"#E5ECF6\", \"caxis\": {\"gridcolor\": \"white\", \"linecolor\": \"white\", \"ticks\": \"\"}}, \"title\": {\"x\": 0.05}, \"xaxis\": {\"automargin\": true, \"gridcolor\": \"white\", \"linecolor\": \"white\", \"ticks\": \"\", \"title\": {\"standoff\": 15}, \"zerolinecolor\": \"white\", \"zerolinewidth\": 2}, \"yaxis\": {\"automargin\": true, \"gridcolor\": \"white\", \"linecolor\": \"white\", \"ticks\": \"\", \"title\": {\"standoff\": 15}, \"zerolinecolor\": \"white\", \"zerolinewidth\": 2}}}},\n",
       "                        {\"responsive\": true}\n",
       "                    ).then(function(){\n",
       "                            \n",
       "var gd = document.getElementById('6200129f-477c-46f0-982c-03fe9a9746b9');\n",
       "var x = new MutationObserver(function (mutations, observer) {{\n",
       "        var display = window.getComputedStyle(gd).display;\n",
       "        if (!display || display === 'none') {{\n",
       "            console.log([gd, 'removed!']);\n",
       "            Plotly.purge(gd);\n",
       "            observer.disconnect();\n",
       "        }}\n",
       "}});\n",
       "\n",
       "// Listen for the removal of the full notebook cells\n",
       "var notebookContainer = gd.closest('#notebook-container');\n",
       "if (notebookContainer) {{\n",
       "    x.observe(notebookContainer, {childList: true});\n",
       "}}\n",
       "\n",
       "// Listen for the clearing of the current output cell\n",
       "var outputEl = gd.closest('.output');\n",
       "if (outputEl) {{\n",
       "    x.observe(outputEl, {childList: true});\n",
       "}}\n",
       "\n",
       "                        })\n",
       "                };\n",
       "                });\n",
       "            </script>\n",
       "        </div>"
      ]
     },
     "metadata": {},
     "output_type": "display_data"
    }
   ],
   "source": [
    "year_2014 = vg_df[vg_df.Year == 2014].iloc[:3,:]\n",
    "\n",
    "linha1 = go.Bar(\n",
    "    x = year_2014.Name,\n",
    "    y = year_2014.NA_Sales,\n",
    "    name = 'Sales in North America',\n",
    "    marker = dict(color = 'rgb(88, 24, 69)'),\n",
    "    text = year_2014.Genre\n",
    ")\n",
    "linha2 = go.Bar(\n",
    "    x = year_2014.Name,\n",
    "    y = year_2014.EU_Sales,\n",
    "    name = 'Sales in Europe',\n",
    "    marker = dict(color = 'rgb(144,12,63)'),\n",
    "    text = year_2014.Genre\n",
    ")\n",
    "linha3 = go.Bar(\n",
    "    x = year_2014.Name,\n",
    "    y = year_2014.Global_Sales,\n",
    "    name = 'Global Sales',\n",
    "    marker = dict(color = 'rgb(199,0,57)'),                \n",
    "    text = year_2014.Genre\n",
    ")\n",
    "linha4 = go.Bar(\n",
    "    x = year_2014.Name,\n",
    "    y = year_2014.Other_Sales,\n",
    "    name = 'Other Sales',\n",
    "    marker = dict(color = 'rgb(255, 87,51)'),                \n",
    "    text = year_2014.Genre\n",
    ")\n",
    "linha5 = go.Bar(\n",
    "    x = year_2014.Name,\n",
    "    y = year_2014.JP_Sales,\n",
    "    name = 'Sales in Japan',\n",
    "    marker = dict(color = 'rgb(255,195,0)'),                \n",
    "    text = year_2014.Genre\n",
    ")\n",
    "data = [linha1, linha2, linha3, linha4, linha5]\n",
    "layout = go.Layout(barmode = \"group\")\n",
    "fig = go.Figure(data=data, layout=layout)\n",
    "py.iplot(fig)"
   ]
  },
  {
   "cell_type": "markdown",
   "metadata": {},
   "source": [
    "### Quais as vendas dos maiores games em 2014"
   ]
  },
  {
   "cell_type": "markdown",
   "metadata": {},
   "source": [
    "- Resposta disponibilizada no gráfico"
   ]
  },
  {
   "cell_type": "code",
   "execution_count": 15,
   "metadata": {},
   "outputs": [
    {
     "data": {
      "application/vnd.plotly.v1+json": {
       "config": {
        "linkText": "Export to plot.ly",
        "plotlyServerURL": "https://plot.ly",
        "showLink": false
       },
       "data": [
        {
         "marker": {
          "color": "rgb(75, 56, 50)"
         },
         "name": "Vendas na América do Norte",
         "type": "bar",
         "x": [
          "Grand Theft Auto V",
          "Pokemon Omega Ruby/Pokemon Alpha Sapphire",
          "Call of Duty: Advanced Warfare",
          "Super Smash Bros. for Wii U and 3DS",
          "Mario Kart 8"
         ],
         "y": [
          3.8,
          4.23,
          2.8,
          3.24,
          3.13
         ]
        },
        {
         "marker": {
          "color": "rgb(133,68,66)"
         },
         "name": "Vendas na Europa",
         "type": "bar",
         "x": [
          "Grand Theft Auto V",
          "Pokemon Omega Ruby/Pokemon Alpha Sapphire",
          "Call of Duty: Advanced Warfare",
          "Super Smash Bros. for Wii U and 3DS",
          "Mario Kart 8"
         ],
         "y": [
          5.81,
          3.37,
          3.3,
          1.35,
          2.07
         ]
        },
        {
         "marker": {
          "color": "rgb(255,244,230)"
         },
         "name": "Vendas no Japão",
         "type": "bar",
         "x": [
          "Grand Theft Auto V",
          "Pokemon Omega Ruby/Pokemon Alpha Sapphire",
          "Call of Duty: Advanced Warfare",
          "Super Smash Bros. for Wii U and 3DS",
          "Mario Kart 8"
         ],
         "y": [
          0.36,
          3.08,
          0.14,
          2.42,
          1.27
         ]
        },
        {
         "marker": {
          "color": "rgb(60,47,47)"
         },
         "name": "Vendas Globais",
         "type": "bar",
         "x": [
          "Grand Theft Auto V",
          "Pokemon Omega Ruby/Pokemon Alpha Sapphire",
          "Call of Duty: Advanced Warfare",
          "Super Smash Bros. for Wii U and 3DS",
          "Mario Kart 8"
         ],
         "y": [
          11.98,
          11.33,
          7.6,
          7.45,
          6.96
         ]
        },
        {
         "marker": {
          "color": "rgb(236,185,57)"
         },
         "name": "Outras Vendas",
         "type": "bar",
         "x": [
          "Grand Theft Auto V",
          "Pokemon Omega Ruby/Pokemon Alpha Sapphire",
          "Call of Duty: Advanced Warfare",
          "Super Smash Bros. for Wii U and 3DS",
          "Mario Kart 8"
         ],
         "y": [
          2.02,
          0.65,
          1.37,
          0.43,
          0.49
         ]
        }
       ],
       "layout": {
        "barmode": "relative",
        "template": {
         "data": {
          "bar": [
           {
            "error_x": {
             "color": "#2a3f5f"
            },
            "error_y": {
             "color": "#2a3f5f"
            },
            "marker": {
             "line": {
              "color": "#E5ECF6",
              "width": 0.5
             }
            },
            "type": "bar"
           }
          ],
          "barpolar": [
           {
            "marker": {
             "line": {
              "color": "#E5ECF6",
              "width": 0.5
             }
            },
            "type": "barpolar"
           }
          ],
          "carpet": [
           {
            "aaxis": {
             "endlinecolor": "#2a3f5f",
             "gridcolor": "white",
             "linecolor": "white",
             "minorgridcolor": "white",
             "startlinecolor": "#2a3f5f"
            },
            "baxis": {
             "endlinecolor": "#2a3f5f",
             "gridcolor": "white",
             "linecolor": "white",
             "minorgridcolor": "white",
             "startlinecolor": "#2a3f5f"
            },
            "type": "carpet"
           }
          ],
          "choropleth": [
           {
            "colorbar": {
             "outlinewidth": 0,
             "ticks": ""
            },
            "type": "choropleth"
           }
          ],
          "contour": [
           {
            "colorbar": {
             "outlinewidth": 0,
             "ticks": ""
            },
            "colorscale": [
             [
              0,
              "#0d0887"
             ],
             [
              0.1111111111111111,
              "#46039f"
             ],
             [
              0.2222222222222222,
              "#7201a8"
             ],
             [
              0.3333333333333333,
              "#9c179e"
             ],
             [
              0.4444444444444444,
              "#bd3786"
             ],
             [
              0.5555555555555556,
              "#d8576b"
             ],
             [
              0.6666666666666666,
              "#ed7953"
             ],
             [
              0.7777777777777778,
              "#fb9f3a"
             ],
             [
              0.8888888888888888,
              "#fdca26"
             ],
             [
              1,
              "#f0f921"
             ]
            ],
            "type": "contour"
           }
          ],
          "contourcarpet": [
           {
            "colorbar": {
             "outlinewidth": 0,
             "ticks": ""
            },
            "type": "contourcarpet"
           }
          ],
          "heatmap": [
           {
            "colorbar": {
             "outlinewidth": 0,
             "ticks": ""
            },
            "colorscale": [
             [
              0,
              "#0d0887"
             ],
             [
              0.1111111111111111,
              "#46039f"
             ],
             [
              0.2222222222222222,
              "#7201a8"
             ],
             [
              0.3333333333333333,
              "#9c179e"
             ],
             [
              0.4444444444444444,
              "#bd3786"
             ],
             [
              0.5555555555555556,
              "#d8576b"
             ],
             [
              0.6666666666666666,
              "#ed7953"
             ],
             [
              0.7777777777777778,
              "#fb9f3a"
             ],
             [
              0.8888888888888888,
              "#fdca26"
             ],
             [
              1,
              "#f0f921"
             ]
            ],
            "type": "heatmap"
           }
          ],
          "heatmapgl": [
           {
            "colorbar": {
             "outlinewidth": 0,
             "ticks": ""
            },
            "colorscale": [
             [
              0,
              "#0d0887"
             ],
             [
              0.1111111111111111,
              "#46039f"
             ],
             [
              0.2222222222222222,
              "#7201a8"
             ],
             [
              0.3333333333333333,
              "#9c179e"
             ],
             [
              0.4444444444444444,
              "#bd3786"
             ],
             [
              0.5555555555555556,
              "#d8576b"
             ],
             [
              0.6666666666666666,
              "#ed7953"
             ],
             [
              0.7777777777777778,
              "#fb9f3a"
             ],
             [
              0.8888888888888888,
              "#fdca26"
             ],
             [
              1,
              "#f0f921"
             ]
            ],
            "type": "heatmapgl"
           }
          ],
          "histogram": [
           {
            "marker": {
             "colorbar": {
              "outlinewidth": 0,
              "ticks": ""
             }
            },
            "type": "histogram"
           }
          ],
          "histogram2d": [
           {
            "colorbar": {
             "outlinewidth": 0,
             "ticks": ""
            },
            "colorscale": [
             [
              0,
              "#0d0887"
             ],
             [
              0.1111111111111111,
              "#46039f"
             ],
             [
              0.2222222222222222,
              "#7201a8"
             ],
             [
              0.3333333333333333,
              "#9c179e"
             ],
             [
              0.4444444444444444,
              "#bd3786"
             ],
             [
              0.5555555555555556,
              "#d8576b"
             ],
             [
              0.6666666666666666,
              "#ed7953"
             ],
             [
              0.7777777777777778,
              "#fb9f3a"
             ],
             [
              0.8888888888888888,
              "#fdca26"
             ],
             [
              1,
              "#f0f921"
             ]
            ],
            "type": "histogram2d"
           }
          ],
          "histogram2dcontour": [
           {
            "colorbar": {
             "outlinewidth": 0,
             "ticks": ""
            },
            "colorscale": [
             [
              0,
              "#0d0887"
             ],
             [
              0.1111111111111111,
              "#46039f"
             ],
             [
              0.2222222222222222,
              "#7201a8"
             ],
             [
              0.3333333333333333,
              "#9c179e"
             ],
             [
              0.4444444444444444,
              "#bd3786"
             ],
             [
              0.5555555555555556,
              "#d8576b"
             ],
             [
              0.6666666666666666,
              "#ed7953"
             ],
             [
              0.7777777777777778,
              "#fb9f3a"
             ],
             [
              0.8888888888888888,
              "#fdca26"
             ],
             [
              1,
              "#f0f921"
             ]
            ],
            "type": "histogram2dcontour"
           }
          ],
          "mesh3d": [
           {
            "colorbar": {
             "outlinewidth": 0,
             "ticks": ""
            },
            "type": "mesh3d"
           }
          ],
          "parcoords": [
           {
            "line": {
             "colorbar": {
              "outlinewidth": 0,
              "ticks": ""
             }
            },
            "type": "parcoords"
           }
          ],
          "pie": [
           {
            "automargin": true,
            "type": "pie"
           }
          ],
          "scatter": [
           {
            "marker": {
             "colorbar": {
              "outlinewidth": 0,
              "ticks": ""
             }
            },
            "type": "scatter"
           }
          ],
          "scatter3d": [
           {
            "line": {
             "colorbar": {
              "outlinewidth": 0,
              "ticks": ""
             }
            },
            "marker": {
             "colorbar": {
              "outlinewidth": 0,
              "ticks": ""
             }
            },
            "type": "scatter3d"
           }
          ],
          "scattercarpet": [
           {
            "marker": {
             "colorbar": {
              "outlinewidth": 0,
              "ticks": ""
             }
            },
            "type": "scattercarpet"
           }
          ],
          "scattergeo": [
           {
            "marker": {
             "colorbar": {
              "outlinewidth": 0,
              "ticks": ""
             }
            },
            "type": "scattergeo"
           }
          ],
          "scattergl": [
           {
            "marker": {
             "colorbar": {
              "outlinewidth": 0,
              "ticks": ""
             }
            },
            "type": "scattergl"
           }
          ],
          "scattermapbox": [
           {
            "marker": {
             "colorbar": {
              "outlinewidth": 0,
              "ticks": ""
             }
            },
            "type": "scattermapbox"
           }
          ],
          "scatterpolar": [
           {
            "marker": {
             "colorbar": {
              "outlinewidth": 0,
              "ticks": ""
             }
            },
            "type": "scatterpolar"
           }
          ],
          "scatterpolargl": [
           {
            "marker": {
             "colorbar": {
              "outlinewidth": 0,
              "ticks": ""
             }
            },
            "type": "scatterpolargl"
           }
          ],
          "scatterternary": [
           {
            "marker": {
             "colorbar": {
              "outlinewidth": 0,
              "ticks": ""
             }
            },
            "type": "scatterternary"
           }
          ],
          "surface": [
           {
            "colorbar": {
             "outlinewidth": 0,
             "ticks": ""
            },
            "colorscale": [
             [
              0,
              "#0d0887"
             ],
             [
              0.1111111111111111,
              "#46039f"
             ],
             [
              0.2222222222222222,
              "#7201a8"
             ],
             [
              0.3333333333333333,
              "#9c179e"
             ],
             [
              0.4444444444444444,
              "#bd3786"
             ],
             [
              0.5555555555555556,
              "#d8576b"
             ],
             [
              0.6666666666666666,
              "#ed7953"
             ],
             [
              0.7777777777777778,
              "#fb9f3a"
             ],
             [
              0.8888888888888888,
              "#fdca26"
             ],
             [
              1,
              "#f0f921"
             ]
            ],
            "type": "surface"
           }
          ],
          "table": [
           {
            "cells": {
             "fill": {
              "color": "#EBF0F8"
             },
             "line": {
              "color": "white"
             }
            },
            "header": {
             "fill": {
              "color": "#C8D4E3"
             },
             "line": {
              "color": "white"
             }
            },
            "type": "table"
           }
          ]
         },
         "layout": {
          "annotationdefaults": {
           "arrowcolor": "#2a3f5f",
           "arrowhead": 0,
           "arrowwidth": 1
          },
          "coloraxis": {
           "colorbar": {
            "outlinewidth": 0,
            "ticks": ""
           }
          },
          "colorscale": {
           "diverging": [
            [
             0,
             "#8e0152"
            ],
            [
             0.1,
             "#c51b7d"
            ],
            [
             0.2,
             "#de77ae"
            ],
            [
             0.3,
             "#f1b6da"
            ],
            [
             0.4,
             "#fde0ef"
            ],
            [
             0.5,
             "#f7f7f7"
            ],
            [
             0.6,
             "#e6f5d0"
            ],
            [
             0.7,
             "#b8e186"
            ],
            [
             0.8,
             "#7fbc41"
            ],
            [
             0.9,
             "#4d9221"
            ],
            [
             1,
             "#276419"
            ]
           ],
           "sequential": [
            [
             0,
             "#0d0887"
            ],
            [
             0.1111111111111111,
             "#46039f"
            ],
            [
             0.2222222222222222,
             "#7201a8"
            ],
            [
             0.3333333333333333,
             "#9c179e"
            ],
            [
             0.4444444444444444,
             "#bd3786"
            ],
            [
             0.5555555555555556,
             "#d8576b"
            ],
            [
             0.6666666666666666,
             "#ed7953"
            ],
            [
             0.7777777777777778,
             "#fb9f3a"
            ],
            [
             0.8888888888888888,
             "#fdca26"
            ],
            [
             1,
             "#f0f921"
            ]
           ],
           "sequentialminus": [
            [
             0,
             "#0d0887"
            ],
            [
             0.1111111111111111,
             "#46039f"
            ],
            [
             0.2222222222222222,
             "#7201a8"
            ],
            [
             0.3333333333333333,
             "#9c179e"
            ],
            [
             0.4444444444444444,
             "#bd3786"
            ],
            [
             0.5555555555555556,
             "#d8576b"
            ],
            [
             0.6666666666666666,
             "#ed7953"
            ],
            [
             0.7777777777777778,
             "#fb9f3a"
            ],
            [
             0.8888888888888888,
             "#fdca26"
            ],
            [
             1,
             "#f0f921"
            ]
           ]
          },
          "colorway": [
           "#636efa",
           "#EF553B",
           "#00cc96",
           "#ab63fa",
           "#FFA15A",
           "#19d3f3",
           "#FF6692",
           "#B6E880",
           "#FF97FF",
           "#FECB52"
          ],
          "font": {
           "color": "#2a3f5f"
          },
          "geo": {
           "bgcolor": "white",
           "lakecolor": "white",
           "landcolor": "#E5ECF6",
           "showlakes": true,
           "showland": true,
           "subunitcolor": "white"
          },
          "hoverlabel": {
           "align": "left"
          },
          "hovermode": "closest",
          "mapbox": {
           "style": "light"
          },
          "paper_bgcolor": "white",
          "plot_bgcolor": "#E5ECF6",
          "polar": {
           "angularaxis": {
            "gridcolor": "white",
            "linecolor": "white",
            "ticks": ""
           },
           "bgcolor": "#E5ECF6",
           "radialaxis": {
            "gridcolor": "white",
            "linecolor": "white",
            "ticks": ""
           }
          },
          "scene": {
           "xaxis": {
            "backgroundcolor": "#E5ECF6",
            "gridcolor": "white",
            "gridwidth": 2,
            "linecolor": "white",
            "showbackground": true,
            "ticks": "",
            "zerolinecolor": "white"
           },
           "yaxis": {
            "backgroundcolor": "#E5ECF6",
            "gridcolor": "white",
            "gridwidth": 2,
            "linecolor": "white",
            "showbackground": true,
            "ticks": "",
            "zerolinecolor": "white"
           },
           "zaxis": {
            "backgroundcolor": "#E5ECF6",
            "gridcolor": "white",
            "gridwidth": 2,
            "linecolor": "white",
            "showbackground": true,
            "ticks": "",
            "zerolinecolor": "white"
           }
          },
          "shapedefaults": {
           "line": {
            "color": "#2a3f5f"
           }
          },
          "ternary": {
           "aaxis": {
            "gridcolor": "white",
            "linecolor": "white",
            "ticks": ""
           },
           "baxis": {
            "gridcolor": "white",
            "linecolor": "white",
            "ticks": ""
           },
           "bgcolor": "#E5ECF6",
           "caxis": {
            "gridcolor": "white",
            "linecolor": "white",
            "ticks": ""
           }
          },
          "title": {
           "x": 0.05
          },
          "xaxis": {
           "automargin": true,
           "gridcolor": "white",
           "linecolor": "white",
           "ticks": "",
           "title": {
            "standoff": 15
           },
           "zerolinecolor": "white",
           "zerolinewidth": 2
          },
          "yaxis": {
           "automargin": true,
           "gridcolor": "white",
           "linecolor": "white",
           "ticks": "",
           "title": {
            "standoff": 15
           },
           "zerolinecolor": "white",
           "zerolinewidth": 2
          }
         }
        },
        "title": {
         "text": "Vendas na América do Norte, Japão, Outras Vendas, Vendas Globais dos mais tops em 2014"
        },
        "xaxis": {
         "title": {
          "text": "Os maiores games em 2014"
         }
        }
       }
      },
      "text/html": [
       "<div>\n",
       "        \n",
       "        \n",
       "            <div id=\"715c6e2e-f706-4378-bba5-ef2a6712f616\" class=\"plotly-graph-div\" style=\"height:525px; width:100%;\"></div>\n",
       "            <script type=\"text/javascript\">\n",
       "                require([\"plotly\"], function(Plotly) {\n",
       "                    window.PLOTLYENV=window.PLOTLYENV || {};\n",
       "                    \n",
       "                if (document.getElementById(\"715c6e2e-f706-4378-bba5-ef2a6712f616\")) {\n",
       "                    Plotly.newPlot(\n",
       "                        '715c6e2e-f706-4378-bba5-ef2a6712f616',\n",
       "                        [{\"marker\": {\"color\": \"rgb(75, 56, 50)\"}, \"name\": \"Vendas na Am\\u00e9rica do Norte\", \"type\": \"bar\", \"x\": [\"Grand Theft Auto V\", \"Pokemon Omega Ruby/Pokemon Alpha Sapphire\", \"Call of Duty: Advanced Warfare\", \"Super Smash Bros. for Wii U and 3DS\", \"Mario Kart 8\"], \"y\": [3.8, 4.23, 2.8, 3.24, 3.13]}, {\"marker\": {\"color\": \"rgb(133,68,66)\"}, \"name\": \"Vendas na Europa\", \"type\": \"bar\", \"x\": [\"Grand Theft Auto V\", \"Pokemon Omega Ruby/Pokemon Alpha Sapphire\", \"Call of Duty: Advanced Warfare\", \"Super Smash Bros. for Wii U and 3DS\", \"Mario Kart 8\"], \"y\": [5.81, 3.37, 3.3, 1.35, 2.07]}, {\"marker\": {\"color\": \"rgb(255,244,230)\"}, \"name\": \"Vendas no Jap\\u00e3o\", \"type\": \"bar\", \"x\": [\"Grand Theft Auto V\", \"Pokemon Omega Ruby/Pokemon Alpha Sapphire\", \"Call of Duty: Advanced Warfare\", \"Super Smash Bros. for Wii U and 3DS\", \"Mario Kart 8\"], \"y\": [0.36, 3.08, 0.14, 2.42, 1.27]}, {\"marker\": {\"color\": \"rgb(60,47,47)\"}, \"name\": \"Vendas Globais\", \"type\": \"bar\", \"x\": [\"Grand Theft Auto V\", \"Pokemon Omega Ruby/Pokemon Alpha Sapphire\", \"Call of Duty: Advanced Warfare\", \"Super Smash Bros. for Wii U and 3DS\", \"Mario Kart 8\"], \"y\": [11.98, 11.33, 7.6, 7.45, 6.96]}, {\"marker\": {\"color\": \"rgb(236,185,57)\"}, \"name\": \"Outras Vendas\", \"type\": \"bar\", \"x\": [\"Grand Theft Auto V\", \"Pokemon Omega Ruby/Pokemon Alpha Sapphire\", \"Call of Duty: Advanced Warfare\", \"Super Smash Bros. for Wii U and 3DS\", \"Mario Kart 8\"], \"y\": [2.02, 0.65, 1.37, 0.43, 0.49]}],\n",
       "                        {\"barmode\": \"relative\", \"template\": {\"data\": {\"bar\": [{\"error_x\": {\"color\": \"#2a3f5f\"}, \"error_y\": {\"color\": \"#2a3f5f\"}, \"marker\": {\"line\": {\"color\": \"#E5ECF6\", \"width\": 0.5}}, \"type\": \"bar\"}], \"barpolar\": [{\"marker\": {\"line\": {\"color\": \"#E5ECF6\", \"width\": 0.5}}, \"type\": \"barpolar\"}], \"carpet\": [{\"aaxis\": {\"endlinecolor\": \"#2a3f5f\", \"gridcolor\": \"white\", \"linecolor\": \"white\", \"minorgridcolor\": \"white\", \"startlinecolor\": \"#2a3f5f\"}, \"baxis\": {\"endlinecolor\": \"#2a3f5f\", \"gridcolor\": \"white\", \"linecolor\": \"white\", \"minorgridcolor\": \"white\", \"startlinecolor\": \"#2a3f5f\"}, \"type\": \"carpet\"}], \"choropleth\": [{\"colorbar\": {\"outlinewidth\": 0, \"ticks\": \"\"}, \"type\": \"choropleth\"}], \"contour\": [{\"colorbar\": {\"outlinewidth\": 0, \"ticks\": \"\"}, \"colorscale\": [[0.0, \"#0d0887\"], [0.1111111111111111, \"#46039f\"], [0.2222222222222222, \"#7201a8\"], [0.3333333333333333, \"#9c179e\"], [0.4444444444444444, \"#bd3786\"], [0.5555555555555556, \"#d8576b\"], [0.6666666666666666, \"#ed7953\"], [0.7777777777777778, \"#fb9f3a\"], [0.8888888888888888, \"#fdca26\"], [1.0, \"#f0f921\"]], \"type\": \"contour\"}], \"contourcarpet\": [{\"colorbar\": {\"outlinewidth\": 0, \"ticks\": \"\"}, \"type\": \"contourcarpet\"}], \"heatmap\": [{\"colorbar\": {\"outlinewidth\": 0, \"ticks\": \"\"}, \"colorscale\": [[0.0, \"#0d0887\"], [0.1111111111111111, \"#46039f\"], [0.2222222222222222, \"#7201a8\"], [0.3333333333333333, \"#9c179e\"], [0.4444444444444444, \"#bd3786\"], [0.5555555555555556, \"#d8576b\"], [0.6666666666666666, \"#ed7953\"], [0.7777777777777778, \"#fb9f3a\"], [0.8888888888888888, \"#fdca26\"], [1.0, \"#f0f921\"]], \"type\": \"heatmap\"}], \"heatmapgl\": [{\"colorbar\": {\"outlinewidth\": 0, \"ticks\": \"\"}, \"colorscale\": [[0.0, \"#0d0887\"], [0.1111111111111111, \"#46039f\"], [0.2222222222222222, \"#7201a8\"], [0.3333333333333333, \"#9c179e\"], [0.4444444444444444, \"#bd3786\"], [0.5555555555555556, \"#d8576b\"], [0.6666666666666666, \"#ed7953\"], [0.7777777777777778, \"#fb9f3a\"], [0.8888888888888888, \"#fdca26\"], [1.0, \"#f0f921\"]], \"type\": \"heatmapgl\"}], \"histogram\": [{\"marker\": {\"colorbar\": {\"outlinewidth\": 0, \"ticks\": \"\"}}, \"type\": \"histogram\"}], \"histogram2d\": [{\"colorbar\": {\"outlinewidth\": 0, \"ticks\": \"\"}, \"colorscale\": [[0.0, \"#0d0887\"], [0.1111111111111111, \"#46039f\"], [0.2222222222222222, \"#7201a8\"], [0.3333333333333333, \"#9c179e\"], [0.4444444444444444, \"#bd3786\"], [0.5555555555555556, \"#d8576b\"], [0.6666666666666666, \"#ed7953\"], [0.7777777777777778, \"#fb9f3a\"], [0.8888888888888888, \"#fdca26\"], [1.0, \"#f0f921\"]], \"type\": \"histogram2d\"}], \"histogram2dcontour\": [{\"colorbar\": {\"outlinewidth\": 0, \"ticks\": \"\"}, \"colorscale\": [[0.0, \"#0d0887\"], [0.1111111111111111, \"#46039f\"], [0.2222222222222222, \"#7201a8\"], [0.3333333333333333, \"#9c179e\"], [0.4444444444444444, \"#bd3786\"], [0.5555555555555556, \"#d8576b\"], [0.6666666666666666, \"#ed7953\"], [0.7777777777777778, \"#fb9f3a\"], [0.8888888888888888, \"#fdca26\"], [1.0, \"#f0f921\"]], \"type\": \"histogram2dcontour\"}], \"mesh3d\": [{\"colorbar\": {\"outlinewidth\": 0, \"ticks\": \"\"}, \"type\": \"mesh3d\"}], \"parcoords\": [{\"line\": {\"colorbar\": {\"outlinewidth\": 0, \"ticks\": \"\"}}, \"type\": \"parcoords\"}], \"pie\": [{\"automargin\": true, \"type\": \"pie\"}], \"scatter\": [{\"marker\": {\"colorbar\": {\"outlinewidth\": 0, \"ticks\": \"\"}}, \"type\": \"scatter\"}], \"scatter3d\": [{\"line\": {\"colorbar\": {\"outlinewidth\": 0, \"ticks\": \"\"}}, \"marker\": {\"colorbar\": {\"outlinewidth\": 0, \"ticks\": \"\"}}, \"type\": \"scatter3d\"}], \"scattercarpet\": [{\"marker\": {\"colorbar\": {\"outlinewidth\": 0, \"ticks\": \"\"}}, \"type\": \"scattercarpet\"}], \"scattergeo\": [{\"marker\": {\"colorbar\": {\"outlinewidth\": 0, \"ticks\": \"\"}}, \"type\": \"scattergeo\"}], \"scattergl\": [{\"marker\": {\"colorbar\": {\"outlinewidth\": 0, \"ticks\": \"\"}}, \"type\": \"scattergl\"}], \"scattermapbox\": [{\"marker\": {\"colorbar\": {\"outlinewidth\": 0, \"ticks\": \"\"}}, \"type\": \"scattermapbox\"}], \"scatterpolar\": [{\"marker\": {\"colorbar\": {\"outlinewidth\": 0, \"ticks\": \"\"}}, \"type\": \"scatterpolar\"}], \"scatterpolargl\": [{\"marker\": {\"colorbar\": {\"outlinewidth\": 0, \"ticks\": \"\"}}, \"type\": \"scatterpolargl\"}], \"scatterternary\": [{\"marker\": {\"colorbar\": {\"outlinewidth\": 0, \"ticks\": \"\"}}, \"type\": \"scatterternary\"}], \"surface\": [{\"colorbar\": {\"outlinewidth\": 0, \"ticks\": \"\"}, \"colorscale\": [[0.0, \"#0d0887\"], [0.1111111111111111, \"#46039f\"], [0.2222222222222222, \"#7201a8\"], [0.3333333333333333, \"#9c179e\"], [0.4444444444444444, \"#bd3786\"], [0.5555555555555556, \"#d8576b\"], [0.6666666666666666, \"#ed7953\"], [0.7777777777777778, \"#fb9f3a\"], [0.8888888888888888, \"#fdca26\"], [1.0, \"#f0f921\"]], \"type\": \"surface\"}], \"table\": [{\"cells\": {\"fill\": {\"color\": \"#EBF0F8\"}, \"line\": {\"color\": \"white\"}}, \"header\": {\"fill\": {\"color\": \"#C8D4E3\"}, \"line\": {\"color\": \"white\"}}, \"type\": \"table\"}]}, \"layout\": {\"annotationdefaults\": {\"arrowcolor\": \"#2a3f5f\", \"arrowhead\": 0, \"arrowwidth\": 1}, \"coloraxis\": {\"colorbar\": {\"outlinewidth\": 0, \"ticks\": \"\"}}, \"colorscale\": {\"diverging\": [[0, \"#8e0152\"], [0.1, \"#c51b7d\"], [0.2, \"#de77ae\"], [0.3, \"#f1b6da\"], [0.4, \"#fde0ef\"], [0.5, \"#f7f7f7\"], [0.6, \"#e6f5d0\"], [0.7, \"#b8e186\"], [0.8, \"#7fbc41\"], [0.9, \"#4d9221\"], [1, \"#276419\"]], \"sequential\": [[0.0, \"#0d0887\"], [0.1111111111111111, \"#46039f\"], [0.2222222222222222, \"#7201a8\"], [0.3333333333333333, \"#9c179e\"], [0.4444444444444444, \"#bd3786\"], [0.5555555555555556, \"#d8576b\"], [0.6666666666666666, \"#ed7953\"], [0.7777777777777778, \"#fb9f3a\"], [0.8888888888888888, \"#fdca26\"], [1.0, \"#f0f921\"]], \"sequentialminus\": [[0.0, \"#0d0887\"], [0.1111111111111111, \"#46039f\"], [0.2222222222222222, \"#7201a8\"], [0.3333333333333333, \"#9c179e\"], [0.4444444444444444, \"#bd3786\"], [0.5555555555555556, \"#d8576b\"], [0.6666666666666666, \"#ed7953\"], [0.7777777777777778, \"#fb9f3a\"], [0.8888888888888888, \"#fdca26\"], [1.0, \"#f0f921\"]]}, \"colorway\": [\"#636efa\", \"#EF553B\", \"#00cc96\", \"#ab63fa\", \"#FFA15A\", \"#19d3f3\", \"#FF6692\", \"#B6E880\", \"#FF97FF\", \"#FECB52\"], \"font\": {\"color\": \"#2a3f5f\"}, \"geo\": {\"bgcolor\": \"white\", \"lakecolor\": \"white\", \"landcolor\": \"#E5ECF6\", \"showlakes\": true, \"showland\": true, \"subunitcolor\": \"white\"}, \"hoverlabel\": {\"align\": \"left\"}, \"hovermode\": \"closest\", \"mapbox\": {\"style\": \"light\"}, \"paper_bgcolor\": \"white\", \"plot_bgcolor\": \"#E5ECF6\", \"polar\": {\"angularaxis\": {\"gridcolor\": \"white\", \"linecolor\": \"white\", \"ticks\": \"\"}, \"bgcolor\": \"#E5ECF6\", \"radialaxis\": {\"gridcolor\": \"white\", \"linecolor\": \"white\", \"ticks\": \"\"}}, \"scene\": {\"xaxis\": {\"backgroundcolor\": \"#E5ECF6\", \"gridcolor\": \"white\", \"gridwidth\": 2, \"linecolor\": \"white\", \"showbackground\": true, \"ticks\": \"\", \"zerolinecolor\": \"white\"}, \"yaxis\": {\"backgroundcolor\": \"#E5ECF6\", \"gridcolor\": \"white\", \"gridwidth\": 2, \"linecolor\": \"white\", \"showbackground\": true, \"ticks\": \"\", \"zerolinecolor\": \"white\"}, \"zaxis\": {\"backgroundcolor\": \"#E5ECF6\", \"gridcolor\": \"white\", \"gridwidth\": 2, \"linecolor\": \"white\", \"showbackground\": true, \"ticks\": \"\", \"zerolinecolor\": \"white\"}}, \"shapedefaults\": {\"line\": {\"color\": \"#2a3f5f\"}}, \"ternary\": {\"aaxis\": {\"gridcolor\": \"white\", \"linecolor\": \"white\", \"ticks\": \"\"}, \"baxis\": {\"gridcolor\": \"white\", \"linecolor\": \"white\", \"ticks\": \"\"}, \"bgcolor\": \"#E5ECF6\", \"caxis\": {\"gridcolor\": \"white\", \"linecolor\": \"white\", \"ticks\": \"\"}}, \"title\": {\"x\": 0.05}, \"xaxis\": {\"automargin\": true, \"gridcolor\": \"white\", \"linecolor\": \"white\", \"ticks\": \"\", \"title\": {\"standoff\": 15}, \"zerolinecolor\": \"white\", \"zerolinewidth\": 2}, \"yaxis\": {\"automargin\": true, \"gridcolor\": \"white\", \"linecolor\": \"white\", \"ticks\": \"\", \"title\": {\"standoff\": 15}, \"zerolinecolor\": \"white\", \"zerolinewidth\": 2}}}, \"title\": {\"text\": \"Vendas na Am\\u00e9rica do Norte, Jap\\u00e3o, Outras Vendas, Vendas Globais dos mais tops em 2014\"}, \"xaxis\": {\"title\": {\"text\": \"Os maiores games em 2014\"}}},\n",
       "                        {\"responsive\": true}\n",
       "                    ).then(function(){\n",
       "                            \n",
       "var gd = document.getElementById('715c6e2e-f706-4378-bba5-ef2a6712f616');\n",
       "var x = new MutationObserver(function (mutations, observer) {{\n",
       "        var display = window.getComputedStyle(gd).display;\n",
       "        if (!display || display === 'none') {{\n",
       "            console.log([gd, 'removed!']);\n",
       "            Plotly.purge(gd);\n",
       "            observer.disconnect();\n",
       "        }}\n",
       "}});\n",
       "\n",
       "// Listen for the removal of the full notebook cells\n",
       "var notebookContainer = gd.closest('#notebook-container');\n",
       "if (notebookContainer) {{\n",
       "    x.observe(notebookContainer, {childList: true});\n",
       "}}\n",
       "\n",
       "// Listen for the clearing of the current output cell\n",
       "var outputEl = gd.closest('.output');\n",
       "if (outputEl) {{\n",
       "    x.observe(outputEl, {childList: true});\n",
       "}}\n",
       "\n",
       "                        })\n",
       "                };\n",
       "                });\n",
       "            </script>\n",
       "        </div>"
      ]
     },
     "metadata": {},
     "output_type": "display_data"
    }
   ],
   "source": [
    "ano_2014 = vg_df[vg_df.Year == 2014].iloc[:5,:]\n",
    "x = ano_2014.Name\n",
    "\n",
    "linha1 = {\n",
    "  'x': x,\n",
    "  'y': ano_2014.NA_Sales,\n",
    "  'name': 'Vendas na América do Norte',\n",
    "  'marker' : dict(color = 'rgb(75, 56, 50)'),\n",
    "  'type': 'bar'\n",
    "};\n",
    "linha2 = {\n",
    "  'x': x,\n",
    "  'y': ano_2014.EU_Sales,\n",
    "  'name': 'Vendas na Europa',\n",
    "  'marker' : dict(color = 'rgb(133,68,66)'),\n",
    "  'type': 'bar'\n",
    "};\n",
    "linha3 = {\n",
    "  'x': x,\n",
    "  'y': ano_2014.JP_Sales,\n",
    "  'name': 'Vendas no Japão',\n",
    "  'marker' : dict(color = 'rgb(255,244,230)'),\n",
    "  'type': 'bar'\n",
    "};\n",
    "linha5 = {\n",
    "  'x': x,\n",
    "  'y': ano_2014.Global_Sales,\n",
    "  'name': 'Vendas Globais',\n",
    "  'marker' : dict(color = 'rgb(60,47,47)'),\n",
    "  'type': 'bar'\n",
    "};\n",
    "linha4 = {\n",
    "  'x': x,\n",
    "  'y': ano_2014.Other_Sales,\n",
    "  'name': 'Outras Vendas',\n",
    "  'marker' : dict(color = 'rgb(236,185,57)'),\n",
    "  'type': 'bar'\n",
    "};\n",
    "\n",
    "data = [linha1, linha2, linha3, linha5, linha4];\n",
    "layout = {\n",
    "  'xaxis': {'title': 'Os maiores games em 2014'},\n",
    "  'barmode': 'relative',\n",
    "  'title': 'Vendas na América do Norte, Japão, Outras Vendas, Vendas Globais dos mais tops em 2014'\n",
    "};\n",
    "fig = go.Figure(data = data, layout = layout)\n",
    "py.iplot(fig)"
   ]
  },
  {
   "cell_type": "markdown",
   "metadata": {},
   "source": [
    "### Como os consoles de jogos se posicionavam em 2014 e 2015."
   ]
  },
  {
   "cell_type": "markdown",
   "metadata": {},
   "source": [
    "- Destaque para as plataformas PS4 e PSV e queda dos consoles WiiU e PS3"
   ]
  },
  {
   "cell_type": "code",
   "execution_count": 16,
   "metadata": {},
   "outputs": [
    {
     "data": {
      "application/vnd.plotly.v1+json": {
       "config": {
        "linkText": "Export to plot.ly",
        "plotlyServerURL": "https://plot.ly",
        "showLink": false
       },
       "data": [
        {
         "marker": {
          "color": "rgb(0,0,0)"
         },
         "name": "2014",
         "opacity": 0.6,
         "type": "histogram",
         "x": [
          "PS4",
          "3DS",
          "PS4",
          "3DS",
          "WiiU",
          "PS4",
          "PS4",
          "PS3",
          "XOne",
          "XOne",
          "WiiU",
          "PS3",
          "PS4",
          "PS3",
          "X360",
          "PS4",
          "PS4",
          "PS4",
          "PS4",
          "3DS",
          "XOne",
          "XOne",
          "3DS",
          "XOne",
          "X360",
          "PS4",
          "PC",
          "XOne",
          "PS4",
          "3DS",
          "XOne",
          "PS4",
          "Wii",
          "PSV",
          "XOne",
          "PS4",
          "X360",
          "PS4",
          "PS4",
          "X360",
          "PS3",
          "PS4",
          "3DS",
          "PS4",
          "PS4",
          "PS3",
          "PS4",
          "XOne",
          "X360",
          "XOne",
          "PS4",
          "XOne",
          "WiiU",
          "XOne",
          "PS3",
          "PS4",
          "PS3",
          "X360",
          "PS3",
          "XOne",
          "PS3",
          "3DS",
          "XOne",
          "PS3",
          "PS3",
          "X360",
          "X360",
          "PS4",
          "WiiU",
          "PC",
          "WiiU",
          "X360",
          "PS4",
          "PS4",
          "X360",
          "XOne",
          "X360",
          "Wii",
          "PS4",
          "PS3",
          "WiiU",
          "PS3",
          "PS4",
          "PS3",
          "X360",
          "X360",
          "X360",
          "X360",
          "PS4",
          "PS3",
          "XOne",
          "PC",
          "X360",
          "PS3",
          "PS4",
          "PSV",
          "PSV",
          "PS3",
          "3DS",
          "PSV",
          "PS3",
          "PS4",
          "Wii",
          "X360",
          "WiiU",
          "X360",
          "PS3",
          "PC",
          "PS4",
          "3DS",
          "PS3",
          "WiiU",
          "X360",
          "3DS",
          "PS3",
          "XOne",
          "PS4",
          "PS4",
          "XOne",
          "PS4",
          "PS3",
          "WiiU",
          "WiiU",
          "XOne",
          "PS4",
          "PS3",
          "XOne",
          "PS3",
          "X360",
          "XOne",
          "PC",
          "PS3",
          "PS3",
          "PS4",
          "PS4",
          "PS4",
          "XOne",
          "PS4",
          "PS4",
          "XOne",
          "PC",
          "XOne",
          "X360",
          "PC",
          "PS4",
          "PS3",
          "X360",
          "XOne",
          "3DS",
          "XOne",
          "PS4",
          "PS3",
          "X360",
          "XOne",
          "X360",
          "PSV",
          "3DS",
          "PS3",
          "3DS",
          "PC",
          "PC",
          "X360",
          "PS3",
          "X360",
          "WiiU",
          "X360",
          "PC",
          "XOne",
          "XOne",
          "3DS",
          "PS4",
          "PC",
          "3DS",
          "PS4",
          "PS4",
          "XOne",
          "PS4",
          "XOne",
          "X360",
          "PSV",
          "PC",
          "3DS",
          "PSV",
          "PS3",
          "XOne",
          "XOne",
          "WiiU",
          "PS3",
          "PS3",
          "PS4",
          "PS3",
          "PS3",
          "3DS",
          "PC",
          "PC",
          "3DS",
          "XOne",
          "XOne",
          "WiiU",
          "PS3",
          "XOne",
          "PSV",
          "PS3",
          "PS4",
          "X360",
          "PS3",
          "3DS",
          "XOne",
          "3DS",
          "PS3",
          "X360",
          "WiiU",
          "PS4",
          "PSV",
          "PC",
          "PSV",
          "X360",
          "PSV",
          "PS3",
          "3DS",
          "PC",
          "XOne",
          "PS3",
          "PSV",
          "Wii",
          "PC",
          "PS3",
          "PS4",
          "XOne",
          "3DS",
          "PS3",
          "X360",
          "PSV",
          "PSV",
          "3DS",
          "PS3",
          "X360",
          "PS3",
          "X360",
          "PS3",
          "3DS",
          "XOne",
          "PSV",
          "3DS",
          "PS4",
          "PS4",
          "PS4",
          "WiiU",
          "X360",
          "PS4",
          "PS3",
          "PS3",
          "PS3",
          "X360",
          "XOne",
          "XOne",
          "PS3",
          "PS4",
          "3DS",
          "PSV",
          "PSV",
          "PS4",
          "XOne",
          "PS3",
          "X360",
          "PC",
          "XOne",
          "PS4",
          "PSV",
          "PSV",
          "PS4",
          "XOne",
          "PSV",
          "PS4",
          "PS4",
          "XOne",
          "PSV",
          "PS3",
          "PSV",
          "PC",
          "PS4",
          "PSV",
          "PSV",
          "XOne",
          "PSV",
          "X360",
          "3DS",
          "3DS",
          "PC",
          "PS3",
          "PS3",
          "X360",
          "X360",
          "XOne",
          "PC",
          "PS3",
          "PS4",
          "XOne",
          "3DS",
          "X360",
          "PS3",
          "PSV",
          "XOne",
          "PSV",
          "PSV",
          "PS4",
          "PSV",
          "PS4",
          "PSV",
          "PC",
          "PSV",
          "3DS",
          "PSV",
          "PS3",
          "WiiU",
          "PS3",
          "XOne",
          "PS3",
          "PS3",
          "PSV",
          "PS3",
          "XOne",
          "3DS",
          "PS3",
          "PS3",
          "PS3",
          "3DS",
          "PSV",
          "PS3",
          "3DS",
          "PSV",
          "PS3",
          "PS3",
          "PS3",
          "PS3",
          "X360",
          "3DS",
          "PC",
          "PSV",
          "PS3",
          "PSV",
          "PSV",
          "PSV",
          "PSV",
          "WiiU",
          "3DS",
          "WiiU",
          "PS4",
          "X360",
          "PC",
          "PS3",
          "PSV",
          "X360",
          "XOne",
          "3DS",
          "PSV",
          "PSV",
          "PSV",
          "PS3",
          "PS3",
          "3DS",
          "X360",
          "PS3",
          "PS3",
          "X360",
          "PS3",
          "PS3",
          "PC",
          "PSV",
          "3DS",
          "PS4",
          "3DS",
          "PC",
          "WiiU",
          "3DS",
          "PSV",
          "WiiU",
          "X360",
          "PSP",
          "PSV",
          "X360",
          "X360",
          "PS3",
          "WiiU",
          "PSV",
          "PS4",
          "PS3",
          "X360",
          "X360",
          "3DS",
          "3DS",
          "X360",
          "X360",
          "PS3",
          "XOne",
          "X360",
          "PS3",
          "PS4",
          "3DS",
          "PSV",
          "3DS",
          "3DS",
          "X360",
          "XOne",
          "X360",
          "WiiU",
          "PSV",
          "3DS",
          "3DS",
          "PS3",
          "XOne",
          "3DS",
          "PS3",
          "PSV",
          "3DS",
          "3DS",
          "WiiU",
          "PSV",
          "WiiU",
          "3DS",
          "PC",
          "3DS",
          "3DS",
          "PC",
          "PSV",
          "PSV",
          "PC",
          "PSV",
          "X360",
          "3DS",
          "3DS",
          "3DS",
          "3DS",
          "PS4",
          "PS3",
          "3DS",
          "PSV",
          "X360",
          "Wii",
          "X360",
          "PSV",
          "3DS",
          "PSV",
          "3DS",
          "WiiU",
          "PC",
          "PSV",
          "PS3",
          "PS4",
          "PSV",
          "PS3",
          "PS3",
          "X360",
          "PC",
          "PS4",
          "PSV",
          "PC",
          "X360",
          "PSV",
          "PSV",
          "PSV",
          "3DS",
          "PSV",
          "PSP",
          "PSV",
          "PSV",
          "PS3",
          "3DS",
          "PSV",
          "PS4",
          "XOne",
          "3DS",
          "PS4",
          "PC",
          "PS3",
          "PSV",
          "XOne",
          "PS3",
          "PSV",
          "PSV",
          "WiiU",
          "PC",
          "3DS",
          "PS4",
          "PS3",
          "3DS",
          "PC",
          "3DS",
          "PC",
          "PS3",
          "PS3",
          "PSV",
          "PS3",
          "PC",
          "PSV",
          "WiiU",
          "3DS",
          "PS3",
          "3DS",
          "PSV",
          "XOne",
          "PS3",
          "X360",
          "PC",
          "PSV",
          "3DS",
          "WiiU",
          "PSV",
          "PSV",
          "PSP",
          "PS4",
          "PS3",
          "PSV",
          "Wii",
          "PC",
          "PSV",
          "PC",
          "PS3",
          "PS3",
          "PSV",
          "PS3",
          "PS3",
          "WiiU",
          "PSV",
          "PSP",
          "PS3",
          "3DS",
          "DS",
          "WiiU",
          "PSV",
          "PSV",
          "PC",
          "PSV",
          "PS3",
          "PS4",
          "PSV",
          "PC",
          "WiiU",
          "3DS",
          "PS3",
          "PSV",
          "3DS",
          "PSV",
          "3DS",
          "PC",
          "PSV",
          "PSV",
          "X360",
          "PSV",
          "PSP",
          "PSV",
          "PSV",
          "XOne",
          "PSP",
          "PSV",
          "PSV",
          "X360",
          "PSV",
          "PS3",
          "PSP",
          "PS3",
          "PSV",
          "PSV",
          "3DS",
          "PSV",
          "3DS",
          "PC",
          "PS3",
          "3DS",
          "PSV",
          "PSP",
          "PS3",
          "3DS",
          "PSV",
          "3DS",
          "PSP",
          "XOne",
          "PSP",
          "X360",
          "PSV",
          "PSV",
          "3DS"
         ]
        },
        {
         "marker": {
          "color": "rgb(255,196,37)"
         },
         "name": "2015",
         "opacity": 1,
         "type": "histogram",
         "x": [
          "PS4",
          "PS4",
          "PS4",
          "XOne",
          "PS4",
          "WiiU",
          "PS4",
          "XOne",
          "XOne",
          "PS4",
          "PS4",
          "PS4",
          "XOne",
          "PS4",
          "PS4",
          "3DS",
          "XOne",
          "PS4",
          "WiiU",
          "XOne",
          "3DS",
          "PS3",
          "PS4",
          "XOne",
          "PS4",
          "PS4",
          "3DS",
          "XOne",
          "3DS",
          "PS4",
          "PS4",
          "PS4",
          "PS4",
          "PS3",
          "X360",
          "XOne",
          "PS4",
          "PS4",
          "X360",
          "PS4",
          "PS4",
          "WiiU",
          "3DS",
          "XOne",
          "XOne",
          "XOne",
          "WiiU",
          "XOne",
          "XOne",
          "XOne",
          "XOne",
          "PC",
          "Wii",
          "XOne",
          "PS4",
          "3DS",
          "XOne",
          "PS4",
          "3DS",
          "PC",
          "PS4",
          "PS4",
          "X360",
          "PS4",
          "X360",
          "X360",
          "PS4",
          "PS3",
          "PS4",
          "X360",
          "PS4",
          "XOne",
          "3DS",
          "3DS",
          "WiiU",
          "PS4",
          "PS3",
          "PS4",
          "XOne",
          "PS3",
          "PS4",
          "XOne",
          "3DS",
          "PS4",
          "PS4",
          "3DS",
          "XOne",
          "PS3",
          "PS3",
          "3DS",
          "PS4",
          "XOne",
          "PC",
          "PS4",
          "PS4",
          "PS4",
          "PS4",
          "XOne",
          "XOne",
          "PS4",
          "3DS",
          "PS3",
          "PS4",
          "WiiU",
          "XOne",
          "PS3",
          "X360",
          "3DS",
          "PS3",
          "PS3",
          "XOne",
          "PS4",
          "PC",
          "WiiU",
          "WiiU",
          "PC",
          "WiiU",
          "PS4",
          "XOne",
          "X360",
          "PS3",
          "PS3",
          "WiiU",
          "3DS",
          "PS3",
          "XOne",
          "PS3",
          "XOne",
          "X360",
          "PSV",
          "3DS",
          "PSV",
          "PS3",
          "PS4",
          "WiiU",
          "X360",
          "WiiU",
          "XOne",
          "PS4",
          "WiiU",
          "PS3",
          "X360",
          "PSV",
          "XOne",
          "X360",
          "PS3",
          "PS3",
          "PS4",
          "PSV",
          "X360",
          "PS4",
          "XOne",
          "PS4",
          "PS4",
          "X360",
          "PS4",
          "PS4",
          "X360",
          "PS4",
          "3DS",
          "PS3",
          "XOne",
          "XOne",
          "3DS",
          "PC",
          "XOne",
          "PS4",
          "PS4",
          "PS4",
          "PS3",
          "PS3",
          "PS4",
          "PS4",
          "PS4",
          "X360",
          "PS4",
          "XOne",
          "Wii",
          "PS4",
          "PS4",
          "XOne",
          "3DS",
          "PS3",
          "PC",
          "PSV",
          "XOne",
          "3DS",
          "3DS",
          "X360",
          "3DS",
          "3DS",
          "PC",
          "PS4",
          "XOne",
          "XOne",
          "PC",
          "PSV",
          "XOne",
          "PC",
          "PS4",
          "PS3",
          "WiiU",
          "PS4",
          "3DS",
          "PSV",
          "PS4",
          "X360",
          "3DS",
          "XOne",
          "PC",
          "XOne",
          "PS4",
          "PS4",
          "PC",
          "3DS",
          "XOne",
          "3DS",
          "PSV",
          "PSV",
          "PC",
          "PC",
          "WiiU",
          "PC",
          "PS4",
          "PS4",
          "PS4",
          "PS4",
          "PSV",
          "PS4",
          "XOne",
          "X360",
          "PS4",
          "3DS",
          "PSV",
          "PS4",
          "3DS",
          "XOne",
          "3DS",
          "PS4",
          "PS3",
          "3DS",
          "PSV",
          "PS3",
          "XOne",
          "PSV",
          "3DS",
          "PC",
          "3DS",
          "PC",
          "3DS",
          "PS4",
          "PC",
          "3DS",
          "XOne",
          "XOne",
          "PS3",
          "PSV",
          "3DS",
          "PSV",
          "XOne",
          "PS4",
          "X360",
          "PC",
          "PS4",
          "3DS",
          "PS4",
          "PS3",
          "3DS",
          "WiiU",
          "PS4",
          "PSV",
          "XOne",
          "PS4",
          "XOne",
          "3DS",
          "PS4",
          "PS3",
          "3DS",
          "PC",
          "PS3",
          "3DS",
          "PS4",
          "3DS",
          "WiiU",
          "PS3",
          "PSV",
          "XOne",
          "PS4",
          "XOne",
          "PS4",
          "XOne",
          "PS4",
          "PS3",
          "PS4",
          "XOne",
          "PS4",
          "XOne",
          "PC",
          "X360",
          "PS4",
          "PS4",
          "PC",
          "X360",
          "3DS",
          "PS4",
          "PS3",
          "X360",
          "X360",
          "PS4",
          "PC",
          "XOne",
          "3DS",
          "PS4",
          "XOne",
          "3DS",
          "PS3",
          "PS4",
          "PC",
          "PSP",
          "PS4",
          "PSV",
          "WiiU",
          "PSV",
          "PC",
          "PS4",
          "PC",
          "PSV",
          "PS4",
          "PS4",
          "PSV",
          "3DS",
          "3DS",
          "3DS",
          "PSV",
          "X360",
          "PS3",
          "PSV",
          "PSV",
          "PS3",
          "PSV",
          "PSV",
          "PC",
          "XOne",
          "PS4",
          "PS4",
          "PS3",
          "3DS",
          "XOne",
          "X360",
          "PS4",
          "3DS",
          "PS4",
          "PS4",
          "PSV",
          "PS4",
          "3DS",
          "WiiU",
          "WiiU",
          "Wii",
          "PS4",
          "XOne",
          "XOne",
          "PSV",
          "PSV",
          "3DS",
          "PS3",
          "PSV",
          "PS4",
          "PS4",
          "PS4",
          "PS4",
          "PS3",
          "PS4",
          "PS3",
          "PS4",
          "PS4",
          "WiiU",
          "X360",
          "PSV",
          "PSV",
          "PSV",
          "PSV",
          "WiiU",
          "3DS",
          "PSV",
          "X360",
          "3DS",
          "PSV",
          "PS4",
          "XOne",
          "PSV",
          "PSV",
          "PS4",
          "PS4",
          "PSV",
          "PC",
          "PSV",
          "PSV",
          "PSV",
          "PS4",
          "XOne",
          "PS4",
          "XOne",
          "3DS",
          "PS4",
          "PS4",
          "XOne",
          "PC",
          "PS3",
          "PS3",
          "PC",
          "PS4",
          "X360",
          "PSV",
          "PS3",
          "PS3",
          "PSV",
          "PSV",
          "PSV",
          "3DS",
          "PC",
          "PS3",
          "3DS",
          "PS4",
          "PS3",
          "PS3",
          "PC",
          "PSV",
          "PS4",
          "XOne",
          "PSV",
          "3DS",
          "X360",
          "3DS",
          "PC",
          "PC",
          "3DS",
          "XOne",
          "PC",
          "3DS",
          "PSV",
          "3DS",
          "PSV",
          "PS3",
          "PS3",
          "PSV",
          "3DS",
          "3DS",
          "PSV",
          "PS4",
          "3DS",
          "PSV",
          "3DS",
          "PSV",
          "PSV",
          "X360",
          "PS4",
          "PS3",
          "PS3",
          "WiiU",
          "3DS",
          "Wii",
          "PS3",
          "PS3",
          "PSV",
          "PSV",
          "3DS",
          "PS3",
          "3DS",
          "PSV",
          "PSV",
          "XOne",
          "PSV",
          "PSV",
          "PSV",
          "PC",
          "PSV",
          "3DS",
          "3DS",
          "3DS",
          "X360",
          "PSV",
          "PSV",
          "PS3",
          "PSV",
          "XOne",
          "PSV",
          "PSV",
          "X360",
          "PS4",
          "3DS",
          "PC",
          "PSV",
          "PC",
          "PSV",
          "3DS",
          "PSV",
          "PS4",
          "PSV",
          "PSV",
          "PS3",
          "3DS",
          "PS4",
          "PSV",
          "X360",
          "PS4",
          "X360",
          "PS3",
          "PS3",
          "PS4",
          "PSV",
          "PSV",
          "3DS",
          "X360",
          "PS4",
          "PS3",
          "PSV",
          "XOne",
          "PS3",
          "PSV",
          "PS3",
          "PSV",
          "PS3",
          "PC",
          "3DS",
          "PSV",
          "PS3",
          "PSV",
          "3DS",
          "PS4",
          "PSV",
          "PSV",
          "PS3",
          "PSV",
          "PS4",
          "PSV",
          "3DS",
          "PSV",
          "PC",
          "PS3",
          "PS4",
          "PSV",
          "PSV",
          "PS3",
          "PSV",
          "3DS",
          "PC",
          "PC",
          "3DS",
          "XOne",
          "PC",
          "PS3",
          "PSV",
          "XOne",
          "PS3",
          "XOne",
          "PS3",
          "PSV",
          "PSV",
          "PSV",
          "PSV",
          "PSV",
          "X360",
          "X360",
          "PSV",
          "PC",
          "PSV",
          "PS4",
          "PSP",
          "PSV",
          "PS3",
          "PSV",
          "PSV",
          "PSP",
          "PS3",
          "XOne",
          "PS4",
          "3DS",
          "3DS",
          "PSV",
          "WiiU",
          "PS3",
          "PC",
          "PSV",
          "PSV",
          "PSV",
          "PSV",
          "XOne",
          "PSV",
          "PC",
          "PC",
          "WiiU",
          "PS3",
          "PSV",
          "PSV",
          "PSV",
          "WiiU",
          "PS4",
          "WiiU",
          "PC",
          "PC",
          "X360",
          "PS3",
          "XOne",
          "WiiU",
          "PC",
          "3DS",
          "X360",
          "PSV",
          "PSV",
          "3DS",
          "3DS",
          "PSV",
          "PSV"
         ],
         "xaxis": "x2",
         "yaxis": "y2"
        }
       ],
       "layout": {
        "barmode": "overlay",
        "template": {
         "data": {
          "bar": [
           {
            "error_x": {
             "color": "#2a3f5f"
            },
            "error_y": {
             "color": "#2a3f5f"
            },
            "marker": {
             "line": {
              "color": "#E5ECF6",
              "width": 0.5
             }
            },
            "type": "bar"
           }
          ],
          "barpolar": [
           {
            "marker": {
             "line": {
              "color": "#E5ECF6",
              "width": 0.5
             }
            },
            "type": "barpolar"
           }
          ],
          "carpet": [
           {
            "aaxis": {
             "endlinecolor": "#2a3f5f",
             "gridcolor": "white",
             "linecolor": "white",
             "minorgridcolor": "white",
             "startlinecolor": "#2a3f5f"
            },
            "baxis": {
             "endlinecolor": "#2a3f5f",
             "gridcolor": "white",
             "linecolor": "white",
             "minorgridcolor": "white",
             "startlinecolor": "#2a3f5f"
            },
            "type": "carpet"
           }
          ],
          "choropleth": [
           {
            "colorbar": {
             "outlinewidth": 0,
             "ticks": ""
            },
            "type": "choropleth"
           }
          ],
          "contour": [
           {
            "colorbar": {
             "outlinewidth": 0,
             "ticks": ""
            },
            "colorscale": [
             [
              0,
              "#0d0887"
             ],
             [
              0.1111111111111111,
              "#46039f"
             ],
             [
              0.2222222222222222,
              "#7201a8"
             ],
             [
              0.3333333333333333,
              "#9c179e"
             ],
             [
              0.4444444444444444,
              "#bd3786"
             ],
             [
              0.5555555555555556,
              "#d8576b"
             ],
             [
              0.6666666666666666,
              "#ed7953"
             ],
             [
              0.7777777777777778,
              "#fb9f3a"
             ],
             [
              0.8888888888888888,
              "#fdca26"
             ],
             [
              1,
              "#f0f921"
             ]
            ],
            "type": "contour"
           }
          ],
          "contourcarpet": [
           {
            "colorbar": {
             "outlinewidth": 0,
             "ticks": ""
            },
            "type": "contourcarpet"
           }
          ],
          "heatmap": [
           {
            "colorbar": {
             "outlinewidth": 0,
             "ticks": ""
            },
            "colorscale": [
             [
              0,
              "#0d0887"
             ],
             [
              0.1111111111111111,
              "#46039f"
             ],
             [
              0.2222222222222222,
              "#7201a8"
             ],
             [
              0.3333333333333333,
              "#9c179e"
             ],
             [
              0.4444444444444444,
              "#bd3786"
             ],
             [
              0.5555555555555556,
              "#d8576b"
             ],
             [
              0.6666666666666666,
              "#ed7953"
             ],
             [
              0.7777777777777778,
              "#fb9f3a"
             ],
             [
              0.8888888888888888,
              "#fdca26"
             ],
             [
              1,
              "#f0f921"
             ]
            ],
            "type": "heatmap"
           }
          ],
          "heatmapgl": [
           {
            "colorbar": {
             "outlinewidth": 0,
             "ticks": ""
            },
            "colorscale": [
             [
              0,
              "#0d0887"
             ],
             [
              0.1111111111111111,
              "#46039f"
             ],
             [
              0.2222222222222222,
              "#7201a8"
             ],
             [
              0.3333333333333333,
              "#9c179e"
             ],
             [
              0.4444444444444444,
              "#bd3786"
             ],
             [
              0.5555555555555556,
              "#d8576b"
             ],
             [
              0.6666666666666666,
              "#ed7953"
             ],
             [
              0.7777777777777778,
              "#fb9f3a"
             ],
             [
              0.8888888888888888,
              "#fdca26"
             ],
             [
              1,
              "#f0f921"
             ]
            ],
            "type": "heatmapgl"
           }
          ],
          "histogram": [
           {
            "marker": {
             "colorbar": {
              "outlinewidth": 0,
              "ticks": ""
             }
            },
            "type": "histogram"
           }
          ],
          "histogram2d": [
           {
            "colorbar": {
             "outlinewidth": 0,
             "ticks": ""
            },
            "colorscale": [
             [
              0,
              "#0d0887"
             ],
             [
              0.1111111111111111,
              "#46039f"
             ],
             [
              0.2222222222222222,
              "#7201a8"
             ],
             [
              0.3333333333333333,
              "#9c179e"
             ],
             [
              0.4444444444444444,
              "#bd3786"
             ],
             [
              0.5555555555555556,
              "#d8576b"
             ],
             [
              0.6666666666666666,
              "#ed7953"
             ],
             [
              0.7777777777777778,
              "#fb9f3a"
             ],
             [
              0.8888888888888888,
              "#fdca26"
             ],
             [
              1,
              "#f0f921"
             ]
            ],
            "type": "histogram2d"
           }
          ],
          "histogram2dcontour": [
           {
            "colorbar": {
             "outlinewidth": 0,
             "ticks": ""
            },
            "colorscale": [
             [
              0,
              "#0d0887"
             ],
             [
              0.1111111111111111,
              "#46039f"
             ],
             [
              0.2222222222222222,
              "#7201a8"
             ],
             [
              0.3333333333333333,
              "#9c179e"
             ],
             [
              0.4444444444444444,
              "#bd3786"
             ],
             [
              0.5555555555555556,
              "#d8576b"
             ],
             [
              0.6666666666666666,
              "#ed7953"
             ],
             [
              0.7777777777777778,
              "#fb9f3a"
             ],
             [
              0.8888888888888888,
              "#fdca26"
             ],
             [
              1,
              "#f0f921"
             ]
            ],
            "type": "histogram2dcontour"
           }
          ],
          "mesh3d": [
           {
            "colorbar": {
             "outlinewidth": 0,
             "ticks": ""
            },
            "type": "mesh3d"
           }
          ],
          "parcoords": [
           {
            "line": {
             "colorbar": {
              "outlinewidth": 0,
              "ticks": ""
             }
            },
            "type": "parcoords"
           }
          ],
          "pie": [
           {
            "automargin": true,
            "type": "pie"
           }
          ],
          "scatter": [
           {
            "marker": {
             "colorbar": {
              "outlinewidth": 0,
              "ticks": ""
             }
            },
            "type": "scatter"
           }
          ],
          "scatter3d": [
           {
            "line": {
             "colorbar": {
              "outlinewidth": 0,
              "ticks": ""
             }
            },
            "marker": {
             "colorbar": {
              "outlinewidth": 0,
              "ticks": ""
             }
            },
            "type": "scatter3d"
           }
          ],
          "scattercarpet": [
           {
            "marker": {
             "colorbar": {
              "outlinewidth": 0,
              "ticks": ""
             }
            },
            "type": "scattercarpet"
           }
          ],
          "scattergeo": [
           {
            "marker": {
             "colorbar": {
              "outlinewidth": 0,
              "ticks": ""
             }
            },
            "type": "scattergeo"
           }
          ],
          "scattergl": [
           {
            "marker": {
             "colorbar": {
              "outlinewidth": 0,
              "ticks": ""
             }
            },
            "type": "scattergl"
           }
          ],
          "scattermapbox": [
           {
            "marker": {
             "colorbar": {
              "outlinewidth": 0,
              "ticks": ""
             }
            },
            "type": "scattermapbox"
           }
          ],
          "scatterpolar": [
           {
            "marker": {
             "colorbar": {
              "outlinewidth": 0,
              "ticks": ""
             }
            },
            "type": "scatterpolar"
           }
          ],
          "scatterpolargl": [
           {
            "marker": {
             "colorbar": {
              "outlinewidth": 0,
              "ticks": ""
             }
            },
            "type": "scatterpolargl"
           }
          ],
          "scatterternary": [
           {
            "marker": {
             "colorbar": {
              "outlinewidth": 0,
              "ticks": ""
             }
            },
            "type": "scatterternary"
           }
          ],
          "surface": [
           {
            "colorbar": {
             "outlinewidth": 0,
             "ticks": ""
            },
            "colorscale": [
             [
              0,
              "#0d0887"
             ],
             [
              0.1111111111111111,
              "#46039f"
             ],
             [
              0.2222222222222222,
              "#7201a8"
             ],
             [
              0.3333333333333333,
              "#9c179e"
             ],
             [
              0.4444444444444444,
              "#bd3786"
             ],
             [
              0.5555555555555556,
              "#d8576b"
             ],
             [
              0.6666666666666666,
              "#ed7953"
             ],
             [
              0.7777777777777778,
              "#fb9f3a"
             ],
             [
              0.8888888888888888,
              "#fdca26"
             ],
             [
              1,
              "#f0f921"
             ]
            ],
            "type": "surface"
           }
          ],
          "table": [
           {
            "cells": {
             "fill": {
              "color": "#EBF0F8"
             },
             "line": {
              "color": "white"
             }
            },
            "header": {
             "fill": {
              "color": "#C8D4E3"
             },
             "line": {
              "color": "white"
             }
            },
            "type": "table"
           }
          ]
         },
         "layout": {
          "annotationdefaults": {
           "arrowcolor": "#2a3f5f",
           "arrowhead": 0,
           "arrowwidth": 1
          },
          "coloraxis": {
           "colorbar": {
            "outlinewidth": 0,
            "ticks": ""
           }
          },
          "colorscale": {
           "diverging": [
            [
             0,
             "#8e0152"
            ],
            [
             0.1,
             "#c51b7d"
            ],
            [
             0.2,
             "#de77ae"
            ],
            [
             0.3,
             "#f1b6da"
            ],
            [
             0.4,
             "#fde0ef"
            ],
            [
             0.5,
             "#f7f7f7"
            ],
            [
             0.6,
             "#e6f5d0"
            ],
            [
             0.7,
             "#b8e186"
            ],
            [
             0.8,
             "#7fbc41"
            ],
            [
             0.9,
             "#4d9221"
            ],
            [
             1,
             "#276419"
            ]
           ],
           "sequential": [
            [
             0,
             "#0d0887"
            ],
            [
             0.1111111111111111,
             "#46039f"
            ],
            [
             0.2222222222222222,
             "#7201a8"
            ],
            [
             0.3333333333333333,
             "#9c179e"
            ],
            [
             0.4444444444444444,
             "#bd3786"
            ],
            [
             0.5555555555555556,
             "#d8576b"
            ],
            [
             0.6666666666666666,
             "#ed7953"
            ],
            [
             0.7777777777777778,
             "#fb9f3a"
            ],
            [
             0.8888888888888888,
             "#fdca26"
            ],
            [
             1,
             "#f0f921"
            ]
           ],
           "sequentialminus": [
            [
             0,
             "#0d0887"
            ],
            [
             0.1111111111111111,
             "#46039f"
            ],
            [
             0.2222222222222222,
             "#7201a8"
            ],
            [
             0.3333333333333333,
             "#9c179e"
            ],
            [
             0.4444444444444444,
             "#bd3786"
            ],
            [
             0.5555555555555556,
             "#d8576b"
            ],
            [
             0.6666666666666666,
             "#ed7953"
            ],
            [
             0.7777777777777778,
             "#fb9f3a"
            ],
            [
             0.8888888888888888,
             "#fdca26"
            ],
            [
             1,
             "#f0f921"
            ]
           ]
          },
          "colorway": [
           "#636efa",
           "#EF553B",
           "#00cc96",
           "#ab63fa",
           "#FFA15A",
           "#19d3f3",
           "#FF6692",
           "#B6E880",
           "#FF97FF",
           "#FECB52"
          ],
          "font": {
           "color": "#2a3f5f"
          },
          "geo": {
           "bgcolor": "white",
           "lakecolor": "white",
           "landcolor": "#E5ECF6",
           "showlakes": true,
           "showland": true,
           "subunitcolor": "white"
          },
          "hoverlabel": {
           "align": "left"
          },
          "hovermode": "closest",
          "mapbox": {
           "style": "light"
          },
          "paper_bgcolor": "white",
          "plot_bgcolor": "#E5ECF6",
          "polar": {
           "angularaxis": {
            "gridcolor": "white",
            "linecolor": "white",
            "ticks": ""
           },
           "bgcolor": "#E5ECF6",
           "radialaxis": {
            "gridcolor": "white",
            "linecolor": "white",
            "ticks": ""
           }
          },
          "scene": {
           "xaxis": {
            "backgroundcolor": "#E5ECF6",
            "gridcolor": "white",
            "gridwidth": 2,
            "linecolor": "white",
            "showbackground": true,
            "ticks": "",
            "zerolinecolor": "white"
           },
           "yaxis": {
            "backgroundcolor": "#E5ECF6",
            "gridcolor": "white",
            "gridwidth": 2,
            "linecolor": "white",
            "showbackground": true,
            "ticks": "",
            "zerolinecolor": "white"
           },
           "zaxis": {
            "backgroundcolor": "#E5ECF6",
            "gridcolor": "white",
            "gridwidth": 2,
            "linecolor": "white",
            "showbackground": true,
            "ticks": "",
            "zerolinecolor": "white"
           }
          },
          "shapedefaults": {
           "line": {
            "color": "#2a3f5f"
           }
          },
          "ternary": {
           "aaxis": {
            "gridcolor": "white",
            "linecolor": "white",
            "ticks": ""
           },
           "baxis": {
            "gridcolor": "white",
            "linecolor": "white",
            "ticks": ""
           },
           "bgcolor": "#E5ECF6",
           "caxis": {
            "gridcolor": "white",
            "linecolor": "white",
            "ticks": ""
           }
          },
          "title": {
           "x": 0.05
          },
          "xaxis": {
           "automargin": true,
           "gridcolor": "white",
           "linecolor": "white",
           "ticks": "",
           "title": {
            "standoff": 15
           },
           "zerolinecolor": "white",
           "zerolinewidth": 2
          },
          "yaxis": {
           "automargin": true,
           "gridcolor": "white",
           "linecolor": "white",
           "ticks": "",
           "title": {
            "standoff": 15
           },
           "zerolinecolor": "white",
           "zerolinewidth": 2
          }
         }
        },
        "title": {
         "text": " Resultado de 2014 e 2015"
        },
        "xaxis2": {
         "anchor": "y2",
         "domain": [
          0.6,
          0.95
         ],
         "title": {
          "text": "Platform"
         }
        },
        "yaxis2": {
         "anchor": "y2",
         "domain": [
          0.6,
          0.95
         ],
         "title": {
          "text": "Count"
         }
        }
       }
      },
      "text/html": [
       "<div>\n",
       "        \n",
       "        \n",
       "            <div id=\"5e0eb55b-9d1d-4351-b3b5-bdee57254900\" class=\"plotly-graph-div\" style=\"height:525px; width:100%;\"></div>\n",
       "            <script type=\"text/javascript\">\n",
       "                require([\"plotly\"], function(Plotly) {\n",
       "                    window.PLOTLYENV=window.PLOTLYENV || {};\n",
       "                    \n",
       "                if (document.getElementById(\"5e0eb55b-9d1d-4351-b3b5-bdee57254900\")) {\n",
       "                    Plotly.newPlot(\n",
       "                        '5e0eb55b-9d1d-4351-b3b5-bdee57254900',\n",
       "                        [{\"marker\": {\"color\": \"rgb(0,0,0)\"}, \"name\": \"2014\", \"opacity\": 0.6, \"type\": \"histogram\", \"x\": [\"PS4\", \"3DS\", \"PS4\", \"3DS\", \"WiiU\", \"PS4\", \"PS4\", \"PS3\", \"XOne\", \"XOne\", \"WiiU\", \"PS3\", \"PS4\", \"PS3\", \"X360\", \"PS4\", \"PS4\", \"PS4\", \"PS4\", \"3DS\", \"XOne\", \"XOne\", \"3DS\", \"XOne\", \"X360\", \"PS4\", \"PC\", \"XOne\", \"PS4\", \"3DS\", \"XOne\", \"PS4\", \"Wii\", \"PSV\", \"XOne\", \"PS4\", \"X360\", \"PS4\", \"PS4\", \"X360\", \"PS3\", \"PS4\", \"3DS\", \"PS4\", \"PS4\", \"PS3\", \"PS4\", \"XOne\", \"X360\", \"XOne\", \"PS4\", \"XOne\", \"WiiU\", \"XOne\", \"PS3\", \"PS4\", \"PS3\", \"X360\", \"PS3\", \"XOne\", \"PS3\", \"3DS\", \"XOne\", \"PS3\", \"PS3\", \"X360\", \"X360\", \"PS4\", \"WiiU\", \"PC\", \"WiiU\", \"X360\", \"PS4\", \"PS4\", \"X360\", \"XOne\", \"X360\", \"Wii\", \"PS4\", \"PS3\", \"WiiU\", \"PS3\", \"PS4\", \"PS3\", \"X360\", \"X360\", \"X360\", \"X360\", \"PS4\", \"PS3\", \"XOne\", \"PC\", \"X360\", \"PS3\", \"PS4\", \"PSV\", \"PSV\", \"PS3\", \"3DS\", \"PSV\", \"PS3\", \"PS4\", \"Wii\", \"X360\", \"WiiU\", \"X360\", \"PS3\", \"PC\", \"PS4\", \"3DS\", \"PS3\", \"WiiU\", \"X360\", \"3DS\", \"PS3\", \"XOne\", \"PS4\", \"PS4\", \"XOne\", \"PS4\", \"PS3\", \"WiiU\", \"WiiU\", \"XOne\", \"PS4\", \"PS3\", \"XOne\", \"PS3\", \"X360\", \"XOne\", \"PC\", \"PS3\", \"PS3\", \"PS4\", \"PS4\", \"PS4\", \"XOne\", \"PS4\", \"PS4\", \"XOne\", \"PC\", \"XOne\", \"X360\", \"PC\", \"PS4\", \"PS3\", \"X360\", \"XOne\", \"3DS\", \"XOne\", \"PS4\", \"PS3\", \"X360\", \"XOne\", \"X360\", \"PSV\", \"3DS\", \"PS3\", \"3DS\", \"PC\", \"PC\", \"X360\", \"PS3\", \"X360\", \"WiiU\", \"X360\", \"PC\", \"XOne\", \"XOne\", \"3DS\", \"PS4\", \"PC\", \"3DS\", \"PS4\", \"PS4\", \"XOne\", \"PS4\", \"XOne\", \"X360\", \"PSV\", \"PC\", \"3DS\", \"PSV\", \"PS3\", \"XOne\", \"XOne\", \"WiiU\", \"PS3\", \"PS3\", \"PS4\", \"PS3\", \"PS3\", \"3DS\", \"PC\", \"PC\", \"3DS\", \"XOne\", \"XOne\", \"WiiU\", \"PS3\", \"XOne\", \"PSV\", \"PS3\", \"PS4\", \"X360\", \"PS3\", \"3DS\", \"XOne\", \"3DS\", \"PS3\", \"X360\", \"WiiU\", \"PS4\", \"PSV\", \"PC\", \"PSV\", \"X360\", \"PSV\", \"PS3\", \"3DS\", \"PC\", \"XOne\", \"PS3\", \"PSV\", \"Wii\", \"PC\", \"PS3\", \"PS4\", \"XOne\", \"3DS\", \"PS3\", \"X360\", \"PSV\", \"PSV\", \"3DS\", \"PS3\", \"X360\", \"PS3\", \"X360\", \"PS3\", \"3DS\", \"XOne\", \"PSV\", \"3DS\", \"PS4\", \"PS4\", \"PS4\", \"WiiU\", \"X360\", \"PS4\", \"PS3\", \"PS3\", \"PS3\", \"X360\", \"XOne\", \"XOne\", \"PS3\", \"PS4\", \"3DS\", \"PSV\", \"PSV\", \"PS4\", \"XOne\", \"PS3\", \"X360\", \"PC\", \"XOne\", \"PS4\", \"PSV\", \"PSV\", \"PS4\", \"XOne\", \"PSV\", \"PS4\", \"PS4\", \"XOne\", \"PSV\", \"PS3\", \"PSV\", \"PC\", \"PS4\", \"PSV\", \"PSV\", \"XOne\", \"PSV\", \"X360\", \"3DS\", \"3DS\", \"PC\", \"PS3\", \"PS3\", \"X360\", \"X360\", \"XOne\", \"PC\", \"PS3\", \"PS4\", \"XOne\", \"3DS\", \"X360\", \"PS3\", \"PSV\", \"XOne\", \"PSV\", \"PSV\", \"PS4\", \"PSV\", \"PS4\", \"PSV\", \"PC\", \"PSV\", \"3DS\", \"PSV\", \"PS3\", \"WiiU\", \"PS3\", \"XOne\", \"PS3\", \"PS3\", \"PSV\", \"PS3\", \"XOne\", \"3DS\", \"PS3\", \"PS3\", \"PS3\", \"3DS\", \"PSV\", \"PS3\", \"3DS\", \"PSV\", \"PS3\", \"PS3\", \"PS3\", \"PS3\", \"X360\", \"3DS\", \"PC\", \"PSV\", \"PS3\", \"PSV\", \"PSV\", \"PSV\", \"PSV\", \"WiiU\", \"3DS\", \"WiiU\", \"PS4\", \"X360\", \"PC\", \"PS3\", \"PSV\", \"X360\", \"XOne\", \"3DS\", \"PSV\", \"PSV\", \"PSV\", \"PS3\", \"PS3\", \"3DS\", \"X360\", \"PS3\", \"PS3\", \"X360\", \"PS3\", \"PS3\", \"PC\", \"PSV\", \"3DS\", \"PS4\", \"3DS\", \"PC\", \"WiiU\", \"3DS\", \"PSV\", \"WiiU\", \"X360\", \"PSP\", \"PSV\", \"X360\", \"X360\", \"PS3\", \"WiiU\", \"PSV\", \"PS4\", \"PS3\", \"X360\", \"X360\", \"3DS\", \"3DS\", \"X360\", \"X360\", \"PS3\", \"XOne\", \"X360\", \"PS3\", \"PS4\", \"3DS\", \"PSV\", \"3DS\", \"3DS\", \"X360\", \"XOne\", \"X360\", \"WiiU\", \"PSV\", \"3DS\", \"3DS\", \"PS3\", \"XOne\", \"3DS\", \"PS3\", \"PSV\", \"3DS\", \"3DS\", \"WiiU\", \"PSV\", \"WiiU\", \"3DS\", \"PC\", \"3DS\", \"3DS\", \"PC\", \"PSV\", \"PSV\", \"PC\", \"PSV\", \"X360\", \"3DS\", \"3DS\", \"3DS\", \"3DS\", \"PS4\", \"PS3\", \"3DS\", \"PSV\", \"X360\", \"Wii\", \"X360\", \"PSV\", \"3DS\", \"PSV\", \"3DS\", \"WiiU\", \"PC\", \"PSV\", \"PS3\", \"PS4\", \"PSV\", \"PS3\", \"PS3\", \"X360\", \"PC\", \"PS4\", \"PSV\", \"PC\", \"X360\", \"PSV\", \"PSV\", \"PSV\", \"3DS\", \"PSV\", \"PSP\", \"PSV\", \"PSV\", \"PS3\", \"3DS\", \"PSV\", \"PS4\", \"XOne\", \"3DS\", \"PS4\", \"PC\", \"PS3\", \"PSV\", \"XOne\", \"PS3\", \"PSV\", \"PSV\", \"WiiU\", \"PC\", \"3DS\", \"PS4\", \"PS3\", \"3DS\", \"PC\", \"3DS\", \"PC\", \"PS3\", \"PS3\", \"PSV\", \"PS3\", \"PC\", \"PSV\", \"WiiU\", \"3DS\", \"PS3\", \"3DS\", \"PSV\", \"XOne\", \"PS3\", \"X360\", \"PC\", \"PSV\", \"3DS\", \"WiiU\", \"PSV\", \"PSV\", \"PSP\", \"PS4\", \"PS3\", \"PSV\", \"Wii\", \"PC\", \"PSV\", \"PC\", \"PS3\", \"PS3\", \"PSV\", \"PS3\", \"PS3\", \"WiiU\", \"PSV\", \"PSP\", \"PS3\", \"3DS\", \"DS\", \"WiiU\", \"PSV\", \"PSV\", \"PC\", \"PSV\", \"PS3\", \"PS4\", \"PSV\", \"PC\", \"WiiU\", \"3DS\", \"PS3\", \"PSV\", \"3DS\", \"PSV\", \"3DS\", \"PC\", \"PSV\", \"PSV\", \"X360\", \"PSV\", \"PSP\", \"PSV\", \"PSV\", \"XOne\", \"PSP\", \"PSV\", \"PSV\", \"X360\", \"PSV\", \"PS3\", \"PSP\", \"PS3\", \"PSV\", \"PSV\", \"3DS\", \"PSV\", \"3DS\", \"PC\", \"PS3\", \"3DS\", \"PSV\", \"PSP\", \"PS3\", \"3DS\", \"PSV\", \"3DS\", \"PSP\", \"XOne\", \"PSP\", \"X360\", \"PSV\", \"PSV\", \"3DS\"]}, {\"marker\": {\"color\": \"rgb(255,196,37)\"}, \"name\": \"2015\", \"opacity\": 1.0, \"type\": \"histogram\", \"x\": [\"PS4\", \"PS4\", \"PS4\", \"XOne\", \"PS4\", \"WiiU\", \"PS4\", \"XOne\", \"XOne\", \"PS4\", \"PS4\", \"PS4\", \"XOne\", \"PS4\", \"PS4\", \"3DS\", \"XOne\", \"PS4\", \"WiiU\", \"XOne\", \"3DS\", \"PS3\", \"PS4\", \"XOne\", \"PS4\", \"PS4\", \"3DS\", \"XOne\", \"3DS\", \"PS4\", \"PS4\", \"PS4\", \"PS4\", \"PS3\", \"X360\", \"XOne\", \"PS4\", \"PS4\", \"X360\", \"PS4\", \"PS4\", \"WiiU\", \"3DS\", \"XOne\", \"XOne\", \"XOne\", \"WiiU\", \"XOne\", \"XOne\", \"XOne\", \"XOne\", \"PC\", \"Wii\", \"XOne\", \"PS4\", \"3DS\", \"XOne\", \"PS4\", \"3DS\", \"PC\", \"PS4\", \"PS4\", \"X360\", \"PS4\", \"X360\", \"X360\", \"PS4\", \"PS3\", \"PS4\", \"X360\", \"PS4\", \"XOne\", \"3DS\", \"3DS\", \"WiiU\", \"PS4\", \"PS3\", \"PS4\", \"XOne\", \"PS3\", \"PS4\", \"XOne\", \"3DS\", \"PS4\", \"PS4\", \"3DS\", \"XOne\", \"PS3\", \"PS3\", \"3DS\", \"PS4\", \"XOne\", \"PC\", \"PS4\", \"PS4\", \"PS4\", \"PS4\", \"XOne\", \"XOne\", \"PS4\", \"3DS\", \"PS3\", \"PS4\", \"WiiU\", \"XOne\", \"PS3\", \"X360\", \"3DS\", \"PS3\", \"PS3\", \"XOne\", \"PS4\", \"PC\", \"WiiU\", \"WiiU\", \"PC\", \"WiiU\", \"PS4\", \"XOne\", \"X360\", \"PS3\", \"PS3\", \"WiiU\", \"3DS\", \"PS3\", \"XOne\", \"PS3\", \"XOne\", \"X360\", \"PSV\", \"3DS\", \"PSV\", \"PS3\", \"PS4\", \"WiiU\", \"X360\", \"WiiU\", \"XOne\", \"PS4\", \"WiiU\", \"PS3\", \"X360\", \"PSV\", \"XOne\", \"X360\", \"PS3\", \"PS3\", \"PS4\", \"PSV\", \"X360\", \"PS4\", \"XOne\", \"PS4\", \"PS4\", \"X360\", \"PS4\", \"PS4\", \"X360\", \"PS4\", \"3DS\", \"PS3\", \"XOne\", \"XOne\", \"3DS\", \"PC\", \"XOne\", \"PS4\", \"PS4\", \"PS4\", \"PS3\", \"PS3\", \"PS4\", \"PS4\", \"PS4\", \"X360\", \"PS4\", \"XOne\", \"Wii\", \"PS4\", \"PS4\", \"XOne\", \"3DS\", \"PS3\", \"PC\", \"PSV\", \"XOne\", \"3DS\", \"3DS\", \"X360\", \"3DS\", \"3DS\", \"PC\", \"PS4\", \"XOne\", \"XOne\", \"PC\", \"PSV\", \"XOne\", \"PC\", \"PS4\", \"PS3\", \"WiiU\", \"PS4\", \"3DS\", \"PSV\", \"PS4\", \"X360\", \"3DS\", \"XOne\", \"PC\", \"XOne\", \"PS4\", \"PS4\", \"PC\", \"3DS\", \"XOne\", \"3DS\", \"PSV\", \"PSV\", \"PC\", \"PC\", \"WiiU\", \"PC\", \"PS4\", \"PS4\", \"PS4\", \"PS4\", \"PSV\", \"PS4\", \"XOne\", \"X360\", \"PS4\", \"3DS\", \"PSV\", \"PS4\", \"3DS\", \"XOne\", \"3DS\", \"PS4\", \"PS3\", \"3DS\", \"PSV\", \"PS3\", \"XOne\", \"PSV\", \"3DS\", \"PC\", \"3DS\", \"PC\", \"3DS\", \"PS4\", \"PC\", \"3DS\", \"XOne\", \"XOne\", \"PS3\", \"PSV\", \"3DS\", \"PSV\", \"XOne\", \"PS4\", \"X360\", \"PC\", \"PS4\", \"3DS\", \"PS4\", \"PS3\", \"3DS\", \"WiiU\", \"PS4\", \"PSV\", \"XOne\", \"PS4\", \"XOne\", \"3DS\", \"PS4\", \"PS3\", \"3DS\", \"PC\", \"PS3\", \"3DS\", \"PS4\", \"3DS\", \"WiiU\", \"PS3\", \"PSV\", \"XOne\", \"PS4\", \"XOne\", \"PS4\", \"XOne\", \"PS4\", \"PS3\", \"PS4\", \"XOne\", \"PS4\", \"XOne\", \"PC\", \"X360\", \"PS4\", \"PS4\", \"PC\", \"X360\", \"3DS\", \"PS4\", \"PS3\", \"X360\", \"X360\", \"PS4\", \"PC\", \"XOne\", \"3DS\", \"PS4\", \"XOne\", \"3DS\", \"PS3\", \"PS4\", \"PC\", \"PSP\", \"PS4\", \"PSV\", \"WiiU\", \"PSV\", \"PC\", \"PS4\", \"PC\", \"PSV\", \"PS4\", \"PS4\", \"PSV\", \"3DS\", \"3DS\", \"3DS\", \"PSV\", \"X360\", \"PS3\", \"PSV\", \"PSV\", \"PS3\", \"PSV\", \"PSV\", \"PC\", \"XOne\", \"PS4\", \"PS4\", \"PS3\", \"3DS\", \"XOne\", \"X360\", \"PS4\", \"3DS\", \"PS4\", \"PS4\", \"PSV\", \"PS4\", \"3DS\", \"WiiU\", \"WiiU\", \"Wii\", \"PS4\", \"XOne\", \"XOne\", \"PSV\", \"PSV\", \"3DS\", \"PS3\", \"PSV\", \"PS4\", \"PS4\", \"PS4\", \"PS4\", \"PS3\", \"PS4\", \"PS3\", \"PS4\", \"PS4\", \"WiiU\", \"X360\", \"PSV\", \"PSV\", \"PSV\", \"PSV\", \"WiiU\", \"3DS\", \"PSV\", \"X360\", \"3DS\", \"PSV\", \"PS4\", \"XOne\", \"PSV\", \"PSV\", \"PS4\", \"PS4\", \"PSV\", \"PC\", \"PSV\", \"PSV\", \"PSV\", \"PS4\", \"XOne\", \"PS4\", \"XOne\", \"3DS\", \"PS4\", \"PS4\", \"XOne\", \"PC\", \"PS3\", \"PS3\", \"PC\", \"PS4\", \"X360\", \"PSV\", \"PS3\", \"PS3\", \"PSV\", \"PSV\", \"PSV\", \"3DS\", \"PC\", \"PS3\", \"3DS\", \"PS4\", \"PS3\", \"PS3\", \"PC\", \"PSV\", \"PS4\", \"XOne\", \"PSV\", \"3DS\", \"X360\", \"3DS\", \"PC\", \"PC\", \"3DS\", \"XOne\", \"PC\", \"3DS\", \"PSV\", \"3DS\", \"PSV\", \"PS3\", \"PS3\", \"PSV\", \"3DS\", \"3DS\", \"PSV\", \"PS4\", \"3DS\", \"PSV\", \"3DS\", \"PSV\", \"PSV\", \"X360\", \"PS4\", \"PS3\", \"PS3\", \"WiiU\", \"3DS\", \"Wii\", \"PS3\", \"PS3\", \"PSV\", \"PSV\", \"3DS\", \"PS3\", \"3DS\", \"PSV\", \"PSV\", \"XOne\", \"PSV\", \"PSV\", \"PSV\", \"PC\", \"PSV\", \"3DS\", \"3DS\", \"3DS\", \"X360\", \"PSV\", \"PSV\", \"PS3\", \"PSV\", \"XOne\", \"PSV\", \"PSV\", \"X360\", \"PS4\", \"3DS\", \"PC\", \"PSV\", \"PC\", \"PSV\", \"3DS\", \"PSV\", \"PS4\", \"PSV\", \"PSV\", \"PS3\", \"3DS\", \"PS4\", \"PSV\", \"X360\", \"PS4\", \"X360\", \"PS3\", \"PS3\", \"PS4\", \"PSV\", \"PSV\", \"3DS\", \"X360\", \"PS4\", \"PS3\", \"PSV\", \"XOne\", \"PS3\", \"PSV\", \"PS3\", \"PSV\", \"PS3\", \"PC\", \"3DS\", \"PSV\", \"PS3\", \"PSV\", \"3DS\", \"PS4\", \"PSV\", \"PSV\", \"PS3\", \"PSV\", \"PS4\", \"PSV\", \"3DS\", \"PSV\", \"PC\", \"PS3\", \"PS4\", \"PSV\", \"PSV\", \"PS3\", \"PSV\", \"3DS\", \"PC\", \"PC\", \"3DS\", \"XOne\", \"PC\", \"PS3\", \"PSV\", \"XOne\", \"PS3\", \"XOne\", \"PS3\", \"PSV\", \"PSV\", \"PSV\", \"PSV\", \"PSV\", \"X360\", \"X360\", \"PSV\", \"PC\", \"PSV\", \"PS4\", \"PSP\", \"PSV\", \"PS3\", \"PSV\", \"PSV\", \"PSP\", \"PS3\", \"XOne\", \"PS4\", \"3DS\", \"3DS\", \"PSV\", \"WiiU\", \"PS3\", \"PC\", \"PSV\", \"PSV\", \"PSV\", \"PSV\", \"XOne\", \"PSV\", \"PC\", \"PC\", \"WiiU\", \"PS3\", \"PSV\", \"PSV\", \"PSV\", \"WiiU\", \"PS4\", \"WiiU\", \"PC\", \"PC\", \"X360\", \"PS3\", \"XOne\", \"WiiU\", \"PC\", \"3DS\", \"X360\", \"PSV\", \"PSV\", \"3DS\", \"3DS\", \"PSV\", \"PSV\"], \"xaxis\": \"x2\", \"yaxis\": \"y2\"}],\n",
       "                        {\"barmode\": \"overlay\", \"template\": {\"data\": {\"bar\": [{\"error_x\": {\"color\": \"#2a3f5f\"}, \"error_y\": {\"color\": \"#2a3f5f\"}, \"marker\": {\"line\": {\"color\": \"#E5ECF6\", \"width\": 0.5}}, \"type\": \"bar\"}], \"barpolar\": [{\"marker\": {\"line\": {\"color\": \"#E5ECF6\", \"width\": 0.5}}, \"type\": \"barpolar\"}], \"carpet\": [{\"aaxis\": {\"endlinecolor\": \"#2a3f5f\", \"gridcolor\": \"white\", \"linecolor\": \"white\", \"minorgridcolor\": \"white\", \"startlinecolor\": \"#2a3f5f\"}, \"baxis\": {\"endlinecolor\": \"#2a3f5f\", \"gridcolor\": \"white\", \"linecolor\": \"white\", \"minorgridcolor\": \"white\", \"startlinecolor\": \"#2a3f5f\"}, \"type\": \"carpet\"}], \"choropleth\": [{\"colorbar\": {\"outlinewidth\": 0, \"ticks\": \"\"}, \"type\": \"choropleth\"}], \"contour\": [{\"colorbar\": {\"outlinewidth\": 0, \"ticks\": \"\"}, \"colorscale\": [[0.0, \"#0d0887\"], [0.1111111111111111, \"#46039f\"], [0.2222222222222222, \"#7201a8\"], [0.3333333333333333, \"#9c179e\"], [0.4444444444444444, \"#bd3786\"], [0.5555555555555556, \"#d8576b\"], [0.6666666666666666, \"#ed7953\"], [0.7777777777777778, \"#fb9f3a\"], [0.8888888888888888, \"#fdca26\"], [1.0, \"#f0f921\"]], \"type\": \"contour\"}], \"contourcarpet\": [{\"colorbar\": {\"outlinewidth\": 0, \"ticks\": \"\"}, \"type\": \"contourcarpet\"}], \"heatmap\": [{\"colorbar\": {\"outlinewidth\": 0, \"ticks\": \"\"}, \"colorscale\": [[0.0, \"#0d0887\"], [0.1111111111111111, \"#46039f\"], [0.2222222222222222, \"#7201a8\"], [0.3333333333333333, \"#9c179e\"], [0.4444444444444444, \"#bd3786\"], [0.5555555555555556, \"#d8576b\"], [0.6666666666666666, \"#ed7953\"], [0.7777777777777778, \"#fb9f3a\"], [0.8888888888888888, \"#fdca26\"], [1.0, \"#f0f921\"]], \"type\": \"heatmap\"}], \"heatmapgl\": [{\"colorbar\": {\"outlinewidth\": 0, \"ticks\": \"\"}, \"colorscale\": [[0.0, \"#0d0887\"], [0.1111111111111111, \"#46039f\"], [0.2222222222222222, \"#7201a8\"], [0.3333333333333333, \"#9c179e\"], [0.4444444444444444, \"#bd3786\"], [0.5555555555555556, \"#d8576b\"], [0.6666666666666666, \"#ed7953\"], [0.7777777777777778, \"#fb9f3a\"], [0.8888888888888888, \"#fdca26\"], [1.0, \"#f0f921\"]], \"type\": \"heatmapgl\"}], \"histogram\": [{\"marker\": {\"colorbar\": {\"outlinewidth\": 0, \"ticks\": \"\"}}, \"type\": \"histogram\"}], \"histogram2d\": [{\"colorbar\": {\"outlinewidth\": 0, \"ticks\": \"\"}, \"colorscale\": [[0.0, \"#0d0887\"], [0.1111111111111111, \"#46039f\"], [0.2222222222222222, \"#7201a8\"], [0.3333333333333333, \"#9c179e\"], [0.4444444444444444, \"#bd3786\"], [0.5555555555555556, \"#d8576b\"], [0.6666666666666666, \"#ed7953\"], [0.7777777777777778, \"#fb9f3a\"], [0.8888888888888888, \"#fdca26\"], [1.0, \"#f0f921\"]], \"type\": \"histogram2d\"}], \"histogram2dcontour\": [{\"colorbar\": {\"outlinewidth\": 0, \"ticks\": \"\"}, \"colorscale\": [[0.0, \"#0d0887\"], [0.1111111111111111, \"#46039f\"], [0.2222222222222222, \"#7201a8\"], [0.3333333333333333, \"#9c179e\"], [0.4444444444444444, \"#bd3786\"], [0.5555555555555556, \"#d8576b\"], [0.6666666666666666, \"#ed7953\"], [0.7777777777777778, \"#fb9f3a\"], [0.8888888888888888, \"#fdca26\"], [1.0, \"#f0f921\"]], \"type\": \"histogram2dcontour\"}], \"mesh3d\": [{\"colorbar\": {\"outlinewidth\": 0, \"ticks\": \"\"}, \"type\": \"mesh3d\"}], \"parcoords\": [{\"line\": {\"colorbar\": {\"outlinewidth\": 0, \"ticks\": \"\"}}, \"type\": \"parcoords\"}], \"pie\": [{\"automargin\": true, \"type\": \"pie\"}], \"scatter\": [{\"marker\": {\"colorbar\": {\"outlinewidth\": 0, \"ticks\": \"\"}}, \"type\": \"scatter\"}], \"scatter3d\": [{\"line\": {\"colorbar\": {\"outlinewidth\": 0, \"ticks\": \"\"}}, \"marker\": {\"colorbar\": {\"outlinewidth\": 0, \"ticks\": \"\"}}, \"type\": \"scatter3d\"}], \"scattercarpet\": [{\"marker\": {\"colorbar\": {\"outlinewidth\": 0, \"ticks\": \"\"}}, \"type\": \"scattercarpet\"}], \"scattergeo\": [{\"marker\": {\"colorbar\": {\"outlinewidth\": 0, \"ticks\": \"\"}}, \"type\": \"scattergeo\"}], \"scattergl\": [{\"marker\": {\"colorbar\": {\"outlinewidth\": 0, \"ticks\": \"\"}}, \"type\": \"scattergl\"}], \"scattermapbox\": [{\"marker\": {\"colorbar\": {\"outlinewidth\": 0, \"ticks\": \"\"}}, \"type\": \"scattermapbox\"}], \"scatterpolar\": [{\"marker\": {\"colorbar\": {\"outlinewidth\": 0, \"ticks\": \"\"}}, \"type\": \"scatterpolar\"}], \"scatterpolargl\": [{\"marker\": {\"colorbar\": {\"outlinewidth\": 0, \"ticks\": \"\"}}, \"type\": \"scatterpolargl\"}], \"scatterternary\": [{\"marker\": {\"colorbar\": {\"outlinewidth\": 0, \"ticks\": \"\"}}, \"type\": \"scatterternary\"}], \"surface\": [{\"colorbar\": {\"outlinewidth\": 0, \"ticks\": \"\"}, \"colorscale\": [[0.0, \"#0d0887\"], [0.1111111111111111, \"#46039f\"], [0.2222222222222222, \"#7201a8\"], [0.3333333333333333, \"#9c179e\"], [0.4444444444444444, \"#bd3786\"], [0.5555555555555556, \"#d8576b\"], [0.6666666666666666, \"#ed7953\"], [0.7777777777777778, \"#fb9f3a\"], [0.8888888888888888, \"#fdca26\"], [1.0, \"#f0f921\"]], \"type\": \"surface\"}], \"table\": [{\"cells\": {\"fill\": {\"color\": \"#EBF0F8\"}, \"line\": {\"color\": \"white\"}}, \"header\": {\"fill\": {\"color\": \"#C8D4E3\"}, \"line\": {\"color\": \"white\"}}, \"type\": \"table\"}]}, \"layout\": {\"annotationdefaults\": {\"arrowcolor\": \"#2a3f5f\", \"arrowhead\": 0, \"arrowwidth\": 1}, \"coloraxis\": {\"colorbar\": {\"outlinewidth\": 0, \"ticks\": \"\"}}, \"colorscale\": {\"diverging\": [[0, \"#8e0152\"], [0.1, \"#c51b7d\"], [0.2, \"#de77ae\"], [0.3, \"#f1b6da\"], [0.4, \"#fde0ef\"], [0.5, \"#f7f7f7\"], [0.6, \"#e6f5d0\"], [0.7, \"#b8e186\"], [0.8, \"#7fbc41\"], [0.9, \"#4d9221\"], [1, \"#276419\"]], \"sequential\": [[0.0, \"#0d0887\"], [0.1111111111111111, \"#46039f\"], [0.2222222222222222, \"#7201a8\"], [0.3333333333333333, \"#9c179e\"], [0.4444444444444444, \"#bd3786\"], [0.5555555555555556, \"#d8576b\"], [0.6666666666666666, \"#ed7953\"], [0.7777777777777778, \"#fb9f3a\"], [0.8888888888888888, \"#fdca26\"], [1.0, \"#f0f921\"]], \"sequentialminus\": [[0.0, \"#0d0887\"], [0.1111111111111111, \"#46039f\"], [0.2222222222222222, \"#7201a8\"], [0.3333333333333333, \"#9c179e\"], [0.4444444444444444, \"#bd3786\"], [0.5555555555555556, \"#d8576b\"], [0.6666666666666666, \"#ed7953\"], [0.7777777777777778, \"#fb9f3a\"], [0.8888888888888888, \"#fdca26\"], [1.0, \"#f0f921\"]]}, \"colorway\": [\"#636efa\", \"#EF553B\", \"#00cc96\", \"#ab63fa\", \"#FFA15A\", \"#19d3f3\", \"#FF6692\", \"#B6E880\", \"#FF97FF\", \"#FECB52\"], \"font\": {\"color\": \"#2a3f5f\"}, \"geo\": {\"bgcolor\": \"white\", \"lakecolor\": \"white\", \"landcolor\": \"#E5ECF6\", \"showlakes\": true, \"showland\": true, \"subunitcolor\": \"white\"}, \"hoverlabel\": {\"align\": \"left\"}, \"hovermode\": \"closest\", \"mapbox\": {\"style\": \"light\"}, \"paper_bgcolor\": \"white\", \"plot_bgcolor\": \"#E5ECF6\", \"polar\": {\"angularaxis\": {\"gridcolor\": \"white\", \"linecolor\": \"white\", \"ticks\": \"\"}, \"bgcolor\": \"#E5ECF6\", \"radialaxis\": {\"gridcolor\": \"white\", \"linecolor\": \"white\", \"ticks\": \"\"}}, \"scene\": {\"xaxis\": {\"backgroundcolor\": \"#E5ECF6\", \"gridcolor\": \"white\", \"gridwidth\": 2, \"linecolor\": \"white\", \"showbackground\": true, \"ticks\": \"\", \"zerolinecolor\": \"white\"}, \"yaxis\": {\"backgroundcolor\": \"#E5ECF6\", \"gridcolor\": \"white\", \"gridwidth\": 2, \"linecolor\": \"white\", \"showbackground\": true, \"ticks\": \"\", \"zerolinecolor\": \"white\"}, \"zaxis\": {\"backgroundcolor\": \"#E5ECF6\", \"gridcolor\": \"white\", \"gridwidth\": 2, \"linecolor\": \"white\", \"showbackground\": true, \"ticks\": \"\", \"zerolinecolor\": \"white\"}}, \"shapedefaults\": {\"line\": {\"color\": \"#2a3f5f\"}}, \"ternary\": {\"aaxis\": {\"gridcolor\": \"white\", \"linecolor\": \"white\", \"ticks\": \"\"}, \"baxis\": {\"gridcolor\": \"white\", \"linecolor\": \"white\", \"ticks\": \"\"}, \"bgcolor\": \"#E5ECF6\", \"caxis\": {\"gridcolor\": \"white\", \"linecolor\": \"white\", \"ticks\": \"\"}}, \"title\": {\"x\": 0.05}, \"xaxis\": {\"automargin\": true, \"gridcolor\": \"white\", \"linecolor\": \"white\", \"ticks\": \"\", \"title\": {\"standoff\": 15}, \"zerolinecolor\": \"white\", \"zerolinewidth\": 2}, \"yaxis\": {\"automargin\": true, \"gridcolor\": \"white\", \"linecolor\": \"white\", \"ticks\": \"\", \"title\": {\"standoff\": 15}, \"zerolinecolor\": \"white\", \"zerolinewidth\": 2}}}, \"title\": {\"text\": \" Resultado de 2014 e 2015\"}, \"xaxis2\": {\"anchor\": \"y2\", \"domain\": [0.6, 0.95], \"title\": {\"text\": \"Platform\"}}, \"yaxis2\": {\"anchor\": \"y2\", \"domain\": [0.6, 0.95], \"title\": {\"text\": \"Count\"}}},\n",
       "                        {\"responsive\": true}\n",
       "                    ).then(function(){\n",
       "                            \n",
       "var gd = document.getElementById('5e0eb55b-9d1d-4351-b3b5-bdee57254900');\n",
       "var x = new MutationObserver(function (mutations, observer) {{\n",
       "        var display = window.getComputedStyle(gd).display;\n",
       "        if (!display || display === 'none') {{\n",
       "            console.log([gd, 'removed!']);\n",
       "            Plotly.purge(gd);\n",
       "            observer.disconnect();\n",
       "        }}\n",
       "}});\n",
       "\n",
       "// Listen for the removal of the full notebook cells\n",
       "var notebookContainer = gd.closest('#notebook-container');\n",
       "if (notebookContainer) {{\n",
       "    x.observe(notebookContainer, {childList: true});\n",
       "}}\n",
       "\n",
       "// Listen for the clearing of the current output cell\n",
       "var outputEl = gd.closest('.output');\n",
       "if (outputEl) {{\n",
       "    x.observe(outputEl, {childList: true});\n",
       "}}\n",
       "\n",
       "                        })\n",
       "                };\n",
       "                });\n",
       "            </script>\n",
       "        </div>"
      ]
     },
     "metadata": {},
     "output_type": "display_data"
    }
   ],
   "source": [
    "ano_2015 = vg_df.Platform[vg_df.Year == 2015]\n",
    "ano_2014 = vg_df.Platform[vg_df.Year == 2014]\n",
    "\n",
    "linha1 = go.Histogram(\n",
    "    x=ano_2014,\n",
    "    opacity=0.6,\n",
    "    name = \"2014\",\n",
    "    marker=dict(color='rgb(0,0,0)'))\n",
    "linha2 = go.Histogram(\n",
    "    x=ano_2015,\n",
    "    xaxis = 'x2',\n",
    "    yaxis = 'y2',\n",
    "    opacity=1.0,\n",
    "    name = \"2015\",\n",
    "    marker=dict(color='rgb(255,196,37)'))\n",
    "\n",
    "data = [linha1,linha2]\n",
    "layout = go.Layout(barmode='overlay',\n",
    "                   title=' Resultado de 2014 e 2015',\n",
    "                   xaxis2=dict(title='Platform',domain=[0.6, 0.95],anchor='y2'),\n",
    "                   yaxis2=dict( title='Count',domain=[0.6, 0.95],anchor='y2'),\n",
    ")\n",
    "fig = go.Figure(data=data, layout=layout)\n",
    "py.iplot(fig)"
   ]
  },
  {
   "cell_type": "markdown",
   "metadata": {},
   "source": [
    "### Qual a relação das outras vendas e vendas globais ao ranking dos 100 melhores video games"
   ]
  },
  {
   "cell_type": "markdown",
   "metadata": {},
   "source": [
    "- As outras vendas se mantiveram niveladas no período, ao passo que a venda global experimentou forte\n",
    "- baixa no início da medida, seguida de estabilização e tendência de leve queda durante todo o período. "
   ]
  },
  {
   "cell_type": "code",
   "execution_count": 17,
   "metadata": {},
   "outputs": [
    {
     "data": {
      "application/vnd.plotly.v1+json": {
       "config": {
        "linkText": "Export to plot.ly",
        "plotlyServerURL": "https://plot.ly",
        "showLink": false
       },
       "data": [
        {
         "marker": {
          "color": "rgb(0, 0, 0)"
         },
         "mode": "lines",
         "name": "Outras Vendas",
         "text": [
          "Wii Sports",
          "Super Mario Bros.",
          "Mario Kart Wii",
          "Wii Sports Resort",
          "Pokemon Red/Pokemon Blue",
          "Tetris",
          "New Super Mario Bros.",
          "Wii Play",
          "New Super Mario Bros. Wii",
          "Duck Hunt",
          "Nintendogs",
          "Mario Kart DS",
          "Pokemon Gold/Pokemon Silver",
          "Wii Fit",
          "Wii Fit Plus",
          "Kinect Adventures!",
          "Grand Theft Auto V",
          "Grand Theft Auto: San Andreas",
          "Super Mario World",
          "Brain Age: Train Your Brain in Minutes a Day",
          "Pokemon Diamond/Pokemon Pearl",
          "Super Mario Land",
          "Super Mario Bros. 3",
          "Grand Theft Auto V",
          "Grand Theft Auto: Vice City",
          "Pokemon Ruby/Pokemon Sapphire",
          "Pokemon Black/Pokemon White",
          "Brain Age 2: More Training in Minutes a Day",
          "Gran Turismo 3: A-Spec",
          "Call of Duty: Modern Warfare 3",
          "Pokémon Yellow: Special Pikachu Edition",
          "Call of Duty: Black Ops",
          "Pokemon X/Pokemon Y",
          "Call of Duty: Black Ops 3",
          "Call of Duty: Black Ops II",
          "Call of Duty: Black Ops II",
          "Call of Duty: Modern Warfare 2",
          "Call of Duty: Modern Warfare 3",
          "Grand Theft Auto III",
          "Super Smash Bros. Brawl",
          "Call of Duty: Black Ops",
          "Animal Crossing: Wild World",
          "Mario Kart 7",
          "Halo 3",
          "Grand Theft Auto V",
          "Pokemon HeartGold/Pokemon SoulSilver",
          "Super Mario 64",
          "Gran Turismo 4",
          "Super Mario Galaxy",
          "Pokemon Omega Ruby/Pokemon Alpha Sapphire",
          "Super Mario Land 2: 6 Golden Coins",
          "Grand Theft Auto IV",
          "Gran Turismo",
          "Super Mario 3D Land",
          "Gran Turismo 5",
          "Call of Duty: Modern Warfare 2",
          "Grand Theft Auto IV",
          "Super Mario All-Stars",
          "Pokemon FireRed/Pokemon LeafGreen",
          "Super Mario 64",
          "Just Dance 3",
          "Call of Duty: Ghosts",
          "Halo: Reach",
          "Mario Kart 64",
          "New Super Mario Bros. 2",
          "Halo 4",
          "Final Fantasy VII",
          "Call of Duty: Ghosts",
          "Just Dance 2",
          "Gran Turismo 2",
          "Call of Duty 4: Modern Warfare",
          "Donkey Kong Country",
          "Minecraft",
          "Animal Crossing: New Leaf",
          "Mario Party DS",
          "The Elder Scrolls V: Skyrim",
          "Super Mario Kart",
          "FIFA 16",
          "Wii Party",
          "Halo 2",
          "Mario Party 8",
          "Pokemon Black 2/Pokemon White 2",
          "FIFA Soccer 13",
          "The Sims 3",
          "GoldenEye 007",
          "Mario & Sonic at the Olympic Games",
          "Final Fantasy X",
          "Final Fantasy VIII",
          "Pokémon Platinum Version",
          "Pac-Man",
          "Grand Theft Auto: Liberty City Stories",
          "Super Mario Galaxy 2",
          "Star Wars Battlefront (2015)",
          "Call of Duty: Advanced Warfare",
          "The Legend of Zelda: Ocarina of Time",
          "Crash Bandicoot 2: Cortex Strikes Back",
          "Super Mario Bros. 2",
          "Super Smash Bros. for Wii U and 3DS",
          "Call of Duty: World at War",
          "Battlefield 3"
         ],
         "type": "scatter",
         "x": [
          1,
          2,
          3,
          4,
          5,
          6,
          7,
          8,
          9,
          10,
          11,
          12,
          13,
          14,
          15,
          16,
          17,
          18,
          19,
          20,
          21,
          22,
          23,
          24,
          25,
          26,
          27,
          28,
          29,
          30,
          31,
          32,
          33,
          34,
          35,
          36,
          37,
          38,
          39,
          40,
          41,
          42,
          43,
          44,
          45,
          46,
          47,
          48,
          49,
          50,
          51,
          52,
          53,
          54,
          55,
          56,
          57,
          58,
          59,
          60,
          61,
          62,
          63,
          64,
          65,
          66,
          67,
          68,
          69,
          70,
          71,
          72,
          73,
          74,
          75,
          76,
          77,
          78,
          79,
          80,
          81,
          82,
          83,
          84,
          85,
          86,
          87,
          88,
          89,
          90,
          91,
          92,
          93,
          94,
          95,
          96,
          97,
          98,
          99,
          100
         ],
         "y": [
          8.46,
          0.77,
          3.31,
          2.96,
          1,
          0.58,
          2.9,
          2.85,
          2.26,
          0.47,
          2.75,
          1.92,
          0.71,
          2.15,
          1.79,
          1.67,
          4.14,
          10.57,
          0.55,
          2.05,
          1.37,
          0.42,
          0.46,
          1.38,
          1.78,
          0.5,
          0.82,
          1.18,
          1.16,
          1.32,
          0.59,
          1.13,
          0.79,
          2.31,
          2.52,
          1.12,
          1.29,
          1.62,
          1.3,
          1.02,
          1.83,
          0.88,
          0.89,
          1.21,
          2.02,
          0.77,
          0.23,
          7.53,
          0.76,
          0.65,
          0.29,
          1.03,
          0.52,
          0.78,
          2.12,
          1.63,
          1.62,
          0.29,
          0.35,
          0.98,
          1.07,
          0.82,
          0.78,
          0.15,
          0.63,
          0.73,
          0.96,
          1.38,
          0.78,
          0.5,
          0.9,
          0.23,
          0.77,
          0.41,
          0.7,
          0.85,
          0.18,
          1.26,
          0.68,
          0.08,
          0.73,
          0.43,
          2.01,
          0.71,
          0.15,
          0.91,
          0.33,
          0.23,
          0.55,
          0.08,
          1.75,
          0.64,
          1.23,
          1.37,
          0.16,
          0.31,
          0.19,
          0.43,
          0.69,
          0.69
         ]
        },
        {
         "marker": {
          "color": "rgb(255, 215, 0)"
         },
         "mode": "lines",
         "name": "Venda Global",
         "text": [
          "Wii Sports",
          "Super Mario Bros.",
          "Mario Kart Wii",
          "Wii Sports Resort",
          "Pokemon Red/Pokemon Blue",
          "Tetris",
          "New Super Mario Bros.",
          "Wii Play",
          "New Super Mario Bros. Wii",
          "Duck Hunt",
          "Nintendogs",
          "Mario Kart DS",
          "Pokemon Gold/Pokemon Silver",
          "Wii Fit",
          "Wii Fit Plus",
          "Kinect Adventures!",
          "Grand Theft Auto V",
          "Grand Theft Auto: San Andreas",
          "Super Mario World",
          "Brain Age: Train Your Brain in Minutes a Day",
          "Pokemon Diamond/Pokemon Pearl",
          "Super Mario Land",
          "Super Mario Bros. 3",
          "Grand Theft Auto V",
          "Grand Theft Auto: Vice City",
          "Pokemon Ruby/Pokemon Sapphire",
          "Pokemon Black/Pokemon White",
          "Brain Age 2: More Training in Minutes a Day",
          "Gran Turismo 3: A-Spec",
          "Call of Duty: Modern Warfare 3",
          "Pokémon Yellow: Special Pikachu Edition",
          "Call of Duty: Black Ops",
          "Pokemon X/Pokemon Y",
          "Call of Duty: Black Ops 3",
          "Call of Duty: Black Ops II",
          "Call of Duty: Black Ops II",
          "Call of Duty: Modern Warfare 2",
          "Call of Duty: Modern Warfare 3",
          "Grand Theft Auto III",
          "Super Smash Bros. Brawl",
          "Call of Duty: Black Ops",
          "Animal Crossing: Wild World",
          "Mario Kart 7",
          "Halo 3",
          "Grand Theft Auto V",
          "Pokemon HeartGold/Pokemon SoulSilver",
          "Super Mario 64",
          "Gran Turismo 4",
          "Super Mario Galaxy",
          "Pokemon Omega Ruby/Pokemon Alpha Sapphire",
          "Super Mario Land 2: 6 Golden Coins",
          "Grand Theft Auto IV",
          "Gran Turismo",
          "Super Mario 3D Land",
          "Gran Turismo 5",
          "Call of Duty: Modern Warfare 2",
          "Grand Theft Auto IV",
          "Super Mario All-Stars",
          "Pokemon FireRed/Pokemon LeafGreen",
          "Super Mario 64",
          "Just Dance 3",
          "Call of Duty: Ghosts",
          "Halo: Reach",
          "Mario Kart 64",
          "New Super Mario Bros. 2",
          "Halo 4",
          "Final Fantasy VII",
          "Call of Duty: Ghosts",
          "Just Dance 2",
          "Gran Turismo 2",
          "Call of Duty 4: Modern Warfare",
          "Donkey Kong Country",
          "Minecraft",
          "Animal Crossing: New Leaf",
          "Mario Party DS",
          "The Elder Scrolls V: Skyrim",
          "Super Mario Kart",
          "FIFA 16",
          "Wii Party",
          "Halo 2",
          "Mario Party 8",
          "Pokemon Black 2/Pokemon White 2",
          "FIFA Soccer 13",
          "The Sims 3",
          "GoldenEye 007",
          "Mario & Sonic at the Olympic Games",
          "Final Fantasy X",
          "Final Fantasy VIII",
          "Pokémon Platinum Version",
          "Pac-Man",
          "Grand Theft Auto: Liberty City Stories",
          "Super Mario Galaxy 2",
          "Star Wars Battlefront (2015)",
          "Call of Duty: Advanced Warfare",
          "The Legend of Zelda: Ocarina of Time",
          "Crash Bandicoot 2: Cortex Strikes Back",
          "Super Mario Bros. 2",
          "Super Smash Bros. for Wii U and 3DS",
          "Call of Duty: World at War",
          "Battlefield 3"
         ],
         "type": "scatter",
         "x": [
          1,
          2,
          3,
          4,
          5,
          6,
          7,
          8,
          9,
          10,
          11,
          12,
          13,
          14,
          15,
          16,
          17,
          18,
          19,
          20,
          21,
          22,
          23,
          24,
          25,
          26,
          27,
          28,
          29,
          30,
          31,
          32,
          33,
          34,
          35,
          36,
          37,
          38,
          39,
          40,
          41,
          42,
          43,
          44,
          45,
          46,
          47,
          48,
          49,
          50,
          51,
          52,
          53,
          54,
          55,
          56,
          57,
          58,
          59,
          60,
          61,
          62,
          63,
          64,
          65,
          66,
          67,
          68,
          69,
          70,
          71,
          72,
          73,
          74,
          75,
          76,
          77,
          78,
          79,
          80,
          81,
          82,
          83,
          84,
          85,
          86,
          87,
          88,
          89,
          90,
          91,
          92,
          93,
          94,
          95,
          96,
          97,
          98,
          99,
          100
         ],
         "y": [
          82.74,
          40.24,
          35.82,
          33,
          31.37,
          30.26,
          30.01,
          29.02,
          28.62,
          28.31,
          24.76,
          23.42,
          23.1,
          22.72,
          22,
          21.82,
          21.4,
          20.81,
          20.61,
          20.22,
          18.36,
          18.14,
          17.28,
          16.38,
          16.15,
          15.85,
          15.32,
          15.3,
          14.98,
          14.76,
          14.64,
          14.64,
          14.35,
          14.24,
          14.03,
          13.73,
          13.51,
          13.46,
          13.1,
          13.04,
          12.73,
          12.27,
          12.21,
          12.14,
          11.98,
          11.9,
          11.89,
          11.66,
          11.52,
          11.33,
          11.18,
          11.02,
          10.95,
          10.79,
          10.77,
          10.69,
          10.57,
          10.55,
          10.49,
          10.42,
          10.26,
          10.21,
          9.88,
          9.87,
          9.82,
          9.76,
          9.72,
          9.59,
          9.52,
          9.49,
          9.32,
          9.3,
          9.2,
          9.09,
          9.02,
          8.84,
          8.76,
          8.49,
          8.49,
          8.49,
          8.42,
          8.33,
          8.24,
          8.11,
          8.09,
          8.06,
          8.05,
          7.86,
          7.84,
          7.81,
          7.72,
          7.69,
          7.67,
          7.6,
          7.6,
          7.58,
          7.46,
          7.45,
          7.37,
          7.34
         ]
        }
       ],
       "layout": {
        "template": {
         "data": {
          "bar": [
           {
            "error_x": {
             "color": "#2a3f5f"
            },
            "error_y": {
             "color": "#2a3f5f"
            },
            "marker": {
             "line": {
              "color": "#E5ECF6",
              "width": 0.5
             }
            },
            "type": "bar"
           }
          ],
          "barpolar": [
           {
            "marker": {
             "line": {
              "color": "#E5ECF6",
              "width": 0.5
             }
            },
            "type": "barpolar"
           }
          ],
          "carpet": [
           {
            "aaxis": {
             "endlinecolor": "#2a3f5f",
             "gridcolor": "white",
             "linecolor": "white",
             "minorgridcolor": "white",
             "startlinecolor": "#2a3f5f"
            },
            "baxis": {
             "endlinecolor": "#2a3f5f",
             "gridcolor": "white",
             "linecolor": "white",
             "minorgridcolor": "white",
             "startlinecolor": "#2a3f5f"
            },
            "type": "carpet"
           }
          ],
          "choropleth": [
           {
            "colorbar": {
             "outlinewidth": 0,
             "ticks": ""
            },
            "type": "choropleth"
           }
          ],
          "contour": [
           {
            "colorbar": {
             "outlinewidth": 0,
             "ticks": ""
            },
            "colorscale": [
             [
              0,
              "#0d0887"
             ],
             [
              0.1111111111111111,
              "#46039f"
             ],
             [
              0.2222222222222222,
              "#7201a8"
             ],
             [
              0.3333333333333333,
              "#9c179e"
             ],
             [
              0.4444444444444444,
              "#bd3786"
             ],
             [
              0.5555555555555556,
              "#d8576b"
             ],
             [
              0.6666666666666666,
              "#ed7953"
             ],
             [
              0.7777777777777778,
              "#fb9f3a"
             ],
             [
              0.8888888888888888,
              "#fdca26"
             ],
             [
              1,
              "#f0f921"
             ]
            ],
            "type": "contour"
           }
          ],
          "contourcarpet": [
           {
            "colorbar": {
             "outlinewidth": 0,
             "ticks": ""
            },
            "type": "contourcarpet"
           }
          ],
          "heatmap": [
           {
            "colorbar": {
             "outlinewidth": 0,
             "ticks": ""
            },
            "colorscale": [
             [
              0,
              "#0d0887"
             ],
             [
              0.1111111111111111,
              "#46039f"
             ],
             [
              0.2222222222222222,
              "#7201a8"
             ],
             [
              0.3333333333333333,
              "#9c179e"
             ],
             [
              0.4444444444444444,
              "#bd3786"
             ],
             [
              0.5555555555555556,
              "#d8576b"
             ],
             [
              0.6666666666666666,
              "#ed7953"
             ],
             [
              0.7777777777777778,
              "#fb9f3a"
             ],
             [
              0.8888888888888888,
              "#fdca26"
             ],
             [
              1,
              "#f0f921"
             ]
            ],
            "type": "heatmap"
           }
          ],
          "heatmapgl": [
           {
            "colorbar": {
             "outlinewidth": 0,
             "ticks": ""
            },
            "colorscale": [
             [
              0,
              "#0d0887"
             ],
             [
              0.1111111111111111,
              "#46039f"
             ],
             [
              0.2222222222222222,
              "#7201a8"
             ],
             [
              0.3333333333333333,
              "#9c179e"
             ],
             [
              0.4444444444444444,
              "#bd3786"
             ],
             [
              0.5555555555555556,
              "#d8576b"
             ],
             [
              0.6666666666666666,
              "#ed7953"
             ],
             [
              0.7777777777777778,
              "#fb9f3a"
             ],
             [
              0.8888888888888888,
              "#fdca26"
             ],
             [
              1,
              "#f0f921"
             ]
            ],
            "type": "heatmapgl"
           }
          ],
          "histogram": [
           {
            "marker": {
             "colorbar": {
              "outlinewidth": 0,
              "ticks": ""
             }
            },
            "type": "histogram"
           }
          ],
          "histogram2d": [
           {
            "colorbar": {
             "outlinewidth": 0,
             "ticks": ""
            },
            "colorscale": [
             [
              0,
              "#0d0887"
             ],
             [
              0.1111111111111111,
              "#46039f"
             ],
             [
              0.2222222222222222,
              "#7201a8"
             ],
             [
              0.3333333333333333,
              "#9c179e"
             ],
             [
              0.4444444444444444,
              "#bd3786"
             ],
             [
              0.5555555555555556,
              "#d8576b"
             ],
             [
              0.6666666666666666,
              "#ed7953"
             ],
             [
              0.7777777777777778,
              "#fb9f3a"
             ],
             [
              0.8888888888888888,
              "#fdca26"
             ],
             [
              1,
              "#f0f921"
             ]
            ],
            "type": "histogram2d"
           }
          ],
          "histogram2dcontour": [
           {
            "colorbar": {
             "outlinewidth": 0,
             "ticks": ""
            },
            "colorscale": [
             [
              0,
              "#0d0887"
             ],
             [
              0.1111111111111111,
              "#46039f"
             ],
             [
              0.2222222222222222,
              "#7201a8"
             ],
             [
              0.3333333333333333,
              "#9c179e"
             ],
             [
              0.4444444444444444,
              "#bd3786"
             ],
             [
              0.5555555555555556,
              "#d8576b"
             ],
             [
              0.6666666666666666,
              "#ed7953"
             ],
             [
              0.7777777777777778,
              "#fb9f3a"
             ],
             [
              0.8888888888888888,
              "#fdca26"
             ],
             [
              1,
              "#f0f921"
             ]
            ],
            "type": "histogram2dcontour"
           }
          ],
          "mesh3d": [
           {
            "colorbar": {
             "outlinewidth": 0,
             "ticks": ""
            },
            "type": "mesh3d"
           }
          ],
          "parcoords": [
           {
            "line": {
             "colorbar": {
              "outlinewidth": 0,
              "ticks": ""
             }
            },
            "type": "parcoords"
           }
          ],
          "pie": [
           {
            "automargin": true,
            "type": "pie"
           }
          ],
          "scatter": [
           {
            "marker": {
             "colorbar": {
              "outlinewidth": 0,
              "ticks": ""
             }
            },
            "type": "scatter"
           }
          ],
          "scatter3d": [
           {
            "line": {
             "colorbar": {
              "outlinewidth": 0,
              "ticks": ""
             }
            },
            "marker": {
             "colorbar": {
              "outlinewidth": 0,
              "ticks": ""
             }
            },
            "type": "scatter3d"
           }
          ],
          "scattercarpet": [
           {
            "marker": {
             "colorbar": {
              "outlinewidth": 0,
              "ticks": ""
             }
            },
            "type": "scattercarpet"
           }
          ],
          "scattergeo": [
           {
            "marker": {
             "colorbar": {
              "outlinewidth": 0,
              "ticks": ""
             }
            },
            "type": "scattergeo"
           }
          ],
          "scattergl": [
           {
            "marker": {
             "colorbar": {
              "outlinewidth": 0,
              "ticks": ""
             }
            },
            "type": "scattergl"
           }
          ],
          "scattermapbox": [
           {
            "marker": {
             "colorbar": {
              "outlinewidth": 0,
              "ticks": ""
             }
            },
            "type": "scattermapbox"
           }
          ],
          "scatterpolar": [
           {
            "marker": {
             "colorbar": {
              "outlinewidth": 0,
              "ticks": ""
             }
            },
            "type": "scatterpolar"
           }
          ],
          "scatterpolargl": [
           {
            "marker": {
             "colorbar": {
              "outlinewidth": 0,
              "ticks": ""
             }
            },
            "type": "scatterpolargl"
           }
          ],
          "scatterternary": [
           {
            "marker": {
             "colorbar": {
              "outlinewidth": 0,
              "ticks": ""
             }
            },
            "type": "scatterternary"
           }
          ],
          "surface": [
           {
            "colorbar": {
             "outlinewidth": 0,
             "ticks": ""
            },
            "colorscale": [
             [
              0,
              "#0d0887"
             ],
             [
              0.1111111111111111,
              "#46039f"
             ],
             [
              0.2222222222222222,
              "#7201a8"
             ],
             [
              0.3333333333333333,
              "#9c179e"
             ],
             [
              0.4444444444444444,
              "#bd3786"
             ],
             [
              0.5555555555555556,
              "#d8576b"
             ],
             [
              0.6666666666666666,
              "#ed7953"
             ],
             [
              0.7777777777777778,
              "#fb9f3a"
             ],
             [
              0.8888888888888888,
              "#fdca26"
             ],
             [
              1,
              "#f0f921"
             ]
            ],
            "type": "surface"
           }
          ],
          "table": [
           {
            "cells": {
             "fill": {
              "color": "#EBF0F8"
             },
             "line": {
              "color": "white"
             }
            },
            "header": {
             "fill": {
              "color": "#C8D4E3"
             },
             "line": {
              "color": "white"
             }
            },
            "type": "table"
           }
          ]
         },
         "layout": {
          "annotationdefaults": {
           "arrowcolor": "#2a3f5f",
           "arrowhead": 0,
           "arrowwidth": 1
          },
          "coloraxis": {
           "colorbar": {
            "outlinewidth": 0,
            "ticks": ""
           }
          },
          "colorscale": {
           "diverging": [
            [
             0,
             "#8e0152"
            ],
            [
             0.1,
             "#c51b7d"
            ],
            [
             0.2,
             "#de77ae"
            ],
            [
             0.3,
             "#f1b6da"
            ],
            [
             0.4,
             "#fde0ef"
            ],
            [
             0.5,
             "#f7f7f7"
            ],
            [
             0.6,
             "#e6f5d0"
            ],
            [
             0.7,
             "#b8e186"
            ],
            [
             0.8,
             "#7fbc41"
            ],
            [
             0.9,
             "#4d9221"
            ],
            [
             1,
             "#276419"
            ]
           ],
           "sequential": [
            [
             0,
             "#0d0887"
            ],
            [
             0.1111111111111111,
             "#46039f"
            ],
            [
             0.2222222222222222,
             "#7201a8"
            ],
            [
             0.3333333333333333,
             "#9c179e"
            ],
            [
             0.4444444444444444,
             "#bd3786"
            ],
            [
             0.5555555555555556,
             "#d8576b"
            ],
            [
             0.6666666666666666,
             "#ed7953"
            ],
            [
             0.7777777777777778,
             "#fb9f3a"
            ],
            [
             0.8888888888888888,
             "#fdca26"
            ],
            [
             1,
             "#f0f921"
            ]
           ],
           "sequentialminus": [
            [
             0,
             "#0d0887"
            ],
            [
             0.1111111111111111,
             "#46039f"
            ],
            [
             0.2222222222222222,
             "#7201a8"
            ],
            [
             0.3333333333333333,
             "#9c179e"
            ],
            [
             0.4444444444444444,
             "#bd3786"
            ],
            [
             0.5555555555555556,
             "#d8576b"
            ],
            [
             0.6666666666666666,
             "#ed7953"
            ],
            [
             0.7777777777777778,
             "#fb9f3a"
            ],
            [
             0.8888888888888888,
             "#fdca26"
            ],
            [
             1,
             "#f0f921"
            ]
           ]
          },
          "colorway": [
           "#636efa",
           "#EF553B",
           "#00cc96",
           "#ab63fa",
           "#FFA15A",
           "#19d3f3",
           "#FF6692",
           "#B6E880",
           "#FF97FF",
           "#FECB52"
          ],
          "font": {
           "color": "#2a3f5f"
          },
          "geo": {
           "bgcolor": "white",
           "lakecolor": "white",
           "landcolor": "#E5ECF6",
           "showlakes": true,
           "showland": true,
           "subunitcolor": "white"
          },
          "hoverlabel": {
           "align": "left"
          },
          "hovermode": "closest",
          "mapbox": {
           "style": "light"
          },
          "paper_bgcolor": "white",
          "plot_bgcolor": "#E5ECF6",
          "polar": {
           "angularaxis": {
            "gridcolor": "white",
            "linecolor": "white",
            "ticks": ""
           },
           "bgcolor": "#E5ECF6",
           "radialaxis": {
            "gridcolor": "white",
            "linecolor": "white",
            "ticks": ""
           }
          },
          "scene": {
           "xaxis": {
            "backgroundcolor": "#E5ECF6",
            "gridcolor": "white",
            "gridwidth": 2,
            "linecolor": "white",
            "showbackground": true,
            "ticks": "",
            "zerolinecolor": "white"
           },
           "yaxis": {
            "backgroundcolor": "#E5ECF6",
            "gridcolor": "white",
            "gridwidth": 2,
            "linecolor": "white",
            "showbackground": true,
            "ticks": "",
            "zerolinecolor": "white"
           },
           "zaxis": {
            "backgroundcolor": "#E5ECF6",
            "gridcolor": "white",
            "gridwidth": 2,
            "linecolor": "white",
            "showbackground": true,
            "ticks": "",
            "zerolinecolor": "white"
           }
          },
          "shapedefaults": {
           "line": {
            "color": "#2a3f5f"
           }
          },
          "ternary": {
           "aaxis": {
            "gridcolor": "white",
            "linecolor": "white",
            "ticks": ""
           },
           "baxis": {
            "gridcolor": "white",
            "linecolor": "white",
            "ticks": ""
           },
           "bgcolor": "#E5ECF6",
           "caxis": {
            "gridcolor": "white",
            "linecolor": "white",
            "ticks": ""
           }
          },
          "title": {
           "x": 0.05
          },
          "xaxis": {
           "automargin": true,
           "gridcolor": "white",
           "linecolor": "white",
           "ticks": "",
           "title": {
            "standoff": 15
           },
           "zerolinecolor": "white",
           "zerolinewidth": 2
          },
          "yaxis": {
           "automargin": true,
           "gridcolor": "white",
           "linecolor": "white",
           "ticks": "",
           "title": {
            "standoff": 15
           },
           "zerolinecolor": "white",
           "zerolinewidth": 2
          }
         }
        },
        "title": {
         "text": "Outras Vendas e Vendas Globais vs Ranking dos 100 video games"
        },
        "xaxis": {
         "ticklen": 20,
         "title": {
          "text": "Ranking"
         },
         "zeroline": false
        }
       }
      },
      "text/html": [
       "<div>\n",
       "        \n",
       "        \n",
       "            <div id=\"8761a7c6-bf97-4018-8ff2-7c72aeacd298\" class=\"plotly-graph-div\" style=\"height:525px; width:100%;\"></div>\n",
       "            <script type=\"text/javascript\">\n",
       "                require([\"plotly\"], function(Plotly) {\n",
       "                    window.PLOTLYENV=window.PLOTLYENV || {};\n",
       "                    \n",
       "                if (document.getElementById(\"8761a7c6-bf97-4018-8ff2-7c72aeacd298\")) {\n",
       "                    Plotly.newPlot(\n",
       "                        '8761a7c6-bf97-4018-8ff2-7c72aeacd298',\n",
       "                        [{\"marker\": {\"color\": \"rgb(0, 0, 0)\"}, \"mode\": \"lines\", \"name\": \"Outras Vendas\", \"text\": [\"Wii Sports\", \"Super Mario Bros.\", \"Mario Kart Wii\", \"Wii Sports Resort\", \"Pokemon Red/Pokemon Blue\", \"Tetris\", \"New Super Mario Bros.\", \"Wii Play\", \"New Super Mario Bros. Wii\", \"Duck Hunt\", \"Nintendogs\", \"Mario Kart DS\", \"Pokemon Gold/Pokemon Silver\", \"Wii Fit\", \"Wii Fit Plus\", \"Kinect Adventures!\", \"Grand Theft Auto V\", \"Grand Theft Auto: San Andreas\", \"Super Mario World\", \"Brain Age: Train Your Brain in Minutes a Day\", \"Pokemon Diamond/Pokemon Pearl\", \"Super Mario Land\", \"Super Mario Bros. 3\", \"Grand Theft Auto V\", \"Grand Theft Auto: Vice City\", \"Pokemon Ruby/Pokemon Sapphire\", \"Pokemon Black/Pokemon White\", \"Brain Age 2: More Training in Minutes a Day\", \"Gran Turismo 3: A-Spec\", \"Call of Duty: Modern Warfare 3\", \"Pok\\u00e9mon Yellow: Special Pikachu Edition\", \"Call of Duty: Black Ops\", \"Pokemon X/Pokemon Y\", \"Call of Duty: Black Ops 3\", \"Call of Duty: Black Ops II\", \"Call of Duty: Black Ops II\", \"Call of Duty: Modern Warfare 2\", \"Call of Duty: Modern Warfare 3\", \"Grand Theft Auto III\", \"Super Smash Bros. Brawl\", \"Call of Duty: Black Ops\", \"Animal Crossing: Wild World\", \"Mario Kart 7\", \"Halo 3\", \"Grand Theft Auto V\", \"Pokemon HeartGold/Pokemon SoulSilver\", \"Super Mario 64\", \"Gran Turismo 4\", \"Super Mario Galaxy\", \"Pokemon Omega Ruby/Pokemon Alpha Sapphire\", \"Super Mario Land 2: 6 Golden Coins\", \"Grand Theft Auto IV\", \"Gran Turismo\", \"Super Mario 3D Land\", \"Gran Turismo 5\", \"Call of Duty: Modern Warfare 2\", \"Grand Theft Auto IV\", \"Super Mario All-Stars\", \"Pokemon FireRed/Pokemon LeafGreen\", \"Super Mario 64\", \"Just Dance 3\", \"Call of Duty: Ghosts\", \"Halo: Reach\", \"Mario Kart 64\", \"New Super Mario Bros. 2\", \"Halo 4\", \"Final Fantasy VII\", \"Call of Duty: Ghosts\", \"Just Dance 2\", \"Gran Turismo 2\", \"Call of Duty 4: Modern Warfare\", \"Donkey Kong Country\", \"Minecraft\", \"Animal Crossing: New Leaf\", \"Mario Party DS\", \"The Elder Scrolls V: Skyrim\", \"Super Mario Kart\", \"FIFA 16\", \"Wii Party\", \"Halo 2\", \"Mario Party 8\", \"Pokemon Black 2/Pokemon White 2\", \"FIFA Soccer 13\", \"The Sims 3\", \"GoldenEye 007\", \"Mario & Sonic at the Olympic Games\", \"Final Fantasy X\", \"Final Fantasy VIII\", \"Pok\\u00e9mon Platinum Version\", \"Pac-Man\", \"Grand Theft Auto: Liberty City Stories\", \"Super Mario Galaxy 2\", \"Star Wars Battlefront (2015)\", \"Call of Duty: Advanced Warfare\", \"The Legend of Zelda: Ocarina of Time\", \"Crash Bandicoot 2: Cortex Strikes Back\", \"Super Mario Bros. 2\", \"Super Smash Bros. for Wii U and 3DS\", \"Call of Duty: World at War\", \"Battlefield 3\"], \"type\": \"scatter\", \"x\": [1, 2, 3, 4, 5, 6, 7, 8, 9, 10, 11, 12, 13, 14, 15, 16, 17, 18, 19, 20, 21, 22, 23, 24, 25, 26, 27, 28, 29, 30, 31, 32, 33, 34, 35, 36, 37, 38, 39, 40, 41, 42, 43, 44, 45, 46, 47, 48, 49, 50, 51, 52, 53, 54, 55, 56, 57, 58, 59, 60, 61, 62, 63, 64, 65, 66, 67, 68, 69, 70, 71, 72, 73, 74, 75, 76, 77, 78, 79, 80, 81, 82, 83, 84, 85, 86, 87, 88, 89, 90, 91, 92, 93, 94, 95, 96, 97, 98, 99, 100], \"y\": [8.46, 0.77, 3.31, 2.96, 1.0, 0.58, 2.9, 2.85, 2.26, 0.47, 2.75, 1.92, 0.71, 2.15, 1.79, 1.67, 4.14, 10.57, 0.55, 2.05, 1.37, 0.42, 0.46, 1.38, 1.78, 0.5, 0.82, 1.18, 1.16, 1.32, 0.59, 1.13, 0.79, 2.31, 2.52, 1.12, 1.29, 1.62, 1.3, 1.02, 1.83, 0.88, 0.89, 1.21, 2.02, 0.77, 0.23, 7.53, 0.76, 0.65, 0.29, 1.03, 0.52, 0.78, 2.12, 1.63, 1.62, 0.29, 0.35, 0.98, 1.07, 0.82, 0.78, 0.15, 0.63, 0.73, 0.96, 1.38, 0.78, 0.5, 0.9, 0.23, 0.77, 0.41, 0.7, 0.85, 0.18, 1.26, 0.68, 0.08, 0.73, 0.43, 2.01, 0.71, 0.15, 0.91, 0.33, 0.23, 0.55, 0.08, 1.75, 0.64, 1.23, 1.37, 0.16, 0.31, 0.19, 0.43, 0.69, 0.69]}, {\"marker\": {\"color\": \"rgb(255, 215, 0)\"}, \"mode\": \"lines\", \"name\": \"Venda Global\", \"text\": [\"Wii Sports\", \"Super Mario Bros.\", \"Mario Kart Wii\", \"Wii Sports Resort\", \"Pokemon Red/Pokemon Blue\", \"Tetris\", \"New Super Mario Bros.\", \"Wii Play\", \"New Super Mario Bros. Wii\", \"Duck Hunt\", \"Nintendogs\", \"Mario Kart DS\", \"Pokemon Gold/Pokemon Silver\", \"Wii Fit\", \"Wii Fit Plus\", \"Kinect Adventures!\", \"Grand Theft Auto V\", \"Grand Theft Auto: San Andreas\", \"Super Mario World\", \"Brain Age: Train Your Brain in Minutes a Day\", \"Pokemon Diamond/Pokemon Pearl\", \"Super Mario Land\", \"Super Mario Bros. 3\", \"Grand Theft Auto V\", \"Grand Theft Auto: Vice City\", \"Pokemon Ruby/Pokemon Sapphire\", \"Pokemon Black/Pokemon White\", \"Brain Age 2: More Training in Minutes a Day\", \"Gran Turismo 3: A-Spec\", \"Call of Duty: Modern Warfare 3\", \"Pok\\u00e9mon Yellow: Special Pikachu Edition\", \"Call of Duty: Black Ops\", \"Pokemon X/Pokemon Y\", \"Call of Duty: Black Ops 3\", \"Call of Duty: Black Ops II\", \"Call of Duty: Black Ops II\", \"Call of Duty: Modern Warfare 2\", \"Call of Duty: Modern Warfare 3\", \"Grand Theft Auto III\", \"Super Smash Bros. Brawl\", \"Call of Duty: Black Ops\", \"Animal Crossing: Wild World\", \"Mario Kart 7\", \"Halo 3\", \"Grand Theft Auto V\", \"Pokemon HeartGold/Pokemon SoulSilver\", \"Super Mario 64\", \"Gran Turismo 4\", \"Super Mario Galaxy\", \"Pokemon Omega Ruby/Pokemon Alpha Sapphire\", \"Super Mario Land 2: 6 Golden Coins\", \"Grand Theft Auto IV\", \"Gran Turismo\", \"Super Mario 3D Land\", \"Gran Turismo 5\", \"Call of Duty: Modern Warfare 2\", \"Grand Theft Auto IV\", \"Super Mario All-Stars\", \"Pokemon FireRed/Pokemon LeafGreen\", \"Super Mario 64\", \"Just Dance 3\", \"Call of Duty: Ghosts\", \"Halo: Reach\", \"Mario Kart 64\", \"New Super Mario Bros. 2\", \"Halo 4\", \"Final Fantasy VII\", \"Call of Duty: Ghosts\", \"Just Dance 2\", \"Gran Turismo 2\", \"Call of Duty 4: Modern Warfare\", \"Donkey Kong Country\", \"Minecraft\", \"Animal Crossing: New Leaf\", \"Mario Party DS\", \"The Elder Scrolls V: Skyrim\", \"Super Mario Kart\", \"FIFA 16\", \"Wii Party\", \"Halo 2\", \"Mario Party 8\", \"Pokemon Black 2/Pokemon White 2\", \"FIFA Soccer 13\", \"The Sims 3\", \"GoldenEye 007\", \"Mario & Sonic at the Olympic Games\", \"Final Fantasy X\", \"Final Fantasy VIII\", \"Pok\\u00e9mon Platinum Version\", \"Pac-Man\", \"Grand Theft Auto: Liberty City Stories\", \"Super Mario Galaxy 2\", \"Star Wars Battlefront (2015)\", \"Call of Duty: Advanced Warfare\", \"The Legend of Zelda: Ocarina of Time\", \"Crash Bandicoot 2: Cortex Strikes Back\", \"Super Mario Bros. 2\", \"Super Smash Bros. for Wii U and 3DS\", \"Call of Duty: World at War\", \"Battlefield 3\"], \"type\": \"scatter\", \"x\": [1, 2, 3, 4, 5, 6, 7, 8, 9, 10, 11, 12, 13, 14, 15, 16, 17, 18, 19, 20, 21, 22, 23, 24, 25, 26, 27, 28, 29, 30, 31, 32, 33, 34, 35, 36, 37, 38, 39, 40, 41, 42, 43, 44, 45, 46, 47, 48, 49, 50, 51, 52, 53, 54, 55, 56, 57, 58, 59, 60, 61, 62, 63, 64, 65, 66, 67, 68, 69, 70, 71, 72, 73, 74, 75, 76, 77, 78, 79, 80, 81, 82, 83, 84, 85, 86, 87, 88, 89, 90, 91, 92, 93, 94, 95, 96, 97, 98, 99, 100], \"y\": [82.74, 40.24, 35.82, 33.0, 31.37, 30.26, 30.01, 29.02, 28.62, 28.31, 24.76, 23.42, 23.1, 22.72, 22.0, 21.82, 21.4, 20.81, 20.61, 20.22, 18.36, 18.14, 17.28, 16.38, 16.15, 15.85, 15.32, 15.3, 14.98, 14.76, 14.64, 14.64, 14.35, 14.24, 14.03, 13.73, 13.51, 13.46, 13.1, 13.04, 12.73, 12.27, 12.21, 12.14, 11.98, 11.9, 11.89, 11.66, 11.52, 11.33, 11.18, 11.02, 10.95, 10.79, 10.77, 10.69, 10.57, 10.55, 10.49, 10.42, 10.26, 10.21, 9.88, 9.87, 9.82, 9.76, 9.72, 9.59, 9.52, 9.49, 9.32, 9.3, 9.2, 9.09, 9.02, 8.84, 8.76, 8.49, 8.49, 8.49, 8.42, 8.33, 8.24, 8.11, 8.09, 8.06, 8.05, 7.86, 7.84, 7.81, 7.72, 7.69, 7.67, 7.6, 7.6, 7.58, 7.46, 7.45, 7.37, 7.34]}],\n",
       "                        {\"template\": {\"data\": {\"bar\": [{\"error_x\": {\"color\": \"#2a3f5f\"}, \"error_y\": {\"color\": \"#2a3f5f\"}, \"marker\": {\"line\": {\"color\": \"#E5ECF6\", \"width\": 0.5}}, \"type\": \"bar\"}], \"barpolar\": [{\"marker\": {\"line\": {\"color\": \"#E5ECF6\", \"width\": 0.5}}, \"type\": \"barpolar\"}], \"carpet\": [{\"aaxis\": {\"endlinecolor\": \"#2a3f5f\", \"gridcolor\": \"white\", \"linecolor\": \"white\", \"minorgridcolor\": \"white\", \"startlinecolor\": \"#2a3f5f\"}, \"baxis\": {\"endlinecolor\": \"#2a3f5f\", \"gridcolor\": \"white\", \"linecolor\": \"white\", \"minorgridcolor\": \"white\", \"startlinecolor\": \"#2a3f5f\"}, \"type\": \"carpet\"}], \"choropleth\": [{\"colorbar\": {\"outlinewidth\": 0, \"ticks\": \"\"}, \"type\": \"choropleth\"}], \"contour\": [{\"colorbar\": {\"outlinewidth\": 0, \"ticks\": \"\"}, \"colorscale\": [[0.0, \"#0d0887\"], [0.1111111111111111, \"#46039f\"], [0.2222222222222222, \"#7201a8\"], [0.3333333333333333, \"#9c179e\"], [0.4444444444444444, \"#bd3786\"], [0.5555555555555556, \"#d8576b\"], [0.6666666666666666, \"#ed7953\"], [0.7777777777777778, \"#fb9f3a\"], [0.8888888888888888, \"#fdca26\"], [1.0, \"#f0f921\"]], \"type\": \"contour\"}], \"contourcarpet\": [{\"colorbar\": {\"outlinewidth\": 0, \"ticks\": \"\"}, \"type\": \"contourcarpet\"}], \"heatmap\": [{\"colorbar\": {\"outlinewidth\": 0, \"ticks\": \"\"}, \"colorscale\": [[0.0, \"#0d0887\"], [0.1111111111111111, \"#46039f\"], [0.2222222222222222, \"#7201a8\"], [0.3333333333333333, \"#9c179e\"], [0.4444444444444444, \"#bd3786\"], [0.5555555555555556, \"#d8576b\"], [0.6666666666666666, \"#ed7953\"], [0.7777777777777778, \"#fb9f3a\"], [0.8888888888888888, \"#fdca26\"], [1.0, \"#f0f921\"]], \"type\": \"heatmap\"}], \"heatmapgl\": [{\"colorbar\": {\"outlinewidth\": 0, \"ticks\": \"\"}, \"colorscale\": [[0.0, \"#0d0887\"], [0.1111111111111111, \"#46039f\"], [0.2222222222222222, \"#7201a8\"], [0.3333333333333333, \"#9c179e\"], [0.4444444444444444, \"#bd3786\"], [0.5555555555555556, \"#d8576b\"], [0.6666666666666666, \"#ed7953\"], [0.7777777777777778, \"#fb9f3a\"], [0.8888888888888888, \"#fdca26\"], [1.0, \"#f0f921\"]], \"type\": \"heatmapgl\"}], \"histogram\": [{\"marker\": {\"colorbar\": {\"outlinewidth\": 0, \"ticks\": \"\"}}, \"type\": \"histogram\"}], \"histogram2d\": [{\"colorbar\": {\"outlinewidth\": 0, \"ticks\": \"\"}, \"colorscale\": [[0.0, \"#0d0887\"], [0.1111111111111111, \"#46039f\"], [0.2222222222222222, \"#7201a8\"], [0.3333333333333333, \"#9c179e\"], [0.4444444444444444, \"#bd3786\"], [0.5555555555555556, \"#d8576b\"], [0.6666666666666666, \"#ed7953\"], [0.7777777777777778, \"#fb9f3a\"], [0.8888888888888888, \"#fdca26\"], [1.0, \"#f0f921\"]], \"type\": \"histogram2d\"}], \"histogram2dcontour\": [{\"colorbar\": {\"outlinewidth\": 0, \"ticks\": \"\"}, \"colorscale\": [[0.0, \"#0d0887\"], [0.1111111111111111, \"#46039f\"], [0.2222222222222222, \"#7201a8\"], [0.3333333333333333, \"#9c179e\"], [0.4444444444444444, \"#bd3786\"], [0.5555555555555556, \"#d8576b\"], [0.6666666666666666, \"#ed7953\"], [0.7777777777777778, \"#fb9f3a\"], [0.8888888888888888, \"#fdca26\"], [1.0, \"#f0f921\"]], \"type\": \"histogram2dcontour\"}], \"mesh3d\": [{\"colorbar\": {\"outlinewidth\": 0, \"ticks\": \"\"}, \"type\": \"mesh3d\"}], \"parcoords\": [{\"line\": {\"colorbar\": {\"outlinewidth\": 0, \"ticks\": \"\"}}, \"type\": \"parcoords\"}], \"pie\": [{\"automargin\": true, \"type\": \"pie\"}], \"scatter\": [{\"marker\": {\"colorbar\": {\"outlinewidth\": 0, \"ticks\": \"\"}}, \"type\": \"scatter\"}], \"scatter3d\": [{\"line\": {\"colorbar\": {\"outlinewidth\": 0, \"ticks\": \"\"}}, \"marker\": {\"colorbar\": {\"outlinewidth\": 0, \"ticks\": \"\"}}, \"type\": \"scatter3d\"}], \"scattercarpet\": [{\"marker\": {\"colorbar\": {\"outlinewidth\": 0, \"ticks\": \"\"}}, \"type\": \"scattercarpet\"}], \"scattergeo\": [{\"marker\": {\"colorbar\": {\"outlinewidth\": 0, \"ticks\": \"\"}}, \"type\": \"scattergeo\"}], \"scattergl\": [{\"marker\": {\"colorbar\": {\"outlinewidth\": 0, \"ticks\": \"\"}}, \"type\": \"scattergl\"}], \"scattermapbox\": [{\"marker\": {\"colorbar\": {\"outlinewidth\": 0, \"ticks\": \"\"}}, \"type\": \"scattermapbox\"}], \"scatterpolar\": [{\"marker\": {\"colorbar\": {\"outlinewidth\": 0, \"ticks\": \"\"}}, \"type\": \"scatterpolar\"}], \"scatterpolargl\": [{\"marker\": {\"colorbar\": {\"outlinewidth\": 0, \"ticks\": \"\"}}, \"type\": \"scatterpolargl\"}], \"scatterternary\": [{\"marker\": {\"colorbar\": {\"outlinewidth\": 0, \"ticks\": \"\"}}, \"type\": \"scatterternary\"}], \"surface\": [{\"colorbar\": {\"outlinewidth\": 0, \"ticks\": \"\"}, \"colorscale\": [[0.0, \"#0d0887\"], [0.1111111111111111, \"#46039f\"], [0.2222222222222222, \"#7201a8\"], [0.3333333333333333, \"#9c179e\"], [0.4444444444444444, \"#bd3786\"], [0.5555555555555556, \"#d8576b\"], [0.6666666666666666, \"#ed7953\"], [0.7777777777777778, \"#fb9f3a\"], [0.8888888888888888, \"#fdca26\"], [1.0, \"#f0f921\"]], \"type\": \"surface\"}], \"table\": [{\"cells\": {\"fill\": {\"color\": \"#EBF0F8\"}, \"line\": {\"color\": \"white\"}}, \"header\": {\"fill\": {\"color\": \"#C8D4E3\"}, \"line\": {\"color\": \"white\"}}, \"type\": \"table\"}]}, \"layout\": {\"annotationdefaults\": {\"arrowcolor\": \"#2a3f5f\", \"arrowhead\": 0, \"arrowwidth\": 1}, \"coloraxis\": {\"colorbar\": {\"outlinewidth\": 0, \"ticks\": \"\"}}, \"colorscale\": {\"diverging\": [[0, \"#8e0152\"], [0.1, \"#c51b7d\"], [0.2, \"#de77ae\"], [0.3, \"#f1b6da\"], [0.4, \"#fde0ef\"], [0.5, \"#f7f7f7\"], [0.6, \"#e6f5d0\"], [0.7, \"#b8e186\"], [0.8, \"#7fbc41\"], [0.9, \"#4d9221\"], [1, \"#276419\"]], \"sequential\": [[0.0, \"#0d0887\"], [0.1111111111111111, \"#46039f\"], [0.2222222222222222, \"#7201a8\"], [0.3333333333333333, \"#9c179e\"], [0.4444444444444444, \"#bd3786\"], [0.5555555555555556, \"#d8576b\"], [0.6666666666666666, \"#ed7953\"], [0.7777777777777778, \"#fb9f3a\"], [0.8888888888888888, \"#fdca26\"], [1.0, \"#f0f921\"]], \"sequentialminus\": [[0.0, \"#0d0887\"], [0.1111111111111111, \"#46039f\"], [0.2222222222222222, \"#7201a8\"], [0.3333333333333333, \"#9c179e\"], [0.4444444444444444, \"#bd3786\"], [0.5555555555555556, \"#d8576b\"], [0.6666666666666666, \"#ed7953\"], [0.7777777777777778, \"#fb9f3a\"], [0.8888888888888888, \"#fdca26\"], [1.0, \"#f0f921\"]]}, \"colorway\": [\"#636efa\", \"#EF553B\", \"#00cc96\", \"#ab63fa\", \"#FFA15A\", \"#19d3f3\", \"#FF6692\", \"#B6E880\", \"#FF97FF\", \"#FECB52\"], \"font\": {\"color\": \"#2a3f5f\"}, \"geo\": {\"bgcolor\": \"white\", \"lakecolor\": \"white\", \"landcolor\": \"#E5ECF6\", \"showlakes\": true, \"showland\": true, \"subunitcolor\": \"white\"}, \"hoverlabel\": {\"align\": \"left\"}, \"hovermode\": \"closest\", \"mapbox\": {\"style\": \"light\"}, \"paper_bgcolor\": \"white\", \"plot_bgcolor\": \"#E5ECF6\", \"polar\": {\"angularaxis\": {\"gridcolor\": \"white\", \"linecolor\": \"white\", \"ticks\": \"\"}, \"bgcolor\": \"#E5ECF6\", \"radialaxis\": {\"gridcolor\": \"white\", \"linecolor\": \"white\", \"ticks\": \"\"}}, \"scene\": {\"xaxis\": {\"backgroundcolor\": \"#E5ECF6\", \"gridcolor\": \"white\", \"gridwidth\": 2, \"linecolor\": \"white\", \"showbackground\": true, \"ticks\": \"\", \"zerolinecolor\": \"white\"}, \"yaxis\": {\"backgroundcolor\": \"#E5ECF6\", \"gridcolor\": \"white\", \"gridwidth\": 2, \"linecolor\": \"white\", \"showbackground\": true, \"ticks\": \"\", \"zerolinecolor\": \"white\"}, \"zaxis\": {\"backgroundcolor\": \"#E5ECF6\", \"gridcolor\": \"white\", \"gridwidth\": 2, \"linecolor\": \"white\", \"showbackground\": true, \"ticks\": \"\", \"zerolinecolor\": \"white\"}}, \"shapedefaults\": {\"line\": {\"color\": \"#2a3f5f\"}}, \"ternary\": {\"aaxis\": {\"gridcolor\": \"white\", \"linecolor\": \"white\", \"ticks\": \"\"}, \"baxis\": {\"gridcolor\": \"white\", \"linecolor\": \"white\", \"ticks\": \"\"}, \"bgcolor\": \"#E5ECF6\", \"caxis\": {\"gridcolor\": \"white\", \"linecolor\": \"white\", \"ticks\": \"\"}}, \"title\": {\"x\": 0.05}, \"xaxis\": {\"automargin\": true, \"gridcolor\": \"white\", \"linecolor\": \"white\", \"ticks\": \"\", \"title\": {\"standoff\": 15}, \"zerolinecolor\": \"white\", \"zerolinewidth\": 2}, \"yaxis\": {\"automargin\": true, \"gridcolor\": \"white\", \"linecolor\": \"white\", \"ticks\": \"\", \"title\": {\"standoff\": 15}, \"zerolinecolor\": \"white\", \"zerolinewidth\": 2}}}, \"title\": {\"text\": \"Outras Vendas e Vendas Globais vs Ranking dos 100 video games\"}, \"xaxis\": {\"ticklen\": 20, \"title\": {\"text\": \"Ranking\"}, \"zeroline\": false}},\n",
       "                        {\"responsive\": true}\n",
       "                    ).then(function(){\n",
       "                            \n",
       "var gd = document.getElementById('8761a7c6-bf97-4018-8ff2-7c72aeacd298');\n",
       "var x = new MutationObserver(function (mutations, observer) {{\n",
       "        var display = window.getComputedStyle(gd).display;\n",
       "        if (!display || display === 'none') {{\n",
       "            console.log([gd, 'removed!']);\n",
       "            Plotly.purge(gd);\n",
       "            observer.disconnect();\n",
       "        }}\n",
       "}});\n",
       "\n",
       "// Listen for the removal of the full notebook cells\n",
       "var notebookContainer = gd.closest('#notebook-container');\n",
       "if (notebookContainer) {{\n",
       "    x.observe(notebookContainer, {childList: true});\n",
       "}}\n",
       "\n",
       "// Listen for the clearing of the current output cell\n",
       "var outputEl = gd.closest('.output');\n",
       "if (outputEl) {{\n",
       "    x.observe(outputEl, {childList: true});\n",
       "}}\n",
       "\n",
       "                        })\n",
       "                };\n",
       "                });\n",
       "            </script>\n",
       "        </div>"
      ]
     },
     "metadata": {},
     "output_type": "display_data"
    }
   ],
   "source": [
    "df = vg_df.iloc[:100,:]\n",
    "\n",
    "linha1 = go.Scatter(\n",
    "    x = df.Rank,\n",
    "    y = df.Other_Sales,\n",
    "    mode = \"lines\",\n",
    "    name = \"Outras Vendas\",\n",
    "    marker = dict(color = 'rgb(0, 0, 0)'),\n",
    "    text = df.Name\n",
    ")\n",
    "linha2 = go.Scatter(\n",
    "    x = df.Rank,\n",
    "    y = df.Global_Sales,\n",
    "    mode = \"lines\",\n",
    "    name = 'Venda Global',\n",
    "    marker = dict(color = 'rgb(255, 215, 0)'),\n",
    "    text = df.Name\n",
    ")\n",
    "\n",
    "data = [linha1, linha2]\n",
    "layout = dict(title = \"Outras Vendas e Vendas Globais vs Ranking dos 100 video games\",\n",
    "             xaxis = dict(title='Ranking', ticklen = 20, zeroline = False)\n",
    "             )\n",
    "fig = dict(data=data, layout=layout)\n",
    "py.iplot(fig)"
   ]
  },
  {
   "cell_type": "markdown",
   "metadata": {},
   "source": [
    "### Relação de vendas globais em relação à cada ano, com destaque para um outlier"
   ]
  },
  {
   "cell_type": "markdown",
   "metadata": {},
   "source": [
    "- Se observa no gráfico leve concentração entre os anos de 2005 e 2008"
   ]
  },
  {
   "cell_type": "code",
   "execution_count": 18,
   "metadata": {},
   "outputs": [
    {
     "data": {
      "image/png": "[encoded data removed]",
      "text/plain": [
       "<Figure size 720x504 with 1 Axes>"
      ]
     },
     "metadata": {
      "needs_background": "light"
     },
     "output_type": "display_data"
    }
   ],
   "source": [
    "plt.figure(figsize=(10,7))\n",
    "sns.scatterplot(data=vg_df, x='Year', y='Global_Sales', color='crimson')\n",
    "plt.show()"
   ]
  },
  {
   "cell_type": "markdown",
   "metadata": {},
   "source": [
    "### Em que período de ano se registra as maiores vendas "
   ]
  },
  {
   "cell_type": "markdown",
   "metadata": {},
   "source": [
    "- O gráfico aponta para 2008, com forte alta no início dos anos 2000 e queda na década seeguinte "
   ]
  },
  {
   "cell_type": "code",
   "execution_count": 19,
   "metadata": {},
   "outputs": [
    {
     "data": {
      "image/png": "[encoded data removed]",
      "text/plain": [
       "<Figure size 432x288 with 1 Axes>"
      ]
     },
     "metadata": {
      "needs_background": "light"
     },
     "output_type": "display_data"
    }
   ],
   "source": [
    "sns.kdeplot(data=vg_df['Year'], label='Year', color='#5a5255',shade=True)\n",
    "plt.title('Número de lançamentos de jogos durante os anos')\n",
    "plt.show()"
   ]
  },
  {
   "cell_type": "markdown",
   "metadata": {},
   "source": [
    "### Qual gênero de video game têm as maiores vendas globais"
   ]
  },
  {
   "cell_type": "markdown",
   "metadata": {},
   "source": [
    "- Action com 19,6%"
   ]
  },
  {
   "cell_type": "code",
   "execution_count": 20,
   "metadata": {},
   "outputs": [
    {
     "data": {
      "application/vnd.plotly.v1+json": {
       "config": {
        "plotlyServerURL": "https://plot.ly"
       },
       "data": [
        {
         "domain": {
          "x": [
           0,
           1
          ],
          "y": [
           0,
           1
          ]
         },
         "hovertemplate": "Genre=%{label}<br>total_sales=%{value}<extra></extra>",
         "labels": [
          "Sports",
          "Platform",
          "Racing",
          "Role-Playing",
          "Puzzle",
          "Misc",
          "Shooter",
          "Simulation",
          "Action",
          "Fighting",
          "Adventure",
          "Strategy"
         ],
         "legendgroup": "",
         "name": "",
         "pull": [
          0.2,
          0.06,
          0.06,
          0.06,
          0.06
         ],
         "rotation": 90,
         "showlegend": true,
         "textinfo": "percent+label",
         "type": "pie",
         "values": [
          1330.929999999988,
          831.3699999999974,
          732.0399999999955,
          927.3699999999941,
          244.9500000000005,
          809.9599999999936,
          1037.3699999999901,
          392.19999999999783,
          1751.1799999999691,
          448.90999999999923,
          239.04000000000138,
          175.1200000000004
         ]
        }
       ],
       "layout": {
        "legend": {
         "tracegroupgap": 0
        },
        "margin": {
         "t": 60
        },
        "template": {
         "data": {
          "bar": [
           {
            "error_x": {
             "color": "rgb(36,36,36)"
            },
            "error_y": {
             "color": "rgb(36,36,36)"
            },
            "marker": {
             "line": {
              "color": "rgb(234,234,242)",
              "width": 0.5
             }
            },
            "type": "bar"
           }
          ],
          "barpolar": [
           {
            "marker": {
             "line": {
              "color": "rgb(234,234,242)",
              "width": 0.5
             }
            },
            "type": "barpolar"
           }
          ],
          "carpet": [
           {
            "aaxis": {
             "endlinecolor": "rgb(36,36,36)",
             "gridcolor": "white",
             "linecolor": "white",
             "minorgridcolor": "white",
             "startlinecolor": "rgb(36,36,36)"
            },
            "baxis": {
             "endlinecolor": "rgb(36,36,36)",
             "gridcolor": "white",
             "linecolor": "white",
             "minorgridcolor": "white",
             "startlinecolor": "rgb(36,36,36)"
            },
            "type": "carpet"
           }
          ],
          "choropleth": [
           {
            "colorbar": {
             "outlinewidth": 0,
             "tickcolor": "rgb(36,36,36)",
             "ticklen": 8,
             "ticks": "outside",
             "tickwidth": 2
            },
            "type": "choropleth"
           }
          ],
          "contour": [
           {
            "colorbar": {
             "outlinewidth": 0,
             "tickcolor": "rgb(36,36,36)",
             "ticklen": 8,
             "ticks": "outside",
             "tickwidth": 2
            },
            "colorscale": [
             [
              0,
              "rgb(2,4,25)"
             ],
             [
              0.06274509803921569,
              "rgb(24,15,41)"
             ],
             [
              0.12549019607843137,
              "rgb(47,23,57)"
             ],
             [
              0.18823529411764706,
              "rgb(71,28,72)"
             ],
             [
              0.25098039215686274,
              "rgb(97,30,82)"
             ],
             [
              0.3137254901960784,
              "rgb(123,30,89)"
             ],
             [
              0.3764705882352941,
              "rgb(150,27,91)"
             ],
             [
              0.4392156862745098,
              "rgb(177,22,88)"
             ],
             [
              0.5019607843137255,
              "rgb(203,26,79)"
             ],
             [
              0.5647058823529412,
              "rgb(223,47,67)"
             ],
             [
              0.6274509803921569,
              "rgb(236,76,61)"
             ],
             [
              0.6901960784313725,
              "rgb(242,107,73)"
             ],
             [
              0.7529411764705882,
              "rgb(244,135,95)"
             ],
             [
              0.8156862745098039,
              "rgb(245,162,122)"
             ],
             [
              0.8784313725490196,
              "rgb(246,188,153)"
             ],
             [
              0.9411764705882353,
              "rgb(247,212,187)"
             ],
             [
              1,
              "rgb(250,234,220)"
             ]
            ],
            "type": "contour"
           }
          ],
          "contourcarpet": [
           {
            "colorbar": {
             "outlinewidth": 0,
             "tickcolor": "rgb(36,36,36)",
             "ticklen": 8,
             "ticks": "outside",
             "tickwidth": 2
            },
            "type": "contourcarpet"
           }
          ],
          "heatmap": [
           {
            "colorbar": {
             "outlinewidth": 0,
             "tickcolor": "rgb(36,36,36)",
             "ticklen": 8,
             "ticks": "outside",
             "tickwidth": 2
            },
            "colorscale": [
             [
              0,
              "rgb(2,4,25)"
             ],
             [
              0.06274509803921569,
              "rgb(24,15,41)"
             ],
             [
              0.12549019607843137,
              "rgb(47,23,57)"
             ],
             [
              0.18823529411764706,
              "rgb(71,28,72)"
             ],
             [
              0.25098039215686274,
              "rgb(97,30,82)"
             ],
             [
              0.3137254901960784,
              "rgb(123,30,89)"
             ],
             [
              0.3764705882352941,
              "rgb(150,27,91)"
             ],
             [
              0.4392156862745098,
              "rgb(177,22,88)"
             ],
             [
              0.5019607843137255,
              "rgb(203,26,79)"
             ],
             [
              0.5647058823529412,
              "rgb(223,47,67)"
             ],
             [
              0.6274509803921569,
              "rgb(236,76,61)"
             ],
             [
              0.6901960784313725,
              "rgb(242,107,73)"
             ],
             [
              0.7529411764705882,
              "rgb(244,135,95)"
             ],
             [
              0.8156862745098039,
              "rgb(245,162,122)"
             ],
             [
              0.8784313725490196,
              "rgb(246,188,153)"
             ],
             [
              0.9411764705882353,
              "rgb(247,212,187)"
             ],
             [
              1,
              "rgb(250,234,220)"
             ]
            ],
            "type": "heatmap"
           }
          ],
          "heatmapgl": [
           {
            "colorbar": {
             "outlinewidth": 0,
             "tickcolor": "rgb(36,36,36)",
             "ticklen": 8,
             "ticks": "outside",
             "tickwidth": 2
            },
            "colorscale": [
             [
              0,
              "rgb(2,4,25)"
             ],
             [
              0.06274509803921569,
              "rgb(24,15,41)"
             ],
             [
              0.12549019607843137,
              "rgb(47,23,57)"
             ],
             [
              0.18823529411764706,
              "rgb(71,28,72)"
             ],
             [
              0.25098039215686274,
              "rgb(97,30,82)"
             ],
             [
              0.3137254901960784,
              "rgb(123,30,89)"
             ],
             [
              0.3764705882352941,
              "rgb(150,27,91)"
             ],
             [
              0.4392156862745098,
              "rgb(177,22,88)"
             ],
             [
              0.5019607843137255,
              "rgb(203,26,79)"
             ],
             [
              0.5647058823529412,
              "rgb(223,47,67)"
             ],
             [
              0.6274509803921569,
              "rgb(236,76,61)"
             ],
             [
              0.6901960784313725,
              "rgb(242,107,73)"
             ],
             [
              0.7529411764705882,
              "rgb(244,135,95)"
             ],
             [
              0.8156862745098039,
              "rgb(245,162,122)"
             ],
             [
              0.8784313725490196,
              "rgb(246,188,153)"
             ],
             [
              0.9411764705882353,
              "rgb(247,212,187)"
             ],
             [
              1,
              "rgb(250,234,220)"
             ]
            ],
            "type": "heatmapgl"
           }
          ],
          "histogram": [
           {
            "marker": {
             "colorbar": {
              "outlinewidth": 0,
              "tickcolor": "rgb(36,36,36)",
              "ticklen": 8,
              "ticks": "outside",
              "tickwidth": 2
             }
            },
            "type": "histogram"
           }
          ],
          "histogram2d": [
           {
            "colorbar": {
             "outlinewidth": 0,
             "tickcolor": "rgb(36,36,36)",
             "ticklen": 8,
             "ticks": "outside",
             "tickwidth": 2
            },
            "colorscale": [
             [
              0,
              "rgb(2,4,25)"
             ],
             [
              0.06274509803921569,
              "rgb(24,15,41)"
             ],
             [
              0.12549019607843137,
              "rgb(47,23,57)"
             ],
             [
              0.18823529411764706,
              "rgb(71,28,72)"
             ],
             [
              0.25098039215686274,
              "rgb(97,30,82)"
             ],
             [
              0.3137254901960784,
              "rgb(123,30,89)"
             ],
             [
              0.3764705882352941,
              "rgb(150,27,91)"
             ],
             [
              0.4392156862745098,
              "rgb(177,22,88)"
             ],
             [
              0.5019607843137255,
              "rgb(203,26,79)"
             ],
             [
              0.5647058823529412,
              "rgb(223,47,67)"
             ],
             [
              0.6274509803921569,
              "rgb(236,76,61)"
             ],
             [
              0.6901960784313725,
              "rgb(242,107,73)"
             ],
             [
              0.7529411764705882,
              "rgb(244,135,95)"
             ],
             [
              0.8156862745098039,
              "rgb(245,162,122)"
             ],
             [
              0.8784313725490196,
              "rgb(246,188,153)"
             ],
             [
              0.9411764705882353,
              "rgb(247,212,187)"
             ],
             [
              1,
              "rgb(250,234,220)"
             ]
            ],
            "type": "histogram2d"
           }
          ],
          "histogram2dcontour": [
           {
            "colorbar": {
             "outlinewidth": 0,
             "tickcolor": "rgb(36,36,36)",
             "ticklen": 8,
             "ticks": "outside",
             "tickwidth": 2
            },
            "colorscale": [
             [
              0,
              "rgb(2,4,25)"
             ],
             [
              0.06274509803921569,
              "rgb(24,15,41)"
             ],
             [
              0.12549019607843137,
              "rgb(47,23,57)"
             ],
             [
              0.18823529411764706,
              "rgb(71,28,72)"
             ],
             [
              0.25098039215686274,
              "rgb(97,30,82)"
             ],
             [
              0.3137254901960784,
              "rgb(123,30,89)"
             ],
             [
              0.3764705882352941,
              "rgb(150,27,91)"
             ],
             [
              0.4392156862745098,
              "rgb(177,22,88)"
             ],
             [
              0.5019607843137255,
              "rgb(203,26,79)"
             ],
             [
              0.5647058823529412,
              "rgb(223,47,67)"
             ],
             [
              0.6274509803921569,
              "rgb(236,76,61)"
             ],
             [
              0.6901960784313725,
              "rgb(242,107,73)"
             ],
             [
              0.7529411764705882,
              "rgb(244,135,95)"
             ],
             [
              0.8156862745098039,
              "rgb(245,162,122)"
             ],
             [
              0.8784313725490196,
              "rgb(246,188,153)"
             ],
             [
              0.9411764705882353,
              "rgb(247,212,187)"
             ],
             [
              1,
              "rgb(250,234,220)"
             ]
            ],
            "type": "histogram2dcontour"
           }
          ],
          "mesh3d": [
           {
            "colorbar": {
             "outlinewidth": 0,
             "tickcolor": "rgb(36,36,36)",
             "ticklen": 8,
             "ticks": "outside",
             "tickwidth": 2
            },
            "type": "mesh3d"
           }
          ],
          "parcoords": [
           {
            "line": {
             "colorbar": {
              "outlinewidth": 0,
              "tickcolor": "rgb(36,36,36)",
              "ticklen": 8,
              "ticks": "outside",
              "tickwidth": 2
             }
            },
            "type": "parcoords"
           }
          ],
          "pie": [
           {
            "automargin": true,
            "type": "pie"
           }
          ],
          "scatter": [
           {
            "marker": {
             "colorbar": {
              "outlinewidth": 0,
              "tickcolor": "rgb(36,36,36)",
              "ticklen": 8,
              "ticks": "outside",
              "tickwidth": 2
             }
            },
            "type": "scatter"
           }
          ],
          "scatter3d": [
           {
            "line": {
             "colorbar": {
              "outlinewidth": 0,
              "tickcolor": "rgb(36,36,36)",
              "ticklen": 8,
              "ticks": "outside",
              "tickwidth": 2
             }
            },
            "marker": {
             "colorbar": {
              "outlinewidth": 0,
              "tickcolor": "rgb(36,36,36)",
              "ticklen": 8,
              "ticks": "outside",
              "tickwidth": 2
             }
            },
            "type": "scatter3d"
           }
          ],
          "scattercarpet": [
           {
            "marker": {
             "colorbar": {
              "outlinewidth": 0,
              "tickcolor": "rgb(36,36,36)",
              "ticklen": 8,
              "ticks": "outside",
              "tickwidth": 2
             }
            },
            "type": "scattercarpet"
           }
          ],
          "scattergeo": [
           {
            "marker": {
             "colorbar": {
              "outlinewidth": 0,
              "tickcolor": "rgb(36,36,36)",
              "ticklen": 8,
              "ticks": "outside",
              "tickwidth": 2
             }
            },
            "type": "scattergeo"
           }
          ],
          "scattergl": [
           {
            "marker": {
             "colorbar": {
              "outlinewidth": 0,
              "tickcolor": "rgb(36,36,36)",
              "ticklen": 8,
              "ticks": "outside",
              "tickwidth": 2
             }
            },
            "type": "scattergl"
           }
          ],
          "scattermapbox": [
           {
            "marker": {
             "colorbar": {
              "outlinewidth": 0,
              "tickcolor": "rgb(36,36,36)",
              "ticklen": 8,
              "ticks": "outside",
              "tickwidth": 2
             }
            },
            "type": "scattermapbox"
           }
          ],
          "scatterpolar": [
           {
            "marker": {
             "colorbar": {
              "outlinewidth": 0,
              "tickcolor": "rgb(36,36,36)",
              "ticklen": 8,
              "ticks": "outside",
              "tickwidth": 2
             }
            },
            "type": "scatterpolar"
           }
          ],
          "scatterpolargl": [
           {
            "marker": {
             "colorbar": {
              "outlinewidth": 0,
              "tickcolor": "rgb(36,36,36)",
              "ticklen": 8,
              "ticks": "outside",
              "tickwidth": 2
             }
            },
            "type": "scatterpolargl"
           }
          ],
          "scatterternary": [
           {
            "marker": {
             "colorbar": {
              "outlinewidth": 0,
              "tickcolor": "rgb(36,36,36)",
              "ticklen": 8,
              "ticks": "outside",
              "tickwidth": 2
             }
            },
            "type": "scatterternary"
           }
          ],
          "surface": [
           {
            "colorbar": {
             "outlinewidth": 0,
             "tickcolor": "rgb(36,36,36)",
             "ticklen": 8,
             "ticks": "outside",
             "tickwidth": 2
            },
            "colorscale": [
             [
              0,
              "rgb(2,4,25)"
             ],
             [
              0.06274509803921569,
              "rgb(24,15,41)"
             ],
             [
              0.12549019607843137,
              "rgb(47,23,57)"
             ],
             [
              0.18823529411764706,
              "rgb(71,28,72)"
             ],
             [
              0.25098039215686274,
              "rgb(97,30,82)"
             ],
             [
              0.3137254901960784,
              "rgb(123,30,89)"
             ],
             [
              0.3764705882352941,
              "rgb(150,27,91)"
             ],
             [
              0.4392156862745098,
              "rgb(177,22,88)"
             ],
             [
              0.5019607843137255,
              "rgb(203,26,79)"
             ],
             [
              0.5647058823529412,
              "rgb(223,47,67)"
             ],
             [
              0.6274509803921569,
              "rgb(236,76,61)"
             ],
             [
              0.6901960784313725,
              "rgb(242,107,73)"
             ],
             [
              0.7529411764705882,
              "rgb(244,135,95)"
             ],
             [
              0.8156862745098039,
              "rgb(245,162,122)"
             ],
             [
              0.8784313725490196,
              "rgb(246,188,153)"
             ],
             [
              0.9411764705882353,
              "rgb(247,212,187)"
             ],
             [
              1,
              "rgb(250,234,220)"
             ]
            ],
            "type": "surface"
           }
          ],
          "table": [
           {
            "cells": {
             "fill": {
              "color": "rgb(231,231,240)"
             },
             "line": {
              "color": "white"
             }
            },
            "header": {
             "fill": {
              "color": "rgb(183,183,191)"
             },
             "line": {
              "color": "white"
             }
            },
            "type": "table"
           }
          ]
         },
         "layout": {
          "annotationdefaults": {
           "arrowcolor": "rgb(67,103,167)"
          },
          "coloraxis": {
           "colorbar": {
            "outlinewidth": 0,
            "tickcolor": "rgb(36,36,36)",
            "ticklen": 8,
            "ticks": "outside",
            "tickwidth": 2
           }
          },
          "colorscale": {
           "sequential": [
            [
             0,
             "rgb(2,4,25)"
            ],
            [
             0.06274509803921569,
             "rgb(24,15,41)"
            ],
            [
             0.12549019607843137,
             "rgb(47,23,57)"
            ],
            [
             0.18823529411764706,
             "rgb(71,28,72)"
            ],
            [
             0.25098039215686274,
             "rgb(97,30,82)"
            ],
            [
             0.3137254901960784,
             "rgb(123,30,89)"
            ],
            [
             0.3764705882352941,
             "rgb(150,27,91)"
            ],
            [
             0.4392156862745098,
             "rgb(177,22,88)"
            ],
            [
             0.5019607843137255,
             "rgb(203,26,79)"
            ],
            [
             0.5647058823529412,
             "rgb(223,47,67)"
            ],
            [
             0.6274509803921569,
             "rgb(236,76,61)"
            ],
            [
             0.6901960784313725,
             "rgb(242,107,73)"
            ],
            [
             0.7529411764705882,
             "rgb(244,135,95)"
            ],
            [
             0.8156862745098039,
             "rgb(245,162,122)"
            ],
            [
             0.8784313725490196,
             "rgb(246,188,153)"
            ],
            [
             0.9411764705882353,
             "rgb(247,212,187)"
            ],
            [
             1,
             "rgb(250,234,220)"
            ]
           ],
           "sequentialminus": [
            [
             0,
             "rgb(2,4,25)"
            ],
            [
             0.06274509803921569,
             "rgb(24,15,41)"
            ],
            [
             0.12549019607843137,
             "rgb(47,23,57)"
            ],
            [
             0.18823529411764706,
             "rgb(71,28,72)"
            ],
            [
             0.25098039215686274,
             "rgb(97,30,82)"
            ],
            [
             0.3137254901960784,
             "rgb(123,30,89)"
            ],
            [
             0.3764705882352941,
             "rgb(150,27,91)"
            ],
            [
             0.4392156862745098,
             "rgb(177,22,88)"
            ],
            [
             0.5019607843137255,
             "rgb(203,26,79)"
            ],
            [
             0.5647058823529412,
             "rgb(223,47,67)"
            ],
            [
             0.6274509803921569,
             "rgb(236,76,61)"
            ],
            [
             0.6901960784313725,
             "rgb(242,107,73)"
            ],
            [
             0.7529411764705882,
             "rgb(244,135,95)"
            ],
            [
             0.8156862745098039,
             "rgb(245,162,122)"
            ],
            [
             0.8784313725490196,
             "rgb(246,188,153)"
            ],
            [
             0.9411764705882353,
             "rgb(247,212,187)"
            ],
            [
             1,
             "rgb(250,234,220)"
            ]
           ]
          },
          "colorway": [
           "rgb(76,114,176)",
           "rgb(221,132,82)",
           "rgb(85,168,104)",
           "rgb(196,78,82)",
           "rgb(129,114,179)",
           "rgb(147,120,96)",
           "rgb(218,139,195)",
           "rgb(140,140,140)",
           "rgb(204,185,116)",
           "rgb(100,181,205)"
          ],
          "font": {
           "color": "rgb(36,36,36)"
          },
          "geo": {
           "bgcolor": "white",
           "lakecolor": "white",
           "landcolor": "rgb(234,234,242)",
           "showlakes": true,
           "showland": true,
           "subunitcolor": "white"
          },
          "hoverlabel": {
           "align": "left"
          },
          "hovermode": "closest",
          "paper_bgcolor": "white",
          "plot_bgcolor": "rgb(234,234,242)",
          "polar": {
           "angularaxis": {
            "gridcolor": "white",
            "linecolor": "white",
            "showgrid": true,
            "ticks": ""
           },
           "bgcolor": "rgb(234,234,242)",
           "radialaxis": {
            "gridcolor": "white",
            "linecolor": "white",
            "showgrid": true,
            "ticks": ""
           }
          },
          "scene": {
           "xaxis": {
            "backgroundcolor": "rgb(234,234,242)",
            "gridcolor": "white",
            "gridwidth": 2,
            "linecolor": "white",
            "showbackground": true,
            "showgrid": true,
            "ticks": "",
            "zerolinecolor": "white"
           },
           "yaxis": {
            "backgroundcolor": "rgb(234,234,242)",
            "gridcolor": "white",
            "gridwidth": 2,
            "linecolor": "white",
            "showbackground": true,
            "showgrid": true,
            "ticks": "",
            "zerolinecolor": "white"
           },
           "zaxis": {
            "backgroundcolor": "rgb(234,234,242)",
            "gridcolor": "white",
            "gridwidth": 2,
            "linecolor": "white",
            "showbackground": true,
            "showgrid": true,
            "ticks": "",
            "zerolinecolor": "white"
           }
          },
          "shapedefaults": {
           "fillcolor": "rgb(67,103,167)",
           "line": {
            "width": 0
           },
           "opacity": 0.5
          },
          "ternary": {
           "aaxis": {
            "gridcolor": "white",
            "linecolor": "white",
            "showgrid": true,
            "ticks": ""
           },
           "baxis": {
            "gridcolor": "white",
            "linecolor": "white",
            "showgrid": true,
            "ticks": ""
           },
           "bgcolor": "rgb(234,234,242)",
           "caxis": {
            "gridcolor": "white",
            "linecolor": "white",
            "showgrid": true,
            "ticks": ""
           }
          },
          "xaxis": {
           "automargin": true,
           "gridcolor": "white",
           "linecolor": "white",
           "showgrid": true,
           "ticks": "",
           "title": {
            "standoff": 15
           },
           "zerolinecolor": "white"
          },
          "yaxis": {
           "automargin": true,
           "gridcolor": "white",
           "linecolor": "white",
           "showgrid": true,
           "ticks": "",
           "title": {
            "standoff": 15
           },
           "zerolinecolor": "white"
          }
         }
        }
       }
      },
      "text/html": [
       "<div>\n",
       "        \n",
       "        \n",
       "            <div id=\"20f226ac-0416-491b-8e70-ad4b9193df53\" class=\"plotly-graph-div\" style=\"height:525px; width:100%;\"></div>\n",
       "            <script type=\"text/javascript\">\n",
       "                require([\"plotly\"], function(Plotly) {\n",
       "                    window.PLOTLYENV=window.PLOTLYENV || {};\n",
       "                    \n",
       "                if (document.getElementById(\"20f226ac-0416-491b-8e70-ad4b9193df53\")) {\n",
       "                    Plotly.newPlot(\n",
       "                        '20f226ac-0416-491b-8e70-ad4b9193df53',\n",
       "                        [{\"domain\": {\"x\": [0.0, 1.0], \"y\": [0.0, 1.0]}, \"hovertemplate\": \"Genre=%{label}<br>total_sales=%{value}<extra></extra>\", \"labels\": [\"Sports\", \"Platform\", \"Racing\", \"Role-Playing\", \"Puzzle\", \"Misc\", \"Shooter\", \"Simulation\", \"Action\", \"Fighting\", \"Adventure\", \"Strategy\"], \"legendgroup\": \"\", \"name\": \"\", \"pull\": [0.2, 0.06, 0.06, 0.06, 0.06], \"rotation\": 90, \"showlegend\": true, \"textinfo\": \"percent+label\", \"type\": \"pie\", \"values\": [1330.929999999988, 831.3699999999974, 732.0399999999955, 927.3699999999941, 244.9500000000005, 809.9599999999936, 1037.3699999999901, 392.19999999999783, 1751.1799999999691, 448.90999999999923, 239.04000000000138, 175.1200000000004]}],\n",
       "                        {\"legend\": {\"tracegroupgap\": 0}, \"margin\": {\"t\": 60}, \"template\": {\"data\": {\"bar\": [{\"error_x\": {\"color\": \"rgb(36,36,36)\"}, \"error_y\": {\"color\": \"rgb(36,36,36)\"}, \"marker\": {\"line\": {\"color\": \"rgb(234,234,242)\", \"width\": 0.5}}, \"type\": \"bar\"}], \"barpolar\": [{\"marker\": {\"line\": {\"color\": \"rgb(234,234,242)\", \"width\": 0.5}}, \"type\": \"barpolar\"}], \"carpet\": [{\"aaxis\": {\"endlinecolor\": \"rgb(36,36,36)\", \"gridcolor\": \"white\", \"linecolor\": \"white\", \"minorgridcolor\": \"white\", \"startlinecolor\": \"rgb(36,36,36)\"}, \"baxis\": {\"endlinecolor\": \"rgb(36,36,36)\", \"gridcolor\": \"white\", \"linecolor\": \"white\", \"minorgridcolor\": \"white\", \"startlinecolor\": \"rgb(36,36,36)\"}, \"type\": \"carpet\"}], \"choropleth\": [{\"colorbar\": {\"outlinewidth\": 0, \"tickcolor\": \"rgb(36,36,36)\", \"ticklen\": 8, \"ticks\": \"outside\", \"tickwidth\": 2}, \"type\": \"choropleth\"}], \"contour\": [{\"colorbar\": {\"outlinewidth\": 0, \"tickcolor\": \"rgb(36,36,36)\", \"ticklen\": 8, \"ticks\": \"outside\", \"tickwidth\": 2}, \"colorscale\": [[0.0, \"rgb(2,4,25)\"], [0.06274509803921569, \"rgb(24,15,41)\"], [0.12549019607843137, \"rgb(47,23,57)\"], [0.18823529411764706, \"rgb(71,28,72)\"], [0.25098039215686274, \"rgb(97,30,82)\"], [0.3137254901960784, \"rgb(123,30,89)\"], [0.3764705882352941, \"rgb(150,27,91)\"], [0.4392156862745098, \"rgb(177,22,88)\"], [0.5019607843137255, \"rgb(203,26,79)\"], [0.5647058823529412, \"rgb(223,47,67)\"], [0.6274509803921569, \"rgb(236,76,61)\"], [0.6901960784313725, \"rgb(242,107,73)\"], [0.7529411764705882, \"rgb(244,135,95)\"], [0.8156862745098039, \"rgb(245,162,122)\"], [0.8784313725490196, \"rgb(246,188,153)\"], [0.9411764705882353, \"rgb(247,212,187)\"], [1.0, \"rgb(250,234,220)\"]], \"type\": \"contour\"}], \"contourcarpet\": [{\"colorbar\": {\"outlinewidth\": 0, \"tickcolor\": \"rgb(36,36,36)\", \"ticklen\": 8, \"ticks\": \"outside\", \"tickwidth\": 2}, \"type\": \"contourcarpet\"}], \"heatmap\": [{\"colorbar\": {\"outlinewidth\": 0, \"tickcolor\": \"rgb(36,36,36)\", \"ticklen\": 8, \"ticks\": \"outside\", \"tickwidth\": 2}, \"colorscale\": [[0.0, \"rgb(2,4,25)\"], [0.06274509803921569, \"rgb(24,15,41)\"], [0.12549019607843137, \"rgb(47,23,57)\"], [0.18823529411764706, \"rgb(71,28,72)\"], [0.25098039215686274, \"rgb(97,30,82)\"], [0.3137254901960784, \"rgb(123,30,89)\"], [0.3764705882352941, \"rgb(150,27,91)\"], [0.4392156862745098, \"rgb(177,22,88)\"], [0.5019607843137255, \"rgb(203,26,79)\"], [0.5647058823529412, \"rgb(223,47,67)\"], [0.6274509803921569, \"rgb(236,76,61)\"], [0.6901960784313725, \"rgb(242,107,73)\"], [0.7529411764705882, \"rgb(244,135,95)\"], [0.8156862745098039, \"rgb(245,162,122)\"], [0.8784313725490196, \"rgb(246,188,153)\"], [0.9411764705882353, \"rgb(247,212,187)\"], [1.0, \"rgb(250,234,220)\"]], \"type\": \"heatmap\"}], \"heatmapgl\": [{\"colorbar\": {\"outlinewidth\": 0, \"tickcolor\": \"rgb(36,36,36)\", \"ticklen\": 8, \"ticks\": \"outside\", \"tickwidth\": 2}, \"colorscale\": [[0.0, \"rgb(2,4,25)\"], [0.06274509803921569, \"rgb(24,15,41)\"], [0.12549019607843137, \"rgb(47,23,57)\"], [0.18823529411764706, \"rgb(71,28,72)\"], [0.25098039215686274, \"rgb(97,30,82)\"], [0.3137254901960784, \"rgb(123,30,89)\"], [0.3764705882352941, \"rgb(150,27,91)\"], [0.4392156862745098, \"rgb(177,22,88)\"], [0.5019607843137255, \"rgb(203,26,79)\"], [0.5647058823529412, \"rgb(223,47,67)\"], [0.6274509803921569, \"rgb(236,76,61)\"], [0.6901960784313725, \"rgb(242,107,73)\"], [0.7529411764705882, \"rgb(244,135,95)\"], [0.8156862745098039, \"rgb(245,162,122)\"], [0.8784313725490196, \"rgb(246,188,153)\"], [0.9411764705882353, \"rgb(247,212,187)\"], [1.0, \"rgb(250,234,220)\"]], \"type\": \"heatmapgl\"}], \"histogram\": [{\"marker\": {\"colorbar\": {\"outlinewidth\": 0, \"tickcolor\": \"rgb(36,36,36)\", \"ticklen\": 8, \"ticks\": \"outside\", \"tickwidth\": 2}}, \"type\": \"histogram\"}], \"histogram2d\": [{\"colorbar\": {\"outlinewidth\": 0, \"tickcolor\": \"rgb(36,36,36)\", \"ticklen\": 8, \"ticks\": \"outside\", \"tickwidth\": 2}, \"colorscale\": [[0.0, \"rgb(2,4,25)\"], [0.06274509803921569, \"rgb(24,15,41)\"], [0.12549019607843137, \"rgb(47,23,57)\"], [0.18823529411764706, \"rgb(71,28,72)\"], [0.25098039215686274, \"rgb(97,30,82)\"], [0.3137254901960784, \"rgb(123,30,89)\"], [0.3764705882352941, \"rgb(150,27,91)\"], [0.4392156862745098, \"rgb(177,22,88)\"], [0.5019607843137255, \"rgb(203,26,79)\"], [0.5647058823529412, \"rgb(223,47,67)\"], [0.6274509803921569, \"rgb(236,76,61)\"], [0.6901960784313725, \"rgb(242,107,73)\"], [0.7529411764705882, \"rgb(244,135,95)\"], [0.8156862745098039, \"rgb(245,162,122)\"], [0.8784313725490196, \"rgb(246,188,153)\"], [0.9411764705882353, \"rgb(247,212,187)\"], [1.0, \"rgb(250,234,220)\"]], \"type\": \"histogram2d\"}], \"histogram2dcontour\": [{\"colorbar\": {\"outlinewidth\": 0, \"tickcolor\": \"rgb(36,36,36)\", \"ticklen\": 8, \"ticks\": \"outside\", \"tickwidth\": 2}, \"colorscale\": [[0.0, \"rgb(2,4,25)\"], [0.06274509803921569, \"rgb(24,15,41)\"], [0.12549019607843137, \"rgb(47,23,57)\"], [0.18823529411764706, \"rgb(71,28,72)\"], [0.25098039215686274, \"rgb(97,30,82)\"], [0.3137254901960784, \"rgb(123,30,89)\"], [0.3764705882352941, \"rgb(150,27,91)\"], [0.4392156862745098, \"rgb(177,22,88)\"], [0.5019607843137255, \"rgb(203,26,79)\"], [0.5647058823529412, \"rgb(223,47,67)\"], [0.6274509803921569, \"rgb(236,76,61)\"], [0.6901960784313725, \"rgb(242,107,73)\"], [0.7529411764705882, \"rgb(244,135,95)\"], [0.8156862745098039, \"rgb(245,162,122)\"], [0.8784313725490196, \"rgb(246,188,153)\"], [0.9411764705882353, \"rgb(247,212,187)\"], [1.0, \"rgb(250,234,220)\"]], \"type\": \"histogram2dcontour\"}], \"mesh3d\": [{\"colorbar\": {\"outlinewidth\": 0, \"tickcolor\": \"rgb(36,36,36)\", \"ticklen\": 8, \"ticks\": \"outside\", \"tickwidth\": 2}, \"type\": \"mesh3d\"}], \"parcoords\": [{\"line\": {\"colorbar\": {\"outlinewidth\": 0, \"tickcolor\": \"rgb(36,36,36)\", \"ticklen\": 8, \"ticks\": \"outside\", \"tickwidth\": 2}}, \"type\": \"parcoords\"}], \"pie\": [{\"automargin\": true, \"type\": \"pie\"}], \"scatter\": [{\"marker\": {\"colorbar\": {\"outlinewidth\": 0, \"tickcolor\": \"rgb(36,36,36)\", \"ticklen\": 8, \"ticks\": \"outside\", \"tickwidth\": 2}}, \"type\": \"scatter\"}], \"scatter3d\": [{\"line\": {\"colorbar\": {\"outlinewidth\": 0, \"tickcolor\": \"rgb(36,36,36)\", \"ticklen\": 8, \"ticks\": \"outside\", \"tickwidth\": 2}}, \"marker\": {\"colorbar\": {\"outlinewidth\": 0, \"tickcolor\": \"rgb(36,36,36)\", \"ticklen\": 8, \"ticks\": \"outside\", \"tickwidth\": 2}}, \"type\": \"scatter3d\"}], \"scattercarpet\": [{\"marker\": {\"colorbar\": {\"outlinewidth\": 0, \"tickcolor\": \"rgb(36,36,36)\", \"ticklen\": 8, \"ticks\": \"outside\", \"tickwidth\": 2}}, \"type\": \"scattercarpet\"}], \"scattergeo\": [{\"marker\": {\"colorbar\": {\"outlinewidth\": 0, \"tickcolor\": \"rgb(36,36,36)\", \"ticklen\": 8, \"ticks\": \"outside\", \"tickwidth\": 2}}, \"type\": \"scattergeo\"}], \"scattergl\": [{\"marker\": {\"colorbar\": {\"outlinewidth\": 0, \"tickcolor\": \"rgb(36,36,36)\", \"ticklen\": 8, \"ticks\": \"outside\", \"tickwidth\": 2}}, \"type\": \"scattergl\"}], \"scattermapbox\": [{\"marker\": {\"colorbar\": {\"outlinewidth\": 0, \"tickcolor\": \"rgb(36,36,36)\", \"ticklen\": 8, \"ticks\": \"outside\", \"tickwidth\": 2}}, \"type\": \"scattermapbox\"}], \"scatterpolar\": [{\"marker\": {\"colorbar\": {\"outlinewidth\": 0, \"tickcolor\": \"rgb(36,36,36)\", \"ticklen\": 8, \"ticks\": \"outside\", \"tickwidth\": 2}}, \"type\": \"scatterpolar\"}], \"scatterpolargl\": [{\"marker\": {\"colorbar\": {\"outlinewidth\": 0, \"tickcolor\": \"rgb(36,36,36)\", \"ticklen\": 8, \"ticks\": \"outside\", \"tickwidth\": 2}}, \"type\": \"scatterpolargl\"}], \"scatterternary\": [{\"marker\": {\"colorbar\": {\"outlinewidth\": 0, \"tickcolor\": \"rgb(36,36,36)\", \"ticklen\": 8, \"ticks\": \"outside\", \"tickwidth\": 2}}, \"type\": \"scatterternary\"}], \"surface\": [{\"colorbar\": {\"outlinewidth\": 0, \"tickcolor\": \"rgb(36,36,36)\", \"ticklen\": 8, \"ticks\": \"outside\", \"tickwidth\": 2}, \"colorscale\": [[0.0, \"rgb(2,4,25)\"], [0.06274509803921569, \"rgb(24,15,41)\"], [0.12549019607843137, \"rgb(47,23,57)\"], [0.18823529411764706, \"rgb(71,28,72)\"], [0.25098039215686274, \"rgb(97,30,82)\"], [0.3137254901960784, \"rgb(123,30,89)\"], [0.3764705882352941, \"rgb(150,27,91)\"], [0.4392156862745098, \"rgb(177,22,88)\"], [0.5019607843137255, \"rgb(203,26,79)\"], [0.5647058823529412, \"rgb(223,47,67)\"], [0.6274509803921569, \"rgb(236,76,61)\"], [0.6901960784313725, \"rgb(242,107,73)\"], [0.7529411764705882, \"rgb(244,135,95)\"], [0.8156862745098039, \"rgb(245,162,122)\"], [0.8784313725490196, \"rgb(246,188,153)\"], [0.9411764705882353, \"rgb(247,212,187)\"], [1.0, \"rgb(250,234,220)\"]], \"type\": \"surface\"}], \"table\": [{\"cells\": {\"fill\": {\"color\": \"rgb(231,231,240)\"}, \"line\": {\"color\": \"white\"}}, \"header\": {\"fill\": {\"color\": \"rgb(183,183,191)\"}, \"line\": {\"color\": \"white\"}}, \"type\": \"table\"}]}, \"layout\": {\"annotationdefaults\": {\"arrowcolor\": \"rgb(67,103,167)\"}, \"coloraxis\": {\"colorbar\": {\"outlinewidth\": 0, \"tickcolor\": \"rgb(36,36,36)\", \"ticklen\": 8, \"ticks\": \"outside\", \"tickwidth\": 2}}, \"colorscale\": {\"sequential\": [[0.0, \"rgb(2,4,25)\"], [0.06274509803921569, \"rgb(24,15,41)\"], [0.12549019607843137, \"rgb(47,23,57)\"], [0.18823529411764706, \"rgb(71,28,72)\"], [0.25098039215686274, \"rgb(97,30,82)\"], [0.3137254901960784, \"rgb(123,30,89)\"], [0.3764705882352941, \"rgb(150,27,91)\"], [0.4392156862745098, \"rgb(177,22,88)\"], [0.5019607843137255, \"rgb(203,26,79)\"], [0.5647058823529412, \"rgb(223,47,67)\"], [0.6274509803921569, \"rgb(236,76,61)\"], [0.6901960784313725, \"rgb(242,107,73)\"], [0.7529411764705882, \"rgb(244,135,95)\"], [0.8156862745098039, \"rgb(245,162,122)\"], [0.8784313725490196, \"rgb(246,188,153)\"], [0.9411764705882353, \"rgb(247,212,187)\"], [1.0, \"rgb(250,234,220)\"]], \"sequentialminus\": [[0.0, \"rgb(2,4,25)\"], [0.06274509803921569, \"rgb(24,15,41)\"], [0.12549019607843137, \"rgb(47,23,57)\"], [0.18823529411764706, \"rgb(71,28,72)\"], [0.25098039215686274, \"rgb(97,30,82)\"], [0.3137254901960784, \"rgb(123,30,89)\"], [0.3764705882352941, \"rgb(150,27,91)\"], [0.4392156862745098, \"rgb(177,22,88)\"], [0.5019607843137255, \"rgb(203,26,79)\"], [0.5647058823529412, \"rgb(223,47,67)\"], [0.6274509803921569, \"rgb(236,76,61)\"], [0.6901960784313725, \"rgb(242,107,73)\"], [0.7529411764705882, \"rgb(244,135,95)\"], [0.8156862745098039, \"rgb(245,162,122)\"], [0.8784313725490196, \"rgb(246,188,153)\"], [0.9411764705882353, \"rgb(247,212,187)\"], [1.0, \"rgb(250,234,220)\"]]}, \"colorway\": [\"rgb(76,114,176)\", \"rgb(221,132,82)\", \"rgb(85,168,104)\", \"rgb(196,78,82)\", \"rgb(129,114,179)\", \"rgb(147,120,96)\", \"rgb(218,139,195)\", \"rgb(140,140,140)\", \"rgb(204,185,116)\", \"rgb(100,181,205)\"], \"font\": {\"color\": \"rgb(36,36,36)\"}, \"geo\": {\"bgcolor\": \"white\", \"lakecolor\": \"white\", \"landcolor\": \"rgb(234,234,242)\", \"showlakes\": true, \"showland\": true, \"subunitcolor\": \"white\"}, \"hoverlabel\": {\"align\": \"left\"}, \"hovermode\": \"closest\", \"paper_bgcolor\": \"white\", \"plot_bgcolor\": \"rgb(234,234,242)\", \"polar\": {\"angularaxis\": {\"gridcolor\": \"white\", \"linecolor\": \"white\", \"showgrid\": true, \"ticks\": \"\"}, \"bgcolor\": \"rgb(234,234,242)\", \"radialaxis\": {\"gridcolor\": \"white\", \"linecolor\": \"white\", \"showgrid\": true, \"ticks\": \"\"}}, \"scene\": {\"xaxis\": {\"backgroundcolor\": \"rgb(234,234,242)\", \"gridcolor\": \"white\", \"gridwidth\": 2, \"linecolor\": \"white\", \"showbackground\": true, \"showgrid\": true, \"ticks\": \"\", \"zerolinecolor\": \"white\"}, \"yaxis\": {\"backgroundcolor\": \"rgb(234,234,242)\", \"gridcolor\": \"white\", \"gridwidth\": 2, \"linecolor\": \"white\", \"showbackground\": true, \"showgrid\": true, \"ticks\": \"\", \"zerolinecolor\": \"white\"}, \"zaxis\": {\"backgroundcolor\": \"rgb(234,234,242)\", \"gridcolor\": \"white\", \"gridwidth\": 2, \"linecolor\": \"white\", \"showbackground\": true, \"showgrid\": true, \"ticks\": \"\", \"zerolinecolor\": \"white\"}}, \"shapedefaults\": {\"fillcolor\": \"rgb(67,103,167)\", \"line\": {\"width\": 0}, \"opacity\": 0.5}, \"ternary\": {\"aaxis\": {\"gridcolor\": \"white\", \"linecolor\": \"white\", \"showgrid\": true, \"ticks\": \"\"}, \"baxis\": {\"gridcolor\": \"white\", \"linecolor\": \"white\", \"showgrid\": true, \"ticks\": \"\"}, \"bgcolor\": \"rgb(234,234,242)\", \"caxis\": {\"gridcolor\": \"white\", \"linecolor\": \"white\", \"showgrid\": true, \"ticks\": \"\"}}, \"xaxis\": {\"automargin\": true, \"gridcolor\": \"white\", \"linecolor\": \"white\", \"showgrid\": true, \"ticks\": \"\", \"title\": {\"standoff\": 15}, \"zerolinecolor\": \"white\"}, \"yaxis\": {\"automargin\": true, \"gridcolor\": \"white\", \"linecolor\": \"white\", \"showgrid\": true, \"ticks\": \"\", \"title\": {\"standoff\": 15}, \"zerolinecolor\": \"white\"}}}},\n",
       "                        {\"responsive\": true}\n",
       "                    ).then(function(){\n",
       "                            \n",
       "var gd = document.getElementById('20f226ac-0416-491b-8e70-ad4b9193df53');\n",
       "var x = new MutationObserver(function (mutations, observer) {{\n",
       "        var display = window.getComputedStyle(gd).display;\n",
       "        if (!display || display === 'none') {{\n",
       "            console.log([gd, 'removed!']);\n",
       "            Plotly.purge(gd);\n",
       "            observer.disconnect();\n",
       "        }}\n",
       "}});\n",
       "\n",
       "// Listen for the removal of the full notebook cells\n",
       "var notebookContainer = gd.closest('#notebook-container');\n",
       "if (notebookContainer) {{\n",
       "    x.observe(notebookContainer, {childList: true});\n",
       "}}\n",
       "\n",
       "// Listen for the clearing of the current output cell\n",
       "var outputEl = gd.closest('.output');\n",
       "if (outputEl) {{\n",
       "    x.observe(outputEl, {childList: true});\n",
       "}}\n",
       "\n",
       "                        })\n",
       "                };\n",
       "                });\n",
       "            </script>\n",
       "        </div>"
      ]
     },
     "metadata": {},
     "output_type": "display_data"
    }
   ],
   "source": [
    "genre = vg_df.loc[:,['Genre','Global_Sales']]\n",
    "genre['total_sales'] = genre.groupby('Genre')['Global_Sales'].transform('sum')\n",
    "genre.drop('Global_Sales', axis=1, inplace=True)\n",
    "genre = genre.drop_duplicates()\n",
    "\n",
    "fig = px.pie(genre, names='Genre', values='total_sales', template='seaborn')\n",
    "fig.update_traces(rotation=90, pull=[0.2,0.06,0.06,0.06,0.06], textinfo=\"percent+label\")\n",
    "fig.show()"
   ]
  },
  {
   "cell_type": "markdown",
   "metadata": {},
   "source": [
    "### Qual fabricante de video game teve as maiores vendas"
   ]
  },
  {
   "cell_type": "markdown",
   "metadata": {},
   "source": [
    "- Nintendo, a empresa possui 31% fatia de mercado, seguido da Electronic Arts com 19.3%"
   ]
  },
  {
   "cell_type": "code",
   "execution_count": 21,
   "metadata": {},
   "outputs": [
    {
     "data": {
      "application/vnd.plotly.v1+json": {
       "config": {
        "plotlyServerURL": "https://plot.ly"
       },
       "data": [
        {
         "domain": {
          "x": [
           0,
           1
          ],
          "y": [
           0,
           1
          ]
         },
         "hovertemplate": "Publisher=%{label}<br>total_sales=%{value}<extra></extra>",
         "labels": [
          "Nintendo",
          "Microsoft Game Studios",
          "Take-Two Interactive",
          "Sony Computer Entertainment",
          "Activision",
          "Ubisoft",
          "Bethesda Softworks",
          "Electronic Arts",
          "Sega",
          "SquareSoft"
         ],
         "legendgroup": "",
         "name": "",
         "pull": [
          0.11,
          0.1,
          0.1,
          0.1,
          0.1
         ],
         "rotation": 50,
         "showlegend": true,
         "textinfo": "percent+label",
         "type": "pie",
         "values": [
          1786.5599999999981,
          245.79000000000005,
          399.5399999999996,
          607.4999999999989,
          727.4599999999983,
          474.71999999999935,
          82.14000000000003,
          1110.3199999999915,
          272.98999999999927,
          57.65
         ]
        }
       ],
       "layout": {
        "legend": {
         "tracegroupgap": 0
        },
        "margin": {
         "t": 60
        },
        "template": {
         "data": {
          "bar": [
           {
            "error_x": {
             "color": "rgb(36,36,36)"
            },
            "error_y": {
             "color": "rgb(36,36,36)"
            },
            "marker": {
             "line": {
              "color": "rgb(234,234,242)",
              "width": 0.5
             }
            },
            "type": "bar"
           }
          ],
          "barpolar": [
           {
            "marker": {
             "line": {
              "color": "rgb(234,234,242)",
              "width": 0.5
             }
            },
            "type": "barpolar"
           }
          ],
          "carpet": [
           {
            "aaxis": {
             "endlinecolor": "rgb(36,36,36)",
             "gridcolor": "white",
             "linecolor": "white",
             "minorgridcolor": "white",
             "startlinecolor": "rgb(36,36,36)"
            },
            "baxis": {
             "endlinecolor": "rgb(36,36,36)",
             "gridcolor": "white",
             "linecolor": "white",
             "minorgridcolor": "white",
             "startlinecolor": "rgb(36,36,36)"
            },
            "type": "carpet"
           }
          ],
          "choropleth": [
           {
            "colorbar": {
             "outlinewidth": 0,
             "tickcolor": "rgb(36,36,36)",
             "ticklen": 8,
             "ticks": "outside",
             "tickwidth": 2
            },
            "type": "choropleth"
           }
          ],
          "contour": [
           {
            "colorbar": {
             "outlinewidth": 0,
             "tickcolor": "rgb(36,36,36)",
             "ticklen": 8,
             "ticks": "outside",
             "tickwidth": 2
            },
            "colorscale": [
             [
              0,
              "rgb(2,4,25)"
             ],
             [
              0.06274509803921569,
              "rgb(24,15,41)"
             ],
             [
              0.12549019607843137,
              "rgb(47,23,57)"
             ],
             [
              0.18823529411764706,
              "rgb(71,28,72)"
             ],
             [
              0.25098039215686274,
              "rgb(97,30,82)"
             ],
             [
              0.3137254901960784,
              "rgb(123,30,89)"
             ],
             [
              0.3764705882352941,
              "rgb(150,27,91)"
             ],
             [
              0.4392156862745098,
              "rgb(177,22,88)"
             ],
             [
              0.5019607843137255,
              "rgb(203,26,79)"
             ],
             [
              0.5647058823529412,
              "rgb(223,47,67)"
             ],
             [
              0.6274509803921569,
              "rgb(236,76,61)"
             ],
             [
              0.6901960784313725,
              "rgb(242,107,73)"
             ],
             [
              0.7529411764705882,
              "rgb(244,135,95)"
             ],
             [
              0.8156862745098039,
              "rgb(245,162,122)"
             ],
             [
              0.8784313725490196,
              "rgb(246,188,153)"
             ],
             [
              0.9411764705882353,
              "rgb(247,212,187)"
             ],
             [
              1,
              "rgb(250,234,220)"
             ]
            ],
            "type": "contour"
           }
          ],
          "contourcarpet": [
           {
            "colorbar": {
             "outlinewidth": 0,
             "tickcolor": "rgb(36,36,36)",
             "ticklen": 8,
             "ticks": "outside",
             "tickwidth": 2
            },
            "type": "contourcarpet"
           }
          ],
          "heatmap": [
           {
            "colorbar": {
             "outlinewidth": 0,
             "tickcolor": "rgb(36,36,36)",
             "ticklen": 8,
             "ticks": "outside",
             "tickwidth": 2
            },
            "colorscale": [
             [
              0,
              "rgb(2,4,25)"
             ],
             [
              0.06274509803921569,
              "rgb(24,15,41)"
             ],
             [
              0.12549019607843137,
              "rgb(47,23,57)"
             ],
             [
              0.18823529411764706,
              "rgb(71,28,72)"
             ],
             [
              0.25098039215686274,
              "rgb(97,30,82)"
             ],
             [
              0.3137254901960784,
              "rgb(123,30,89)"
             ],
             [
              0.3764705882352941,
              "rgb(150,27,91)"
             ],
             [
              0.4392156862745098,
              "rgb(177,22,88)"
             ],
             [
              0.5019607843137255,
              "rgb(203,26,79)"
             ],
             [
              0.5647058823529412,
              "rgb(223,47,67)"
             ],
             [
              0.6274509803921569,
              "rgb(236,76,61)"
             ],
             [
              0.6901960784313725,
              "rgb(242,107,73)"
             ],
             [
              0.7529411764705882,
              "rgb(244,135,95)"
             ],
             [
              0.8156862745098039,
              "rgb(245,162,122)"
             ],
             [
              0.8784313725490196,
              "rgb(246,188,153)"
             ],
             [
              0.9411764705882353,
              "rgb(247,212,187)"
             ],
             [
              1,
              "rgb(250,234,220)"
             ]
            ],
            "type": "heatmap"
           }
          ],
          "heatmapgl": [
           {
            "colorbar": {
             "outlinewidth": 0,
             "tickcolor": "rgb(36,36,36)",
             "ticklen": 8,
             "ticks": "outside",
             "tickwidth": 2
            },
            "colorscale": [
             [
              0,
              "rgb(2,4,25)"
             ],
             [
              0.06274509803921569,
              "rgb(24,15,41)"
             ],
             [
              0.12549019607843137,
              "rgb(47,23,57)"
             ],
             [
              0.18823529411764706,
              "rgb(71,28,72)"
             ],
             [
              0.25098039215686274,
              "rgb(97,30,82)"
             ],
             [
              0.3137254901960784,
              "rgb(123,30,89)"
             ],
             [
              0.3764705882352941,
              "rgb(150,27,91)"
             ],
             [
              0.4392156862745098,
              "rgb(177,22,88)"
             ],
             [
              0.5019607843137255,
              "rgb(203,26,79)"
             ],
             [
              0.5647058823529412,
              "rgb(223,47,67)"
             ],
             [
              0.6274509803921569,
              "rgb(236,76,61)"
             ],
             [
              0.6901960784313725,
              "rgb(242,107,73)"
             ],
             [
              0.7529411764705882,
              "rgb(244,135,95)"
             ],
             [
              0.8156862745098039,
              "rgb(245,162,122)"
             ],
             [
              0.8784313725490196,
              "rgb(246,188,153)"
             ],
             [
              0.9411764705882353,
              "rgb(247,212,187)"
             ],
             [
              1,
              "rgb(250,234,220)"
             ]
            ],
            "type": "heatmapgl"
           }
          ],
          "histogram": [
           {
            "marker": {
             "colorbar": {
              "outlinewidth": 0,
              "tickcolor": "rgb(36,36,36)",
              "ticklen": 8,
              "ticks": "outside",
              "tickwidth": 2
             }
            },
            "type": "histogram"
           }
          ],
          "histogram2d": [
           {
            "colorbar": {
             "outlinewidth": 0,
             "tickcolor": "rgb(36,36,36)",
             "ticklen": 8,
             "ticks": "outside",
             "tickwidth": 2
            },
            "colorscale": [
             [
              0,
              "rgb(2,4,25)"
             ],
             [
              0.06274509803921569,
              "rgb(24,15,41)"
             ],
             [
              0.12549019607843137,
              "rgb(47,23,57)"
             ],
             [
              0.18823529411764706,
              "rgb(71,28,72)"
             ],
             [
              0.25098039215686274,
              "rgb(97,30,82)"
             ],
             [
              0.3137254901960784,
              "rgb(123,30,89)"
             ],
             [
              0.3764705882352941,
              "rgb(150,27,91)"
             ],
             [
              0.4392156862745098,
              "rgb(177,22,88)"
             ],
             [
              0.5019607843137255,
              "rgb(203,26,79)"
             ],
             [
              0.5647058823529412,
              "rgb(223,47,67)"
             ],
             [
              0.6274509803921569,
              "rgb(236,76,61)"
             ],
             [
              0.6901960784313725,
              "rgb(242,107,73)"
             ],
             [
              0.7529411764705882,
              "rgb(244,135,95)"
             ],
             [
              0.8156862745098039,
              "rgb(245,162,122)"
             ],
             [
              0.8784313725490196,
              "rgb(246,188,153)"
             ],
             [
              0.9411764705882353,
              "rgb(247,212,187)"
             ],
             [
              1,
              "rgb(250,234,220)"
             ]
            ],
            "type": "histogram2d"
           }
          ],
          "histogram2dcontour": [
           {
            "colorbar": {
             "outlinewidth": 0,
             "tickcolor": "rgb(36,36,36)",
             "ticklen": 8,
             "ticks": "outside",
             "tickwidth": 2
            },
            "colorscale": [
             [
              0,
              "rgb(2,4,25)"
             ],
             [
              0.06274509803921569,
              "rgb(24,15,41)"
             ],
             [
              0.12549019607843137,
              "rgb(47,23,57)"
             ],
             [
              0.18823529411764706,
              "rgb(71,28,72)"
             ],
             [
              0.25098039215686274,
              "rgb(97,30,82)"
             ],
             [
              0.3137254901960784,
              "rgb(123,30,89)"
             ],
             [
              0.3764705882352941,
              "rgb(150,27,91)"
             ],
             [
              0.4392156862745098,
              "rgb(177,22,88)"
             ],
             [
              0.5019607843137255,
              "rgb(203,26,79)"
             ],
             [
              0.5647058823529412,
              "rgb(223,47,67)"
             ],
             [
              0.6274509803921569,
              "rgb(236,76,61)"
             ],
             [
              0.6901960784313725,
              "rgb(242,107,73)"
             ],
             [
              0.7529411764705882,
              "rgb(244,135,95)"
             ],
             [
              0.8156862745098039,
              "rgb(245,162,122)"
             ],
             [
              0.8784313725490196,
              "rgb(246,188,153)"
             ],
             [
              0.9411764705882353,
              "rgb(247,212,187)"
             ],
             [
              1,
              "rgb(250,234,220)"
             ]
            ],
            "type": "histogram2dcontour"
           }
          ],
          "mesh3d": [
           {
            "colorbar": {
             "outlinewidth": 0,
             "tickcolor": "rgb(36,36,36)",
             "ticklen": 8,
             "ticks": "outside",
             "tickwidth": 2
            },
            "type": "mesh3d"
           }
          ],
          "parcoords": [
           {
            "line": {
             "colorbar": {
              "outlinewidth": 0,
              "tickcolor": "rgb(36,36,36)",
              "ticklen": 8,
              "ticks": "outside",
              "tickwidth": 2
             }
            },
            "type": "parcoords"
           }
          ],
          "pie": [
           {
            "automargin": true,
            "type": "pie"
           }
          ],
          "scatter": [
           {
            "marker": {
             "colorbar": {
              "outlinewidth": 0,
              "tickcolor": "rgb(36,36,36)",
              "ticklen": 8,
              "ticks": "outside",
              "tickwidth": 2
             }
            },
            "type": "scatter"
           }
          ],
          "scatter3d": [
           {
            "line": {
             "colorbar": {
              "outlinewidth": 0,
              "tickcolor": "rgb(36,36,36)",
              "ticklen": 8,
              "ticks": "outside",
              "tickwidth": 2
             }
            },
            "marker": {
             "colorbar": {
              "outlinewidth": 0,
              "tickcolor": "rgb(36,36,36)",
              "ticklen": 8,
              "ticks": "outside",
              "tickwidth": 2
             }
            },
            "type": "scatter3d"
           }
          ],
          "scattercarpet": [
           {
            "marker": {
             "colorbar": {
              "outlinewidth": 0,
              "tickcolor": "rgb(36,36,36)",
              "ticklen": 8,
              "ticks": "outside",
              "tickwidth": 2
             }
            },
            "type": "scattercarpet"
           }
          ],
          "scattergeo": [
           {
            "marker": {
             "colorbar": {
              "outlinewidth": 0,
              "tickcolor": "rgb(36,36,36)",
              "ticklen": 8,
              "ticks": "outside",
              "tickwidth": 2
             }
            },
            "type": "scattergeo"
           }
          ],
          "scattergl": [
           {
            "marker": {
             "colorbar": {
              "outlinewidth": 0,
              "tickcolor": "rgb(36,36,36)",
              "ticklen": 8,
              "ticks": "outside",
              "tickwidth": 2
             }
            },
            "type": "scattergl"
           }
          ],
          "scattermapbox": [
           {
            "marker": {
             "colorbar": {
              "outlinewidth": 0,
              "tickcolor": "rgb(36,36,36)",
              "ticklen": 8,
              "ticks": "outside",
              "tickwidth": 2
             }
            },
            "type": "scattermapbox"
           }
          ],
          "scatterpolar": [
           {
            "marker": {
             "colorbar": {
              "outlinewidth": 0,
              "tickcolor": "rgb(36,36,36)",
              "ticklen": 8,
              "ticks": "outside",
              "tickwidth": 2
             }
            },
            "type": "scatterpolar"
           }
          ],
          "scatterpolargl": [
           {
            "marker": {
             "colorbar": {
              "outlinewidth": 0,
              "tickcolor": "rgb(36,36,36)",
              "ticklen": 8,
              "ticks": "outside",
              "tickwidth": 2
             }
            },
            "type": "scatterpolargl"
           }
          ],
          "scatterternary": [
           {
            "marker": {
             "colorbar": {
              "outlinewidth": 0,
              "tickcolor": "rgb(36,36,36)",
              "ticklen": 8,
              "ticks": "outside",
              "tickwidth": 2
             }
            },
            "type": "scatterternary"
           }
          ],
          "surface": [
           {
            "colorbar": {
             "outlinewidth": 0,
             "tickcolor": "rgb(36,36,36)",
             "ticklen": 8,
             "ticks": "outside",
             "tickwidth": 2
            },
            "colorscale": [
             [
              0,
              "rgb(2,4,25)"
             ],
             [
              0.06274509803921569,
              "rgb(24,15,41)"
             ],
             [
              0.12549019607843137,
              "rgb(47,23,57)"
             ],
             [
              0.18823529411764706,
              "rgb(71,28,72)"
             ],
             [
              0.25098039215686274,
              "rgb(97,30,82)"
             ],
             [
              0.3137254901960784,
              "rgb(123,30,89)"
             ],
             [
              0.3764705882352941,
              "rgb(150,27,91)"
             ],
             [
              0.4392156862745098,
              "rgb(177,22,88)"
             ],
             [
              0.5019607843137255,
              "rgb(203,26,79)"
             ],
             [
              0.5647058823529412,
              "rgb(223,47,67)"
             ],
             [
              0.6274509803921569,
              "rgb(236,76,61)"
             ],
             [
              0.6901960784313725,
              "rgb(242,107,73)"
             ],
             [
              0.7529411764705882,
              "rgb(244,135,95)"
             ],
             [
              0.8156862745098039,
              "rgb(245,162,122)"
             ],
             [
              0.8784313725490196,
              "rgb(246,188,153)"
             ],
             [
              0.9411764705882353,
              "rgb(247,212,187)"
             ],
             [
              1,
              "rgb(250,234,220)"
             ]
            ],
            "type": "surface"
           }
          ],
          "table": [
           {
            "cells": {
             "fill": {
              "color": "rgb(231,231,240)"
             },
             "line": {
              "color": "white"
             }
            },
            "header": {
             "fill": {
              "color": "rgb(183,183,191)"
             },
             "line": {
              "color": "white"
             }
            },
            "type": "table"
           }
          ]
         },
         "layout": {
          "annotationdefaults": {
           "arrowcolor": "rgb(67,103,167)"
          },
          "coloraxis": {
           "colorbar": {
            "outlinewidth": 0,
            "tickcolor": "rgb(36,36,36)",
            "ticklen": 8,
            "ticks": "outside",
            "tickwidth": 2
           }
          },
          "colorscale": {
           "sequential": [
            [
             0,
             "rgb(2,4,25)"
            ],
            [
             0.06274509803921569,
             "rgb(24,15,41)"
            ],
            [
             0.12549019607843137,
             "rgb(47,23,57)"
            ],
            [
             0.18823529411764706,
             "rgb(71,28,72)"
            ],
            [
             0.25098039215686274,
             "rgb(97,30,82)"
            ],
            [
             0.3137254901960784,
             "rgb(123,30,89)"
            ],
            [
             0.3764705882352941,
             "rgb(150,27,91)"
            ],
            [
             0.4392156862745098,
             "rgb(177,22,88)"
            ],
            [
             0.5019607843137255,
             "rgb(203,26,79)"
            ],
            [
             0.5647058823529412,
             "rgb(223,47,67)"
            ],
            [
             0.6274509803921569,
             "rgb(236,76,61)"
            ],
            [
             0.6901960784313725,
             "rgb(242,107,73)"
            ],
            [
             0.7529411764705882,
             "rgb(244,135,95)"
            ],
            [
             0.8156862745098039,
             "rgb(245,162,122)"
            ],
            [
             0.8784313725490196,
             "rgb(246,188,153)"
            ],
            [
             0.9411764705882353,
             "rgb(247,212,187)"
            ],
            [
             1,
             "rgb(250,234,220)"
            ]
           ],
           "sequentialminus": [
            [
             0,
             "rgb(2,4,25)"
            ],
            [
             0.06274509803921569,
             "rgb(24,15,41)"
            ],
            [
             0.12549019607843137,
             "rgb(47,23,57)"
            ],
            [
             0.18823529411764706,
             "rgb(71,28,72)"
            ],
            [
             0.25098039215686274,
             "rgb(97,30,82)"
            ],
            [
             0.3137254901960784,
             "rgb(123,30,89)"
            ],
            [
             0.3764705882352941,
             "rgb(150,27,91)"
            ],
            [
             0.4392156862745098,
             "rgb(177,22,88)"
            ],
            [
             0.5019607843137255,
             "rgb(203,26,79)"
            ],
            [
             0.5647058823529412,
             "rgb(223,47,67)"
            ],
            [
             0.6274509803921569,
             "rgb(236,76,61)"
            ],
            [
             0.6901960784313725,
             "rgb(242,107,73)"
            ],
            [
             0.7529411764705882,
             "rgb(244,135,95)"
            ],
            [
             0.8156862745098039,
             "rgb(245,162,122)"
            ],
            [
             0.8784313725490196,
             "rgb(246,188,153)"
            ],
            [
             0.9411764705882353,
             "rgb(247,212,187)"
            ],
            [
             1,
             "rgb(250,234,220)"
            ]
           ]
          },
          "colorway": [
           "rgb(76,114,176)",
           "rgb(221,132,82)",
           "rgb(85,168,104)",
           "rgb(196,78,82)",
           "rgb(129,114,179)",
           "rgb(147,120,96)",
           "rgb(218,139,195)",
           "rgb(140,140,140)",
           "rgb(204,185,116)",
           "rgb(100,181,205)"
          ],
          "font": {
           "color": "rgb(36,36,36)"
          },
          "geo": {
           "bgcolor": "white",
           "lakecolor": "white",
           "landcolor": "rgb(234,234,242)",
           "showlakes": true,
           "showland": true,
           "subunitcolor": "white"
          },
          "hoverlabel": {
           "align": "left"
          },
          "hovermode": "closest",
          "paper_bgcolor": "white",
          "plot_bgcolor": "rgb(234,234,242)",
          "polar": {
           "angularaxis": {
            "gridcolor": "white",
            "linecolor": "white",
            "showgrid": true,
            "ticks": ""
           },
           "bgcolor": "rgb(234,234,242)",
           "radialaxis": {
            "gridcolor": "white",
            "linecolor": "white",
            "showgrid": true,
            "ticks": ""
           }
          },
          "scene": {
           "xaxis": {
            "backgroundcolor": "rgb(234,234,242)",
            "gridcolor": "white",
            "gridwidth": 2,
            "linecolor": "white",
            "showbackground": true,
            "showgrid": true,
            "ticks": "",
            "zerolinecolor": "white"
           },
           "yaxis": {
            "backgroundcolor": "rgb(234,234,242)",
            "gridcolor": "white",
            "gridwidth": 2,
            "linecolor": "white",
            "showbackground": true,
            "showgrid": true,
            "ticks": "",
            "zerolinecolor": "white"
           },
           "zaxis": {
            "backgroundcolor": "rgb(234,234,242)",
            "gridcolor": "white",
            "gridwidth": 2,
            "linecolor": "white",
            "showbackground": true,
            "showgrid": true,
            "ticks": "",
            "zerolinecolor": "white"
           }
          },
          "shapedefaults": {
           "fillcolor": "rgb(67,103,167)",
           "line": {
            "width": 0
           },
           "opacity": 0.5
          },
          "ternary": {
           "aaxis": {
            "gridcolor": "white",
            "linecolor": "white",
            "showgrid": true,
            "ticks": ""
           },
           "baxis": {
            "gridcolor": "white",
            "linecolor": "white",
            "showgrid": true,
            "ticks": ""
           },
           "bgcolor": "rgb(234,234,242)",
           "caxis": {
            "gridcolor": "white",
            "linecolor": "white",
            "showgrid": true,
            "ticks": ""
           }
          },
          "xaxis": {
           "automargin": true,
           "gridcolor": "white",
           "linecolor": "white",
           "showgrid": true,
           "ticks": "",
           "title": {
            "standoff": 15
           },
           "zerolinecolor": "white"
          },
          "yaxis": {
           "automargin": true,
           "gridcolor": "white",
           "linecolor": "white",
           "showgrid": true,
           "ticks": "",
           "title": {
            "standoff": 15
           },
           "zerolinecolor": "white"
          }
         }
        }
       }
      },
      "text/html": [
       "<div>\n",
       "        \n",
       "        \n",
       "            <div id=\"7e2e289a-a4ba-499d-b5b4-798fe398afcc\" class=\"plotly-graph-div\" style=\"height:525px; width:100%;\"></div>\n",
       "            <script type=\"text/javascript\">\n",
       "                require([\"plotly\"], function(Plotly) {\n",
       "                    window.PLOTLYENV=window.PLOTLYENV || {};\n",
       "                    \n",
       "                if (document.getElementById(\"7e2e289a-a4ba-499d-b5b4-798fe398afcc\")) {\n",
       "                    Plotly.newPlot(\n",
       "                        '7e2e289a-a4ba-499d-b5b4-798fe398afcc',\n",
       "                        [{\"domain\": {\"x\": [0.0, 1.0], \"y\": [0.0, 1.0]}, \"hovertemplate\": \"Publisher=%{label}<br>total_sales=%{value}<extra></extra>\", \"labels\": [\"Nintendo\", \"Microsoft Game Studios\", \"Take-Two Interactive\", \"Sony Computer Entertainment\", \"Activision\", \"Ubisoft\", \"Bethesda Softworks\", \"Electronic Arts\", \"Sega\", \"SquareSoft\"], \"legendgroup\": \"\", \"name\": \"\", \"pull\": [0.11, 0.1, 0.1, 0.1, 0.1], \"rotation\": 50, \"showlegend\": true, \"textinfo\": \"percent+label\", \"type\": \"pie\", \"values\": [1786.5599999999981, 245.79000000000005, 399.5399999999996, 607.4999999999989, 727.4599999999983, 474.71999999999935, 82.14000000000003, 1110.3199999999915, 272.98999999999927, 57.65]}],\n",
       "                        {\"legend\": {\"tracegroupgap\": 0}, \"margin\": {\"t\": 60}, \"template\": {\"data\": {\"bar\": [{\"error_x\": {\"color\": \"rgb(36,36,36)\"}, \"error_y\": {\"color\": \"rgb(36,36,36)\"}, \"marker\": {\"line\": {\"color\": \"rgb(234,234,242)\", \"width\": 0.5}}, \"type\": \"bar\"}], \"barpolar\": [{\"marker\": {\"line\": {\"color\": \"rgb(234,234,242)\", \"width\": 0.5}}, \"type\": \"barpolar\"}], \"carpet\": [{\"aaxis\": {\"endlinecolor\": \"rgb(36,36,36)\", \"gridcolor\": \"white\", \"linecolor\": \"white\", \"minorgridcolor\": \"white\", \"startlinecolor\": \"rgb(36,36,36)\"}, \"baxis\": {\"endlinecolor\": \"rgb(36,36,36)\", \"gridcolor\": \"white\", \"linecolor\": \"white\", \"minorgridcolor\": \"white\", \"startlinecolor\": \"rgb(36,36,36)\"}, \"type\": \"carpet\"}], \"choropleth\": [{\"colorbar\": {\"outlinewidth\": 0, \"tickcolor\": \"rgb(36,36,36)\", \"ticklen\": 8, \"ticks\": \"outside\", \"tickwidth\": 2}, \"type\": \"choropleth\"}], \"contour\": [{\"colorbar\": {\"outlinewidth\": 0, \"tickcolor\": \"rgb(36,36,36)\", \"ticklen\": 8, \"ticks\": \"outside\", \"tickwidth\": 2}, \"colorscale\": [[0.0, \"rgb(2,4,25)\"], [0.06274509803921569, \"rgb(24,15,41)\"], [0.12549019607843137, \"rgb(47,23,57)\"], [0.18823529411764706, \"rgb(71,28,72)\"], [0.25098039215686274, \"rgb(97,30,82)\"], [0.3137254901960784, \"rgb(123,30,89)\"], [0.3764705882352941, \"rgb(150,27,91)\"], [0.4392156862745098, \"rgb(177,22,88)\"], [0.5019607843137255, \"rgb(203,26,79)\"], [0.5647058823529412, \"rgb(223,47,67)\"], [0.6274509803921569, \"rgb(236,76,61)\"], [0.6901960784313725, \"rgb(242,107,73)\"], [0.7529411764705882, \"rgb(244,135,95)\"], [0.8156862745098039, \"rgb(245,162,122)\"], [0.8784313725490196, \"rgb(246,188,153)\"], [0.9411764705882353, \"rgb(247,212,187)\"], [1.0, \"rgb(250,234,220)\"]], \"type\": \"contour\"}], \"contourcarpet\": [{\"colorbar\": {\"outlinewidth\": 0, \"tickcolor\": \"rgb(36,36,36)\", \"ticklen\": 8, \"ticks\": \"outside\", \"tickwidth\": 2}, \"type\": \"contourcarpet\"}], \"heatmap\": [{\"colorbar\": {\"outlinewidth\": 0, \"tickcolor\": \"rgb(36,36,36)\", \"ticklen\": 8, \"ticks\": \"outside\", \"tickwidth\": 2}, \"colorscale\": [[0.0, \"rgb(2,4,25)\"], [0.06274509803921569, \"rgb(24,15,41)\"], [0.12549019607843137, \"rgb(47,23,57)\"], [0.18823529411764706, \"rgb(71,28,72)\"], [0.25098039215686274, \"rgb(97,30,82)\"], [0.3137254901960784, \"rgb(123,30,89)\"], [0.3764705882352941, \"rgb(150,27,91)\"], [0.4392156862745098, \"rgb(177,22,88)\"], [0.5019607843137255, \"rgb(203,26,79)\"], [0.5647058823529412, \"rgb(223,47,67)\"], [0.6274509803921569, \"rgb(236,76,61)\"], [0.6901960784313725, \"rgb(242,107,73)\"], [0.7529411764705882, \"rgb(244,135,95)\"], [0.8156862745098039, \"rgb(245,162,122)\"], [0.8784313725490196, \"rgb(246,188,153)\"], [0.9411764705882353, \"rgb(247,212,187)\"], [1.0, \"rgb(250,234,220)\"]], \"type\": \"heatmap\"}], \"heatmapgl\": [{\"colorbar\": {\"outlinewidth\": 0, \"tickcolor\": \"rgb(36,36,36)\", \"ticklen\": 8, \"ticks\": \"outside\", \"tickwidth\": 2}, \"colorscale\": [[0.0, \"rgb(2,4,25)\"], [0.06274509803921569, \"rgb(24,15,41)\"], [0.12549019607843137, \"rgb(47,23,57)\"], [0.18823529411764706, \"rgb(71,28,72)\"], [0.25098039215686274, \"rgb(97,30,82)\"], [0.3137254901960784, \"rgb(123,30,89)\"], [0.3764705882352941, \"rgb(150,27,91)\"], [0.4392156862745098, \"rgb(177,22,88)\"], [0.5019607843137255, \"rgb(203,26,79)\"], [0.5647058823529412, \"rgb(223,47,67)\"], [0.6274509803921569, \"rgb(236,76,61)\"], [0.6901960784313725, \"rgb(242,107,73)\"], [0.7529411764705882, \"rgb(244,135,95)\"], [0.8156862745098039, \"rgb(245,162,122)\"], [0.8784313725490196, \"rgb(246,188,153)\"], [0.9411764705882353, \"rgb(247,212,187)\"], [1.0, \"rgb(250,234,220)\"]], \"type\": \"heatmapgl\"}], \"histogram\": [{\"marker\": {\"colorbar\": {\"outlinewidth\": 0, \"tickcolor\": \"rgb(36,36,36)\", \"ticklen\": 8, \"ticks\": \"outside\", \"tickwidth\": 2}}, \"type\": \"histogram\"}], \"histogram2d\": [{\"colorbar\": {\"outlinewidth\": 0, \"tickcolor\": \"rgb(36,36,36)\", \"ticklen\": 8, \"ticks\": \"outside\", \"tickwidth\": 2}, \"colorscale\": [[0.0, \"rgb(2,4,25)\"], [0.06274509803921569, \"rgb(24,15,41)\"], [0.12549019607843137, \"rgb(47,23,57)\"], [0.18823529411764706, \"rgb(71,28,72)\"], [0.25098039215686274, \"rgb(97,30,82)\"], [0.3137254901960784, \"rgb(123,30,89)\"], [0.3764705882352941, \"rgb(150,27,91)\"], [0.4392156862745098, \"rgb(177,22,88)\"], [0.5019607843137255, \"rgb(203,26,79)\"], [0.5647058823529412, \"rgb(223,47,67)\"], [0.6274509803921569, \"rgb(236,76,61)\"], [0.6901960784313725, \"rgb(242,107,73)\"], [0.7529411764705882, \"rgb(244,135,95)\"], [0.8156862745098039, \"rgb(245,162,122)\"], [0.8784313725490196, \"rgb(246,188,153)\"], [0.9411764705882353, \"rgb(247,212,187)\"], [1.0, \"rgb(250,234,220)\"]], \"type\": \"histogram2d\"}], \"histogram2dcontour\": [{\"colorbar\": {\"outlinewidth\": 0, \"tickcolor\": \"rgb(36,36,36)\", \"ticklen\": 8, \"ticks\": \"outside\", \"tickwidth\": 2}, \"colorscale\": [[0.0, \"rgb(2,4,25)\"], [0.06274509803921569, \"rgb(24,15,41)\"], [0.12549019607843137, \"rgb(47,23,57)\"], [0.18823529411764706, \"rgb(71,28,72)\"], [0.25098039215686274, \"rgb(97,30,82)\"], [0.3137254901960784, \"rgb(123,30,89)\"], [0.3764705882352941, \"rgb(150,27,91)\"], [0.4392156862745098, \"rgb(177,22,88)\"], [0.5019607843137255, \"rgb(203,26,79)\"], [0.5647058823529412, \"rgb(223,47,67)\"], [0.6274509803921569, \"rgb(236,76,61)\"], [0.6901960784313725, \"rgb(242,107,73)\"], [0.7529411764705882, \"rgb(244,135,95)\"], [0.8156862745098039, \"rgb(245,162,122)\"], [0.8784313725490196, \"rgb(246,188,153)\"], [0.9411764705882353, \"rgb(247,212,187)\"], [1.0, \"rgb(250,234,220)\"]], \"type\": \"histogram2dcontour\"}], \"mesh3d\": [{\"colorbar\": {\"outlinewidth\": 0, \"tickcolor\": \"rgb(36,36,36)\", \"ticklen\": 8, \"ticks\": \"outside\", \"tickwidth\": 2}, \"type\": \"mesh3d\"}], \"parcoords\": [{\"line\": {\"colorbar\": {\"outlinewidth\": 0, \"tickcolor\": \"rgb(36,36,36)\", \"ticklen\": 8, \"ticks\": \"outside\", \"tickwidth\": 2}}, \"type\": \"parcoords\"}], \"pie\": [{\"automargin\": true, \"type\": \"pie\"}], \"scatter\": [{\"marker\": {\"colorbar\": {\"outlinewidth\": 0, \"tickcolor\": \"rgb(36,36,36)\", \"ticklen\": 8, \"ticks\": \"outside\", \"tickwidth\": 2}}, \"type\": \"scatter\"}], \"scatter3d\": [{\"line\": {\"colorbar\": {\"outlinewidth\": 0, \"tickcolor\": \"rgb(36,36,36)\", \"ticklen\": 8, \"ticks\": \"outside\", \"tickwidth\": 2}}, \"marker\": {\"colorbar\": {\"outlinewidth\": 0, \"tickcolor\": \"rgb(36,36,36)\", \"ticklen\": 8, \"ticks\": \"outside\", \"tickwidth\": 2}}, \"type\": \"scatter3d\"}], \"scattercarpet\": [{\"marker\": {\"colorbar\": {\"outlinewidth\": 0, \"tickcolor\": \"rgb(36,36,36)\", \"ticklen\": 8, \"ticks\": \"outside\", \"tickwidth\": 2}}, \"type\": \"scattercarpet\"}], \"scattergeo\": [{\"marker\": {\"colorbar\": {\"outlinewidth\": 0, \"tickcolor\": \"rgb(36,36,36)\", \"ticklen\": 8, \"ticks\": \"outside\", \"tickwidth\": 2}}, \"type\": \"scattergeo\"}], \"scattergl\": [{\"marker\": {\"colorbar\": {\"outlinewidth\": 0, \"tickcolor\": \"rgb(36,36,36)\", \"ticklen\": 8, \"ticks\": \"outside\", \"tickwidth\": 2}}, \"type\": \"scattergl\"}], \"scattermapbox\": [{\"marker\": {\"colorbar\": {\"outlinewidth\": 0, \"tickcolor\": \"rgb(36,36,36)\", \"ticklen\": 8, \"ticks\": \"outside\", \"tickwidth\": 2}}, \"type\": \"scattermapbox\"}], \"scatterpolar\": [{\"marker\": {\"colorbar\": {\"outlinewidth\": 0, \"tickcolor\": \"rgb(36,36,36)\", \"ticklen\": 8, \"ticks\": \"outside\", \"tickwidth\": 2}}, \"type\": \"scatterpolar\"}], \"scatterpolargl\": [{\"marker\": {\"colorbar\": {\"outlinewidth\": 0, \"tickcolor\": \"rgb(36,36,36)\", \"ticklen\": 8, \"ticks\": \"outside\", \"tickwidth\": 2}}, \"type\": \"scatterpolargl\"}], \"scatterternary\": [{\"marker\": {\"colorbar\": {\"outlinewidth\": 0, \"tickcolor\": \"rgb(36,36,36)\", \"ticklen\": 8, \"ticks\": \"outside\", \"tickwidth\": 2}}, \"type\": \"scatterternary\"}], \"surface\": [{\"colorbar\": {\"outlinewidth\": 0, \"tickcolor\": \"rgb(36,36,36)\", \"ticklen\": 8, \"ticks\": \"outside\", \"tickwidth\": 2}, \"colorscale\": [[0.0, \"rgb(2,4,25)\"], [0.06274509803921569, \"rgb(24,15,41)\"], [0.12549019607843137, \"rgb(47,23,57)\"], [0.18823529411764706, \"rgb(71,28,72)\"], [0.25098039215686274, \"rgb(97,30,82)\"], [0.3137254901960784, \"rgb(123,30,89)\"], [0.3764705882352941, \"rgb(150,27,91)\"], [0.4392156862745098, \"rgb(177,22,88)\"], [0.5019607843137255, \"rgb(203,26,79)\"], [0.5647058823529412, \"rgb(223,47,67)\"], [0.6274509803921569, \"rgb(236,76,61)\"], [0.6901960784313725, \"rgb(242,107,73)\"], [0.7529411764705882, \"rgb(244,135,95)\"], [0.8156862745098039, \"rgb(245,162,122)\"], [0.8784313725490196, \"rgb(246,188,153)\"], [0.9411764705882353, \"rgb(247,212,187)\"], [1.0, \"rgb(250,234,220)\"]], \"type\": \"surface\"}], \"table\": [{\"cells\": {\"fill\": {\"color\": \"rgb(231,231,240)\"}, \"line\": {\"color\": \"white\"}}, \"header\": {\"fill\": {\"color\": \"rgb(183,183,191)\"}, \"line\": {\"color\": \"white\"}}, \"type\": \"table\"}]}, \"layout\": {\"annotationdefaults\": {\"arrowcolor\": \"rgb(67,103,167)\"}, \"coloraxis\": {\"colorbar\": {\"outlinewidth\": 0, \"tickcolor\": \"rgb(36,36,36)\", \"ticklen\": 8, \"ticks\": \"outside\", \"tickwidth\": 2}}, \"colorscale\": {\"sequential\": [[0.0, \"rgb(2,4,25)\"], [0.06274509803921569, \"rgb(24,15,41)\"], [0.12549019607843137, \"rgb(47,23,57)\"], [0.18823529411764706, \"rgb(71,28,72)\"], [0.25098039215686274, \"rgb(97,30,82)\"], [0.3137254901960784, \"rgb(123,30,89)\"], [0.3764705882352941, \"rgb(150,27,91)\"], [0.4392156862745098, \"rgb(177,22,88)\"], [0.5019607843137255, \"rgb(203,26,79)\"], [0.5647058823529412, \"rgb(223,47,67)\"], [0.6274509803921569, \"rgb(236,76,61)\"], [0.6901960784313725, \"rgb(242,107,73)\"], [0.7529411764705882, \"rgb(244,135,95)\"], [0.8156862745098039, \"rgb(245,162,122)\"], [0.8784313725490196, \"rgb(246,188,153)\"], [0.9411764705882353, \"rgb(247,212,187)\"], [1.0, \"rgb(250,234,220)\"]], \"sequentialminus\": [[0.0, \"rgb(2,4,25)\"], [0.06274509803921569, \"rgb(24,15,41)\"], [0.12549019607843137, \"rgb(47,23,57)\"], [0.18823529411764706, \"rgb(71,28,72)\"], [0.25098039215686274, \"rgb(97,30,82)\"], [0.3137254901960784, \"rgb(123,30,89)\"], [0.3764705882352941, \"rgb(150,27,91)\"], [0.4392156862745098, \"rgb(177,22,88)\"], [0.5019607843137255, \"rgb(203,26,79)\"], [0.5647058823529412, \"rgb(223,47,67)\"], [0.6274509803921569, \"rgb(236,76,61)\"], [0.6901960784313725, \"rgb(242,107,73)\"], [0.7529411764705882, \"rgb(244,135,95)\"], [0.8156862745098039, \"rgb(245,162,122)\"], [0.8784313725490196, \"rgb(246,188,153)\"], [0.9411764705882353, \"rgb(247,212,187)\"], [1.0, \"rgb(250,234,220)\"]]}, \"colorway\": [\"rgb(76,114,176)\", \"rgb(221,132,82)\", \"rgb(85,168,104)\", \"rgb(196,78,82)\", \"rgb(129,114,179)\", \"rgb(147,120,96)\", \"rgb(218,139,195)\", \"rgb(140,140,140)\", \"rgb(204,185,116)\", \"rgb(100,181,205)\"], \"font\": {\"color\": \"rgb(36,36,36)\"}, \"geo\": {\"bgcolor\": \"white\", \"lakecolor\": \"white\", \"landcolor\": \"rgb(234,234,242)\", \"showlakes\": true, \"showland\": true, \"subunitcolor\": \"white\"}, \"hoverlabel\": {\"align\": \"left\"}, \"hovermode\": \"closest\", \"paper_bgcolor\": \"white\", \"plot_bgcolor\": \"rgb(234,234,242)\", \"polar\": {\"angularaxis\": {\"gridcolor\": \"white\", \"linecolor\": \"white\", \"showgrid\": true, \"ticks\": \"\"}, \"bgcolor\": \"rgb(234,234,242)\", \"radialaxis\": {\"gridcolor\": \"white\", \"linecolor\": \"white\", \"showgrid\": true, \"ticks\": \"\"}}, \"scene\": {\"xaxis\": {\"backgroundcolor\": \"rgb(234,234,242)\", \"gridcolor\": \"white\", \"gridwidth\": 2, \"linecolor\": \"white\", \"showbackground\": true, \"showgrid\": true, \"ticks\": \"\", \"zerolinecolor\": \"white\"}, \"yaxis\": {\"backgroundcolor\": \"rgb(234,234,242)\", \"gridcolor\": \"white\", \"gridwidth\": 2, \"linecolor\": \"white\", \"showbackground\": true, \"showgrid\": true, \"ticks\": \"\", \"zerolinecolor\": \"white\"}, \"zaxis\": {\"backgroundcolor\": \"rgb(234,234,242)\", \"gridcolor\": \"white\", \"gridwidth\": 2, \"linecolor\": \"white\", \"showbackground\": true, \"showgrid\": true, \"ticks\": \"\", \"zerolinecolor\": \"white\"}}, \"shapedefaults\": {\"fillcolor\": \"rgb(67,103,167)\", \"line\": {\"width\": 0}, \"opacity\": 0.5}, \"ternary\": {\"aaxis\": {\"gridcolor\": \"white\", \"linecolor\": \"white\", \"showgrid\": true, \"ticks\": \"\"}, \"baxis\": {\"gridcolor\": \"white\", \"linecolor\": \"white\", \"showgrid\": true, \"ticks\": \"\"}, \"bgcolor\": \"rgb(234,234,242)\", \"caxis\": {\"gridcolor\": \"white\", \"linecolor\": \"white\", \"showgrid\": true, \"ticks\": \"\"}}, \"xaxis\": {\"automargin\": true, \"gridcolor\": \"white\", \"linecolor\": \"white\", \"showgrid\": true, \"ticks\": \"\", \"title\": {\"standoff\": 15}, \"zerolinecolor\": \"white\"}, \"yaxis\": {\"automargin\": true, \"gridcolor\": \"white\", \"linecolor\": \"white\", \"showgrid\": true, \"ticks\": \"\", \"title\": {\"standoff\": 15}, \"zerolinecolor\": \"white\"}}}},\n",
       "                        {\"responsive\": true}\n",
       "                    ).then(function(){\n",
       "                            \n",
       "var gd = document.getElementById('7e2e289a-a4ba-499d-b5b4-798fe398afcc');\n",
       "var x = new MutationObserver(function (mutations, observer) {{\n",
       "        var display = window.getComputedStyle(gd).display;\n",
       "        if (!display || display === 'none') {{\n",
       "            console.log([gd, 'removed!']);\n",
       "            Plotly.purge(gd);\n",
       "            observer.disconnect();\n",
       "        }}\n",
       "}});\n",
       "\n",
       "// Listen for the removal of the full notebook cells\n",
       "var notebookContainer = gd.closest('#notebook-container');\n",
       "if (notebookContainer) {{\n",
       "    x.observe(notebookContainer, {childList: true});\n",
       "}}\n",
       "\n",
       "// Listen for the clearing of the current output cell\n",
       "var outputEl = gd.closest('.output');\n",
       "if (outputEl) {{\n",
       "    x.observe(outputEl, {childList: true});\n",
       "}}\n",
       "\n",
       "                        })\n",
       "                };\n",
       "                });\n",
       "            </script>\n",
       "        </div>"
      ]
     },
     "metadata": {},
     "output_type": "display_data"
    }
   ],
   "source": [
    "# Qual fabricante de video game teve as maiores vendas:Nintendo\n",
    "rank = vg_df.loc[:,['Publisher','Global_Sales']]\n",
    "rank['total_sales'] = rank.groupby('Publisher')['Global_Sales'].transform('sum')\n",
    "rank.drop('Global_Sales', axis=1, inplace=True)\n",
    "rank = rank.drop_duplicates()\n",
    "rank = rank.head(10)\n",
    "\n",
    "fig = px.pie(rank, names='Publisher', values='total_sales', template='seaborn')\n",
    "fig.update_traces(rotation=50, pull=[0.11,0.1,0.1,0.1,0.1], textinfo=\"percent+label\")\n",
    "fig.show()"
   ]
  },
  {
   "cell_type": "markdown",
   "metadata": {},
   "source": [
    "### Quais são os cinco maiores editores de game por ano"
   ]
  },
  {
   "cell_type": "markdown",
   "metadata": {},
   "source": [
    "- Resposta disponibilizada no gráfico"
   ]
  },
  {
   "cell_type": "code",
   "execution_count": 22,
   "metadata": {},
   "outputs": [
    {
     "data": {
      "application/vnd.plotly.v1+json": {
       "config": {
        "plotlyServerURL": "https://plot.ly"
       },
       "data": [
        {
         "alignmentgroup": "True",
         "hovertemplate": "<b>%{hovertext}</b><br><br>Publisher=%{x}<br>Year=2006.0<br>total_sales=%{y}<extra></extra>",
         "hovertext": [
          "Nintendo"
         ],
         "ids": [
          "Nintendo"
         ],
         "legendgroup": "Nintendo",
         "marker": {
          "color": "#636efa"
         },
         "name": "Nintendo",
         "offsetgroup": "Nintendo",
         "orientation": "v",
         "showlegend": true,
         "textposition": "auto",
         "type": "bar",
         "x": [
          "Nintendo"
         ],
         "xaxis": "x",
         "y": [
          205.60999999999999
         ],
         "yaxis": "y"
        },
        {
         "alignmentgroup": "True",
         "hovertemplate": "<b>%{hovertext}</b><br><br>Publisher=%{x}<br>Year=2006.0<br>total_sales=%{y}<extra></extra>",
         "hovertext": [
          "Electronic Arts"
         ],
         "ids": [
          "Electronic Arts"
         ],
         "legendgroup": "Electronic Arts",
         "marker": {
          "color": "#EF553B"
         },
         "name": "Electronic Arts",
         "offsetgroup": "Electronic Arts",
         "orientation": "v",
         "showlegend": true,
         "textposition": "auto",
         "type": "bar",
         "x": [
          "Electronic Arts"
         ],
         "xaxis": "x",
         "y": [
          58.410000000000025
         ],
         "yaxis": "y"
        },
        {
         "alignmentgroup": "True",
         "hovertemplate": "<b>%{hovertext}</b><br><br>Publisher=%{x}<br>Year=2006.0<br>total_sales=%{y}<extra></extra>",
         "hovertext": [
          "Ubisoft"
         ],
         "ids": [
          "Ubisoft"
         ],
         "legendgroup": "Ubisoft",
         "marker": {
          "color": "#00cc96"
         },
         "name": "Ubisoft",
         "offsetgroup": "Ubisoft",
         "orientation": "v",
         "showlegend": true,
         "textposition": "auto",
         "type": "bar",
         "x": [
          "Ubisoft"
         ],
         "xaxis": "x",
         "y": [
          17.269999999999992
         ],
         "yaxis": "y"
        },
        {
         "alignmentgroup": "True",
         "hovertemplate": "<b>%{hovertext}</b><br><br>Publisher=%{x}<br>Year=2006.0<br>total_sales=%{y}<extra></extra>",
         "hovertext": [
          "Activision"
         ],
         "ids": [
          "Activision"
         ],
         "legendgroup": "Activision",
         "marker": {
          "color": "#ab63fa"
         },
         "name": "Activision",
         "offsetgroup": "Activision",
         "orientation": "v",
         "showlegend": true,
         "textposition": "auto",
         "type": "bar",
         "x": [
          "Activision"
         ],
         "xaxis": "x",
         "y": [
          17.400000000000006
         ],
         "yaxis": "y"
        },
        {
         "alignmentgroup": "True",
         "hovertemplate": "<b>%{hovertext}</b><br><br>Publisher=%{x}<br>Year=2006.0<br>total_sales=%{y}<extra></extra>",
         "hovertext": [
          "Sony Computer Entertainment"
         ],
         "ids": [
          "Sony Computer Entertainment"
         ],
         "legendgroup": "Sony Computer Entertainment",
         "marker": {
          "color": "#FFA15A"
         },
         "name": "Sony Computer Entertainment",
         "offsetgroup": "Sony Computer Entertainment",
         "orientation": "v",
         "showlegend": true,
         "textposition": "auto",
         "type": "bar",
         "x": [
          "Sony Computer Entertainment"
         ],
         "xaxis": "x",
         "y": [
          33.81
         ],
         "yaxis": "y"
        }
       ],
       "frames": [
        {
         "data": [
          {
           "alignmentgroup": "True",
           "hovertemplate": "<b>%{hovertext}</b><br><br>Publisher=%{x}<br>Year=2006.0<br>total_sales=%{y}<extra></extra>",
           "hovertext": [
            "Nintendo"
           ],
           "ids": [
            "Nintendo"
           ],
           "legendgroup": "Nintendo",
           "marker": {
            "color": "#636efa"
           },
           "name": "Nintendo",
           "offsetgroup": "Nintendo",
           "orientation": "v",
           "showlegend": true,
           "textposition": "auto",
           "type": "bar",
           "x": [
            "Nintendo"
           ],
           "xaxis": "x",
           "y": [
            205.60999999999999
           ],
           "yaxis": "y"
          },
          {
           "alignmentgroup": "True",
           "hovertemplate": "<b>%{hovertext}</b><br><br>Publisher=%{x}<br>Year=2006.0<br>total_sales=%{y}<extra></extra>",
           "hovertext": [
            "Electronic Arts"
           ],
           "ids": [
            "Electronic Arts"
           ],
           "legendgroup": "Electronic Arts",
           "marker": {
            "color": "#EF553B"
           },
           "name": "Electronic Arts",
           "offsetgroup": "Electronic Arts",
           "orientation": "v",
           "showlegend": true,
           "textposition": "auto",
           "type": "bar",
           "x": [
            "Electronic Arts"
           ],
           "xaxis": "x",
           "y": [
            58.410000000000025
           ],
           "yaxis": "y"
          },
          {
           "alignmentgroup": "True",
           "hovertemplate": "<b>%{hovertext}</b><br><br>Publisher=%{x}<br>Year=2006.0<br>total_sales=%{y}<extra></extra>",
           "hovertext": [
            "Ubisoft"
           ],
           "ids": [
            "Ubisoft"
           ],
           "legendgroup": "Ubisoft",
           "marker": {
            "color": "#00cc96"
           },
           "name": "Ubisoft",
           "offsetgroup": "Ubisoft",
           "orientation": "v",
           "showlegend": true,
           "textposition": "auto",
           "type": "bar",
           "x": [
            "Ubisoft"
           ],
           "xaxis": "x",
           "y": [
            17.269999999999992
           ],
           "yaxis": "y"
          },
          {
           "alignmentgroup": "True",
           "hovertemplate": "<b>%{hovertext}</b><br><br>Publisher=%{x}<br>Year=2006.0<br>total_sales=%{y}<extra></extra>",
           "hovertext": [
            "Activision"
           ],
           "ids": [
            "Activision"
           ],
           "legendgroup": "Activision",
           "marker": {
            "color": "#ab63fa"
           },
           "name": "Activision",
           "offsetgroup": "Activision",
           "orientation": "v",
           "showlegend": true,
           "textposition": "auto",
           "type": "bar",
           "x": [
            "Activision"
           ],
           "xaxis": "x",
           "y": [
            17.400000000000006
           ],
           "yaxis": "y"
          },
          {
           "alignmentgroup": "True",
           "hovertemplate": "<b>%{hovertext}</b><br><br>Publisher=%{x}<br>Year=2006.0<br>total_sales=%{y}<extra></extra>",
           "hovertext": [
            "Sony Computer Entertainment"
           ],
           "ids": [
            "Sony Computer Entertainment"
           ],
           "legendgroup": "Sony Computer Entertainment",
           "marker": {
            "color": "#FFA15A"
           },
           "name": "Sony Computer Entertainment",
           "offsetgroup": "Sony Computer Entertainment",
           "orientation": "v",
           "showlegend": true,
           "textposition": "auto",
           "type": "bar",
           "x": [
            "Sony Computer Entertainment"
           ],
           "xaxis": "x",
           "y": [
            33.81
           ],
           "yaxis": "y"
          }
         ],
         "name": "2006.0"
        },
        {
         "data": [
          {
           "alignmentgroup": "True",
           "hovertemplate": "<b>%{hovertext}</b><br><br>Publisher=%{x}<br>Year=2006.4064433147546<br>total_sales=%{y}<extra></extra>",
           "hovertext": [
            "Nintendo"
           ],
           "ids": [
            "Nintendo"
           ],
           "legendgroup": "Nintendo",
           "marker": {
            "color": "#636efa"
           },
           "name": "Nintendo",
           "offsetgroup": "Nintendo",
           "orientation": "v",
           "showlegend": true,
           "textposition": "auto",
           "type": "bar",
           "x": [
            "Nintendo"
           ],
           "xaxis": "x",
           "y": [
            2.1300000000000003
           ],
           "yaxis": "y"
          },
          {
           "alignmentgroup": "True",
           "hovertemplate": "<b>%{hovertext}</b><br><br>Publisher=%{x}<br>Year=2006.4064433147546<br>total_sales=%{y}<extra></extra>",
           "hovertext": [
            "Electronic Arts"
           ],
           "ids": [
            "Electronic Arts"
           ],
           "legendgroup": "Electronic Arts",
           "marker": {
            "color": "#EF553B"
           },
           "name": "Electronic Arts",
           "offsetgroup": "Electronic Arts",
           "orientation": "v",
           "showlegend": true,
           "textposition": "auto",
           "type": "bar",
           "x": [
            "Electronic Arts"
           ],
           "xaxis": "x",
           "y": [
            16.929999999999996
           ],
           "yaxis": "y"
          },
          {
           "alignmentgroup": "True",
           "hovertemplate": "<b>%{hovertext}</b><br><br>Publisher=%{x}<br>Year=2006.4064433147546<br>total_sales=%{y}<extra></extra>",
           "hovertext": [
            "Ubisoft"
           ],
           "ids": [
            "Ubisoft"
           ],
           "legendgroup": "Ubisoft",
           "marker": {
            "color": "#00cc96"
           },
           "name": "Ubisoft",
           "offsetgroup": "Ubisoft",
           "orientation": "v",
           "showlegend": true,
           "textposition": "auto",
           "type": "bar",
           "x": [
            "Ubisoft"
           ],
           "xaxis": "x",
           "y": [
            1.18
           ],
           "yaxis": "y"
          },
          {
           "alignmentgroup": "True",
           "hovertemplate": "<b>%{hovertext}</b><br><br>Publisher=%{x}<br>Year=2006.4064433147546<br>total_sales=%{y}<extra></extra>",
           "hovertext": [
            "Activision"
           ],
           "ids": [
            "Activision"
           ],
           "legendgroup": "Activision",
           "marker": {
            "color": "#ab63fa"
           },
           "name": "Activision",
           "offsetgroup": "Activision",
           "orientation": "v",
           "showlegend": true,
           "textposition": "auto",
           "type": "bar",
           "x": [
            "Activision"
           ],
           "xaxis": "x",
           "y": [
            6.05
           ],
           "yaxis": "y"
          },
          {
           "alignmentgroup": "True",
           "hovertemplate": "<b>%{hovertext}</b><br><br>Publisher=%{x}<br>Year=2006.4064433147546<br>total_sales=%{y}<extra></extra>",
           "hovertext": [
            "Sony Computer Entertainment"
           ],
           "ids": [
            "Sony Computer Entertainment"
           ],
           "legendgroup": "Sony Computer Entertainment",
           "marker": {
            "color": "#FFA15A"
           },
           "name": "Sony Computer Entertainment",
           "offsetgroup": "Sony Computer Entertainment",
           "orientation": "v",
           "showlegend": true,
           "textposition": "auto",
           "type": "bar",
           "x": [
            "Sony Computer Entertainment"
           ],
           "xaxis": "x",
           "y": [
            0.22
           ],
           "yaxis": "y"
          }
         ],
         "name": "2006.4064433147546"
        },
        {
         "data": [
          {
           "alignmentgroup": "True",
           "hovertemplate": "<b>%{hovertext}</b><br><br>Publisher=%{x}<br>Year=2007.0<br>total_sales=%{y}<extra></extra>",
           "hovertext": [
            "Nintendo"
           ],
           "ids": [
            "Nintendo"
           ],
           "legendgroup": "Nintendo",
           "marker": {
            "color": "#636efa"
           },
           "name": "Nintendo",
           "offsetgroup": "Nintendo",
           "orientation": "v",
           "showlegend": true,
           "textposition": "auto",
           "type": "bar",
           "x": [
            "Nintendo"
           ],
           "xaxis": "x",
           "y": [
            104.18
           ],
           "yaxis": "y"
          },
          {
           "alignmentgroup": "True",
           "hovertemplate": "<b>%{hovertext}</b><br><br>Publisher=%{x}<br>Year=2007.0<br>total_sales=%{y}<extra></extra>",
           "hovertext": [
            "Electronic Arts"
           ],
           "ids": [
            "Electronic Arts"
           ],
           "legendgroup": "Electronic Arts",
           "marker": {
            "color": "#EF553B"
           },
           "name": "Electronic Arts",
           "offsetgroup": "Electronic Arts",
           "orientation": "v",
           "showlegend": true,
           "textposition": "auto",
           "type": "bar",
           "x": [
            "Electronic Arts"
           ],
           "xaxis": "x",
           "y": [
            71.33
           ],
           "yaxis": "y"
          },
          {
           "alignmentgroup": "True",
           "hovertemplate": "<b>%{hovertext}</b><br><br>Publisher=%{x}<br>Year=2007.0<br>total_sales=%{y}<extra></extra>",
           "hovertext": [
            "Ubisoft"
           ],
           "ids": [
            "Ubisoft"
           ],
           "legendgroup": "Ubisoft",
           "marker": {
            "color": "#00cc96"
           },
           "name": "Ubisoft",
           "offsetgroup": "Ubisoft",
           "orientation": "v",
           "showlegend": true,
           "textposition": "auto",
           "type": "bar",
           "x": [
            "Ubisoft"
           ],
           "xaxis": "x",
           "y": [
            48.59999999999997
           ],
           "yaxis": "y"
          },
          {
           "alignmentgroup": "True",
           "hovertemplate": "<b>%{hovertext}</b><br><br>Publisher=%{x}<br>Year=2007.0<br>total_sales=%{y}<extra></extra>",
           "hovertext": [
            "Activision"
           ],
           "ids": [
            "Activision"
           ],
           "legendgroup": "Activision",
           "marker": {
            "color": "#ab63fa"
           },
           "name": "Activision",
           "offsetgroup": "Activision",
           "orientation": "v",
           "showlegend": true,
           "textposition": "auto",
           "type": "bar",
           "x": [
            "Activision"
           ],
           "xaxis": "x",
           "y": [
            63.57
           ],
           "yaxis": "y"
          },
          {
           "alignmentgroup": "True",
           "hovertemplate": "<b>%{hovertext}</b><br><br>Publisher=%{x}<br>Year=2007.0<br>total_sales=%{y}<extra></extra>",
           "hovertext": [
            "Sony Computer Entertainment"
           ],
           "ids": [
            "Sony Computer Entertainment"
           ],
           "legendgroup": "Sony Computer Entertainment",
           "marker": {
            "color": "#FFA15A"
           },
           "name": "Sony Computer Entertainment",
           "offsetgroup": "Sony Computer Entertainment",
           "orientation": "v",
           "showlegend": true,
           "textposition": "auto",
           "type": "bar",
           "x": [
            "Sony Computer Entertainment"
           ],
           "xaxis": "x",
           "y": [
            37.54000000000002
           ],
           "yaxis": "y"
          }
         ],
         "name": "2007.0"
        },
        {
         "data": [
          {
           "alignmentgroup": "True",
           "hovertemplate": "<b>%{hovertext}</b><br><br>Publisher=%{x}<br>Year=2008.0<br>total_sales=%{y}<extra></extra>",
           "hovertext": [
            "Nintendo"
           ],
           "ids": [
            "Nintendo"
           ],
           "legendgroup": "Nintendo",
           "marker": {
            "color": "#636efa"
           },
           "name": "Nintendo",
           "offsetgroup": "Nintendo",
           "orientation": "v",
           "showlegend": true,
           "textposition": "auto",
           "type": "bar",
           "x": [
            "Nintendo"
           ],
           "xaxis": "x",
           "y": [
            91.22000000000004
           ],
           "yaxis": "y"
          },
          {
           "alignmentgroup": "True",
           "hovertemplate": "<b>%{hovertext}</b><br><br>Publisher=%{x}<br>Year=2008.0<br>total_sales=%{y}<extra></extra>",
           "hovertext": [
            "Electronic Arts"
           ],
           "ids": [
            "Electronic Arts"
           ],
           "legendgroup": "Electronic Arts",
           "marker": {
            "color": "#EF553B"
           },
           "name": "Electronic Arts",
           "offsetgroup": "Electronic Arts",
           "orientation": "v",
           "showlegend": true,
           "textposition": "auto",
           "type": "bar",
           "x": [
            "Electronic Arts"
           ],
           "xaxis": "x",
           "y": [
            84.12
           ],
           "yaxis": "y"
          },
          {
           "alignmentgroup": "True",
           "hovertemplate": "<b>%{hovertext}</b><br><br>Publisher=%{x}<br>Year=2008.0<br>total_sales=%{y}<extra></extra>",
           "hovertext": [
            "Ubisoft"
           ],
           "ids": [
            "Ubisoft"
           ],
           "legendgroup": "Ubisoft",
           "marker": {
            "color": "#00cc96"
           },
           "name": "Ubisoft",
           "offsetgroup": "Ubisoft",
           "orientation": "v",
           "showlegend": true,
           "textposition": "auto",
           "type": "bar",
           "x": [
            "Ubisoft"
           ],
           "xaxis": "x",
           "y": [
            57.43999999999999
           ],
           "yaxis": "y"
          },
          {
           "alignmentgroup": "True",
           "hovertemplate": "<b>%{hovertext}</b><br><br>Publisher=%{x}<br>Year=2008.0<br>total_sales=%{y}<extra></extra>",
           "hovertext": [
            "Activision"
           ],
           "ids": [
            "Activision"
           ],
           "legendgroup": "Activision",
           "marker": {
            "color": "#ab63fa"
           },
           "name": "Activision",
           "offsetgroup": "Activision",
           "orientation": "v",
           "showlegend": true,
           "textposition": "auto",
           "type": "bar",
           "x": [
            "Activision"
           ],
           "xaxis": "x",
           "y": [
            67.40999999999997
           ],
           "yaxis": "y"
          },
          {
           "alignmentgroup": "True",
           "hovertemplate": "<b>%{hovertext}</b><br><br>Publisher=%{x}<br>Year=2008.0<br>total_sales=%{y}<extra></extra>",
           "hovertext": [
            "Sony Computer Entertainment"
           ],
           "ids": [
            "Sony Computer Entertainment"
           ],
           "legendgroup": "Sony Computer Entertainment",
           "marker": {
            "color": "#FFA15A"
           },
           "name": "Sony Computer Entertainment",
           "offsetgroup": "Sony Computer Entertainment",
           "orientation": "v",
           "showlegend": true,
           "textposition": "auto",
           "type": "bar",
           "x": [
            "Sony Computer Entertainment"
           ],
           "xaxis": "x",
           "y": [
            26.639999999999997
           ],
           "yaxis": "y"
          }
         ],
         "name": "2008.0"
        },
        {
         "data": [
          {
           "alignmentgroup": "True",
           "hovertemplate": "<b>%{hovertext}</b><br><br>Publisher=%{x}<br>Year=2009.0<br>total_sales=%{y}<extra></extra>",
           "hovertext": [
            "Nintendo"
           ],
           "ids": [
            "Nintendo"
           ],
           "legendgroup": "Nintendo",
           "marker": {
            "color": "#636efa"
           },
           "name": "Nintendo",
           "offsetgroup": "Nintendo",
           "orientation": "v",
           "showlegend": true,
           "textposition": "auto",
           "type": "bar",
           "x": [
            "Nintendo"
           ],
           "xaxis": "x",
           "y": [
            128.89
           ],
           "yaxis": "y"
          },
          {
           "alignmentgroup": "True",
           "hovertemplate": "<b>%{hovertext}</b><br><br>Publisher=%{x}<br>Year=2009.0<br>total_sales=%{y}<extra></extra>",
           "hovertext": [
            "Electronic Arts"
           ],
           "ids": [
            "Electronic Arts"
           ],
           "legendgroup": "Electronic Arts",
           "marker": {
            "color": "#EF553B"
           },
           "name": "Electronic Arts",
           "offsetgroup": "Electronic Arts",
           "orientation": "v",
           "showlegend": true,
           "textposition": "auto",
           "type": "bar",
           "x": [
            "Electronic Arts"
           ],
           "xaxis": "x",
           "y": [
            86.20000000000002
           ],
           "yaxis": "y"
          },
          {
           "alignmentgroup": "True",
           "hovertemplate": "<b>%{hovertext}</b><br><br>Publisher=%{x}<br>Year=2009.0<br>total_sales=%{y}<extra></extra>",
           "hovertext": [
            "Ubisoft"
           ],
           "ids": [
            "Ubisoft"
           ],
           "legendgroup": "Ubisoft",
           "marker": {
            "color": "#00cc96"
           },
           "name": "Ubisoft",
           "offsetgroup": "Ubisoft",
           "orientation": "v",
           "showlegend": true,
           "textposition": "auto",
           "type": "bar",
           "x": [
            "Ubisoft"
           ],
           "xaxis": "x",
           "y": [
            47.01000000000001
           ],
           "yaxis": "y"
          },
          {
           "alignmentgroup": "True",
           "hovertemplate": "<b>%{hovertext}</b><br><br>Publisher=%{x}<br>Year=2009.0<br>total_sales=%{y}<extra></extra>",
           "hovertext": [
            "Activision"
           ],
           "ids": [
            "Activision"
           ],
           "legendgroup": "Activision",
           "marker": {
            "color": "#ab63fa"
           },
           "name": "Activision",
           "offsetgroup": "Activision",
           "orientation": "v",
           "showlegend": true,
           "textposition": "auto",
           "type": "bar",
           "x": [
            "Activision"
           ],
           "xaxis": "x",
           "y": [
            78.05999999999997
           ],
           "yaxis": "y"
          },
          {
           "alignmentgroup": "True",
           "hovertemplate": "<b>%{hovertext}</b><br><br>Publisher=%{x}<br>Year=2009.0<br>total_sales=%{y}<extra></extra>",
           "hovertext": [
            "Sony Computer Entertainment"
           ],
           "ids": [
            "Sony Computer Entertainment"
           ],
           "legendgroup": "Sony Computer Entertainment",
           "marker": {
            "color": "#FFA15A"
           },
           "name": "Sony Computer Entertainment",
           "offsetgroup": "Sony Computer Entertainment",
           "orientation": "v",
           "showlegend": true,
           "textposition": "auto",
           "type": "bar",
           "x": [
            "Sony Computer Entertainment"
           ],
           "xaxis": "x",
           "y": [
            36.53
           ],
           "yaxis": "y"
          }
         ],
         "name": "2009.0"
        },
        {
         "data": [
          {
           "alignmentgroup": "True",
           "hovertemplate": "<b>%{hovertext}</b><br><br>Publisher=%{x}<br>Year=2010.0<br>total_sales=%{y}<extra></extra>",
           "hovertext": [
            "Nintendo"
           ],
           "ids": [
            "Nintendo"
           ],
           "legendgroup": "Nintendo",
           "marker": {
            "color": "#636efa"
           },
           "name": "Nintendo",
           "offsetgroup": "Nintendo",
           "orientation": "v",
           "showlegend": true,
           "textposition": "auto",
           "type": "bar",
           "x": [
            "Nintendo"
           ],
           "xaxis": "x",
           "y": [
            61.07
           ],
           "yaxis": "y"
          },
          {
           "alignmentgroup": "True",
           "hovertemplate": "<b>%{hovertext}</b><br><br>Publisher=%{x}<br>Year=2010.0<br>total_sales=%{y}<extra></extra>",
           "hovertext": [
            "Electronic Arts"
           ],
           "ids": [
            "Electronic Arts"
           ],
           "legendgroup": "Electronic Arts",
           "marker": {
            "color": "#EF553B"
           },
           "name": "Electronic Arts",
           "offsetgroup": "Electronic Arts",
           "orientation": "v",
           "showlegend": true,
           "textposition": "auto",
           "type": "bar",
           "x": [
            "Electronic Arts"
           ],
           "xaxis": "x",
           "y": [
            81.38000000000001
           ],
           "yaxis": "y"
          },
          {
           "alignmentgroup": "True",
           "hovertemplate": "<b>%{hovertext}</b><br><br>Publisher=%{x}<br>Year=2010.0<br>total_sales=%{y}<extra></extra>",
           "hovertext": [
            "Ubisoft"
           ],
           "ids": [
            "Ubisoft"
           ],
           "legendgroup": "Ubisoft",
           "marker": {
            "color": "#00cc96"
           },
           "name": "Ubisoft",
           "offsetgroup": "Ubisoft",
           "orientation": "v",
           "showlegend": true,
           "textposition": "auto",
           "type": "bar",
           "x": [
            "Ubisoft"
           ],
           "xaxis": "x",
           "y": [
            42.61999999999998
           ],
           "yaxis": "y"
          },
          {
           "alignmentgroup": "True",
           "hovertemplate": "<b>%{hovertext}</b><br><br>Publisher=%{x}<br>Year=2010.0<br>total_sales=%{y}<extra></extra>",
           "hovertext": [
            "Activision"
           ],
           "ids": [
            "Activision"
           ],
           "legendgroup": "Activision",
           "marker": {
            "color": "#ab63fa"
           },
           "name": "Activision",
           "offsetgroup": "Activision",
           "orientation": "v",
           "showlegend": true,
           "textposition": "auto",
           "type": "bar",
           "x": [
            "Activision"
           ],
           "xaxis": "x",
           "y": [
            63.390000000000015
           ],
           "yaxis": "y"
          },
          {
           "alignmentgroup": "True",
           "hovertemplate": "<b>%{hovertext}</b><br><br>Publisher=%{x}<br>Year=2010.0<br>total_sales=%{y}<extra></extra>",
           "hovertext": [
            "Sony Computer Entertainment"
           ],
           "ids": [
            "Sony Computer Entertainment"
           ],
           "legendgroup": "Sony Computer Entertainment",
           "marker": {
            "color": "#FFA15A"
           },
           "name": "Sony Computer Entertainment",
           "offsetgroup": "Sony Computer Entertainment",
           "orientation": "v",
           "showlegend": true,
           "textposition": "auto",
           "type": "bar",
           "x": [
            "Sony Computer Entertainment"
           ],
           "xaxis": "x",
           "y": [
            34.89
           ],
           "yaxis": "y"
          }
         ],
         "name": "2010.0"
        },
        {
         "data": [
          {
           "alignmentgroup": "True",
           "hovertemplate": "<b>%{hovertext}</b><br><br>Publisher=%{x}<br>Year=2011.0<br>total_sales=%{y}<extra></extra>",
           "hovertext": [
            "Nintendo"
           ],
           "ids": [
            "Nintendo"
           ],
           "legendgroup": "Nintendo",
           "marker": {
            "color": "#636efa"
           },
           "name": "Nintendo",
           "offsetgroup": "Nintendo",
           "orientation": "v",
           "showlegend": true,
           "textposition": "auto",
           "type": "bar",
           "x": [
            "Nintendo"
           ],
           "xaxis": "x",
           "y": [
            51.53
           ],
           "yaxis": "y"
          },
          {
           "alignmentgroup": "True",
           "hovertemplate": "<b>%{hovertext}</b><br><br>Publisher=%{x}<br>Year=2011.0<br>total_sales=%{y}<extra></extra>",
           "hovertext": [
            "Electronic Arts"
           ],
           "ids": [
            "Electronic Arts"
           ],
           "legendgroup": "Electronic Arts",
           "marker": {
            "color": "#EF553B"
           },
           "name": "Electronic Arts",
           "offsetgroup": "Electronic Arts",
           "orientation": "v",
           "showlegend": true,
           "textposition": "auto",
           "type": "bar",
           "x": [
            "Electronic Arts"
           ],
           "xaxis": "x",
           "y": [
            72.25
           ],
           "yaxis": "y"
          },
          {
           "alignmentgroup": "True",
           "hovertemplate": "<b>%{hovertext}</b><br><br>Publisher=%{x}<br>Year=2011.0<br>total_sales=%{y}<extra></extra>",
           "hovertext": [
            "Ubisoft"
           ],
           "ids": [
            "Ubisoft"
           ],
           "legendgroup": "Ubisoft",
           "marker": {
            "color": "#00cc96"
           },
           "name": "Ubisoft",
           "offsetgroup": "Ubisoft",
           "orientation": "v",
           "showlegend": true,
           "textposition": "auto",
           "type": "bar",
           "x": [
            "Ubisoft"
           ],
           "xaxis": "x",
           "y": [
            48.03000000000003
           ],
           "yaxis": "y"
          },
          {
           "alignmentgroup": "True",
           "hovertemplate": "<b>%{hovertext}</b><br><br>Publisher=%{x}<br>Year=2011.0<br>total_sales=%{y}<extra></extra>",
           "hovertext": [
            "Activision"
           ],
           "ids": [
            "Activision"
           ],
           "legendgroup": "Activision",
           "marker": {
            "color": "#ab63fa"
           },
           "name": "Activision",
           "offsetgroup": "Activision",
           "orientation": "v",
           "showlegend": true,
           "textposition": "auto",
           "type": "bar",
           "x": [
            "Activision"
           ],
           "xaxis": "x",
           "y": [
            51.740000000000016
           ],
           "yaxis": "y"
          },
          {
           "alignmentgroup": "True",
           "hovertemplate": "<b>%{hovertext}</b><br><br>Publisher=%{x}<br>Year=2011.0<br>total_sales=%{y}<extra></extra>",
           "hovertext": [
            "Sony Computer Entertainment"
           ],
           "ids": [
            "Sony Computer Entertainment"
           ],
           "legendgroup": "Sony Computer Entertainment",
           "marker": {
            "color": "#FFA15A"
           },
           "name": "Sony Computer Entertainment",
           "offsetgroup": "Sony Computer Entertainment",
           "orientation": "v",
           "showlegend": true,
           "textposition": "auto",
           "type": "bar",
           "x": [
            "Sony Computer Entertainment"
           ],
           "xaxis": "x",
           "y": [
            27.399999999999995
           ],
           "yaxis": "y"
          }
         ],
         "name": "2011.0"
        },
        {
         "data": [
          {
           "alignmentgroup": "True",
           "hovertemplate": "<b>%{hovertext}</b><br><br>Publisher=%{x}<br>Year=2012.0<br>total_sales=%{y}<extra></extra>",
           "hovertext": [
            "Nintendo"
           ],
           "ids": [
            "Nintendo"
           ],
           "legendgroup": "Nintendo",
           "marker": {
            "color": "#636efa"
           },
           "name": "Nintendo",
           "offsetgroup": "Nintendo",
           "orientation": "v",
           "showlegend": true,
           "textposition": "auto",
           "type": "bar",
           "x": [
            "Nintendo"
           ],
           "xaxis": "x",
           "y": [
            56.470000000000006
           ],
           "yaxis": "y"
          },
          {
           "alignmentgroup": "True",
           "hovertemplate": "<b>%{hovertext}</b><br><br>Publisher=%{x}<br>Year=2012.0<br>total_sales=%{y}<extra></extra>",
           "hovertext": [
            "Electronic Arts"
           ],
           "ids": [
            "Electronic Arts"
           ],
           "legendgroup": "Electronic Arts",
           "marker": {
            "color": "#EF553B"
           },
           "name": "Electronic Arts",
           "offsetgroup": "Electronic Arts",
           "orientation": "v",
           "showlegend": true,
           "textposition": "auto",
           "type": "bar",
           "x": [
            "Electronic Arts"
           ],
           "xaxis": "x",
           "y": [
            49.89999999999996
           ],
           "yaxis": "y"
          },
          {
           "alignmentgroup": "True",
           "hovertemplate": "<b>%{hovertext}</b><br><br>Publisher=%{x}<br>Year=2012.0<br>total_sales=%{y}<extra></extra>",
           "hovertext": [
            "Ubisoft"
           ],
           "ids": [
            "Ubisoft"
           ],
           "legendgroup": "Ubisoft",
           "marker": {
            "color": "#00cc96"
           },
           "name": "Ubisoft",
           "offsetgroup": "Ubisoft",
           "orientation": "v",
           "showlegend": true,
           "textposition": "auto",
           "type": "bar",
           "x": [
            "Ubisoft"
           ],
           "xaxis": "x",
           "y": [
            37.30999999999999
           ],
           "yaxis": "y"
          },
          {
           "alignmentgroup": "True",
           "hovertemplate": "<b>%{hovertext}</b><br><br>Publisher=%{x}<br>Year=2012.0<br>total_sales=%{y}<extra></extra>",
           "hovertext": [
            "Activision"
           ],
           "ids": [
            "Activision"
           ],
           "legendgroup": "Activision",
           "marker": {
            "color": "#ab63fa"
           },
           "name": "Activision",
           "offsetgroup": "Activision",
           "orientation": "v",
           "showlegend": true,
           "textposition": "auto",
           "type": "bar",
           "x": [
            "Activision"
           ],
           "xaxis": "x",
           "y": [
            53.25
           ],
           "yaxis": "y"
          },
          {
           "alignmentgroup": "True",
           "hovertemplate": "<b>%{hovertext}</b><br><br>Publisher=%{x}<br>Year=2012.0<br>total_sales=%{y}<extra></extra>",
           "hovertext": [
            "Sony Computer Entertainment"
           ],
           "ids": [
            "Sony Computer Entertainment"
           ],
           "legendgroup": "Sony Computer Entertainment",
           "marker": {
            "color": "#FFA15A"
           },
           "name": "Sony Computer Entertainment",
           "offsetgroup": "Sony Computer Entertainment",
           "orientation": "v",
           "showlegend": true,
           "textposition": "auto",
           "type": "bar",
           "x": [
            "Sony Computer Entertainment"
           ],
           "xaxis": "x",
           "y": [
            12.85
           ],
           "yaxis": "y"
          }
         ],
         "name": "2012.0"
        },
        {
         "data": [
          {
           "alignmentgroup": "True",
           "hovertemplate": "<b>%{hovertext}</b><br><br>Publisher=%{x}<br>Year=2013.0<br>total_sales=%{y}<extra></extra>",
           "hovertext": [
            "Nintendo"
           ],
           "ids": [
            "Nintendo"
           ],
           "legendgroup": "Nintendo",
           "marker": {
            "color": "#636efa"
           },
           "name": "Nintendo",
           "offsetgroup": "Nintendo",
           "orientation": "v",
           "showlegend": true,
           "textposition": "auto",
           "type": "bar",
           "x": [
            "Nintendo"
           ],
           "xaxis": "x",
           "y": [
            52.790000000000006
           ],
           "yaxis": "y"
          },
          {
           "alignmentgroup": "True",
           "hovertemplate": "<b>%{hovertext}</b><br><br>Publisher=%{x}<br>Year=2013.0<br>total_sales=%{y}<extra></extra>",
           "hovertext": [
            "Electronic Arts"
           ],
           "ids": [
            "Electronic Arts"
           ],
           "legendgroup": "Electronic Arts",
           "marker": {
            "color": "#EF553B"
           },
           "name": "Electronic Arts",
           "offsetgroup": "Electronic Arts",
           "orientation": "v",
           "showlegend": true,
           "textposition": "auto",
           "type": "bar",
           "x": [
            "Electronic Arts"
           ],
           "xaxis": "x",
           "y": [
            52.919999999999995
           ],
           "yaxis": "y"
          },
          {
           "alignmentgroup": "True",
           "hovertemplate": "<b>%{hovertext}</b><br><br>Publisher=%{x}<br>Year=2013.0<br>total_sales=%{y}<extra></extra>",
           "hovertext": [
            "Ubisoft"
           ],
           "ids": [
            "Ubisoft"
           ],
           "legendgroup": "Ubisoft",
           "marker": {
            "color": "#00cc96"
           },
           "name": "Ubisoft",
           "offsetgroup": "Ubisoft",
           "orientation": "v",
           "showlegend": true,
           "textposition": "auto",
           "type": "bar",
           "x": [
            "Ubisoft"
           ],
           "xaxis": "x",
           "y": [
            27.390000000000008
           ],
           "yaxis": "y"
          },
          {
           "alignmentgroup": "True",
           "hovertemplate": "<b>%{hovertext}</b><br><br>Publisher=%{x}<br>Year=2013.0<br>total_sales=%{y}<extra></extra>",
           "hovertext": [
            "Activision"
           ],
           "ids": [
            "Activision"
           ],
           "legendgroup": "Activision",
           "marker": {
            "color": "#ab63fa"
           },
           "name": "Activision",
           "offsetgroup": "Activision",
           "orientation": "v",
           "showlegend": true,
           "textposition": "auto",
           "type": "bar",
           "x": [
            "Activision"
           ],
           "xaxis": "x",
           "y": [
            43.489999999999995
           ],
           "yaxis": "y"
          },
          {
           "alignmentgroup": "True",
           "hovertemplate": "<b>%{hovertext}</b><br><br>Publisher=%{x}<br>Year=2013.0<br>total_sales=%{y}<extra></extra>",
           "hovertext": [
            "Sony Computer Entertainment"
           ],
           "ids": [
            "Sony Computer Entertainment"
           ],
           "legendgroup": "Sony Computer Entertainment",
           "marker": {
            "color": "#FFA15A"
           },
           "name": "Sony Computer Entertainment",
           "offsetgroup": "Sony Computer Entertainment",
           "orientation": "v",
           "showlegend": true,
           "textposition": "auto",
           "type": "bar",
           "x": [
            "Sony Computer Entertainment"
           ],
           "xaxis": "x",
           "y": [
            12.610000000000005
           ],
           "yaxis": "y"
          }
         ],
         "name": "2013.0"
        },
        {
         "data": [
          {
           "alignmentgroup": "True",
           "hovertemplate": "<b>%{hovertext}</b><br><br>Publisher=%{x}<br>Year=2014.0<br>total_sales=%{y}<extra></extra>",
           "hovertext": [
            "Nintendo"
           ],
           "ids": [
            "Nintendo"
           ],
           "legendgroup": "Nintendo",
           "marker": {
            "color": "#636efa"
           },
           "name": "Nintendo",
           "offsetgroup": "Nintendo",
           "orientation": "v",
           "showlegend": true,
           "textposition": "auto",
           "type": "bar",
           "x": [
            "Nintendo"
           ],
           "xaxis": "x",
           "y": [
            48.64999999999999
           ],
           "yaxis": "y"
          },
          {
           "alignmentgroup": "True",
           "hovertemplate": "<b>%{hovertext}</b><br><br>Publisher=%{x}<br>Year=2014.0<br>total_sales=%{y}<extra></extra>",
           "hovertext": [
            "Electronic Arts"
           ],
           "ids": [
            "Electronic Arts"
           ],
           "legendgroup": "Electronic Arts",
           "marker": {
            "color": "#EF553B"
           },
           "name": "Electronic Arts",
           "offsetgroup": "Electronic Arts",
           "orientation": "v",
           "showlegend": true,
           "textposition": "auto",
           "type": "bar",
           "x": [
            "Electronic Arts"
           ],
           "xaxis": "x",
           "y": [
            46.79999999999998
           ],
           "yaxis": "y"
          },
          {
           "alignmentgroup": "True",
           "hovertemplate": "<b>%{hovertext}</b><br><br>Publisher=%{x}<br>Year=2014.0<br>total_sales=%{y}<extra></extra>",
           "hovertext": [
            "Ubisoft"
           ],
           "ids": [
            "Ubisoft"
           ],
           "legendgroup": "Ubisoft",
           "marker": {
            "color": "#00cc96"
           },
           "name": "Ubisoft",
           "offsetgroup": "Ubisoft",
           "orientation": "v",
           "showlegend": true,
           "textposition": "auto",
           "type": "bar",
           "x": [
            "Ubisoft"
           ],
           "xaxis": "x",
           "y": [
            41.95000000000001
           ],
           "yaxis": "y"
          },
          {
           "alignmentgroup": "True",
           "hovertemplate": "<b>%{hovertext}</b><br><br>Publisher=%{x}<br>Year=2014.0<br>total_sales=%{y}<extra></extra>",
           "hovertext": [
            "Activision"
           ],
           "ids": [
            "Activision"
           ],
           "legendgroup": "Activision",
           "marker": {
            "color": "#ab63fa"
           },
           "name": "Activision",
           "offsetgroup": "Activision",
           "orientation": "v",
           "showlegend": true,
           "textposition": "auto",
           "type": "bar",
           "x": [
            "Activision"
           ],
           "xaxis": "x",
           "y": [
            44.48000000000001
           ],
           "yaxis": "y"
          },
          {
           "alignmentgroup": "True",
           "hovertemplate": "<b>%{hovertext}</b><br><br>Publisher=%{x}<br>Year=2014.0<br>total_sales=%{y}<extra></extra>",
           "hovertext": [
            "Sony Computer Entertainment"
           ],
           "ids": [
            "Sony Computer Entertainment"
           ],
           "legendgroup": "Sony Computer Entertainment",
           "marker": {
            "color": "#FFA15A"
           },
           "name": "Sony Computer Entertainment",
           "offsetgroup": "Sony Computer Entertainment",
           "orientation": "v",
           "showlegend": true,
           "textposition": "auto",
           "type": "bar",
           "x": [
            "Sony Computer Entertainment"
           ],
           "xaxis": "x",
           "y": [
            19.019999999999992
           ],
           "yaxis": "y"
          }
         ],
         "name": "2014.0"
        },
        {
         "data": [
          {
           "alignmentgroup": "True",
           "hovertemplate": "<b>%{hovertext}</b><br><br>Publisher=%{x}<br>Year=2015.0<br>total_sales=%{y}<extra></extra>",
           "hovertext": [
            "Nintendo"
           ],
           "ids": [
            "Nintendo"
           ],
           "legendgroup": "Nintendo",
           "marker": {
            "color": "#636efa"
           },
           "name": "Nintendo",
           "offsetgroup": "Nintendo",
           "orientation": "v",
           "showlegend": true,
           "textposition": "auto",
           "type": "bar",
           "x": [
            "Nintendo"
           ],
           "xaxis": "x",
           "y": [
            27.080000000000002
           ],
           "yaxis": "y"
          },
          {
           "alignmentgroup": "True",
           "hovertemplate": "<b>%{hovertext}</b><br><br>Publisher=%{x}<br>Year=2015.0<br>total_sales=%{y}<extra></extra>",
           "hovertext": [
            "Electronic Arts"
           ],
           "ids": [
            "Electronic Arts"
           ],
           "legendgroup": "Electronic Arts",
           "marker": {
            "color": "#EF553B"
           },
           "name": "Electronic Arts",
           "offsetgroup": "Electronic Arts",
           "orientation": "v",
           "showlegend": true,
           "textposition": "auto",
           "type": "bar",
           "x": [
            "Electronic Arts"
           ],
           "xaxis": "x",
           "y": [
            45.42
           ],
           "yaxis": "y"
          },
          {
           "alignmentgroup": "True",
           "hovertemplate": "<b>%{hovertext}</b><br><br>Publisher=%{x}<br>Year=2015.0<br>total_sales=%{y}<extra></extra>",
           "hovertext": [
            "Ubisoft"
           ],
           "ids": [
            "Ubisoft"
           ],
           "legendgroup": "Ubisoft",
           "marker": {
            "color": "#00cc96"
           },
           "name": "Ubisoft",
           "offsetgroup": "Ubisoft",
           "orientation": "v",
           "showlegend": true,
           "textposition": "auto",
           "type": "bar",
           "x": [
            "Ubisoft"
           ],
           "xaxis": "x",
           "y": [
            12.79
           ],
           "yaxis": "y"
          },
          {
           "alignmentgroup": "True",
           "hovertemplate": "<b>%{hovertext}</b><br><br>Publisher=%{x}<br>Year=2015.0<br>total_sales=%{y}<extra></extra>",
           "hovertext": [
            "Activision"
           ],
           "ids": [
            "Activision"
           ],
           "legendgroup": "Activision",
           "marker": {
            "color": "#ab63fa"
           },
           "name": "Activision",
           "offsetgroup": "Activision",
           "orientation": "v",
           "showlegend": true,
           "textposition": "auto",
           "type": "bar",
           "x": [
            "Activision"
           ],
           "xaxis": "x",
           "y": [
            35.63000000000001
           ],
           "yaxis": "y"
          },
          {
           "alignmentgroup": "True",
           "hovertemplate": "<b>%{hovertext}</b><br><br>Publisher=%{x}<br>Year=2015.0<br>total_sales=%{y}<extra></extra>",
           "hovertext": [
            "Sony Computer Entertainment"
           ],
           "ids": [
            "Sony Computer Entertainment"
           ],
           "legendgroup": "Sony Computer Entertainment",
           "marker": {
            "color": "#FFA15A"
           },
           "name": "Sony Computer Entertainment",
           "offsetgroup": "Sony Computer Entertainment",
           "orientation": "v",
           "showlegend": true,
           "textposition": "auto",
           "type": "bar",
           "x": [
            "Sony Computer Entertainment"
           ],
           "xaxis": "x",
           "y": [
            11.010000000000002
           ],
           "yaxis": "y"
          }
         ],
         "name": "2015.0"
        },
        {
         "data": [
          {
           "alignmentgroup": "True",
           "hovertemplate": "<b>%{hovertext}</b><br><br>Publisher=%{x}<br>Year=2016.0<br>total_sales=%{y}<extra></extra>",
           "hovertext": [
            "Nintendo"
           ],
           "ids": [
            "Nintendo"
           ],
           "legendgroup": "Nintendo",
           "marker": {
            "color": "#636efa"
           },
           "name": "Nintendo",
           "offsetgroup": "Nintendo",
           "orientation": "v",
           "showlegend": true,
           "textposition": "auto",
           "type": "bar",
           "x": [
            "Nintendo"
           ],
           "xaxis": "x",
           "y": [
            3.4699999999999998
           ],
           "yaxis": "y"
          },
          {
           "alignmentgroup": "True",
           "hovertemplate": "<b>%{hovertext}</b><br><br>Publisher=%{x}<br>Year=2016.0<br>total_sales=%{y}<extra></extra>",
           "hovertext": [
            "Electronic Arts"
           ],
           "ids": [
            "Electronic Arts"
           ],
           "legendgroup": "Electronic Arts",
           "marker": {
            "color": "#EF553B"
           },
           "name": "Electronic Arts",
           "offsetgroup": "Electronic Arts",
           "orientation": "v",
           "showlegend": true,
           "textposition": "auto",
           "type": "bar",
           "x": [
            "Electronic Arts"
           ],
           "xaxis": "x",
           "y": [
            12.250000000000002
           ],
           "yaxis": "y"
          },
          {
           "alignmentgroup": "True",
           "hovertemplate": "<b>%{hovertext}</b><br><br>Publisher=%{x}<br>Year=2016.0<br>total_sales=%{y}<extra></extra>",
           "hovertext": [
            "Ubisoft"
           ],
           "ids": [
            "Ubisoft"
           ],
           "legendgroup": "Ubisoft",
           "marker": {
            "color": "#00cc96"
           },
           "name": "Ubisoft",
           "offsetgroup": "Ubisoft",
           "orientation": "v",
           "showlegend": true,
           "textposition": "auto",
           "type": "bar",
           "x": [
            "Ubisoft"
           ],
           "xaxis": "x",
           "y": [
            9.76
           ],
           "yaxis": "y"
          },
          {
           "alignmentgroup": "True",
           "hovertemplate": "<b>%{hovertext}</b><br><br>Publisher=%{x}<br>Year=2016.0<br>total_sales=%{y}<extra></extra>",
           "hovertext": [
            "Activision"
           ],
           "ids": [
            "Activision"
           ],
           "legendgroup": "Activision",
           "marker": {
            "color": "#ab63fa"
           },
           "name": "Activision",
           "offsetgroup": "Activision",
           "orientation": "v",
           "showlegend": true,
           "textposition": "auto",
           "type": "bar",
           "x": [
            "Activision"
           ],
           "xaxis": "x",
           "y": [
            3.6699999999999995
           ],
           "yaxis": "y"
          },
          {
           "alignmentgroup": "True",
           "hovertemplate": "<b>%{hovertext}</b><br><br>Publisher=%{x}<br>Year=2016.0<br>total_sales=%{y}<extra></extra>",
           "hovertext": [
            "Sony Computer Entertainment"
           ],
           "ids": [
            "Sony Computer Entertainment"
           ],
           "legendgroup": "Sony Computer Entertainment",
           "marker": {
            "color": "#FFA15A"
           },
           "name": "Sony Computer Entertainment",
           "offsetgroup": "Sony Computer Entertainment",
           "orientation": "v",
           "showlegend": true,
           "textposition": "auto",
           "type": "bar",
           "x": [
            "Sony Computer Entertainment"
           ],
           "xaxis": "x",
           "y": [
            6.5600000000000005
           ],
           "yaxis": "y"
          }
         ],
         "name": "2016.0"
        },
        {
         "data": [
          {
           "alignmentgroup": "True",
           "hovertemplate": "<b>%{hovertext}</b><br><br>Publisher=%{x}<br>Year=2020.0<br>total_sales=%{y}<extra></extra>",
           "hovertext": [
            "Ubisoft"
           ],
           "ids": [
            "Ubisoft"
           ],
           "legendgroup": "Ubisoft",
           "marker": {
            "color": "#00cc96"
           },
           "name": "Ubisoft",
           "offsetgroup": "Ubisoft",
           "orientation": "v",
           "showlegend": true,
           "textposition": "auto",
           "type": "bar",
           "x": [
            "Ubisoft"
           ],
           "xaxis": "x",
           "y": [
            0.29
           ],
           "yaxis": "y"
          }
         ],
         "name": "2020.0"
        }
       ],
       "layout": {
        "barmode": "relative",
        "legend": {
         "title": {
          "text": "Publisher"
         },
         "tracegroupgap": 0
        },
        "margin": {
         "t": 60
        },
        "sliders": [
         {
          "active": 0,
          "currentvalue": {
           "prefix": "Year="
          },
          "len": 0.9,
          "pad": {
           "b": 10,
           "t": 60
          },
          "steps": [
           {
            "args": [
             [
              "2006.0"
             ],
             {
              "frame": {
               "duration": 0,
               "redraw": true
              },
              "fromcurrent": true,
              "mode": "immediate",
              "transition": {
               "duration": 0,
               "easing": "linear"
              }
             }
            ],
            "label": "2006.0",
            "method": "animate"
           },
           {
            "args": [
             [
              "2006.4064433147546"
             ],
             {
              "frame": {
               "duration": 0,
               "redraw": true
              },
              "fromcurrent": true,
              "mode": "immediate",
              "transition": {
               "duration": 0,
               "easing": "linear"
              }
             }
            ],
            "label": "2006.4064433147546",
            "method": "animate"
           },
           {
            "args": [
             [
              "2007.0"
             ],
             {
              "frame": {
               "duration": 0,
               "redraw": true
              },
              "fromcurrent": true,
              "mode": "immediate",
              "transition": {
               "duration": 0,
               "easing": "linear"
              }
             }
            ],
            "label": "2007.0",
            "method": "animate"
           },
           {
            "args": [
             [
              "2008.0"
             ],
             {
              "frame": {
               "duration": 0,
               "redraw": true
              },
              "fromcurrent": true,
              "mode": "immediate",
              "transition": {
               "duration": 0,
               "easing": "linear"
              }
             }
            ],
            "label": "2008.0",
            "method": "animate"
           },
           {
            "args": [
             [
              "2009.0"
             ],
             {
              "frame": {
               "duration": 0,
               "redraw": true
              },
              "fromcurrent": true,
              "mode": "immediate",
              "transition": {
               "duration": 0,
               "easing": "linear"
              }
             }
            ],
            "label": "2009.0",
            "method": "animate"
           },
           {
            "args": [
             [
              "2010.0"
             ],
             {
              "frame": {
               "duration": 0,
               "redraw": true
              },
              "fromcurrent": true,
              "mode": "immediate",
              "transition": {
               "duration": 0,
               "easing": "linear"
              }
             }
            ],
            "label": "2010.0",
            "method": "animate"
           },
           {
            "args": [
             [
              "2011.0"
             ],
             {
              "frame": {
               "duration": 0,
               "redraw": true
              },
              "fromcurrent": true,
              "mode": "immediate",
              "transition": {
               "duration": 0,
               "easing": "linear"
              }
             }
            ],
            "label": "2011.0",
            "method": "animate"
           },
           {
            "args": [
             [
              "2012.0"
             ],
             {
              "frame": {
               "duration": 0,
               "redraw": true
              },
              "fromcurrent": true,
              "mode": "immediate",
              "transition": {
               "duration": 0,
               "easing": "linear"
              }
             }
            ],
            "label": "2012.0",
            "method": "animate"
           },
           {
            "args": [
             [
              "2013.0"
             ],
             {
              "frame": {
               "duration": 0,
               "redraw": true
              },
              "fromcurrent": true,
              "mode": "immediate",
              "transition": {
               "duration": 0,
               "easing": "linear"
              }
             }
            ],
            "label": "2013.0",
            "method": "animate"
           },
           {
            "args": [
             [
              "2014.0"
             ],
             {
              "frame": {
               "duration": 0,
               "redraw": true
              },
              "fromcurrent": true,
              "mode": "immediate",
              "transition": {
               "duration": 0,
               "easing": "linear"
              }
             }
            ],
            "label": "2014.0",
            "method": "animate"
           },
           {
            "args": [
             [
              "2015.0"
             ],
             {
              "frame": {
               "duration": 0,
               "redraw": true
              },
              "fromcurrent": true,
              "mode": "immediate",
              "transition": {
               "duration": 0,
               "easing": "linear"
              }
             }
            ],
            "label": "2015.0",
            "method": "animate"
           },
           {
            "args": [
             [
              "2016.0"
             ],
             {
              "frame": {
               "duration": 0,
               "redraw": true
              },
              "fromcurrent": true,
              "mode": "immediate",
              "transition": {
               "duration": 0,
               "easing": "linear"
              }
             }
            ],
            "label": "2016.0",
            "method": "animate"
           },
           {
            "args": [
             [
              "2020.0"
             ],
             {
              "frame": {
               "duration": 0,
               "redraw": true
              },
              "fromcurrent": true,
              "mode": "immediate",
              "transition": {
               "duration": 0,
               "easing": "linear"
              }
             }
            ],
            "label": "2020.0",
            "method": "animate"
           }
          ],
          "x": 0.1,
          "xanchor": "left",
          "y": 0,
          "yanchor": "top"
         }
        ],
        "template": {
         "data": {
          "bar": [
           {
            "error_x": {
             "color": "#2a3f5f"
            },
            "error_y": {
             "color": "#2a3f5f"
            },
            "marker": {
             "line": {
              "color": "#E5ECF6",
              "width": 0.5
             }
            },
            "type": "bar"
           }
          ],
          "barpolar": [
           {
            "marker": {
             "line": {
              "color": "#E5ECF6",
              "width": 0.5
             }
            },
            "type": "barpolar"
           }
          ],
          "carpet": [
           {
            "aaxis": {
             "endlinecolor": "#2a3f5f",
             "gridcolor": "white",
             "linecolor": "white",
             "minorgridcolor": "white",
             "startlinecolor": "#2a3f5f"
            },
            "baxis": {
             "endlinecolor": "#2a3f5f",
             "gridcolor": "white",
             "linecolor": "white",
             "minorgridcolor": "white",
             "startlinecolor": "#2a3f5f"
            },
            "type": "carpet"
           }
          ],
          "choropleth": [
           {
            "colorbar": {
             "outlinewidth": 0,
             "ticks": ""
            },
            "type": "choropleth"
           }
          ],
          "contour": [
           {
            "colorbar": {
             "outlinewidth": 0,
             "ticks": ""
            },
            "colorscale": [
             [
              0,
              "#0d0887"
             ],
             [
              0.1111111111111111,
              "#46039f"
             ],
             [
              0.2222222222222222,
              "#7201a8"
             ],
             [
              0.3333333333333333,
              "#9c179e"
             ],
             [
              0.4444444444444444,
              "#bd3786"
             ],
             [
              0.5555555555555556,
              "#d8576b"
             ],
             [
              0.6666666666666666,
              "#ed7953"
             ],
             [
              0.7777777777777778,
              "#fb9f3a"
             ],
             [
              0.8888888888888888,
              "#fdca26"
             ],
             [
              1,
              "#f0f921"
             ]
            ],
            "type": "contour"
           }
          ],
          "contourcarpet": [
           {
            "colorbar": {
             "outlinewidth": 0,
             "ticks": ""
            },
            "type": "contourcarpet"
           }
          ],
          "heatmap": [
           {
            "colorbar": {
             "outlinewidth": 0,
             "ticks": ""
            },
            "colorscale": [
             [
              0,
              "#0d0887"
             ],
             [
              0.1111111111111111,
              "#46039f"
             ],
             [
              0.2222222222222222,
              "#7201a8"
             ],
             [
              0.3333333333333333,
              "#9c179e"
             ],
             [
              0.4444444444444444,
              "#bd3786"
             ],
             [
              0.5555555555555556,
              "#d8576b"
             ],
             [
              0.6666666666666666,
              "#ed7953"
             ],
             [
              0.7777777777777778,
              "#fb9f3a"
             ],
             [
              0.8888888888888888,
              "#fdca26"
             ],
             [
              1,
              "#f0f921"
             ]
            ],
            "type": "heatmap"
           }
          ],
          "heatmapgl": [
           {
            "colorbar": {
             "outlinewidth": 0,
             "ticks": ""
            },
            "colorscale": [
             [
              0,
              "#0d0887"
             ],
             [
              0.1111111111111111,
              "#46039f"
             ],
             [
              0.2222222222222222,
              "#7201a8"
             ],
             [
              0.3333333333333333,
              "#9c179e"
             ],
             [
              0.4444444444444444,
              "#bd3786"
             ],
             [
              0.5555555555555556,
              "#d8576b"
             ],
             [
              0.6666666666666666,
              "#ed7953"
             ],
             [
              0.7777777777777778,
              "#fb9f3a"
             ],
             [
              0.8888888888888888,
              "#fdca26"
             ],
             [
              1,
              "#f0f921"
             ]
            ],
            "type": "heatmapgl"
           }
          ],
          "histogram": [
           {
            "marker": {
             "colorbar": {
              "outlinewidth": 0,
              "ticks": ""
             }
            },
            "type": "histogram"
           }
          ],
          "histogram2d": [
           {
            "colorbar": {
             "outlinewidth": 0,
             "ticks": ""
            },
            "colorscale": [
             [
              0,
              "#0d0887"
             ],
             [
              0.1111111111111111,
              "#46039f"
             ],
             [
              0.2222222222222222,
              "#7201a8"
             ],
             [
              0.3333333333333333,
              "#9c179e"
             ],
             [
              0.4444444444444444,
              "#bd3786"
             ],
             [
              0.5555555555555556,
              "#d8576b"
             ],
             [
              0.6666666666666666,
              "#ed7953"
             ],
             [
              0.7777777777777778,
              "#fb9f3a"
             ],
             [
              0.8888888888888888,
              "#fdca26"
             ],
             [
              1,
              "#f0f921"
             ]
            ],
            "type": "histogram2d"
           }
          ],
          "histogram2dcontour": [
           {
            "colorbar": {
             "outlinewidth": 0,
             "ticks": ""
            },
            "colorscale": [
             [
              0,
              "#0d0887"
             ],
             [
              0.1111111111111111,
              "#46039f"
             ],
             [
              0.2222222222222222,
              "#7201a8"
             ],
             [
              0.3333333333333333,
              "#9c179e"
             ],
             [
              0.4444444444444444,
              "#bd3786"
             ],
             [
              0.5555555555555556,
              "#d8576b"
             ],
             [
              0.6666666666666666,
              "#ed7953"
             ],
             [
              0.7777777777777778,
              "#fb9f3a"
             ],
             [
              0.8888888888888888,
              "#fdca26"
             ],
             [
              1,
              "#f0f921"
             ]
            ],
            "type": "histogram2dcontour"
           }
          ],
          "mesh3d": [
           {
            "colorbar": {
             "outlinewidth": 0,
             "ticks": ""
            },
            "type": "mesh3d"
           }
          ],
          "parcoords": [
           {
            "line": {
             "colorbar": {
              "outlinewidth": 0,
              "ticks": ""
             }
            },
            "type": "parcoords"
           }
          ],
          "pie": [
           {
            "automargin": true,
            "type": "pie"
           }
          ],
          "scatter": [
           {
            "marker": {
             "colorbar": {
              "outlinewidth": 0,
              "ticks": ""
             }
            },
            "type": "scatter"
           }
          ],
          "scatter3d": [
           {
            "line": {
             "colorbar": {
              "outlinewidth": 0,
              "ticks": ""
             }
            },
            "marker": {
             "colorbar": {
              "outlinewidth": 0,
              "ticks": ""
             }
            },
            "type": "scatter3d"
           }
          ],
          "scattercarpet": [
           {
            "marker": {
             "colorbar": {
              "outlinewidth": 0,
              "ticks": ""
             }
            },
            "type": "scattercarpet"
           }
          ],
          "scattergeo": [
           {
            "marker": {
             "colorbar": {
              "outlinewidth": 0,
              "ticks": ""
             }
            },
            "type": "scattergeo"
           }
          ],
          "scattergl": [
           {
            "marker": {
             "colorbar": {
              "outlinewidth": 0,
              "ticks": ""
             }
            },
            "type": "scattergl"
           }
          ],
          "scattermapbox": [
           {
            "marker": {
             "colorbar": {
              "outlinewidth": 0,
              "ticks": ""
             }
            },
            "type": "scattermapbox"
           }
          ],
          "scatterpolar": [
           {
            "marker": {
             "colorbar": {
              "outlinewidth": 0,
              "ticks": ""
             }
            },
            "type": "scatterpolar"
           }
          ],
          "scatterpolargl": [
           {
            "marker": {
             "colorbar": {
              "outlinewidth": 0,
              "ticks": ""
             }
            },
            "type": "scatterpolargl"
           }
          ],
          "scatterternary": [
           {
            "marker": {
             "colorbar": {
              "outlinewidth": 0,
              "ticks": ""
             }
            },
            "type": "scatterternary"
           }
          ],
          "surface": [
           {
            "colorbar": {
             "outlinewidth": 0,
             "ticks": ""
            },
            "colorscale": [
             [
              0,
              "#0d0887"
             ],
             [
              0.1111111111111111,
              "#46039f"
             ],
             [
              0.2222222222222222,
              "#7201a8"
             ],
             [
              0.3333333333333333,
              "#9c179e"
             ],
             [
              0.4444444444444444,
              "#bd3786"
             ],
             [
              0.5555555555555556,
              "#d8576b"
             ],
             [
              0.6666666666666666,
              "#ed7953"
             ],
             [
              0.7777777777777778,
              "#fb9f3a"
             ],
             [
              0.8888888888888888,
              "#fdca26"
             ],
             [
              1,
              "#f0f921"
             ]
            ],
            "type": "surface"
           }
          ],
          "table": [
           {
            "cells": {
             "fill": {
              "color": "#EBF0F8"
             },
             "line": {
              "color": "white"
             }
            },
            "header": {
             "fill": {
              "color": "#C8D4E3"
             },
             "line": {
              "color": "white"
             }
            },
            "type": "table"
           }
          ]
         },
         "layout": {
          "annotationdefaults": {
           "arrowcolor": "#2a3f5f",
           "arrowhead": 0,
           "arrowwidth": 1
          },
          "coloraxis": {
           "colorbar": {
            "outlinewidth": 0,
            "ticks": ""
           }
          },
          "colorscale": {
           "diverging": [
            [
             0,
             "#8e0152"
            ],
            [
             0.1,
             "#c51b7d"
            ],
            [
             0.2,
             "#de77ae"
            ],
            [
             0.3,
             "#f1b6da"
            ],
            [
             0.4,
             "#fde0ef"
            ],
            [
             0.5,
             "#f7f7f7"
            ],
            [
             0.6,
             "#e6f5d0"
            ],
            [
             0.7,
             "#b8e186"
            ],
            [
             0.8,
             "#7fbc41"
            ],
            [
             0.9,
             "#4d9221"
            ],
            [
             1,
             "#276419"
            ]
           ],
           "sequential": [
            [
             0,
             "#0d0887"
            ],
            [
             0.1111111111111111,
             "#46039f"
            ],
            [
             0.2222222222222222,
             "#7201a8"
            ],
            [
             0.3333333333333333,
             "#9c179e"
            ],
            [
             0.4444444444444444,
             "#bd3786"
            ],
            [
             0.5555555555555556,
             "#d8576b"
            ],
            [
             0.6666666666666666,
             "#ed7953"
            ],
            [
             0.7777777777777778,
             "#fb9f3a"
            ],
            [
             0.8888888888888888,
             "#fdca26"
            ],
            [
             1,
             "#f0f921"
            ]
           ],
           "sequentialminus": [
            [
             0,
             "#0d0887"
            ],
            [
             0.1111111111111111,
             "#46039f"
            ],
            [
             0.2222222222222222,
             "#7201a8"
            ],
            [
             0.3333333333333333,
             "#9c179e"
            ],
            [
             0.4444444444444444,
             "#bd3786"
            ],
            [
             0.5555555555555556,
             "#d8576b"
            ],
            [
             0.6666666666666666,
             "#ed7953"
            ],
            [
             0.7777777777777778,
             "#fb9f3a"
            ],
            [
             0.8888888888888888,
             "#fdca26"
            ],
            [
             1,
             "#f0f921"
            ]
           ]
          },
          "colorway": [
           "#636efa",
           "#EF553B",
           "#00cc96",
           "#ab63fa",
           "#FFA15A",
           "#19d3f3",
           "#FF6692",
           "#B6E880",
           "#FF97FF",
           "#FECB52"
          ],
          "font": {
           "color": "#2a3f5f"
          },
          "geo": {
           "bgcolor": "white",
           "lakecolor": "white",
           "landcolor": "#E5ECF6",
           "showlakes": true,
           "showland": true,
           "subunitcolor": "white"
          },
          "hoverlabel": {
           "align": "left"
          },
          "hovermode": "closest",
          "mapbox": {
           "style": "light"
          },
          "paper_bgcolor": "white",
          "plot_bgcolor": "#E5ECF6",
          "polar": {
           "angularaxis": {
            "gridcolor": "white",
            "linecolor": "white",
            "ticks": ""
           },
           "bgcolor": "#E5ECF6",
           "radialaxis": {
            "gridcolor": "white",
            "linecolor": "white",
            "ticks": ""
           }
          },
          "scene": {
           "xaxis": {
            "backgroundcolor": "#E5ECF6",
            "gridcolor": "white",
            "gridwidth": 2,
            "linecolor": "white",
            "showbackground": true,
            "ticks": "",
            "zerolinecolor": "white"
           },
           "yaxis": {
            "backgroundcolor": "#E5ECF6",
            "gridcolor": "white",
            "gridwidth": 2,
            "linecolor": "white",
            "showbackground": true,
            "ticks": "",
            "zerolinecolor": "white"
           },
           "zaxis": {
            "backgroundcolor": "#E5ECF6",
            "gridcolor": "white",
            "gridwidth": 2,
            "linecolor": "white",
            "showbackground": true,
            "ticks": "",
            "zerolinecolor": "white"
           }
          },
          "shapedefaults": {
           "line": {
            "color": "#2a3f5f"
           }
          },
          "ternary": {
           "aaxis": {
            "gridcolor": "white",
            "linecolor": "white",
            "ticks": ""
           },
           "baxis": {
            "gridcolor": "white",
            "linecolor": "white",
            "ticks": ""
           },
           "bgcolor": "#E5ECF6",
           "caxis": {
            "gridcolor": "white",
            "linecolor": "white",
            "ticks": ""
           }
          },
          "title": {
           "x": 0.05
          },
          "xaxis": {
           "automargin": true,
           "gridcolor": "white",
           "linecolor": "white",
           "ticks": "",
           "title": {
            "standoff": 15
           },
           "zerolinecolor": "white",
           "zerolinewidth": 2
          },
          "yaxis": {
           "automargin": true,
           "gridcolor": "white",
           "linecolor": "white",
           "ticks": "",
           "title": {
            "standoff": 15
           },
           "zerolinecolor": "white",
           "zerolinewidth": 2
          }
         }
        },
        "updatemenus": [
         {
          "buttons": [
           {
            "args": [
             null,
             {
              "frame": {
               "duration": 500,
               "redraw": true
              },
              "fromcurrent": true,
              "mode": "immediate",
              "transition": {
               "duration": 500,
               "easing": "linear"
              }
             }
            ],
            "label": "&#9654;",
            "method": "animate"
           },
           {
            "args": [
             [
              null
             ],
             {
              "frame": {
               "duration": 0,
               "redraw": true
              },
              "fromcurrent": true,
              "mode": "immediate",
              "transition": {
               "duration": 0,
               "easing": "linear"
              }
             }
            ],
            "label": "&#9724;",
            "method": "animate"
           }
          ],
          "direction": "left",
          "pad": {
           "r": 10,
           "t": 70
          },
          "showactive": false,
          "type": "buttons",
          "x": 0.1,
          "xanchor": "right",
          "y": 0,
          "yanchor": "top"
         }
        ],
        "xaxis": {
         "anchor": "y",
         "categoryarray": [
          "Nintendo",
          "Electronic Arts",
          "Ubisoft",
          "Activision",
          "Sony Computer Entertainment"
         ],
         "categoryorder": "array",
         "domain": [
          0,
          1
         ],
         "title": {
          "text": "Publisher"
         }
        },
        "yaxis": {
         "anchor": "x",
         "domain": [
          0,
          1
         ],
         "title": {
          "text": "total_sales"
         }
        }
       }
      },
      "text/html": [
       "<div>\n",
       "        \n",
       "        \n",
       "            <div id=\"84122fe6-7795-44bf-a971-b6d2e2c6e644\" class=\"plotly-graph-div\" style=\"height:525px; width:100%;\"></div>\n",
       "            <script type=\"text/javascript\">\n",
       "                require([\"plotly\"], function(Plotly) {\n",
       "                    window.PLOTLYENV=window.PLOTLYENV || {};\n",
       "                    \n",
       "                if (document.getElementById(\"84122fe6-7795-44bf-a971-b6d2e2c6e644\")) {\n",
       "                    Plotly.newPlot(\n",
       "                        '84122fe6-7795-44bf-a971-b6d2e2c6e644',\n",
       "                        [{\"alignmentgroup\": \"True\", \"hovertemplate\": \"<b>%{hovertext}</b><br><br>Publisher=%{x}<br>Year=2006.0<br>total_sales=%{y}<extra></extra>\", \"hovertext\": [\"Nintendo\"], \"ids\": [\"Nintendo\"], \"legendgroup\": \"Nintendo\", \"marker\": {\"color\": \"#636efa\"}, \"name\": \"Nintendo\", \"offsetgroup\": \"Nintendo\", \"orientation\": \"v\", \"showlegend\": true, \"textposition\": \"auto\", \"type\": \"bar\", \"x\": [\"Nintendo\"], \"xaxis\": \"x\", \"y\": [205.60999999999999], \"yaxis\": \"y\"}, {\"alignmentgroup\": \"True\", \"hovertemplate\": \"<b>%{hovertext}</b><br><br>Publisher=%{x}<br>Year=2006.0<br>total_sales=%{y}<extra></extra>\", \"hovertext\": [\"Electronic Arts\"], \"ids\": [\"Electronic Arts\"], \"legendgroup\": \"Electronic Arts\", \"marker\": {\"color\": \"#EF553B\"}, \"name\": \"Electronic Arts\", \"offsetgroup\": \"Electronic Arts\", \"orientation\": \"v\", \"showlegend\": true, \"textposition\": \"auto\", \"type\": \"bar\", \"x\": [\"Electronic Arts\"], \"xaxis\": \"x\", \"y\": [58.410000000000025], \"yaxis\": \"y\"}, {\"alignmentgroup\": \"True\", \"hovertemplate\": \"<b>%{hovertext}</b><br><br>Publisher=%{x}<br>Year=2006.0<br>total_sales=%{y}<extra></extra>\", \"hovertext\": [\"Ubisoft\"], \"ids\": [\"Ubisoft\"], \"legendgroup\": \"Ubisoft\", \"marker\": {\"color\": \"#00cc96\"}, \"name\": \"Ubisoft\", \"offsetgroup\": \"Ubisoft\", \"orientation\": \"v\", \"showlegend\": true, \"textposition\": \"auto\", \"type\": \"bar\", \"x\": [\"Ubisoft\"], \"xaxis\": \"x\", \"y\": [17.269999999999992], \"yaxis\": \"y\"}, {\"alignmentgroup\": \"True\", \"hovertemplate\": \"<b>%{hovertext}</b><br><br>Publisher=%{x}<br>Year=2006.0<br>total_sales=%{y}<extra></extra>\", \"hovertext\": [\"Activision\"], \"ids\": [\"Activision\"], \"legendgroup\": \"Activision\", \"marker\": {\"color\": \"#ab63fa\"}, \"name\": \"Activision\", \"offsetgroup\": \"Activision\", \"orientation\": \"v\", \"showlegend\": true, \"textposition\": \"auto\", \"type\": \"bar\", \"x\": [\"Activision\"], \"xaxis\": \"x\", \"y\": [17.400000000000006], \"yaxis\": \"y\"}, {\"alignmentgroup\": \"True\", \"hovertemplate\": \"<b>%{hovertext}</b><br><br>Publisher=%{x}<br>Year=2006.0<br>total_sales=%{y}<extra></extra>\", \"hovertext\": [\"Sony Computer Entertainment\"], \"ids\": [\"Sony Computer Entertainment\"], \"legendgroup\": \"Sony Computer Entertainment\", \"marker\": {\"color\": \"#FFA15A\"}, \"name\": \"Sony Computer Entertainment\", \"offsetgroup\": \"Sony Computer Entertainment\", \"orientation\": \"v\", \"showlegend\": true, \"textposition\": \"auto\", \"type\": \"bar\", \"x\": [\"Sony Computer Entertainment\"], \"xaxis\": \"x\", \"y\": [33.81], \"yaxis\": \"y\"}],\n",
       "                        {\"barmode\": \"relative\", \"legend\": {\"title\": {\"text\": \"Publisher\"}, \"tracegroupgap\": 0}, \"margin\": {\"t\": 60}, \"sliders\": [{\"active\": 0, \"currentvalue\": {\"prefix\": \"Year=\"}, \"len\": 0.9, \"pad\": {\"b\": 10, \"t\": 60}, \"steps\": [{\"args\": [[\"2006.0\"], {\"frame\": {\"duration\": 0, \"redraw\": true}, \"fromcurrent\": true, \"mode\": \"immediate\", \"transition\": {\"duration\": 0, \"easing\": \"linear\"}}], \"label\": \"2006.0\", \"method\": \"animate\"}, {\"args\": [[\"2006.4064433147546\"], {\"frame\": {\"duration\": 0, \"redraw\": true}, \"fromcurrent\": true, \"mode\": \"immediate\", \"transition\": {\"duration\": 0, \"easing\": \"linear\"}}], \"label\": \"2006.4064433147546\", \"method\": \"animate\"}, {\"args\": [[\"2007.0\"], {\"frame\": {\"duration\": 0, \"redraw\": true}, \"fromcurrent\": true, \"mode\": \"immediate\", \"transition\": {\"duration\": 0, \"easing\": \"linear\"}}], \"label\": \"2007.0\", \"method\": \"animate\"}, {\"args\": [[\"2008.0\"], {\"frame\": {\"duration\": 0, \"redraw\": true}, \"fromcurrent\": true, \"mode\": \"immediate\", \"transition\": {\"duration\": 0, \"easing\": \"linear\"}}], \"label\": \"2008.0\", \"method\": \"animate\"}, {\"args\": [[\"2009.0\"], {\"frame\": {\"duration\": 0, \"redraw\": true}, \"fromcurrent\": true, \"mode\": \"immediate\", \"transition\": {\"duration\": 0, \"easing\": \"linear\"}}], \"label\": \"2009.0\", \"method\": \"animate\"}, {\"args\": [[\"2010.0\"], {\"frame\": {\"duration\": 0, \"redraw\": true}, \"fromcurrent\": true, \"mode\": \"immediate\", \"transition\": {\"duration\": 0, \"easing\": \"linear\"}}], \"label\": \"2010.0\", \"method\": \"animate\"}, {\"args\": [[\"2011.0\"], {\"frame\": {\"duration\": 0, \"redraw\": true}, \"fromcurrent\": true, \"mode\": \"immediate\", \"transition\": {\"duration\": 0, \"easing\": \"linear\"}}], \"label\": \"2011.0\", \"method\": \"animate\"}, {\"args\": [[\"2012.0\"], {\"frame\": {\"duration\": 0, \"redraw\": true}, \"fromcurrent\": true, \"mode\": \"immediate\", \"transition\": {\"duration\": 0, \"easing\": \"linear\"}}], \"label\": \"2012.0\", \"method\": \"animate\"}, {\"args\": [[\"2013.0\"], {\"frame\": {\"duration\": 0, \"redraw\": true}, \"fromcurrent\": true, \"mode\": \"immediate\", \"transition\": {\"duration\": 0, \"easing\": \"linear\"}}], \"label\": \"2013.0\", \"method\": \"animate\"}, {\"args\": [[\"2014.0\"], {\"frame\": {\"duration\": 0, \"redraw\": true}, \"fromcurrent\": true, \"mode\": \"immediate\", \"transition\": {\"duration\": 0, \"easing\": \"linear\"}}], \"label\": \"2014.0\", \"method\": \"animate\"}, {\"args\": [[\"2015.0\"], {\"frame\": {\"duration\": 0, \"redraw\": true}, \"fromcurrent\": true, \"mode\": \"immediate\", \"transition\": {\"duration\": 0, \"easing\": \"linear\"}}], \"label\": \"2015.0\", \"method\": \"animate\"}, {\"args\": [[\"2016.0\"], {\"frame\": {\"duration\": 0, \"redraw\": true}, \"fromcurrent\": true, \"mode\": \"immediate\", \"transition\": {\"duration\": 0, \"easing\": \"linear\"}}], \"label\": \"2016.0\", \"method\": \"animate\"}, {\"args\": [[\"2020.0\"], {\"frame\": {\"duration\": 0, \"redraw\": true}, \"fromcurrent\": true, \"mode\": \"immediate\", \"transition\": {\"duration\": 0, \"easing\": \"linear\"}}], \"label\": \"2020.0\", \"method\": \"animate\"}], \"x\": 0.1, \"xanchor\": \"left\", \"y\": 0, \"yanchor\": \"top\"}], \"template\": {\"data\": {\"bar\": [{\"error_x\": {\"color\": \"#2a3f5f\"}, \"error_y\": {\"color\": \"#2a3f5f\"}, \"marker\": {\"line\": {\"color\": \"#E5ECF6\", \"width\": 0.5}}, \"type\": \"bar\"}], \"barpolar\": [{\"marker\": {\"line\": {\"color\": \"#E5ECF6\", \"width\": 0.5}}, \"type\": \"barpolar\"}], \"carpet\": [{\"aaxis\": {\"endlinecolor\": \"#2a3f5f\", \"gridcolor\": \"white\", \"linecolor\": \"white\", \"minorgridcolor\": \"white\", \"startlinecolor\": \"#2a3f5f\"}, \"baxis\": {\"endlinecolor\": \"#2a3f5f\", \"gridcolor\": \"white\", \"linecolor\": \"white\", \"minorgridcolor\": \"white\", \"startlinecolor\": \"#2a3f5f\"}, \"type\": \"carpet\"}], \"choropleth\": [{\"colorbar\": {\"outlinewidth\": 0, \"ticks\": \"\"}, \"type\": \"choropleth\"}], \"contour\": [{\"colorbar\": {\"outlinewidth\": 0, \"ticks\": \"\"}, \"colorscale\": [[0.0, \"#0d0887\"], [0.1111111111111111, \"#46039f\"], [0.2222222222222222, \"#7201a8\"], [0.3333333333333333, \"#9c179e\"], [0.4444444444444444, \"#bd3786\"], [0.5555555555555556, \"#d8576b\"], [0.6666666666666666, \"#ed7953\"], [0.7777777777777778, \"#fb9f3a\"], [0.8888888888888888, \"#fdca26\"], [1.0, \"#f0f921\"]], \"type\": \"contour\"}], \"contourcarpet\": [{\"colorbar\": {\"outlinewidth\": 0, \"ticks\": \"\"}, \"type\": \"contourcarpet\"}], \"heatmap\": [{\"colorbar\": {\"outlinewidth\": 0, \"ticks\": \"\"}, \"colorscale\": [[0.0, \"#0d0887\"], [0.1111111111111111, \"#46039f\"], [0.2222222222222222, \"#7201a8\"], [0.3333333333333333, \"#9c179e\"], [0.4444444444444444, \"#bd3786\"], [0.5555555555555556, \"#d8576b\"], [0.6666666666666666, \"#ed7953\"], [0.7777777777777778, \"#fb9f3a\"], [0.8888888888888888, \"#fdca26\"], [1.0, \"#f0f921\"]], \"type\": \"heatmap\"}], \"heatmapgl\": [{\"colorbar\": {\"outlinewidth\": 0, \"ticks\": \"\"}, \"colorscale\": [[0.0, \"#0d0887\"], [0.1111111111111111, \"#46039f\"], [0.2222222222222222, \"#7201a8\"], [0.3333333333333333, \"#9c179e\"], [0.4444444444444444, \"#bd3786\"], [0.5555555555555556, \"#d8576b\"], [0.6666666666666666, \"#ed7953\"], [0.7777777777777778, \"#fb9f3a\"], [0.8888888888888888, \"#fdca26\"], [1.0, \"#f0f921\"]], \"type\": \"heatmapgl\"}], \"histogram\": [{\"marker\": {\"colorbar\": {\"outlinewidth\": 0, \"ticks\": \"\"}}, \"type\": \"histogram\"}], \"histogram2d\": [{\"colorbar\": {\"outlinewidth\": 0, \"ticks\": \"\"}, \"colorscale\": [[0.0, \"#0d0887\"], [0.1111111111111111, \"#46039f\"], [0.2222222222222222, \"#7201a8\"], [0.3333333333333333, \"#9c179e\"], [0.4444444444444444, \"#bd3786\"], [0.5555555555555556, \"#d8576b\"], [0.6666666666666666, \"#ed7953\"], [0.7777777777777778, \"#fb9f3a\"], [0.8888888888888888, \"#fdca26\"], [1.0, \"#f0f921\"]], \"type\": \"histogram2d\"}], \"histogram2dcontour\": [{\"colorbar\": {\"outlinewidth\": 0, \"ticks\": \"\"}, \"colorscale\": [[0.0, \"#0d0887\"], [0.1111111111111111, \"#46039f\"], [0.2222222222222222, \"#7201a8\"], [0.3333333333333333, \"#9c179e\"], [0.4444444444444444, \"#bd3786\"], [0.5555555555555556, \"#d8576b\"], [0.6666666666666666, \"#ed7953\"], [0.7777777777777778, \"#fb9f3a\"], [0.8888888888888888, \"#fdca26\"], [1.0, \"#f0f921\"]], \"type\": \"histogram2dcontour\"}], \"mesh3d\": [{\"colorbar\": {\"outlinewidth\": 0, \"ticks\": \"\"}, \"type\": \"mesh3d\"}], \"parcoords\": [{\"line\": {\"colorbar\": {\"outlinewidth\": 0, \"ticks\": \"\"}}, \"type\": \"parcoords\"}], \"pie\": [{\"automargin\": true, \"type\": \"pie\"}], \"scatter\": [{\"marker\": {\"colorbar\": {\"outlinewidth\": 0, \"ticks\": \"\"}}, \"type\": \"scatter\"}], \"scatter3d\": [{\"line\": {\"colorbar\": {\"outlinewidth\": 0, \"ticks\": \"\"}}, \"marker\": {\"colorbar\": {\"outlinewidth\": 0, \"ticks\": \"\"}}, \"type\": \"scatter3d\"}], \"scattercarpet\": [{\"marker\": {\"colorbar\": {\"outlinewidth\": 0, \"ticks\": \"\"}}, \"type\": \"scattercarpet\"}], \"scattergeo\": [{\"marker\": {\"colorbar\": {\"outlinewidth\": 0, \"ticks\": \"\"}}, \"type\": \"scattergeo\"}], \"scattergl\": [{\"marker\": {\"colorbar\": {\"outlinewidth\": 0, \"ticks\": \"\"}}, \"type\": \"scattergl\"}], \"scattermapbox\": [{\"marker\": {\"colorbar\": {\"outlinewidth\": 0, \"ticks\": \"\"}}, \"type\": \"scattermapbox\"}], \"scatterpolar\": [{\"marker\": {\"colorbar\": {\"outlinewidth\": 0, \"ticks\": \"\"}}, \"type\": \"scatterpolar\"}], \"scatterpolargl\": [{\"marker\": {\"colorbar\": {\"outlinewidth\": 0, \"ticks\": \"\"}}, \"type\": \"scatterpolargl\"}], \"scatterternary\": [{\"marker\": {\"colorbar\": {\"outlinewidth\": 0, \"ticks\": \"\"}}, \"type\": \"scatterternary\"}], \"surface\": [{\"colorbar\": {\"outlinewidth\": 0, \"ticks\": \"\"}, \"colorscale\": [[0.0, \"#0d0887\"], [0.1111111111111111, \"#46039f\"], [0.2222222222222222, \"#7201a8\"], [0.3333333333333333, \"#9c179e\"], [0.4444444444444444, \"#bd3786\"], [0.5555555555555556, \"#d8576b\"], [0.6666666666666666, \"#ed7953\"], [0.7777777777777778, \"#fb9f3a\"], [0.8888888888888888, \"#fdca26\"], [1.0, \"#f0f921\"]], \"type\": \"surface\"}], \"table\": [{\"cells\": {\"fill\": {\"color\": \"#EBF0F8\"}, \"line\": {\"color\": \"white\"}}, \"header\": {\"fill\": {\"color\": \"#C8D4E3\"}, \"line\": {\"color\": \"white\"}}, \"type\": \"table\"}]}, \"layout\": {\"annotationdefaults\": {\"arrowcolor\": \"#2a3f5f\", \"arrowhead\": 0, \"arrowwidth\": 1}, \"coloraxis\": {\"colorbar\": {\"outlinewidth\": 0, \"ticks\": \"\"}}, \"colorscale\": {\"diverging\": [[0, \"#8e0152\"], [0.1, \"#c51b7d\"], [0.2, \"#de77ae\"], [0.3, \"#f1b6da\"], [0.4, \"#fde0ef\"], [0.5, \"#f7f7f7\"], [0.6, \"#e6f5d0\"], [0.7, \"#b8e186\"], [0.8, \"#7fbc41\"], [0.9, \"#4d9221\"], [1, \"#276419\"]], \"sequential\": [[0.0, \"#0d0887\"], [0.1111111111111111, \"#46039f\"], [0.2222222222222222, \"#7201a8\"], [0.3333333333333333, \"#9c179e\"], [0.4444444444444444, \"#bd3786\"], [0.5555555555555556, \"#d8576b\"], [0.6666666666666666, \"#ed7953\"], [0.7777777777777778, \"#fb9f3a\"], [0.8888888888888888, \"#fdca26\"], [1.0, \"#f0f921\"]], \"sequentialminus\": [[0.0, \"#0d0887\"], [0.1111111111111111, \"#46039f\"], [0.2222222222222222, \"#7201a8\"], [0.3333333333333333, \"#9c179e\"], [0.4444444444444444, \"#bd3786\"], [0.5555555555555556, \"#d8576b\"], [0.6666666666666666, \"#ed7953\"], [0.7777777777777778, \"#fb9f3a\"], [0.8888888888888888, \"#fdca26\"], [1.0, \"#f0f921\"]]}, \"colorway\": [\"#636efa\", \"#EF553B\", \"#00cc96\", \"#ab63fa\", \"#FFA15A\", \"#19d3f3\", \"#FF6692\", \"#B6E880\", \"#FF97FF\", \"#FECB52\"], \"font\": {\"color\": \"#2a3f5f\"}, \"geo\": {\"bgcolor\": \"white\", \"lakecolor\": \"white\", \"landcolor\": \"#E5ECF6\", \"showlakes\": true, \"showland\": true, \"subunitcolor\": \"white\"}, \"hoverlabel\": {\"align\": \"left\"}, \"hovermode\": \"closest\", \"mapbox\": {\"style\": \"light\"}, \"paper_bgcolor\": \"white\", \"plot_bgcolor\": \"#E5ECF6\", \"polar\": {\"angularaxis\": {\"gridcolor\": \"white\", \"linecolor\": \"white\", \"ticks\": \"\"}, \"bgcolor\": \"#E5ECF6\", \"radialaxis\": {\"gridcolor\": \"white\", \"linecolor\": \"white\", \"ticks\": \"\"}}, \"scene\": {\"xaxis\": {\"backgroundcolor\": \"#E5ECF6\", \"gridcolor\": \"white\", \"gridwidth\": 2, \"linecolor\": \"white\", \"showbackground\": true, \"ticks\": \"\", \"zerolinecolor\": \"white\"}, \"yaxis\": {\"backgroundcolor\": \"#E5ECF6\", \"gridcolor\": \"white\", \"gridwidth\": 2, \"linecolor\": \"white\", \"showbackground\": true, \"ticks\": \"\", \"zerolinecolor\": \"white\"}, \"zaxis\": {\"backgroundcolor\": \"#E5ECF6\", \"gridcolor\": \"white\", \"gridwidth\": 2, \"linecolor\": \"white\", \"showbackground\": true, \"ticks\": \"\", \"zerolinecolor\": \"white\"}}, \"shapedefaults\": {\"line\": {\"color\": \"#2a3f5f\"}}, \"ternary\": {\"aaxis\": {\"gridcolor\": \"white\", \"linecolor\": \"white\", \"ticks\": \"\"}, \"baxis\": {\"gridcolor\": \"white\", \"linecolor\": \"white\", \"ticks\": \"\"}, \"bgcolor\": \"#E5ECF6\", \"caxis\": {\"gridcolor\": \"white\", \"linecolor\": \"white\", \"ticks\": \"\"}}, \"title\": {\"x\": 0.05}, \"xaxis\": {\"automargin\": true, \"gridcolor\": \"white\", \"linecolor\": \"white\", \"ticks\": \"\", \"title\": {\"standoff\": 15}, \"zerolinecolor\": \"white\", \"zerolinewidth\": 2}, \"yaxis\": {\"automargin\": true, \"gridcolor\": \"white\", \"linecolor\": \"white\", \"ticks\": \"\", \"title\": {\"standoff\": 15}, \"zerolinecolor\": \"white\", \"zerolinewidth\": 2}}}, \"updatemenus\": [{\"buttons\": [{\"args\": [null, {\"frame\": {\"duration\": 500, \"redraw\": true}, \"fromcurrent\": true, \"mode\": \"immediate\", \"transition\": {\"duration\": 500, \"easing\": \"linear\"}}], \"label\": \"&#9654;\", \"method\": \"animate\"}, {\"args\": [[null], {\"frame\": {\"duration\": 0, \"redraw\": true}, \"fromcurrent\": true, \"mode\": \"immediate\", \"transition\": {\"duration\": 0, \"easing\": \"linear\"}}], \"label\": \"&#9724;\", \"method\": \"animate\"}], \"direction\": \"left\", \"pad\": {\"r\": 10, \"t\": 70}, \"showactive\": false, \"type\": \"buttons\", \"x\": 0.1, \"xanchor\": \"right\", \"y\": 0, \"yanchor\": \"top\"}], \"xaxis\": {\"anchor\": \"y\", \"categoryarray\": [\"Nintendo\", \"Electronic Arts\", \"Ubisoft\", \"Activision\", \"Sony Computer Entertainment\"], \"categoryorder\": \"array\", \"domain\": [0.0, 1.0], \"title\": {\"text\": \"Publisher\"}}, \"yaxis\": {\"anchor\": \"x\", \"domain\": [0.0, 1.0], \"title\": {\"text\": \"total_sales\"}}},\n",
       "                        {\"responsive\": true}\n",
       "                    ).then(function(){\n",
       "                            Plotly.addFrames('84122fe6-7795-44bf-a971-b6d2e2c6e644', [{\"data\": [{\"alignmentgroup\": \"True\", \"hovertemplate\": \"<b>%{hovertext}</b><br><br>Publisher=%{x}<br>Year=2006.0<br>total_sales=%{y}<extra></extra>\", \"hovertext\": [\"Nintendo\"], \"ids\": [\"Nintendo\"], \"legendgroup\": \"Nintendo\", \"marker\": {\"color\": \"#636efa\"}, \"name\": \"Nintendo\", \"offsetgroup\": \"Nintendo\", \"orientation\": \"v\", \"showlegend\": true, \"textposition\": \"auto\", \"x\": [\"Nintendo\"], \"xaxis\": \"x\", \"y\": [205.60999999999999], \"yaxis\": \"y\", \"type\": \"bar\"}, {\"alignmentgroup\": \"True\", \"hovertemplate\": \"<b>%{hovertext}</b><br><br>Publisher=%{x}<br>Year=2006.0<br>total_sales=%{y}<extra></extra>\", \"hovertext\": [\"Electronic Arts\"], \"ids\": [\"Electronic Arts\"], \"legendgroup\": \"Electronic Arts\", \"marker\": {\"color\": \"#EF553B\"}, \"name\": \"Electronic Arts\", \"offsetgroup\": \"Electronic Arts\", \"orientation\": \"v\", \"showlegend\": true, \"textposition\": \"auto\", \"x\": [\"Electronic Arts\"], \"xaxis\": \"x\", \"y\": [58.410000000000025], \"yaxis\": \"y\", \"type\": \"bar\"}, {\"alignmentgroup\": \"True\", \"hovertemplate\": \"<b>%{hovertext}</b><br><br>Publisher=%{x}<br>Year=2006.0<br>total_sales=%{y}<extra></extra>\", \"hovertext\": [\"Ubisoft\"], \"ids\": [\"Ubisoft\"], \"legendgroup\": \"Ubisoft\", \"marker\": {\"color\": \"#00cc96\"}, \"name\": \"Ubisoft\", \"offsetgroup\": \"Ubisoft\", \"orientation\": \"v\", \"showlegend\": true, \"textposition\": \"auto\", \"x\": [\"Ubisoft\"], \"xaxis\": \"x\", \"y\": [17.269999999999992], \"yaxis\": \"y\", \"type\": \"bar\"}, {\"alignmentgroup\": \"True\", \"hovertemplate\": \"<b>%{hovertext}</b><br><br>Publisher=%{x}<br>Year=2006.0<br>total_sales=%{y}<extra></extra>\", \"hovertext\": [\"Activision\"], \"ids\": [\"Activision\"], \"legendgroup\": \"Activision\", \"marker\": {\"color\": \"#ab63fa\"}, \"name\": \"Activision\", \"offsetgroup\": \"Activision\", \"orientation\": \"v\", \"showlegend\": true, \"textposition\": \"auto\", \"x\": [\"Activision\"], \"xaxis\": \"x\", \"y\": [17.400000000000006], \"yaxis\": \"y\", \"type\": \"bar\"}, {\"alignmentgroup\": \"True\", \"hovertemplate\": \"<b>%{hovertext}</b><br><br>Publisher=%{x}<br>Year=2006.0<br>total_sales=%{y}<extra></extra>\", \"hovertext\": [\"Sony Computer Entertainment\"], \"ids\": [\"Sony Computer Entertainment\"], \"legendgroup\": \"Sony Computer Entertainment\", \"marker\": {\"color\": \"#FFA15A\"}, \"name\": \"Sony Computer Entertainment\", \"offsetgroup\": \"Sony Computer Entertainment\", \"orientation\": \"v\", \"showlegend\": true, \"textposition\": \"auto\", \"x\": [\"Sony Computer Entertainment\"], \"xaxis\": \"x\", \"y\": [33.81], \"yaxis\": \"y\", \"type\": \"bar\"}], \"name\": \"2006.0\"}, {\"data\": [{\"alignmentgroup\": \"True\", \"hovertemplate\": \"<b>%{hovertext}</b><br><br>Publisher=%{x}<br>Year=2006.4064433147546<br>total_sales=%{y}<extra></extra>\", \"hovertext\": [\"Nintendo\"], \"ids\": [\"Nintendo\"], \"legendgroup\": \"Nintendo\", \"marker\": {\"color\": \"#636efa\"}, \"name\": \"Nintendo\", \"offsetgroup\": \"Nintendo\", \"orientation\": \"v\", \"showlegend\": true, \"textposition\": \"auto\", \"x\": [\"Nintendo\"], \"xaxis\": \"x\", \"y\": [2.1300000000000003], \"yaxis\": \"y\", \"type\": \"bar\"}, {\"alignmentgroup\": \"True\", \"hovertemplate\": \"<b>%{hovertext}</b><br><br>Publisher=%{x}<br>Year=2006.4064433147546<br>total_sales=%{y}<extra></extra>\", \"hovertext\": [\"Electronic Arts\"], \"ids\": [\"Electronic Arts\"], \"legendgroup\": \"Electronic Arts\", \"marker\": {\"color\": \"#EF553B\"}, \"name\": \"Electronic Arts\", \"offsetgroup\": \"Electronic Arts\", \"orientation\": \"v\", \"showlegend\": true, \"textposition\": \"auto\", \"x\": [\"Electronic Arts\"], \"xaxis\": \"x\", \"y\": [16.929999999999996], \"yaxis\": \"y\", \"type\": \"bar\"}, {\"alignmentgroup\": \"True\", \"hovertemplate\": \"<b>%{hovertext}</b><br><br>Publisher=%{x}<br>Year=2006.4064433147546<br>total_sales=%{y}<extra></extra>\", \"hovertext\": [\"Ubisoft\"], \"ids\": [\"Ubisoft\"], \"legendgroup\": \"Ubisoft\", \"marker\": {\"color\": \"#00cc96\"}, \"name\": \"Ubisoft\", \"offsetgroup\": \"Ubisoft\", \"orientation\": \"v\", \"showlegend\": true, \"textposition\": \"auto\", \"x\": [\"Ubisoft\"], \"xaxis\": \"x\", \"y\": [1.18], \"yaxis\": \"y\", \"type\": \"bar\"}, {\"alignmentgroup\": \"True\", \"hovertemplate\": \"<b>%{hovertext}</b><br><br>Publisher=%{x}<br>Year=2006.4064433147546<br>total_sales=%{y}<extra></extra>\", \"hovertext\": [\"Activision\"], \"ids\": [\"Activision\"], \"legendgroup\": \"Activision\", \"marker\": {\"color\": \"#ab63fa\"}, \"name\": \"Activision\", \"offsetgroup\": \"Activision\", \"orientation\": \"v\", \"showlegend\": true, \"textposition\": \"auto\", \"x\": [\"Activision\"], \"xaxis\": \"x\", \"y\": [6.05], \"yaxis\": \"y\", \"type\": \"bar\"}, {\"alignmentgroup\": \"True\", \"hovertemplate\": \"<b>%{hovertext}</b><br><br>Publisher=%{x}<br>Year=2006.4064433147546<br>total_sales=%{y}<extra></extra>\", \"hovertext\": [\"Sony Computer Entertainment\"], \"ids\": [\"Sony Computer Entertainment\"], \"legendgroup\": \"Sony Computer Entertainment\", \"marker\": {\"color\": \"#FFA15A\"}, \"name\": \"Sony Computer Entertainment\", \"offsetgroup\": \"Sony Computer Entertainment\", \"orientation\": \"v\", \"showlegend\": true, \"textposition\": \"auto\", \"x\": [\"Sony Computer Entertainment\"], \"xaxis\": \"x\", \"y\": [0.22], \"yaxis\": \"y\", \"type\": \"bar\"}], \"name\": \"2006.4064433147546\"}, {\"data\": [{\"alignmentgroup\": \"True\", \"hovertemplate\": \"<b>%{hovertext}</b><br><br>Publisher=%{x}<br>Year=2007.0<br>total_sales=%{y}<extra></extra>\", \"hovertext\": [\"Nintendo\"], \"ids\": [\"Nintendo\"], \"legendgroup\": \"Nintendo\", \"marker\": {\"color\": \"#636efa\"}, \"name\": \"Nintendo\", \"offsetgroup\": \"Nintendo\", \"orientation\": \"v\", \"showlegend\": true, \"textposition\": \"auto\", \"x\": [\"Nintendo\"], \"xaxis\": \"x\", \"y\": [104.18], \"yaxis\": \"y\", \"type\": \"bar\"}, {\"alignmentgroup\": \"True\", \"hovertemplate\": \"<b>%{hovertext}</b><br><br>Publisher=%{x}<br>Year=2007.0<br>total_sales=%{y}<extra></extra>\", \"hovertext\": [\"Electronic Arts\"], \"ids\": [\"Electronic Arts\"], \"legendgroup\": \"Electronic Arts\", \"marker\": {\"color\": \"#EF553B\"}, \"name\": \"Electronic Arts\", \"offsetgroup\": \"Electronic Arts\", \"orientation\": \"v\", \"showlegend\": true, \"textposition\": \"auto\", \"x\": [\"Electronic Arts\"], \"xaxis\": \"x\", \"y\": [71.33], \"yaxis\": \"y\", \"type\": \"bar\"}, {\"alignmentgroup\": \"True\", \"hovertemplate\": \"<b>%{hovertext}</b><br><br>Publisher=%{x}<br>Year=2007.0<br>total_sales=%{y}<extra></extra>\", \"hovertext\": [\"Ubisoft\"], \"ids\": [\"Ubisoft\"], \"legendgroup\": \"Ubisoft\", \"marker\": {\"color\": \"#00cc96\"}, \"name\": \"Ubisoft\", \"offsetgroup\": \"Ubisoft\", \"orientation\": \"v\", \"showlegend\": true, \"textposition\": \"auto\", \"x\": [\"Ubisoft\"], \"xaxis\": \"x\", \"y\": [48.59999999999997], \"yaxis\": \"y\", \"type\": \"bar\"}, {\"alignmentgroup\": \"True\", \"hovertemplate\": \"<b>%{hovertext}</b><br><br>Publisher=%{x}<br>Year=2007.0<br>total_sales=%{y}<extra></extra>\", \"hovertext\": [\"Activision\"], \"ids\": [\"Activision\"], \"legendgroup\": \"Activision\", \"marker\": {\"color\": \"#ab63fa\"}, \"name\": \"Activision\", \"offsetgroup\": \"Activision\", \"orientation\": \"v\", \"showlegend\": true, \"textposition\": \"auto\", \"x\": [\"Activision\"], \"xaxis\": \"x\", \"y\": [63.57], \"yaxis\": \"y\", \"type\": \"bar\"}, {\"alignmentgroup\": \"True\", \"hovertemplate\": \"<b>%{hovertext}</b><br><br>Publisher=%{x}<br>Year=2007.0<br>total_sales=%{y}<extra></extra>\", \"hovertext\": [\"Sony Computer Entertainment\"], \"ids\": [\"Sony Computer Entertainment\"], \"legendgroup\": \"Sony Computer Entertainment\", \"marker\": {\"color\": \"#FFA15A\"}, \"name\": \"Sony Computer Entertainment\", \"offsetgroup\": \"Sony Computer Entertainment\", \"orientation\": \"v\", \"showlegend\": true, \"textposition\": \"auto\", \"x\": [\"Sony Computer Entertainment\"], \"xaxis\": \"x\", \"y\": [37.54000000000002], \"yaxis\": \"y\", \"type\": \"bar\"}], \"name\": \"2007.0\"}, {\"data\": [{\"alignmentgroup\": \"True\", \"hovertemplate\": \"<b>%{hovertext}</b><br><br>Publisher=%{x}<br>Year=2008.0<br>total_sales=%{y}<extra></extra>\", \"hovertext\": [\"Nintendo\"], \"ids\": [\"Nintendo\"], \"legendgroup\": \"Nintendo\", \"marker\": {\"color\": \"#636efa\"}, \"name\": \"Nintendo\", \"offsetgroup\": \"Nintendo\", \"orientation\": \"v\", \"showlegend\": true, \"textposition\": \"auto\", \"x\": [\"Nintendo\"], \"xaxis\": \"x\", \"y\": [91.22000000000004], \"yaxis\": \"y\", \"type\": \"bar\"}, {\"alignmentgroup\": \"True\", \"hovertemplate\": \"<b>%{hovertext}</b><br><br>Publisher=%{x}<br>Year=2008.0<br>total_sales=%{y}<extra></extra>\", \"hovertext\": [\"Electronic Arts\"], \"ids\": [\"Electronic Arts\"], \"legendgroup\": \"Electronic Arts\", \"marker\": {\"color\": \"#EF553B\"}, \"name\": \"Electronic Arts\", \"offsetgroup\": \"Electronic Arts\", \"orientation\": \"v\", \"showlegend\": true, \"textposition\": \"auto\", \"x\": [\"Electronic Arts\"], \"xaxis\": \"x\", \"y\": [84.12], \"yaxis\": \"y\", \"type\": \"bar\"}, {\"alignmentgroup\": \"True\", \"hovertemplate\": \"<b>%{hovertext}</b><br><br>Publisher=%{x}<br>Year=2008.0<br>total_sales=%{y}<extra></extra>\", \"hovertext\": [\"Ubisoft\"], \"ids\": [\"Ubisoft\"], \"legendgroup\": \"Ubisoft\", \"marker\": {\"color\": \"#00cc96\"}, \"name\": \"Ubisoft\", \"offsetgroup\": \"Ubisoft\", \"orientation\": \"v\", \"showlegend\": true, \"textposition\": \"auto\", \"x\": [\"Ubisoft\"], \"xaxis\": \"x\", \"y\": [57.43999999999999], \"yaxis\": \"y\", \"type\": \"bar\"}, {\"alignmentgroup\": \"True\", \"hovertemplate\": \"<b>%{hovertext}</b><br><br>Publisher=%{x}<br>Year=2008.0<br>total_sales=%{y}<extra></extra>\", \"hovertext\": [\"Activision\"], \"ids\": [\"Activision\"], \"legendgroup\": \"Activision\", \"marker\": {\"color\": \"#ab63fa\"}, \"name\": \"Activision\", \"offsetgroup\": \"Activision\", \"orientation\": \"v\", \"showlegend\": true, \"textposition\": \"auto\", \"x\": [\"Activision\"], \"xaxis\": \"x\", \"y\": [67.40999999999997], \"yaxis\": \"y\", \"type\": \"bar\"}, {\"alignmentgroup\": \"True\", \"hovertemplate\": \"<b>%{hovertext}</b><br><br>Publisher=%{x}<br>Year=2008.0<br>total_sales=%{y}<extra></extra>\", \"hovertext\": [\"Sony Computer Entertainment\"], \"ids\": [\"Sony Computer Entertainment\"], \"legendgroup\": \"Sony Computer Entertainment\", \"marker\": {\"color\": \"#FFA15A\"}, \"name\": \"Sony Computer Entertainment\", \"offsetgroup\": \"Sony Computer Entertainment\", \"orientation\": \"v\", \"showlegend\": true, \"textposition\": \"auto\", \"x\": [\"Sony Computer Entertainment\"], \"xaxis\": \"x\", \"y\": [26.639999999999997], \"yaxis\": \"y\", \"type\": \"bar\"}], \"name\": \"2008.0\"}, {\"data\": [{\"alignmentgroup\": \"True\", \"hovertemplate\": \"<b>%{hovertext}</b><br><br>Publisher=%{x}<br>Year=2009.0<br>total_sales=%{y}<extra></extra>\", \"hovertext\": [\"Nintendo\"], \"ids\": [\"Nintendo\"], \"legendgroup\": \"Nintendo\", \"marker\": {\"color\": \"#636efa\"}, \"name\": \"Nintendo\", \"offsetgroup\": \"Nintendo\", \"orientation\": \"v\", \"showlegend\": true, \"textposition\": \"auto\", \"x\": [\"Nintendo\"], \"xaxis\": \"x\", \"y\": [128.89], \"yaxis\": \"y\", \"type\": \"bar\"}, {\"alignmentgroup\": \"True\", \"hovertemplate\": \"<b>%{hovertext}</b><br><br>Publisher=%{x}<br>Year=2009.0<br>total_sales=%{y}<extra></extra>\", \"hovertext\": [\"Electronic Arts\"], \"ids\": [\"Electronic Arts\"], \"legendgroup\": \"Electronic Arts\", \"marker\": {\"color\": \"#EF553B\"}, \"name\": \"Electronic Arts\", \"offsetgroup\": \"Electronic Arts\", \"orientation\": \"v\", \"showlegend\": true, \"textposition\": \"auto\", \"x\": [\"Electronic Arts\"], \"xaxis\": \"x\", \"y\": [86.20000000000002], \"yaxis\": \"y\", \"type\": \"bar\"}, {\"alignmentgroup\": \"True\", \"hovertemplate\": \"<b>%{hovertext}</b><br><br>Publisher=%{x}<br>Year=2009.0<br>total_sales=%{y}<extra></extra>\", \"hovertext\": [\"Ubisoft\"], \"ids\": [\"Ubisoft\"], \"legendgroup\": \"Ubisoft\", \"marker\": {\"color\": \"#00cc96\"}, \"name\": \"Ubisoft\", \"offsetgroup\": \"Ubisoft\", \"orientation\": \"v\", \"showlegend\": true, \"textposition\": \"auto\", \"x\": [\"Ubisoft\"], \"xaxis\": \"x\", \"y\": [47.01000000000001], \"yaxis\": \"y\", \"type\": \"bar\"}, {\"alignmentgroup\": \"True\", \"hovertemplate\": \"<b>%{hovertext}</b><br><br>Publisher=%{x}<br>Year=2009.0<br>total_sales=%{y}<extra></extra>\", \"hovertext\": [\"Activision\"], \"ids\": [\"Activision\"], \"legendgroup\": \"Activision\", \"marker\": {\"color\": \"#ab63fa\"}, \"name\": \"Activision\", \"offsetgroup\": \"Activision\", \"orientation\": \"v\", \"showlegend\": true, \"textposition\": \"auto\", \"x\": [\"Activision\"], \"xaxis\": \"x\", \"y\": [78.05999999999997], \"yaxis\": \"y\", \"type\": \"bar\"}, {\"alignmentgroup\": \"True\", \"hovertemplate\": \"<b>%{hovertext}</b><br><br>Publisher=%{x}<br>Year=2009.0<br>total_sales=%{y}<extra></extra>\", \"hovertext\": [\"Sony Computer Entertainment\"], \"ids\": [\"Sony Computer Entertainment\"], \"legendgroup\": \"Sony Computer Entertainment\", \"marker\": {\"color\": \"#FFA15A\"}, \"name\": \"Sony Computer Entertainment\", \"offsetgroup\": \"Sony Computer Entertainment\", \"orientation\": \"v\", \"showlegend\": true, \"textposition\": \"auto\", \"x\": [\"Sony Computer Entertainment\"], \"xaxis\": \"x\", \"y\": [36.53], \"yaxis\": \"y\", \"type\": \"bar\"}], \"name\": \"2009.0\"}, {\"data\": [{\"alignmentgroup\": \"True\", \"hovertemplate\": \"<b>%{hovertext}</b><br><br>Publisher=%{x}<br>Year=2010.0<br>total_sales=%{y}<extra></extra>\", \"hovertext\": [\"Nintendo\"], \"ids\": [\"Nintendo\"], \"legendgroup\": \"Nintendo\", \"marker\": {\"color\": \"#636efa\"}, \"name\": \"Nintendo\", \"offsetgroup\": \"Nintendo\", \"orientation\": \"v\", \"showlegend\": true, \"textposition\": \"auto\", \"x\": [\"Nintendo\"], \"xaxis\": \"x\", \"y\": [61.07], \"yaxis\": \"y\", \"type\": \"bar\"}, {\"alignmentgroup\": \"True\", \"hovertemplate\": \"<b>%{hovertext}</b><br><br>Publisher=%{x}<br>Year=2010.0<br>total_sales=%{y}<extra></extra>\", \"hovertext\": [\"Electronic Arts\"], \"ids\": [\"Electronic Arts\"], \"legendgroup\": \"Electronic Arts\", \"marker\": {\"color\": \"#EF553B\"}, \"name\": \"Electronic Arts\", \"offsetgroup\": \"Electronic Arts\", \"orientation\": \"v\", \"showlegend\": true, \"textposition\": \"auto\", \"x\": [\"Electronic Arts\"], \"xaxis\": \"x\", \"y\": [81.38000000000001], \"yaxis\": \"y\", \"type\": \"bar\"}, {\"alignmentgroup\": \"True\", \"hovertemplate\": \"<b>%{hovertext}</b><br><br>Publisher=%{x}<br>Year=2010.0<br>total_sales=%{y}<extra></extra>\", \"hovertext\": [\"Ubisoft\"], \"ids\": [\"Ubisoft\"], \"legendgroup\": \"Ubisoft\", \"marker\": {\"color\": \"#00cc96\"}, \"name\": \"Ubisoft\", \"offsetgroup\": \"Ubisoft\", \"orientation\": \"v\", \"showlegend\": true, \"textposition\": \"auto\", \"x\": [\"Ubisoft\"], \"xaxis\": \"x\", \"y\": [42.61999999999998], \"yaxis\": \"y\", \"type\": \"bar\"}, {\"alignmentgroup\": \"True\", \"hovertemplate\": \"<b>%{hovertext}</b><br><br>Publisher=%{x}<br>Year=2010.0<br>total_sales=%{y}<extra></extra>\", \"hovertext\": [\"Activision\"], \"ids\": [\"Activision\"], \"legendgroup\": \"Activision\", \"marker\": {\"color\": \"#ab63fa\"}, \"name\": \"Activision\", \"offsetgroup\": \"Activision\", \"orientation\": \"v\", \"showlegend\": true, \"textposition\": \"auto\", \"x\": [\"Activision\"], \"xaxis\": \"x\", \"y\": [63.390000000000015], \"yaxis\": \"y\", \"type\": \"bar\"}, {\"alignmentgroup\": \"True\", \"hovertemplate\": \"<b>%{hovertext}</b><br><br>Publisher=%{x}<br>Year=2010.0<br>total_sales=%{y}<extra></extra>\", \"hovertext\": [\"Sony Computer Entertainment\"], \"ids\": [\"Sony Computer Entertainment\"], \"legendgroup\": \"Sony Computer Entertainment\", \"marker\": {\"color\": \"#FFA15A\"}, \"name\": \"Sony Computer Entertainment\", \"offsetgroup\": \"Sony Computer Entertainment\", \"orientation\": \"v\", \"showlegend\": true, \"textposition\": \"auto\", \"x\": [\"Sony Computer Entertainment\"], \"xaxis\": \"x\", \"y\": [34.89], \"yaxis\": \"y\", \"type\": \"bar\"}], \"name\": \"2010.0\"}, {\"data\": [{\"alignmentgroup\": \"True\", \"hovertemplate\": \"<b>%{hovertext}</b><br><br>Publisher=%{x}<br>Year=2011.0<br>total_sales=%{y}<extra></extra>\", \"hovertext\": [\"Nintendo\"], \"ids\": [\"Nintendo\"], \"legendgroup\": \"Nintendo\", \"marker\": {\"color\": \"#636efa\"}, \"name\": \"Nintendo\", \"offsetgroup\": \"Nintendo\", \"orientation\": \"v\", \"showlegend\": true, \"textposition\": \"auto\", \"x\": [\"Nintendo\"], \"xaxis\": \"x\", \"y\": [51.53], \"yaxis\": \"y\", \"type\": \"bar\"}, {\"alignmentgroup\": \"True\", \"hovertemplate\": \"<b>%{hovertext}</b><br><br>Publisher=%{x}<br>Year=2011.0<br>total_sales=%{y}<extra></extra>\", \"hovertext\": [\"Electronic Arts\"], \"ids\": [\"Electronic Arts\"], \"legendgroup\": \"Electronic Arts\", \"marker\": {\"color\": \"#EF553B\"}, \"name\": \"Electronic Arts\", \"offsetgroup\": \"Electronic Arts\", \"orientation\": \"v\", \"showlegend\": true, \"textposition\": \"auto\", \"x\": [\"Electronic Arts\"], \"xaxis\": \"x\", \"y\": [72.25], \"yaxis\": \"y\", \"type\": \"bar\"}, {\"alignmentgroup\": \"True\", \"hovertemplate\": \"<b>%{hovertext}</b><br><br>Publisher=%{x}<br>Year=2011.0<br>total_sales=%{y}<extra></extra>\", \"hovertext\": [\"Ubisoft\"], \"ids\": [\"Ubisoft\"], \"legendgroup\": \"Ubisoft\", \"marker\": {\"color\": \"#00cc96\"}, \"name\": \"Ubisoft\", \"offsetgroup\": \"Ubisoft\", \"orientation\": \"v\", \"showlegend\": true, \"textposition\": \"auto\", \"x\": [\"Ubisoft\"], \"xaxis\": \"x\", \"y\": [48.03000000000003], \"yaxis\": \"y\", \"type\": \"bar\"}, {\"alignmentgroup\": \"True\", \"hovertemplate\": \"<b>%{hovertext}</b><br><br>Publisher=%{x}<br>Year=2011.0<br>total_sales=%{y}<extra></extra>\", \"hovertext\": [\"Activision\"], \"ids\": [\"Activision\"], \"legendgroup\": \"Activision\", \"marker\": {\"color\": \"#ab63fa\"}, \"name\": \"Activision\", \"offsetgroup\": \"Activision\", \"orientation\": \"v\", \"showlegend\": true, \"textposition\": \"auto\", \"x\": [\"Activision\"], \"xaxis\": \"x\", \"y\": [51.740000000000016], \"yaxis\": \"y\", \"type\": \"bar\"}, {\"alignmentgroup\": \"True\", \"hovertemplate\": \"<b>%{hovertext}</b><br><br>Publisher=%{x}<br>Year=2011.0<br>total_sales=%{y}<extra></extra>\", \"hovertext\": [\"Sony Computer Entertainment\"], \"ids\": [\"Sony Computer Entertainment\"], \"legendgroup\": \"Sony Computer Entertainment\", \"marker\": {\"color\": \"#FFA15A\"}, \"name\": \"Sony Computer Entertainment\", \"offsetgroup\": \"Sony Computer Entertainment\", \"orientation\": \"v\", \"showlegend\": true, \"textposition\": \"auto\", \"x\": [\"Sony Computer Entertainment\"], \"xaxis\": \"x\", \"y\": [27.399999999999995], \"yaxis\": \"y\", \"type\": \"bar\"}], \"name\": \"2011.0\"}, {\"data\": [{\"alignmentgroup\": \"True\", \"hovertemplate\": \"<b>%{hovertext}</b><br><br>Publisher=%{x}<br>Year=2012.0<br>total_sales=%{y}<extra></extra>\", \"hovertext\": [\"Nintendo\"], \"ids\": [\"Nintendo\"], \"legendgroup\": \"Nintendo\", \"marker\": {\"color\": \"#636efa\"}, \"name\": \"Nintendo\", \"offsetgroup\": \"Nintendo\", \"orientation\": \"v\", \"showlegend\": true, \"textposition\": \"auto\", \"x\": [\"Nintendo\"], \"xaxis\": \"x\", \"y\": [56.470000000000006], \"yaxis\": \"y\", \"type\": \"bar\"}, {\"alignmentgroup\": \"True\", \"hovertemplate\": \"<b>%{hovertext}</b><br><br>Publisher=%{x}<br>Year=2012.0<br>total_sales=%{y}<extra></extra>\", \"hovertext\": [\"Electronic Arts\"], \"ids\": [\"Electronic Arts\"], \"legendgroup\": \"Electronic Arts\", \"marker\": {\"color\": \"#EF553B\"}, \"name\": \"Electronic Arts\", \"offsetgroup\": \"Electronic Arts\", \"orientation\": \"v\", \"showlegend\": true, \"textposition\": \"auto\", \"x\": [\"Electronic Arts\"], \"xaxis\": \"x\", \"y\": [49.89999999999996], \"yaxis\": \"y\", \"type\": \"bar\"}, {\"alignmentgroup\": \"True\", \"hovertemplate\": \"<b>%{hovertext}</b><br><br>Publisher=%{x}<br>Year=2012.0<br>total_sales=%{y}<extra></extra>\", \"hovertext\": [\"Ubisoft\"], \"ids\": [\"Ubisoft\"], \"legendgroup\": \"Ubisoft\", \"marker\": {\"color\": \"#00cc96\"}, \"name\": \"Ubisoft\", \"offsetgroup\": \"Ubisoft\", \"orientation\": \"v\", \"showlegend\": true, \"textposition\": \"auto\", \"x\": [\"Ubisoft\"], \"xaxis\": \"x\", \"y\": [37.30999999999999], \"yaxis\": \"y\", \"type\": \"bar\"}, {\"alignmentgroup\": \"True\", \"hovertemplate\": \"<b>%{hovertext}</b><br><br>Publisher=%{x}<br>Year=2012.0<br>total_sales=%{y}<extra></extra>\", \"hovertext\": [\"Activision\"], \"ids\": [\"Activision\"], \"legendgroup\": \"Activision\", \"marker\": {\"color\": \"#ab63fa\"}, \"name\": \"Activision\", \"offsetgroup\": \"Activision\", \"orientation\": \"v\", \"showlegend\": true, \"textposition\": \"auto\", \"x\": [\"Activision\"], \"xaxis\": \"x\", \"y\": [53.25], \"yaxis\": \"y\", \"type\": \"bar\"}, {\"alignmentgroup\": \"True\", \"hovertemplate\": \"<b>%{hovertext}</b><br><br>Publisher=%{x}<br>Year=2012.0<br>total_sales=%{y}<extra></extra>\", \"hovertext\": [\"Sony Computer Entertainment\"], \"ids\": [\"Sony Computer Entertainment\"], \"legendgroup\": \"Sony Computer Entertainment\", \"marker\": {\"color\": \"#FFA15A\"}, \"name\": \"Sony Computer Entertainment\", \"offsetgroup\": \"Sony Computer Entertainment\", \"orientation\": \"v\", \"showlegend\": true, \"textposition\": \"auto\", \"x\": [\"Sony Computer Entertainment\"], \"xaxis\": \"x\", \"y\": [12.85], \"yaxis\": \"y\", \"type\": \"bar\"}], \"name\": \"2012.0\"}, {\"data\": [{\"alignmentgroup\": \"True\", \"hovertemplate\": \"<b>%{hovertext}</b><br><br>Publisher=%{x}<br>Year=2013.0<br>total_sales=%{y}<extra></extra>\", \"hovertext\": [\"Nintendo\"], \"ids\": [\"Nintendo\"], \"legendgroup\": \"Nintendo\", \"marker\": {\"color\": \"#636efa\"}, \"name\": \"Nintendo\", \"offsetgroup\": \"Nintendo\", \"orientation\": \"v\", \"showlegend\": true, \"textposition\": \"auto\", \"x\": [\"Nintendo\"], \"xaxis\": \"x\", \"y\": [52.790000000000006], \"yaxis\": \"y\", \"type\": \"bar\"}, {\"alignmentgroup\": \"True\", \"hovertemplate\": \"<b>%{hovertext}</b><br><br>Publisher=%{x}<br>Year=2013.0<br>total_sales=%{y}<extra></extra>\", \"hovertext\": [\"Electronic Arts\"], \"ids\": [\"Electronic Arts\"], \"legendgroup\": \"Electronic Arts\", \"marker\": {\"color\": \"#EF553B\"}, \"name\": \"Electronic Arts\", \"offsetgroup\": \"Electronic Arts\", \"orientation\": \"v\", \"showlegend\": true, \"textposition\": \"auto\", \"x\": [\"Electronic Arts\"], \"xaxis\": \"x\", \"y\": [52.919999999999995], \"yaxis\": \"y\", \"type\": \"bar\"}, {\"alignmentgroup\": \"True\", \"hovertemplate\": \"<b>%{hovertext}</b><br><br>Publisher=%{x}<br>Year=2013.0<br>total_sales=%{y}<extra></extra>\", \"hovertext\": [\"Ubisoft\"], \"ids\": [\"Ubisoft\"], \"legendgroup\": \"Ubisoft\", \"marker\": {\"color\": \"#00cc96\"}, \"name\": \"Ubisoft\", \"offsetgroup\": \"Ubisoft\", \"orientation\": \"v\", \"showlegend\": true, \"textposition\": \"auto\", \"x\": [\"Ubisoft\"], \"xaxis\": \"x\", \"y\": [27.390000000000008], \"yaxis\": \"y\", \"type\": \"bar\"}, {\"alignmentgroup\": \"True\", \"hovertemplate\": \"<b>%{hovertext}</b><br><br>Publisher=%{x}<br>Year=2013.0<br>total_sales=%{y}<extra></extra>\", \"hovertext\": [\"Activision\"], \"ids\": [\"Activision\"], \"legendgroup\": \"Activision\", \"marker\": {\"color\": \"#ab63fa\"}, \"name\": \"Activision\", \"offsetgroup\": \"Activision\", \"orientation\": \"v\", \"showlegend\": true, \"textposition\": \"auto\", \"x\": [\"Activision\"], \"xaxis\": \"x\", \"y\": [43.489999999999995], \"yaxis\": \"y\", \"type\": \"bar\"}, {\"alignmentgroup\": \"True\", \"hovertemplate\": \"<b>%{hovertext}</b><br><br>Publisher=%{x}<br>Year=2013.0<br>total_sales=%{y}<extra></extra>\", \"hovertext\": [\"Sony Computer Entertainment\"], \"ids\": [\"Sony Computer Entertainment\"], \"legendgroup\": \"Sony Computer Entertainment\", \"marker\": {\"color\": \"#FFA15A\"}, \"name\": \"Sony Computer Entertainment\", \"offsetgroup\": \"Sony Computer Entertainment\", \"orientation\": \"v\", \"showlegend\": true, \"textposition\": \"auto\", \"x\": [\"Sony Computer Entertainment\"], \"xaxis\": \"x\", \"y\": [12.610000000000005], \"yaxis\": \"y\", \"type\": \"bar\"}], \"name\": \"2013.0\"}, {\"data\": [{\"alignmentgroup\": \"True\", \"hovertemplate\": \"<b>%{hovertext}</b><br><br>Publisher=%{x}<br>Year=2014.0<br>total_sales=%{y}<extra></extra>\", \"hovertext\": [\"Nintendo\"], \"ids\": [\"Nintendo\"], \"legendgroup\": \"Nintendo\", \"marker\": {\"color\": \"#636efa\"}, \"name\": \"Nintendo\", \"offsetgroup\": \"Nintendo\", \"orientation\": \"v\", \"showlegend\": true, \"textposition\": \"auto\", \"x\": [\"Nintendo\"], \"xaxis\": \"x\", \"y\": [48.64999999999999], \"yaxis\": \"y\", \"type\": \"bar\"}, {\"alignmentgroup\": \"True\", \"hovertemplate\": \"<b>%{hovertext}</b><br><br>Publisher=%{x}<br>Year=2014.0<br>total_sales=%{y}<extra></extra>\", \"hovertext\": [\"Electronic Arts\"], \"ids\": [\"Electronic Arts\"], \"legendgroup\": \"Electronic Arts\", \"marker\": {\"color\": \"#EF553B\"}, \"name\": \"Electronic Arts\", \"offsetgroup\": \"Electronic Arts\", \"orientation\": \"v\", \"showlegend\": true, \"textposition\": \"auto\", \"x\": [\"Electronic Arts\"], \"xaxis\": \"x\", \"y\": [46.79999999999998], \"yaxis\": \"y\", \"type\": \"bar\"}, {\"alignmentgroup\": \"True\", \"hovertemplate\": \"<b>%{hovertext}</b><br><br>Publisher=%{x}<br>Year=2014.0<br>total_sales=%{y}<extra></extra>\", \"hovertext\": [\"Ubisoft\"], \"ids\": [\"Ubisoft\"], \"legendgroup\": \"Ubisoft\", \"marker\": {\"color\": \"#00cc96\"}, \"name\": \"Ubisoft\", \"offsetgroup\": \"Ubisoft\", \"orientation\": \"v\", \"showlegend\": true, \"textposition\": \"auto\", \"x\": [\"Ubisoft\"], \"xaxis\": \"x\", \"y\": [41.95000000000001], \"yaxis\": \"y\", \"type\": \"bar\"}, {\"alignmentgroup\": \"True\", \"hovertemplate\": \"<b>%{hovertext}</b><br><br>Publisher=%{x}<br>Year=2014.0<br>total_sales=%{y}<extra></extra>\", \"hovertext\": [\"Activision\"], \"ids\": [\"Activision\"], \"legendgroup\": \"Activision\", \"marker\": {\"color\": \"#ab63fa\"}, \"name\": \"Activision\", \"offsetgroup\": \"Activision\", \"orientation\": \"v\", \"showlegend\": true, \"textposition\": \"auto\", \"x\": [\"Activision\"], \"xaxis\": \"x\", \"y\": [44.48000000000001], \"yaxis\": \"y\", \"type\": \"bar\"}, {\"alignmentgroup\": \"True\", \"hovertemplate\": \"<b>%{hovertext}</b><br><br>Publisher=%{x}<br>Year=2014.0<br>total_sales=%{y}<extra></extra>\", \"hovertext\": [\"Sony Computer Entertainment\"], \"ids\": [\"Sony Computer Entertainment\"], \"legendgroup\": \"Sony Computer Entertainment\", \"marker\": {\"color\": \"#FFA15A\"}, \"name\": \"Sony Computer Entertainment\", \"offsetgroup\": \"Sony Computer Entertainment\", \"orientation\": \"v\", \"showlegend\": true, \"textposition\": \"auto\", \"x\": [\"Sony Computer Entertainment\"], \"xaxis\": \"x\", \"y\": [19.019999999999992], \"yaxis\": \"y\", \"type\": \"bar\"}], \"name\": \"2014.0\"}, {\"data\": [{\"alignmentgroup\": \"True\", \"hovertemplate\": \"<b>%{hovertext}</b><br><br>Publisher=%{x}<br>Year=2015.0<br>total_sales=%{y}<extra></extra>\", \"hovertext\": [\"Nintendo\"], \"ids\": [\"Nintendo\"], \"legendgroup\": \"Nintendo\", \"marker\": {\"color\": \"#636efa\"}, \"name\": \"Nintendo\", \"offsetgroup\": \"Nintendo\", \"orientation\": \"v\", \"showlegend\": true, \"textposition\": \"auto\", \"x\": [\"Nintendo\"], \"xaxis\": \"x\", \"y\": [27.080000000000002], \"yaxis\": \"y\", \"type\": \"bar\"}, {\"alignmentgroup\": \"True\", \"hovertemplate\": \"<b>%{hovertext}</b><br><br>Publisher=%{x}<br>Year=2015.0<br>total_sales=%{y}<extra></extra>\", \"hovertext\": [\"Electronic Arts\"], \"ids\": [\"Electronic Arts\"], \"legendgroup\": \"Electronic Arts\", \"marker\": {\"color\": \"#EF553B\"}, \"name\": \"Electronic Arts\", \"offsetgroup\": \"Electronic Arts\", \"orientation\": \"v\", \"showlegend\": true, \"textposition\": \"auto\", \"x\": [\"Electronic Arts\"], \"xaxis\": \"x\", \"y\": [45.42], \"yaxis\": \"y\", \"type\": \"bar\"}, {\"alignmentgroup\": \"True\", \"hovertemplate\": \"<b>%{hovertext}</b><br><br>Publisher=%{x}<br>Year=2015.0<br>total_sales=%{y}<extra></extra>\", \"hovertext\": [\"Ubisoft\"], \"ids\": [\"Ubisoft\"], \"legendgroup\": \"Ubisoft\", \"marker\": {\"color\": \"#00cc96\"}, \"name\": \"Ubisoft\", \"offsetgroup\": \"Ubisoft\", \"orientation\": \"v\", \"showlegend\": true, \"textposition\": \"auto\", \"x\": [\"Ubisoft\"], \"xaxis\": \"x\", \"y\": [12.79], \"yaxis\": \"y\", \"type\": \"bar\"}, {\"alignmentgroup\": \"True\", \"hovertemplate\": \"<b>%{hovertext}</b><br><br>Publisher=%{x}<br>Year=2015.0<br>total_sales=%{y}<extra></extra>\", \"hovertext\": [\"Activision\"], \"ids\": [\"Activision\"], \"legendgroup\": \"Activision\", \"marker\": {\"color\": \"#ab63fa\"}, \"name\": \"Activision\", \"offsetgroup\": \"Activision\", \"orientation\": \"v\", \"showlegend\": true, \"textposition\": \"auto\", \"x\": [\"Activision\"], \"xaxis\": \"x\", \"y\": [35.63000000000001], \"yaxis\": \"y\", \"type\": \"bar\"}, {\"alignmentgroup\": \"True\", \"hovertemplate\": \"<b>%{hovertext}</b><br><br>Publisher=%{x}<br>Year=2015.0<br>total_sales=%{y}<extra></extra>\", \"hovertext\": [\"Sony Computer Entertainment\"], \"ids\": [\"Sony Computer Entertainment\"], \"legendgroup\": \"Sony Computer Entertainment\", \"marker\": {\"color\": \"#FFA15A\"}, \"name\": \"Sony Computer Entertainment\", \"offsetgroup\": \"Sony Computer Entertainment\", \"orientation\": \"v\", \"showlegend\": true, \"textposition\": \"auto\", \"x\": [\"Sony Computer Entertainment\"], \"xaxis\": \"x\", \"y\": [11.010000000000002], \"yaxis\": \"y\", \"type\": \"bar\"}], \"name\": \"2015.0\"}, {\"data\": [{\"alignmentgroup\": \"True\", \"hovertemplate\": \"<b>%{hovertext}</b><br><br>Publisher=%{x}<br>Year=2016.0<br>total_sales=%{y}<extra></extra>\", \"hovertext\": [\"Nintendo\"], \"ids\": [\"Nintendo\"], \"legendgroup\": \"Nintendo\", \"marker\": {\"color\": \"#636efa\"}, \"name\": \"Nintendo\", \"offsetgroup\": \"Nintendo\", \"orientation\": \"v\", \"showlegend\": true, \"textposition\": \"auto\", \"x\": [\"Nintendo\"], \"xaxis\": \"x\", \"y\": [3.4699999999999998], \"yaxis\": \"y\", \"type\": \"bar\"}, {\"alignmentgroup\": \"True\", \"hovertemplate\": \"<b>%{hovertext}</b><br><br>Publisher=%{x}<br>Year=2016.0<br>total_sales=%{y}<extra></extra>\", \"hovertext\": [\"Electronic Arts\"], \"ids\": [\"Electronic Arts\"], \"legendgroup\": \"Electronic Arts\", \"marker\": {\"color\": \"#EF553B\"}, \"name\": \"Electronic Arts\", \"offsetgroup\": \"Electronic Arts\", \"orientation\": \"v\", \"showlegend\": true, \"textposition\": \"auto\", \"x\": [\"Electronic Arts\"], \"xaxis\": \"x\", \"y\": [12.250000000000002], \"yaxis\": \"y\", \"type\": \"bar\"}, {\"alignmentgroup\": \"True\", \"hovertemplate\": \"<b>%{hovertext}</b><br><br>Publisher=%{x}<br>Year=2016.0<br>total_sales=%{y}<extra></extra>\", \"hovertext\": [\"Ubisoft\"], \"ids\": [\"Ubisoft\"], \"legendgroup\": \"Ubisoft\", \"marker\": {\"color\": \"#00cc96\"}, \"name\": \"Ubisoft\", \"offsetgroup\": \"Ubisoft\", \"orientation\": \"v\", \"showlegend\": true, \"textposition\": \"auto\", \"x\": [\"Ubisoft\"], \"xaxis\": \"x\", \"y\": [9.76], \"yaxis\": \"y\", \"type\": \"bar\"}, {\"alignmentgroup\": \"True\", \"hovertemplate\": \"<b>%{hovertext}</b><br><br>Publisher=%{x}<br>Year=2016.0<br>total_sales=%{y}<extra></extra>\", \"hovertext\": [\"Activision\"], \"ids\": [\"Activision\"], \"legendgroup\": \"Activision\", \"marker\": {\"color\": \"#ab63fa\"}, \"name\": \"Activision\", \"offsetgroup\": \"Activision\", \"orientation\": \"v\", \"showlegend\": true, \"textposition\": \"auto\", \"x\": [\"Activision\"], \"xaxis\": \"x\", \"y\": [3.6699999999999995], \"yaxis\": \"y\", \"type\": \"bar\"}, {\"alignmentgroup\": \"True\", \"hovertemplate\": \"<b>%{hovertext}</b><br><br>Publisher=%{x}<br>Year=2016.0<br>total_sales=%{y}<extra></extra>\", \"hovertext\": [\"Sony Computer Entertainment\"], \"ids\": [\"Sony Computer Entertainment\"], \"legendgroup\": \"Sony Computer Entertainment\", \"marker\": {\"color\": \"#FFA15A\"}, \"name\": \"Sony Computer Entertainment\", \"offsetgroup\": \"Sony Computer Entertainment\", \"orientation\": \"v\", \"showlegend\": true, \"textposition\": \"auto\", \"x\": [\"Sony Computer Entertainment\"], \"xaxis\": \"x\", \"y\": [6.5600000000000005], \"yaxis\": \"y\", \"type\": \"bar\"}], \"name\": \"2016.0\"}, {\"data\": [{\"alignmentgroup\": \"True\", \"hovertemplate\": \"<b>%{hovertext}</b><br><br>Publisher=%{x}<br>Year=2020.0<br>total_sales=%{y}<extra></extra>\", \"hovertext\": [\"Ubisoft\"], \"ids\": [\"Ubisoft\"], \"legendgroup\": \"Ubisoft\", \"marker\": {\"color\": \"#00cc96\"}, \"name\": \"Ubisoft\", \"offsetgroup\": \"Ubisoft\", \"orientation\": \"v\", \"showlegend\": true, \"textposition\": \"auto\", \"x\": [\"Ubisoft\"], \"xaxis\": \"x\", \"y\": [0.29], \"yaxis\": \"y\", \"type\": \"bar\"}], \"name\": \"2020.0\"}]);\n",
       "                        }).then(function(){\n",
       "                            \n",
       "var gd = document.getElementById('84122fe6-7795-44bf-a971-b6d2e2c6e644');\n",
       "var x = new MutationObserver(function (mutations, observer) {{\n",
       "        var display = window.getComputedStyle(gd).display;\n",
       "        if (!display || display === 'none') {{\n",
       "            console.log([gd, 'removed!']);\n",
       "            Plotly.purge(gd);\n",
       "            observer.disconnect();\n",
       "        }}\n",
       "}});\n",
       "\n",
       "// Listen for the removal of the full notebook cells\n",
       "var notebookContainer = gd.closest('#notebook-container');\n",
       "if (notebookContainer) {{\n",
       "    x.observe(notebookContainer, {childList: true});\n",
       "}}\n",
       "\n",
       "// Listen for the clearing of the current output cell\n",
       "var outputEl = gd.closest('.output');\n",
       "if (outputEl) {{\n",
       "    x.observe(outputEl, {childList: true});\n",
       "}}\n",
       "\n",
       "                        })\n",
       "                };\n",
       "                });\n",
       "            </script>\n",
       "        </div>"
      ]
     },
     "metadata": {},
     "output_type": "display_data"
    }
   ],
   "source": [
    "best_5 = ['Nintendo', 'Electronic Arts', 'Activision', 'Ubisoft', 'Sony Computer Entertainment']\n",
    "mod = vg_df.loc[:,[\"Year\",\"Publisher\",'Global_Sales']]\n",
    "mod['total_sales'] = mod.groupby([mod.Publisher,mod.Year])['Global_Sales'].transform('sum')\n",
    "mod.drop('Global_Sales', axis=1, inplace=True)\n",
    "mod = mod.drop_duplicates()\n",
    "mod = mod[(mod['Year'].astype('float')>=2006.0)]\n",
    "mod = mod.sort_values(\"Year\",ascending = False)\n",
    "mod = mod.loc[mod['Publisher'].isin(best_5)]\n",
    "mod = mod.sort_values(\"Year\")\n",
    "fig=px.bar(mod,x='Publisher', y=\"total_sales\", animation_frame=\"Year\", \n",
    "           animation_group=\"Publisher\", color=\"Publisher\", hover_name=\"Publisher\")\n",
    "fig.show()"
   ]
  },
  {
   "cell_type": "markdown",
   "metadata": {},
   "source": [
    "### Qual o jogo mais popular na América do Norte"
   ]
  },
  {
   "cell_type": "markdown",
   "metadata": {},
   "source": [
    "- Super Mario Bros com 26.2%, seguido do Dunk Hunt com 24.3%"
   ]
  },
  {
   "cell_type": "code",
   "execution_count": 23,
   "metadata": {},
   "outputs": [
    {
     "data": {
      "application/vnd.plotly.v1+json": {
       "config": {
        "plotlyServerURL": "https://plot.ly"
       },
       "data": [
        {
         "domain": {
          "x": [
           0,
           1
          ],
          "y": [
           0,
           1
          ]
         },
         "hovertemplate": "Name=%{label}<br>NA_Sales=%{value}<extra></extra>",
         "labels": [
          "Super Mario Bros.",
          "Duck Hunt",
          "Tetris",
          "Mario Kart Wii",
          "Wii Sports Resort"
         ],
         "legendgroup": "",
         "name": "",
         "pull": 0.05,
         "rotation": 50,
         "showlegend": true,
         "textinfo": "percent+label",
         "type": "pie",
         "values": [
          29.08,
          26.93,
          23.2,
          15.85,
          15.75
         ]
        }
       ],
       "layout": {
        "legend": {
         "tracegroupgap": 0
        },
        "margin": {
         "t": 60
        },
        "template": {
         "data": {
          "bar": [
           {
            "error_x": {
             "color": "rgb(36,36,36)"
            },
            "error_y": {
             "color": "rgb(36,36,36)"
            },
            "marker": {
             "line": {
              "color": "rgb(234,234,242)",
              "width": 0.5
             }
            },
            "type": "bar"
           }
          ],
          "barpolar": [
           {
            "marker": {
             "line": {
              "color": "rgb(234,234,242)",
              "width": 0.5
             }
            },
            "type": "barpolar"
           }
          ],
          "carpet": [
           {
            "aaxis": {
             "endlinecolor": "rgb(36,36,36)",
             "gridcolor": "white",
             "linecolor": "white",
             "minorgridcolor": "white",
             "startlinecolor": "rgb(36,36,36)"
            },
            "baxis": {
             "endlinecolor": "rgb(36,36,36)",
             "gridcolor": "white",
             "linecolor": "white",
             "minorgridcolor": "white",
             "startlinecolor": "rgb(36,36,36)"
            },
            "type": "carpet"
           }
          ],
          "choropleth": [
           {
            "colorbar": {
             "outlinewidth": 0,
             "tickcolor": "rgb(36,36,36)",
             "ticklen": 8,
             "ticks": "outside",
             "tickwidth": 2
            },
            "type": "choropleth"
           }
          ],
          "contour": [
           {
            "colorbar": {
             "outlinewidth": 0,
             "tickcolor": "rgb(36,36,36)",
             "ticklen": 8,
             "ticks": "outside",
             "tickwidth": 2
            },
            "colorscale": [
             [
              0,
              "rgb(2,4,25)"
             ],
             [
              0.06274509803921569,
              "rgb(24,15,41)"
             ],
             [
              0.12549019607843137,
              "rgb(47,23,57)"
             ],
             [
              0.18823529411764706,
              "rgb(71,28,72)"
             ],
             [
              0.25098039215686274,
              "rgb(97,30,82)"
             ],
             [
              0.3137254901960784,
              "rgb(123,30,89)"
             ],
             [
              0.3764705882352941,
              "rgb(150,27,91)"
             ],
             [
              0.4392156862745098,
              "rgb(177,22,88)"
             ],
             [
              0.5019607843137255,
              "rgb(203,26,79)"
             ],
             [
              0.5647058823529412,
              "rgb(223,47,67)"
             ],
             [
              0.6274509803921569,
              "rgb(236,76,61)"
             ],
             [
              0.6901960784313725,
              "rgb(242,107,73)"
             ],
             [
              0.7529411764705882,
              "rgb(244,135,95)"
             ],
             [
              0.8156862745098039,
              "rgb(245,162,122)"
             ],
             [
              0.8784313725490196,
              "rgb(246,188,153)"
             ],
             [
              0.9411764705882353,
              "rgb(247,212,187)"
             ],
             [
              1,
              "rgb(250,234,220)"
             ]
            ],
            "type": "contour"
           }
          ],
          "contourcarpet": [
           {
            "colorbar": {
             "outlinewidth": 0,
             "tickcolor": "rgb(36,36,36)",
             "ticklen": 8,
             "ticks": "outside",
             "tickwidth": 2
            },
            "type": "contourcarpet"
           }
          ],
          "heatmap": [
           {
            "colorbar": {
             "outlinewidth": 0,
             "tickcolor": "rgb(36,36,36)",
             "ticklen": 8,
             "ticks": "outside",
             "tickwidth": 2
            },
            "colorscale": [
             [
              0,
              "rgb(2,4,25)"
             ],
             [
              0.06274509803921569,
              "rgb(24,15,41)"
             ],
             [
              0.12549019607843137,
              "rgb(47,23,57)"
             ],
             [
              0.18823529411764706,
              "rgb(71,28,72)"
             ],
             [
              0.25098039215686274,
              "rgb(97,30,82)"
             ],
             [
              0.3137254901960784,
              "rgb(123,30,89)"
             ],
             [
              0.3764705882352941,
              "rgb(150,27,91)"
             ],
             [
              0.4392156862745098,
              "rgb(177,22,88)"
             ],
             [
              0.5019607843137255,
              "rgb(203,26,79)"
             ],
             [
              0.5647058823529412,
              "rgb(223,47,67)"
             ],
             [
              0.6274509803921569,
              "rgb(236,76,61)"
             ],
             [
              0.6901960784313725,
              "rgb(242,107,73)"
             ],
             [
              0.7529411764705882,
              "rgb(244,135,95)"
             ],
             [
              0.8156862745098039,
              "rgb(245,162,122)"
             ],
             [
              0.8784313725490196,
              "rgb(246,188,153)"
             ],
             [
              0.9411764705882353,
              "rgb(247,212,187)"
             ],
             [
              1,
              "rgb(250,234,220)"
             ]
            ],
            "type": "heatmap"
           }
          ],
          "heatmapgl": [
           {
            "colorbar": {
             "outlinewidth": 0,
             "tickcolor": "rgb(36,36,36)",
             "ticklen": 8,
             "ticks": "outside",
             "tickwidth": 2
            },
            "colorscale": [
             [
              0,
              "rgb(2,4,25)"
             ],
             [
              0.06274509803921569,
              "rgb(24,15,41)"
             ],
             [
              0.12549019607843137,
              "rgb(47,23,57)"
             ],
             [
              0.18823529411764706,
              "rgb(71,28,72)"
             ],
             [
              0.25098039215686274,
              "rgb(97,30,82)"
             ],
             [
              0.3137254901960784,
              "rgb(123,30,89)"
             ],
             [
              0.3764705882352941,
              "rgb(150,27,91)"
             ],
             [
              0.4392156862745098,
              "rgb(177,22,88)"
             ],
             [
              0.5019607843137255,
              "rgb(203,26,79)"
             ],
             [
              0.5647058823529412,
              "rgb(223,47,67)"
             ],
             [
              0.6274509803921569,
              "rgb(236,76,61)"
             ],
             [
              0.6901960784313725,
              "rgb(242,107,73)"
             ],
             [
              0.7529411764705882,
              "rgb(244,135,95)"
             ],
             [
              0.8156862745098039,
              "rgb(245,162,122)"
             ],
             [
              0.8784313725490196,
              "rgb(246,188,153)"
             ],
             [
              0.9411764705882353,
              "rgb(247,212,187)"
             ],
             [
              1,
              "rgb(250,234,220)"
             ]
            ],
            "type": "heatmapgl"
           }
          ],
          "histogram": [
           {
            "marker": {
             "colorbar": {
              "outlinewidth": 0,
              "tickcolor": "rgb(36,36,36)",
              "ticklen": 8,
              "ticks": "outside",
              "tickwidth": 2
             }
            },
            "type": "histogram"
           }
          ],
          "histogram2d": [
           {
            "colorbar": {
             "outlinewidth": 0,
             "tickcolor": "rgb(36,36,36)",
             "ticklen": 8,
             "ticks": "outside",
             "tickwidth": 2
            },
            "colorscale": [
             [
              0,
              "rgb(2,4,25)"
             ],
             [
              0.06274509803921569,
              "rgb(24,15,41)"
             ],
             [
              0.12549019607843137,
              "rgb(47,23,57)"
             ],
             [
              0.18823529411764706,
              "rgb(71,28,72)"
             ],
             [
              0.25098039215686274,
              "rgb(97,30,82)"
             ],
             [
              0.3137254901960784,
              "rgb(123,30,89)"
             ],
             [
              0.3764705882352941,
              "rgb(150,27,91)"
             ],
             [
              0.4392156862745098,
              "rgb(177,22,88)"
             ],
             [
              0.5019607843137255,
              "rgb(203,26,79)"
             ],
             [
              0.5647058823529412,
              "rgb(223,47,67)"
             ],
             [
              0.6274509803921569,
              "rgb(236,76,61)"
             ],
             [
              0.6901960784313725,
              "rgb(242,107,73)"
             ],
             [
              0.7529411764705882,
              "rgb(244,135,95)"
             ],
             [
              0.8156862745098039,
              "rgb(245,162,122)"
             ],
             [
              0.8784313725490196,
              "rgb(246,188,153)"
             ],
             [
              0.9411764705882353,
              "rgb(247,212,187)"
             ],
             [
              1,
              "rgb(250,234,220)"
             ]
            ],
            "type": "histogram2d"
           }
          ],
          "histogram2dcontour": [
           {
            "colorbar": {
             "outlinewidth": 0,
             "tickcolor": "rgb(36,36,36)",
             "ticklen": 8,
             "ticks": "outside",
             "tickwidth": 2
            },
            "colorscale": [
             [
              0,
              "rgb(2,4,25)"
             ],
             [
              0.06274509803921569,
              "rgb(24,15,41)"
             ],
             [
              0.12549019607843137,
              "rgb(47,23,57)"
             ],
             [
              0.18823529411764706,
              "rgb(71,28,72)"
             ],
             [
              0.25098039215686274,
              "rgb(97,30,82)"
             ],
             [
              0.3137254901960784,
              "rgb(123,30,89)"
             ],
             [
              0.3764705882352941,
              "rgb(150,27,91)"
             ],
             [
              0.4392156862745098,
              "rgb(177,22,88)"
             ],
             [
              0.5019607843137255,
              "rgb(203,26,79)"
             ],
             [
              0.5647058823529412,
              "rgb(223,47,67)"
             ],
             [
              0.6274509803921569,
              "rgb(236,76,61)"
             ],
             [
              0.6901960784313725,
              "rgb(242,107,73)"
             ],
             [
              0.7529411764705882,
              "rgb(244,135,95)"
             ],
             [
              0.8156862745098039,
              "rgb(245,162,122)"
             ],
             [
              0.8784313725490196,
              "rgb(246,188,153)"
             ],
             [
              0.9411764705882353,
              "rgb(247,212,187)"
             ],
             [
              1,
              "rgb(250,234,220)"
             ]
            ],
            "type": "histogram2dcontour"
           }
          ],
          "mesh3d": [
           {
            "colorbar": {
             "outlinewidth": 0,
             "tickcolor": "rgb(36,36,36)",
             "ticklen": 8,
             "ticks": "outside",
             "tickwidth": 2
            },
            "type": "mesh3d"
           }
          ],
          "parcoords": [
           {
            "line": {
             "colorbar": {
              "outlinewidth": 0,
              "tickcolor": "rgb(36,36,36)",
              "ticklen": 8,
              "ticks": "outside",
              "tickwidth": 2
             }
            },
            "type": "parcoords"
           }
          ],
          "pie": [
           {
            "automargin": true,
            "type": "pie"
           }
          ],
          "scatter": [
           {
            "marker": {
             "colorbar": {
              "outlinewidth": 0,
              "tickcolor": "rgb(36,36,36)",
              "ticklen": 8,
              "ticks": "outside",
              "tickwidth": 2
             }
            },
            "type": "scatter"
           }
          ],
          "scatter3d": [
           {
            "line": {
             "colorbar": {
              "outlinewidth": 0,
              "tickcolor": "rgb(36,36,36)",
              "ticklen": 8,
              "ticks": "outside",
              "tickwidth": 2
             }
            },
            "marker": {
             "colorbar": {
              "outlinewidth": 0,
              "tickcolor": "rgb(36,36,36)",
              "ticklen": 8,
              "ticks": "outside",
              "tickwidth": 2
             }
            },
            "type": "scatter3d"
           }
          ],
          "scattercarpet": [
           {
            "marker": {
             "colorbar": {
              "outlinewidth": 0,
              "tickcolor": "rgb(36,36,36)",
              "ticklen": 8,
              "ticks": "outside",
              "tickwidth": 2
             }
            },
            "type": "scattercarpet"
           }
          ],
          "scattergeo": [
           {
            "marker": {
             "colorbar": {
              "outlinewidth": 0,
              "tickcolor": "rgb(36,36,36)",
              "ticklen": 8,
              "ticks": "outside",
              "tickwidth": 2
             }
            },
            "type": "scattergeo"
           }
          ],
          "scattergl": [
           {
            "marker": {
             "colorbar": {
              "outlinewidth": 0,
              "tickcolor": "rgb(36,36,36)",
              "ticklen": 8,
              "ticks": "outside",
              "tickwidth": 2
             }
            },
            "type": "scattergl"
           }
          ],
          "scattermapbox": [
           {
            "marker": {
             "colorbar": {
              "outlinewidth": 0,
              "tickcolor": "rgb(36,36,36)",
              "ticklen": 8,
              "ticks": "outside",
              "tickwidth": 2
             }
            },
            "type": "scattermapbox"
           }
          ],
          "scatterpolar": [
           {
            "marker": {
             "colorbar": {
              "outlinewidth": 0,
              "tickcolor": "rgb(36,36,36)",
              "ticklen": 8,
              "ticks": "outside",
              "tickwidth": 2
             }
            },
            "type": "scatterpolar"
           }
          ],
          "scatterpolargl": [
           {
            "marker": {
             "colorbar": {
              "outlinewidth": 0,
              "tickcolor": "rgb(36,36,36)",
              "ticklen": 8,
              "ticks": "outside",
              "tickwidth": 2
             }
            },
            "type": "scatterpolargl"
           }
          ],
          "scatterternary": [
           {
            "marker": {
             "colorbar": {
              "outlinewidth": 0,
              "tickcolor": "rgb(36,36,36)",
              "ticklen": 8,
              "ticks": "outside",
              "tickwidth": 2
             }
            },
            "type": "scatterternary"
           }
          ],
          "surface": [
           {
            "colorbar": {
             "outlinewidth": 0,
             "tickcolor": "rgb(36,36,36)",
             "ticklen": 8,
             "ticks": "outside",
             "tickwidth": 2
            },
            "colorscale": [
             [
              0,
              "rgb(2,4,25)"
             ],
             [
              0.06274509803921569,
              "rgb(24,15,41)"
             ],
             [
              0.12549019607843137,
              "rgb(47,23,57)"
             ],
             [
              0.18823529411764706,
              "rgb(71,28,72)"
             ],
             [
              0.25098039215686274,
              "rgb(97,30,82)"
             ],
             [
              0.3137254901960784,
              "rgb(123,30,89)"
             ],
             [
              0.3764705882352941,
              "rgb(150,27,91)"
             ],
             [
              0.4392156862745098,
              "rgb(177,22,88)"
             ],
             [
              0.5019607843137255,
              "rgb(203,26,79)"
             ],
             [
              0.5647058823529412,
              "rgb(223,47,67)"
             ],
             [
              0.6274509803921569,
              "rgb(236,76,61)"
             ],
             [
              0.6901960784313725,
              "rgb(242,107,73)"
             ],
             [
              0.7529411764705882,
              "rgb(244,135,95)"
             ],
             [
              0.8156862745098039,
              "rgb(245,162,122)"
             ],
             [
              0.8784313725490196,
              "rgb(246,188,153)"
             ],
             [
              0.9411764705882353,
              "rgb(247,212,187)"
             ],
             [
              1,
              "rgb(250,234,220)"
             ]
            ],
            "type": "surface"
           }
          ],
          "table": [
           {
            "cells": {
             "fill": {
              "color": "rgb(231,231,240)"
             },
             "line": {
              "color": "white"
             }
            },
            "header": {
             "fill": {
              "color": "rgb(183,183,191)"
             },
             "line": {
              "color": "white"
             }
            },
            "type": "table"
           }
          ]
         },
         "layout": {
          "annotationdefaults": {
           "arrowcolor": "rgb(67,103,167)"
          },
          "coloraxis": {
           "colorbar": {
            "outlinewidth": 0,
            "tickcolor": "rgb(36,36,36)",
            "ticklen": 8,
            "ticks": "outside",
            "tickwidth": 2
           }
          },
          "colorscale": {
           "sequential": [
            [
             0,
             "rgb(2,4,25)"
            ],
            [
             0.06274509803921569,
             "rgb(24,15,41)"
            ],
            [
             0.12549019607843137,
             "rgb(47,23,57)"
            ],
            [
             0.18823529411764706,
             "rgb(71,28,72)"
            ],
            [
             0.25098039215686274,
             "rgb(97,30,82)"
            ],
            [
             0.3137254901960784,
             "rgb(123,30,89)"
            ],
            [
             0.3764705882352941,
             "rgb(150,27,91)"
            ],
            [
             0.4392156862745098,
             "rgb(177,22,88)"
            ],
            [
             0.5019607843137255,
             "rgb(203,26,79)"
            ],
            [
             0.5647058823529412,
             "rgb(223,47,67)"
            ],
            [
             0.6274509803921569,
             "rgb(236,76,61)"
            ],
            [
             0.6901960784313725,
             "rgb(242,107,73)"
            ],
            [
             0.7529411764705882,
             "rgb(244,135,95)"
            ],
            [
             0.8156862745098039,
             "rgb(245,162,122)"
            ],
            [
             0.8784313725490196,
             "rgb(246,188,153)"
            ],
            [
             0.9411764705882353,
             "rgb(247,212,187)"
            ],
            [
             1,
             "rgb(250,234,220)"
            ]
           ],
           "sequentialminus": [
            [
             0,
             "rgb(2,4,25)"
            ],
            [
             0.06274509803921569,
             "rgb(24,15,41)"
            ],
            [
             0.12549019607843137,
             "rgb(47,23,57)"
            ],
            [
             0.18823529411764706,
             "rgb(71,28,72)"
            ],
            [
             0.25098039215686274,
             "rgb(97,30,82)"
            ],
            [
             0.3137254901960784,
             "rgb(123,30,89)"
            ],
            [
             0.3764705882352941,
             "rgb(150,27,91)"
            ],
            [
             0.4392156862745098,
             "rgb(177,22,88)"
            ],
            [
             0.5019607843137255,
             "rgb(203,26,79)"
            ],
            [
             0.5647058823529412,
             "rgb(223,47,67)"
            ],
            [
             0.6274509803921569,
             "rgb(236,76,61)"
            ],
            [
             0.6901960784313725,
             "rgb(242,107,73)"
            ],
            [
             0.7529411764705882,
             "rgb(244,135,95)"
            ],
            [
             0.8156862745098039,
             "rgb(245,162,122)"
            ],
            [
             0.8784313725490196,
             "rgb(246,188,153)"
            ],
            [
             0.9411764705882353,
             "rgb(247,212,187)"
            ],
            [
             1,
             "rgb(250,234,220)"
            ]
           ]
          },
          "colorway": [
           "rgb(76,114,176)",
           "rgb(221,132,82)",
           "rgb(85,168,104)",
           "rgb(196,78,82)",
           "rgb(129,114,179)",
           "rgb(147,120,96)",
           "rgb(218,139,195)",
           "rgb(140,140,140)",
           "rgb(204,185,116)",
           "rgb(100,181,205)"
          ],
          "font": {
           "color": "rgb(36,36,36)"
          },
          "geo": {
           "bgcolor": "white",
           "lakecolor": "white",
           "landcolor": "rgb(234,234,242)",
           "showlakes": true,
           "showland": true,
           "subunitcolor": "white"
          },
          "hoverlabel": {
           "align": "left"
          },
          "hovermode": "closest",
          "paper_bgcolor": "white",
          "plot_bgcolor": "rgb(234,234,242)",
          "polar": {
           "angularaxis": {
            "gridcolor": "white",
            "linecolor": "white",
            "showgrid": true,
            "ticks": ""
           },
           "bgcolor": "rgb(234,234,242)",
           "radialaxis": {
            "gridcolor": "white",
            "linecolor": "white",
            "showgrid": true,
            "ticks": ""
           }
          },
          "scene": {
           "xaxis": {
            "backgroundcolor": "rgb(234,234,242)",
            "gridcolor": "white",
            "gridwidth": 2,
            "linecolor": "white",
            "showbackground": true,
            "showgrid": true,
            "ticks": "",
            "zerolinecolor": "white"
           },
           "yaxis": {
            "backgroundcolor": "rgb(234,234,242)",
            "gridcolor": "white",
            "gridwidth": 2,
            "linecolor": "white",
            "showbackground": true,
            "showgrid": true,
            "ticks": "",
            "zerolinecolor": "white"
           },
           "zaxis": {
            "backgroundcolor": "rgb(234,234,242)",
            "gridcolor": "white",
            "gridwidth": 2,
            "linecolor": "white",
            "showbackground": true,
            "showgrid": true,
            "ticks": "",
            "zerolinecolor": "white"
           }
          },
          "shapedefaults": {
           "fillcolor": "rgb(67,103,167)",
           "line": {
            "width": 0
           },
           "opacity": 0.5
          },
          "ternary": {
           "aaxis": {
            "gridcolor": "white",
            "linecolor": "white",
            "showgrid": true,
            "ticks": ""
           },
           "baxis": {
            "gridcolor": "white",
            "linecolor": "white",
            "showgrid": true,
            "ticks": ""
           },
           "bgcolor": "rgb(234,234,242)",
           "caxis": {
            "gridcolor": "white",
            "linecolor": "white",
            "showgrid": true,
            "ticks": ""
           }
          },
          "xaxis": {
           "automargin": true,
           "gridcolor": "white",
           "linecolor": "white",
           "showgrid": true,
           "ticks": "",
           "title": {
            "standoff": 15
           },
           "zerolinecolor": "white"
          },
          "yaxis": {
           "automargin": true,
           "gridcolor": "white",
           "linecolor": "white",
           "showgrid": true,
           "ticks": "",
           "title": {
            "standoff": 15
           },
           "zerolinecolor": "white"
          }
         }
        }
       }
      },
      "text/html": [
       "<div>\n",
       "        \n",
       "        \n",
       "            <div id=\"3c9e5c0d-014a-423f-b46f-4fad99be3959\" class=\"plotly-graph-div\" style=\"height:525px; width:100%;\"></div>\n",
       "            <script type=\"text/javascript\">\n",
       "                require([\"plotly\"], function(Plotly) {\n",
       "                    window.PLOTLYENV=window.PLOTLYENV || {};\n",
       "                    \n",
       "                if (document.getElementById(\"3c9e5c0d-014a-423f-b46f-4fad99be3959\")) {\n",
       "                    Plotly.newPlot(\n",
       "                        '3c9e5c0d-014a-423f-b46f-4fad99be3959',\n",
       "                        [{\"domain\": {\"x\": [0.0, 1.0], \"y\": [0.0, 1.0]}, \"hovertemplate\": \"Name=%{label}<br>NA_Sales=%{value}<extra></extra>\", \"labels\": [\"Super Mario Bros.\", \"Duck Hunt\", \"Tetris\", \"Mario Kart Wii\", \"Wii Sports Resort\"], \"legendgroup\": \"\", \"name\": \"\", \"pull\": 0.05, \"rotation\": 50, \"showlegend\": true, \"textinfo\": \"percent+label\", \"type\": \"pie\", \"values\": [29.08, 26.93, 23.2, 15.85, 15.75]}],\n",
       "                        {\"legend\": {\"tracegroupgap\": 0}, \"margin\": {\"t\": 60}, \"template\": {\"data\": {\"bar\": [{\"error_x\": {\"color\": \"rgb(36,36,36)\"}, \"error_y\": {\"color\": \"rgb(36,36,36)\"}, \"marker\": {\"line\": {\"color\": \"rgb(234,234,242)\", \"width\": 0.5}}, \"type\": \"bar\"}], \"barpolar\": [{\"marker\": {\"line\": {\"color\": \"rgb(234,234,242)\", \"width\": 0.5}}, \"type\": \"barpolar\"}], \"carpet\": [{\"aaxis\": {\"endlinecolor\": \"rgb(36,36,36)\", \"gridcolor\": \"white\", \"linecolor\": \"white\", \"minorgridcolor\": \"white\", \"startlinecolor\": \"rgb(36,36,36)\"}, \"baxis\": {\"endlinecolor\": \"rgb(36,36,36)\", \"gridcolor\": \"white\", \"linecolor\": \"white\", \"minorgridcolor\": \"white\", \"startlinecolor\": \"rgb(36,36,36)\"}, \"type\": \"carpet\"}], \"choropleth\": [{\"colorbar\": {\"outlinewidth\": 0, \"tickcolor\": \"rgb(36,36,36)\", \"ticklen\": 8, \"ticks\": \"outside\", \"tickwidth\": 2}, \"type\": \"choropleth\"}], \"contour\": [{\"colorbar\": {\"outlinewidth\": 0, \"tickcolor\": \"rgb(36,36,36)\", \"ticklen\": 8, \"ticks\": \"outside\", \"tickwidth\": 2}, \"colorscale\": [[0.0, \"rgb(2,4,25)\"], [0.06274509803921569, \"rgb(24,15,41)\"], [0.12549019607843137, \"rgb(47,23,57)\"], [0.18823529411764706, \"rgb(71,28,72)\"], [0.25098039215686274, \"rgb(97,30,82)\"], [0.3137254901960784, \"rgb(123,30,89)\"], [0.3764705882352941, \"rgb(150,27,91)\"], [0.4392156862745098, \"rgb(177,22,88)\"], [0.5019607843137255, \"rgb(203,26,79)\"], [0.5647058823529412, \"rgb(223,47,67)\"], [0.6274509803921569, \"rgb(236,76,61)\"], [0.6901960784313725, \"rgb(242,107,73)\"], [0.7529411764705882, \"rgb(244,135,95)\"], [0.8156862745098039, \"rgb(245,162,122)\"], [0.8784313725490196, \"rgb(246,188,153)\"], [0.9411764705882353, \"rgb(247,212,187)\"], [1.0, \"rgb(250,234,220)\"]], \"type\": \"contour\"}], \"contourcarpet\": [{\"colorbar\": {\"outlinewidth\": 0, \"tickcolor\": \"rgb(36,36,36)\", \"ticklen\": 8, \"ticks\": \"outside\", \"tickwidth\": 2}, \"type\": \"contourcarpet\"}], \"heatmap\": [{\"colorbar\": {\"outlinewidth\": 0, \"tickcolor\": \"rgb(36,36,36)\", \"ticklen\": 8, \"ticks\": \"outside\", \"tickwidth\": 2}, \"colorscale\": [[0.0, \"rgb(2,4,25)\"], [0.06274509803921569, \"rgb(24,15,41)\"], [0.12549019607843137, \"rgb(47,23,57)\"], [0.18823529411764706, \"rgb(71,28,72)\"], [0.25098039215686274, \"rgb(97,30,82)\"], [0.3137254901960784, \"rgb(123,30,89)\"], [0.3764705882352941, \"rgb(150,27,91)\"], [0.4392156862745098, \"rgb(177,22,88)\"], [0.5019607843137255, \"rgb(203,26,79)\"], [0.5647058823529412, \"rgb(223,47,67)\"], [0.6274509803921569, \"rgb(236,76,61)\"], [0.6901960784313725, \"rgb(242,107,73)\"], [0.7529411764705882, \"rgb(244,135,95)\"], [0.8156862745098039, \"rgb(245,162,122)\"], [0.8784313725490196, \"rgb(246,188,153)\"], [0.9411764705882353, \"rgb(247,212,187)\"], [1.0, \"rgb(250,234,220)\"]], \"type\": \"heatmap\"}], \"heatmapgl\": [{\"colorbar\": {\"outlinewidth\": 0, \"tickcolor\": \"rgb(36,36,36)\", \"ticklen\": 8, \"ticks\": \"outside\", \"tickwidth\": 2}, \"colorscale\": [[0.0, \"rgb(2,4,25)\"], [0.06274509803921569, \"rgb(24,15,41)\"], [0.12549019607843137, \"rgb(47,23,57)\"], [0.18823529411764706, \"rgb(71,28,72)\"], [0.25098039215686274, \"rgb(97,30,82)\"], [0.3137254901960784, \"rgb(123,30,89)\"], [0.3764705882352941, \"rgb(150,27,91)\"], [0.4392156862745098, \"rgb(177,22,88)\"], [0.5019607843137255, \"rgb(203,26,79)\"], [0.5647058823529412, \"rgb(223,47,67)\"], [0.6274509803921569, \"rgb(236,76,61)\"], [0.6901960784313725, \"rgb(242,107,73)\"], [0.7529411764705882, \"rgb(244,135,95)\"], [0.8156862745098039, \"rgb(245,162,122)\"], [0.8784313725490196, \"rgb(246,188,153)\"], [0.9411764705882353, \"rgb(247,212,187)\"], [1.0, \"rgb(250,234,220)\"]], \"type\": \"heatmapgl\"}], \"histogram\": [{\"marker\": {\"colorbar\": {\"outlinewidth\": 0, \"tickcolor\": \"rgb(36,36,36)\", \"ticklen\": 8, \"ticks\": \"outside\", \"tickwidth\": 2}}, \"type\": \"histogram\"}], \"histogram2d\": [{\"colorbar\": {\"outlinewidth\": 0, \"tickcolor\": \"rgb(36,36,36)\", \"ticklen\": 8, \"ticks\": \"outside\", \"tickwidth\": 2}, \"colorscale\": [[0.0, \"rgb(2,4,25)\"], [0.06274509803921569, \"rgb(24,15,41)\"], [0.12549019607843137, \"rgb(47,23,57)\"], [0.18823529411764706, \"rgb(71,28,72)\"], [0.25098039215686274, \"rgb(97,30,82)\"], [0.3137254901960784, \"rgb(123,30,89)\"], [0.3764705882352941, \"rgb(150,27,91)\"], [0.4392156862745098, \"rgb(177,22,88)\"], [0.5019607843137255, \"rgb(203,26,79)\"], [0.5647058823529412, \"rgb(223,47,67)\"], [0.6274509803921569, \"rgb(236,76,61)\"], [0.6901960784313725, \"rgb(242,107,73)\"], [0.7529411764705882, \"rgb(244,135,95)\"], [0.8156862745098039, \"rgb(245,162,122)\"], [0.8784313725490196, \"rgb(246,188,153)\"], [0.9411764705882353, \"rgb(247,212,187)\"], [1.0, \"rgb(250,234,220)\"]], \"type\": \"histogram2d\"}], \"histogram2dcontour\": [{\"colorbar\": {\"outlinewidth\": 0, \"tickcolor\": \"rgb(36,36,36)\", \"ticklen\": 8, \"ticks\": \"outside\", \"tickwidth\": 2}, \"colorscale\": [[0.0, \"rgb(2,4,25)\"], [0.06274509803921569, \"rgb(24,15,41)\"], [0.12549019607843137, \"rgb(47,23,57)\"], [0.18823529411764706, \"rgb(71,28,72)\"], [0.25098039215686274, \"rgb(97,30,82)\"], [0.3137254901960784, \"rgb(123,30,89)\"], [0.3764705882352941, \"rgb(150,27,91)\"], [0.4392156862745098, \"rgb(177,22,88)\"], [0.5019607843137255, \"rgb(203,26,79)\"], [0.5647058823529412, \"rgb(223,47,67)\"], [0.6274509803921569, \"rgb(236,76,61)\"], [0.6901960784313725, \"rgb(242,107,73)\"], [0.7529411764705882, \"rgb(244,135,95)\"], [0.8156862745098039, \"rgb(245,162,122)\"], [0.8784313725490196, \"rgb(246,188,153)\"], [0.9411764705882353, \"rgb(247,212,187)\"], [1.0, \"rgb(250,234,220)\"]], \"type\": \"histogram2dcontour\"}], \"mesh3d\": [{\"colorbar\": {\"outlinewidth\": 0, \"tickcolor\": \"rgb(36,36,36)\", \"ticklen\": 8, \"ticks\": \"outside\", \"tickwidth\": 2}, \"type\": \"mesh3d\"}], \"parcoords\": [{\"line\": {\"colorbar\": {\"outlinewidth\": 0, \"tickcolor\": \"rgb(36,36,36)\", \"ticklen\": 8, \"ticks\": \"outside\", \"tickwidth\": 2}}, \"type\": \"parcoords\"}], \"pie\": [{\"automargin\": true, \"type\": \"pie\"}], \"scatter\": [{\"marker\": {\"colorbar\": {\"outlinewidth\": 0, \"tickcolor\": \"rgb(36,36,36)\", \"ticklen\": 8, \"ticks\": \"outside\", \"tickwidth\": 2}}, \"type\": \"scatter\"}], \"scatter3d\": [{\"line\": {\"colorbar\": {\"outlinewidth\": 0, \"tickcolor\": \"rgb(36,36,36)\", \"ticklen\": 8, \"ticks\": \"outside\", \"tickwidth\": 2}}, \"marker\": {\"colorbar\": {\"outlinewidth\": 0, \"tickcolor\": \"rgb(36,36,36)\", \"ticklen\": 8, \"ticks\": \"outside\", \"tickwidth\": 2}}, \"type\": \"scatter3d\"}], \"scattercarpet\": [{\"marker\": {\"colorbar\": {\"outlinewidth\": 0, \"tickcolor\": \"rgb(36,36,36)\", \"ticklen\": 8, \"ticks\": \"outside\", \"tickwidth\": 2}}, \"type\": \"scattercarpet\"}], \"scattergeo\": [{\"marker\": {\"colorbar\": {\"outlinewidth\": 0, \"tickcolor\": \"rgb(36,36,36)\", \"ticklen\": 8, \"ticks\": \"outside\", \"tickwidth\": 2}}, \"type\": \"scattergeo\"}], \"scattergl\": [{\"marker\": {\"colorbar\": {\"outlinewidth\": 0, \"tickcolor\": \"rgb(36,36,36)\", \"ticklen\": 8, \"ticks\": \"outside\", \"tickwidth\": 2}}, \"type\": \"scattergl\"}], \"scattermapbox\": [{\"marker\": {\"colorbar\": {\"outlinewidth\": 0, \"tickcolor\": \"rgb(36,36,36)\", \"ticklen\": 8, \"ticks\": \"outside\", \"tickwidth\": 2}}, \"type\": \"scattermapbox\"}], \"scatterpolar\": [{\"marker\": {\"colorbar\": {\"outlinewidth\": 0, \"tickcolor\": \"rgb(36,36,36)\", \"ticklen\": 8, \"ticks\": \"outside\", \"tickwidth\": 2}}, \"type\": \"scatterpolar\"}], \"scatterpolargl\": [{\"marker\": {\"colorbar\": {\"outlinewidth\": 0, \"tickcolor\": \"rgb(36,36,36)\", \"ticklen\": 8, \"ticks\": \"outside\", \"tickwidth\": 2}}, \"type\": \"scatterpolargl\"}], \"scatterternary\": [{\"marker\": {\"colorbar\": {\"outlinewidth\": 0, \"tickcolor\": \"rgb(36,36,36)\", \"ticklen\": 8, \"ticks\": \"outside\", \"tickwidth\": 2}}, \"type\": \"scatterternary\"}], \"surface\": [{\"colorbar\": {\"outlinewidth\": 0, \"tickcolor\": \"rgb(36,36,36)\", \"ticklen\": 8, \"ticks\": \"outside\", \"tickwidth\": 2}, \"colorscale\": [[0.0, \"rgb(2,4,25)\"], [0.06274509803921569, \"rgb(24,15,41)\"], [0.12549019607843137, \"rgb(47,23,57)\"], [0.18823529411764706, \"rgb(71,28,72)\"], [0.25098039215686274, \"rgb(97,30,82)\"], [0.3137254901960784, \"rgb(123,30,89)\"], [0.3764705882352941, \"rgb(150,27,91)\"], [0.4392156862745098, \"rgb(177,22,88)\"], [0.5019607843137255, \"rgb(203,26,79)\"], [0.5647058823529412, \"rgb(223,47,67)\"], [0.6274509803921569, \"rgb(236,76,61)\"], [0.6901960784313725, \"rgb(242,107,73)\"], [0.7529411764705882, \"rgb(244,135,95)\"], [0.8156862745098039, \"rgb(245,162,122)\"], [0.8784313725490196, \"rgb(246,188,153)\"], [0.9411764705882353, \"rgb(247,212,187)\"], [1.0, \"rgb(250,234,220)\"]], \"type\": \"surface\"}], \"table\": [{\"cells\": {\"fill\": {\"color\": \"rgb(231,231,240)\"}, \"line\": {\"color\": \"white\"}}, \"header\": {\"fill\": {\"color\": \"rgb(183,183,191)\"}, \"line\": {\"color\": \"white\"}}, \"type\": \"table\"}]}, \"layout\": {\"annotationdefaults\": {\"arrowcolor\": \"rgb(67,103,167)\"}, \"coloraxis\": {\"colorbar\": {\"outlinewidth\": 0, \"tickcolor\": \"rgb(36,36,36)\", \"ticklen\": 8, \"ticks\": \"outside\", \"tickwidth\": 2}}, \"colorscale\": {\"sequential\": [[0.0, \"rgb(2,4,25)\"], [0.06274509803921569, \"rgb(24,15,41)\"], [0.12549019607843137, \"rgb(47,23,57)\"], [0.18823529411764706, \"rgb(71,28,72)\"], [0.25098039215686274, \"rgb(97,30,82)\"], [0.3137254901960784, \"rgb(123,30,89)\"], [0.3764705882352941, \"rgb(150,27,91)\"], [0.4392156862745098, \"rgb(177,22,88)\"], [0.5019607843137255, \"rgb(203,26,79)\"], [0.5647058823529412, \"rgb(223,47,67)\"], [0.6274509803921569, \"rgb(236,76,61)\"], [0.6901960784313725, \"rgb(242,107,73)\"], [0.7529411764705882, \"rgb(244,135,95)\"], [0.8156862745098039, \"rgb(245,162,122)\"], [0.8784313725490196, \"rgb(246,188,153)\"], [0.9411764705882353, \"rgb(247,212,187)\"], [1.0, \"rgb(250,234,220)\"]], \"sequentialminus\": [[0.0, \"rgb(2,4,25)\"], [0.06274509803921569, \"rgb(24,15,41)\"], [0.12549019607843137, \"rgb(47,23,57)\"], [0.18823529411764706, \"rgb(71,28,72)\"], [0.25098039215686274, \"rgb(97,30,82)\"], [0.3137254901960784, \"rgb(123,30,89)\"], [0.3764705882352941, \"rgb(150,27,91)\"], [0.4392156862745098, \"rgb(177,22,88)\"], [0.5019607843137255, \"rgb(203,26,79)\"], [0.5647058823529412, \"rgb(223,47,67)\"], [0.6274509803921569, \"rgb(236,76,61)\"], [0.6901960784313725, \"rgb(242,107,73)\"], [0.7529411764705882, \"rgb(244,135,95)\"], [0.8156862745098039, \"rgb(245,162,122)\"], [0.8784313725490196, \"rgb(246,188,153)\"], [0.9411764705882353, \"rgb(247,212,187)\"], [1.0, \"rgb(250,234,220)\"]]}, \"colorway\": [\"rgb(76,114,176)\", \"rgb(221,132,82)\", \"rgb(85,168,104)\", \"rgb(196,78,82)\", \"rgb(129,114,179)\", \"rgb(147,120,96)\", \"rgb(218,139,195)\", \"rgb(140,140,140)\", \"rgb(204,185,116)\", \"rgb(100,181,205)\"], \"font\": {\"color\": \"rgb(36,36,36)\"}, \"geo\": {\"bgcolor\": \"white\", \"lakecolor\": \"white\", \"landcolor\": \"rgb(234,234,242)\", \"showlakes\": true, \"showland\": true, \"subunitcolor\": \"white\"}, \"hoverlabel\": {\"align\": \"left\"}, \"hovermode\": \"closest\", \"paper_bgcolor\": \"white\", \"plot_bgcolor\": \"rgb(234,234,242)\", \"polar\": {\"angularaxis\": {\"gridcolor\": \"white\", \"linecolor\": \"white\", \"showgrid\": true, \"ticks\": \"\"}, \"bgcolor\": \"rgb(234,234,242)\", \"radialaxis\": {\"gridcolor\": \"white\", \"linecolor\": \"white\", \"showgrid\": true, \"ticks\": \"\"}}, \"scene\": {\"xaxis\": {\"backgroundcolor\": \"rgb(234,234,242)\", \"gridcolor\": \"white\", \"gridwidth\": 2, \"linecolor\": \"white\", \"showbackground\": true, \"showgrid\": true, \"ticks\": \"\", \"zerolinecolor\": \"white\"}, \"yaxis\": {\"backgroundcolor\": \"rgb(234,234,242)\", \"gridcolor\": \"white\", \"gridwidth\": 2, \"linecolor\": \"white\", \"showbackground\": true, \"showgrid\": true, \"ticks\": \"\", \"zerolinecolor\": \"white\"}, \"zaxis\": {\"backgroundcolor\": \"rgb(234,234,242)\", \"gridcolor\": \"white\", \"gridwidth\": 2, \"linecolor\": \"white\", \"showbackground\": true, \"showgrid\": true, \"ticks\": \"\", \"zerolinecolor\": \"white\"}}, \"shapedefaults\": {\"fillcolor\": \"rgb(67,103,167)\", \"line\": {\"width\": 0}, \"opacity\": 0.5}, \"ternary\": {\"aaxis\": {\"gridcolor\": \"white\", \"linecolor\": \"white\", \"showgrid\": true, \"ticks\": \"\"}, \"baxis\": {\"gridcolor\": \"white\", \"linecolor\": \"white\", \"showgrid\": true, \"ticks\": \"\"}, \"bgcolor\": \"rgb(234,234,242)\", \"caxis\": {\"gridcolor\": \"white\", \"linecolor\": \"white\", \"showgrid\": true, \"ticks\": \"\"}}, \"xaxis\": {\"automargin\": true, \"gridcolor\": \"white\", \"linecolor\": \"white\", \"showgrid\": true, \"ticks\": \"\", \"title\": {\"standoff\": 15}, \"zerolinecolor\": \"white\"}, \"yaxis\": {\"automargin\": true, \"gridcolor\": \"white\", \"linecolor\": \"white\", \"showgrid\": true, \"ticks\": \"\", \"title\": {\"standoff\": 15}, \"zerolinecolor\": \"white\"}}}},\n",
       "                        {\"responsive\": true}\n",
       "                    ).then(function(){\n",
       "                            \n",
       "var gd = document.getElementById('3c9e5c0d-014a-423f-b46f-4fad99be3959');\n",
       "var x = new MutationObserver(function (mutations, observer) {{\n",
       "        var display = window.getComputedStyle(gd).display;\n",
       "        if (!display || display === 'none') {{\n",
       "            console.log([gd, 'removed!']);\n",
       "            Plotly.purge(gd);\n",
       "            observer.disconnect();\n",
       "        }}\n",
       "}});\n",
       "\n",
       "// Listen for the removal of the full notebook cells\n",
       "var notebookContainer = gd.closest('#notebook-container');\n",
       "if (notebookContainer) {{\n",
       "    x.observe(notebookContainer, {childList: true});\n",
       "}}\n",
       "\n",
       "// Listen for the clearing of the current output cell\n",
       "var outputEl = gd.closest('.output');\n",
       "if (outputEl) {{\n",
       "    x.observe(outputEl, {childList: true});\n",
       "}}\n",
       "\n",
       "                        })\n",
       "                };\n",
       "                });\n",
       "            </script>\n",
       "        </div>"
      ]
     },
     "metadata": {},
     "output_type": "display_data"
    }
   ],
   "source": [
    "jogo = vg_df.loc[vg_df['Name']!='Wii Sports',['Name','NA_Sales']]\n",
    "jogo = jogo.sort_values('NA_Sales', ascending=False)\n",
    "jogo = jogo.head()\n",
    "\n",
    "fig = px.pie(jogo, names='Name', values='NA_Sales', template='seaborn')\n",
    "fig.update_traces(rotation=50, pull=0.05, textinfo=\"percent+label\")\n",
    "fig.show()"
   ]
  },
  {
   "cell_type": "markdown",
   "metadata": {},
   "source": [
    "### Mapa de calor para melhor visualização"
   ]
  },
  {
   "cell_type": "code",
   "execution_count": 24,
   "metadata": {},
   "outputs": [
    {
     "data": {
      "text/html": [
       "<div>\n",
       "<style scoped>\n",
       "    .dataframe tbody tr th:only-of-type {\n",
       "        vertical-align: middle;\n",
       "    }\n",
       "\n",
       "    .dataframe tbody tr th {\n",
       "        vertical-align: top;\n",
       "    }\n",
       "\n",
       "    .dataframe thead th {\n",
       "        text-align: right;\n",
       "    }\n",
       "</style>\n",
       "<table border=\"1\" class=\"dataframe\">\n",
       "  <thead>\n",
       "    <tr style=\"text-align: right;\">\n",
       "      <th>Genre</th>\n",
       "      <th>Action</th>\n",
       "      <th>Adventure</th>\n",
       "      <th>Fighting</th>\n",
       "      <th>Misc</th>\n",
       "      <th>Platform</th>\n",
       "      <th>Puzzle</th>\n",
       "      <th>Racing</th>\n",
       "      <th>Role-Playing</th>\n",
       "      <th>Shooter</th>\n",
       "      <th>Simulation</th>\n",
       "      <th>Sports</th>\n",
       "      <th>Strategy</th>\n",
       "    </tr>\n",
       "    <tr>\n",
       "      <th>Platform</th>\n",
       "      <th></th>\n",
       "      <th></th>\n",
       "      <th></th>\n",
       "      <th></th>\n",
       "      <th></th>\n",
       "      <th></th>\n",
       "      <th></th>\n",
       "      <th></th>\n",
       "      <th></th>\n",
       "      <th></th>\n",
       "      <th></th>\n",
       "      <th></th>\n",
       "    </tr>\n",
       "  </thead>\n",
       "  <tbody>\n",
       "    <tr>\n",
       "      <th>2600</th>\n",
       "      <td>61</td>\n",
       "      <td>2</td>\n",
       "      <td>2</td>\n",
       "      <td>5</td>\n",
       "      <td>9</td>\n",
       "      <td>11</td>\n",
       "      <td>6</td>\n",
       "      <td>0</td>\n",
       "      <td>24</td>\n",
       "      <td>1</td>\n",
       "      <td>12</td>\n",
       "      <td>0</td>\n",
       "    </tr>\n",
       "    <tr>\n",
       "      <th>3DO</th>\n",
       "      <td>0</td>\n",
       "      <td>1</td>\n",
       "      <td>0</td>\n",
       "      <td>0</td>\n",
       "      <td>0</td>\n",
       "      <td>1</td>\n",
       "      <td>0</td>\n",
       "      <td>0</td>\n",
       "      <td>0</td>\n",
       "      <td>1</td>\n",
       "      <td>0</td>\n",
       "      <td>0</td>\n",
       "    </tr>\n",
       "    <tr>\n",
       "      <th>3DS</th>\n",
       "      <td>182</td>\n",
       "      <td>37</td>\n",
       "      <td>14</td>\n",
       "      <td>53</td>\n",
       "      <td>28</td>\n",
       "      <td>20</td>\n",
       "      <td>11</td>\n",
       "      <td>86</td>\n",
       "      <td>7</td>\n",
       "      <td>30</td>\n",
       "      <td>26</td>\n",
       "      <td>15</td>\n",
       "    </tr>\n",
       "    <tr>\n",
       "      <th>DC</th>\n",
       "      <td>3</td>\n",
       "      <td>11</td>\n",
       "      <td>12</td>\n",
       "      <td>0</td>\n",
       "      <td>2</td>\n",
       "      <td>0</td>\n",
       "      <td>6</td>\n",
       "      <td>4</td>\n",
       "      <td>3</td>\n",
       "      <td>1</td>\n",
       "      <td>10</td>\n",
       "      <td>0</td>\n",
       "    </tr>\n",
       "    <tr>\n",
       "      <th>DS</th>\n",
       "      <td>343</td>\n",
       "      <td>240</td>\n",
       "      <td>36</td>\n",
       "      <td>393</td>\n",
       "      <td>92</td>\n",
       "      <td>238</td>\n",
       "      <td>67</td>\n",
       "      <td>200</td>\n",
       "      <td>42</td>\n",
       "      <td>285</td>\n",
       "      <td>148</td>\n",
       "      <td>79</td>\n",
       "    </tr>\n",
       "  </tbody>\n",
       "</table>\n",
       "</div>"
      ],
      "text/plain": [
       "Genre     Action  Adventure  Fighting  Misc  Platform  Puzzle  Racing  \\\n",
       "Platform                                                                \n",
       "2600          61          2         2     5         9      11       6   \n",
       "3DO            0          1         0     0         0       1       0   \n",
       "3DS          182         37        14    53        28      20      11   \n",
       "DC             3         11        12     0         2       0       6   \n",
       "DS           343        240        36   393        92     238      67   \n",
       "\n",
       "Genre     Role-Playing  Shooter  Simulation  Sports  Strategy  \n",
       "Platform                                                       \n",
       "2600                 0       24           1      12         0  \n",
       "3DO                  0        0           1       0         0  \n",
       "3DS                 86        7          30      26        15  \n",
       "DC                   4        3           1      10         0  \n",
       "DS                 200       42         285     148        79  "
      ]
     },
     "execution_count": 24,
     "metadata": {},
     "output_type": "execute_result"
    }
   ],
   "source": [
    "mapa = pd.crosstab(vg_df['Platform'], vg_df['Genre'])\n",
    "mapa.head()"
   ]
  },
  {
   "cell_type": "code",
   "execution_count": 25,
   "metadata": {},
   "outputs": [
    {
     "data": {
      "text/html": [
       "<div>\n",
       "<style scoped>\n",
       "    .dataframe tbody tr th:only-of-type {\n",
       "        vertical-align: middle;\n",
       "    }\n",
       "\n",
       "    .dataframe tbody tr th {\n",
       "        vertical-align: top;\n",
       "    }\n",
       "\n",
       "    .dataframe thead th {\n",
       "        text-align: right;\n",
       "    }\n",
       "</style>\n",
       "<table border=\"1\" class=\"dataframe\">\n",
       "  <thead>\n",
       "    <tr style=\"text-align: right;\">\n",
       "      <th>Genre</th>\n",
       "      <th>Action</th>\n",
       "      <th>Adventure</th>\n",
       "      <th>Fighting</th>\n",
       "      <th>Misc</th>\n",
       "      <th>Platform</th>\n",
       "      <th>Puzzle</th>\n",
       "      <th>Racing</th>\n",
       "      <th>Role-Playing</th>\n",
       "      <th>Shooter</th>\n",
       "      <th>Simulation</th>\n",
       "      <th>Sports</th>\n",
       "      <th>Strategy</th>\n",
       "      <th>Total</th>\n",
       "    </tr>\n",
       "    <tr>\n",
       "      <th>Platform</th>\n",
       "      <th></th>\n",
       "      <th></th>\n",
       "      <th></th>\n",
       "      <th></th>\n",
       "      <th></th>\n",
       "      <th></th>\n",
       "      <th></th>\n",
       "      <th></th>\n",
       "      <th></th>\n",
       "      <th></th>\n",
       "      <th></th>\n",
       "      <th></th>\n",
       "      <th></th>\n",
       "    </tr>\n",
       "  </thead>\n",
       "  <tbody>\n",
       "    <tr>\n",
       "      <th>2600</th>\n",
       "      <td>61</td>\n",
       "      <td>2</td>\n",
       "      <td>2</td>\n",
       "      <td>5</td>\n",
       "      <td>9</td>\n",
       "      <td>11</td>\n",
       "      <td>6</td>\n",
       "      <td>0</td>\n",
       "      <td>24</td>\n",
       "      <td>1</td>\n",
       "      <td>12</td>\n",
       "      <td>0</td>\n",
       "      <td>133</td>\n",
       "    </tr>\n",
       "    <tr>\n",
       "      <th>3DO</th>\n",
       "      <td>0</td>\n",
       "      <td>1</td>\n",
       "      <td>0</td>\n",
       "      <td>0</td>\n",
       "      <td>0</td>\n",
       "      <td>1</td>\n",
       "      <td>0</td>\n",
       "      <td>0</td>\n",
       "      <td>0</td>\n",
       "      <td>1</td>\n",
       "      <td>0</td>\n",
       "      <td>0</td>\n",
       "      <td>3</td>\n",
       "    </tr>\n",
       "    <tr>\n",
       "      <th>3DS</th>\n",
       "      <td>182</td>\n",
       "      <td>37</td>\n",
       "      <td>14</td>\n",
       "      <td>53</td>\n",
       "      <td>28</td>\n",
       "      <td>20</td>\n",
       "      <td>11</td>\n",
       "      <td>86</td>\n",
       "      <td>7</td>\n",
       "      <td>30</td>\n",
       "      <td>26</td>\n",
       "      <td>15</td>\n",
       "      <td>509</td>\n",
       "    </tr>\n",
       "    <tr>\n",
       "      <th>DC</th>\n",
       "      <td>3</td>\n",
       "      <td>11</td>\n",
       "      <td>12</td>\n",
       "      <td>0</td>\n",
       "      <td>2</td>\n",
       "      <td>0</td>\n",
       "      <td>6</td>\n",
       "      <td>4</td>\n",
       "      <td>3</td>\n",
       "      <td>1</td>\n",
       "      <td>10</td>\n",
       "      <td>0</td>\n",
       "      <td>52</td>\n",
       "    </tr>\n",
       "    <tr>\n",
       "      <th>DS</th>\n",
       "      <td>343</td>\n",
       "      <td>240</td>\n",
       "      <td>36</td>\n",
       "      <td>393</td>\n",
       "      <td>92</td>\n",
       "      <td>238</td>\n",
       "      <td>67</td>\n",
       "      <td>200</td>\n",
       "      <td>42</td>\n",
       "      <td>285</td>\n",
       "      <td>148</td>\n",
       "      <td>79</td>\n",
       "      <td>2163</td>\n",
       "    </tr>\n",
       "  </tbody>\n",
       "</table>\n",
       "</div>"
      ],
      "text/plain": [
       "Genre     Action  Adventure  Fighting  Misc  Platform  Puzzle  Racing  \\\n",
       "Platform                                                                \n",
       "2600          61          2         2     5         9      11       6   \n",
       "3DO            0          1         0     0         0       1       0   \n",
       "3DS          182         37        14    53        28      20      11   \n",
       "DC             3         11        12     0         2       0       6   \n",
       "DS           343        240        36   393        92     238      67   \n",
       "\n",
       "Genre     Role-Playing  Shooter  Simulation  Sports  Strategy  Total  \n",
       "Platform                                                              \n",
       "2600                 0       24           1      12         0    133  \n",
       "3DO                  0        0           1       0         0      3  \n",
       "3DS                 86        7          30      26        15    509  \n",
       "DC                   4        3           1      10         0     52  \n",
       "DS                 200       42         285     148        79   2163  "
      ]
     },
     "execution_count": 25,
     "metadata": {},
     "output_type": "execute_result"
    }
   ],
   "source": [
    "mapa['Total'] = mapa.sum(axis=1)\n",
    "mapa.head()"
   ]
  },
  {
   "cell_type": "code",
   "execution_count": 26,
   "metadata": {},
   "outputs": [
    {
     "data": {
      "image/png": "[encoded data removed]",
      "text/plain": [
       "<Figure size 1296x648 with 2 Axes>"
      ]
     },
     "metadata": {},
     "output_type": "display_data"
    }
   ],
   "source": [
    "best_10 = mapa[mapa['Total'] > 1000].sort_values('Total', ascending = False)\n",
    "the_best = best_10.append(pd.DataFrame(best_10.sum(), columns=['total']).T, ignore_index=False)\n",
    "\n",
    "sns.set(font_scale=1)\n",
    "plt.figure(figsize=(18,9))\n",
    "sns.heatmap(the_best, annot=True, vmax=the_best.loc[:'PS', :'Strategy'].values.max(), vmin=the_best.loc[:,\n",
    ":'Strategy'].values.min(), fmt='d')\n",
    "plt.xlabel('Gênero')\n",
    "plt.ylabel('Console')\n",
    "plt.title('Quantidade de Títulos por Gênero e Console')\n",
    "plt.show()"
   ]
  },
  {
   "cell_type": "markdown",
   "metadata": {},
   "source": [
    "## Conclusão"
   ]
  },
  {
   "cell_type": "markdown",
   "metadata": {},
   "source": [
    "\n",
    "Observa-que os jogos de ação são o gênero com as maiores quantias, mas se olharmos<br/>\n",
    "consoles como shooter e role playing, este possuem menos jogos mas, em dado momento,<br/> \n",
    "mais vendas do que os jogos de ação. \n",
    "\n",
    "Mergulhando um pouco mais nos números, é possível perceber que uma maior quantidade<br/>\n",
    "nas vendas, mostra o quão apreciado o console é, enquanto uma quantidade maior de jogos<br/>\n",
    "de determinado gênero não influencie seu rating.\n",
    "\n",
    "Pode-se inferir que considerando apenas o fator console de jogos, há um domínio do<br/>\n",
    "PS2, e DS no gráfico em questão, uma explicação razoável, poderia ser o baixo custo<br/> \n",
    "de desenvolver jogos para esses consoles quando comparados às gerações mais novas,<br/> \n",
    "e a alta demanda por mais jogos. Outro ponto, é que parte desses jogos foram criados<br/> \n",
    "depois dos anos 2000, logo PCs antigos, cujo ciclo de vida era de dez anos.<br/>\n",
    "\n",
    "O domínio da Nintendo remete ao início dos anos 90, e se consolidou desde então. As<br/> \n",
    "diferenças pela preferência desse ou daquele jogo possui suas implicações culturais,<br/>\n",
    "como um jogo de maior apelo na América da Norte ou Europa, não ser difundido no Japão.<br/>\n",
    "Considerando o dataset proposto, o pico de vendas no período se deu entre 2007 e 2010<br/>\n",
    "e mudou em função das novas tecnologias.\n",
    "  \n",
    "Como ação de estratégia, pode se citar o investimento em realidade aumentada e jogos<br/>\n",
    "compartilhados que se mostraram um ótimo negócio no últmos anos. Não por acaso, a indústria<br/>\n",
    "de games movimentou no ano de 2019 cerca de 120 bilhões de Dólares, em diversos segmentos<br/> \n",
    "de interatividade.\n"
   ]
  },
  {
   "cell_type": "code",
   "execution_count": null,
   "metadata": {},
   "outputs": [],
   "source": []
  }
 ],
 "metadata": {
  "kernelspec": {
   "display_name": "Python 3",
   "language": "python",
   "name": "python3"
  },
  "language_info": {
   "codemirror_mode": {
    "name": "ipython",
    "version": 3
   },
   "file_extension": ".py",
   "mimetype": "text/x-python",
   "name": "python",
   "nbconvert_exporter": "python",
   "pygments_lexer": "ipython3",
   "version": "3.7.6"
  }
 },
 "nbformat": 4,
 "nbformat_minor": 4
}
